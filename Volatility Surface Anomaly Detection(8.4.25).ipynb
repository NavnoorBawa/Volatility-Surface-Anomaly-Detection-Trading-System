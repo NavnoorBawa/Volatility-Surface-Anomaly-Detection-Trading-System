{
 "cells": [
  {
   "cell_type": "code",
   "execution_count": 22,
   "id": "38b27300-1461-4f9b-a940-e928724446a3",
   "metadata": {},
   "outputs": [
    {
     "name": "stdout",
     "output_type": "stream",
     "text": [
      "================================================================================\n",
      "COMPREHENSIVE OPTIONS ANALYSIS TOOLKIT WITH ML\n",
      "================================================================================\n"
     ]
    },
    {
     "name": "stdin",
     "output_type": "stream",
     "text": [
      "Do you want to work in offline mode (use only existing data)? (y/n):  n\n",
      "Enter the ticker symbol to analyze (e.g., SPY, AAPL, MSFT, TSLA, F, AMD):  SPY\n",
      "Found existing option data for SPY. Use it? (y/n):  n\n",
      "Would you like to use machine learning for enhanced analysis? (y/n):  y\n"
     ]
    },
    {
     "name": "stdout",
     "output_type": "stream",
     "text": [
      "\n",
      "Anomaly Detection Sensitivity:\n",
      "1. Low: Conservative detection with fewer signals\n",
      "2. Medium: Balanced detection sensitivity (default)\n",
      "3. High: Aggressive detection to find more potential opportunities\n"
     ]
    },
    {
     "name": "stdin",
     "output_type": "stream",
     "text": [
      "Select sensitivity level [2]:  3\n"
     ]
    },
    {
     "name": "stdout",
     "output_type": "stream",
     "text": [
      "\n",
      "Running ML-enhanced analysis with high sensitivity...\n",
      "Fetching new option data for SPY (attempt 1/3)...\n",
      "Getting data for SPY...\n",
      "Current price: $522.80\n",
      "Available expirations: 32\n",
      "First few expirations: ('2025-04-08', '2025-04-09', '2025-04-10')\n",
      "\n",
      "Selected 6 expirations:\n",
      "  - 2025-04-25 (DTE: 17)\n",
      "  - 2025-05-02 (DTE: 24)\n",
      "  - 2025-05-16 (DTE: 38)\n",
      "  - 2025-05-30 (DTE: 52)\n",
      "  - 2025-06-30 (DTE: 83)\n",
      "  - 2025-07-31 (DTE: 114)\n",
      "\n",
      "Processing expiration: 2025-04-25 (DTE: 17)\n",
      "  Call options: 122 contracts\n",
      "  Put options: 113 contracts\n",
      "\n",
      "Sample call option data:\n",
      "        contractSymbol             lastTradeDate  strike  lastPrice   bid  \\\n",
      "61  SPY250425C00564000 2025-04-07 20:06:51+00:00   564.0       1.18  1.44   \n",
      "\n",
      "     ask  change  percentChange  volume  openInterest  impliedVolatility  \\\n",
      "61  1.54     0.0            0.0      46           544           0.267402   \n",
      "\n",
      "    inTheMoney contractSize currency  \n",
      "61       False      REGULAR      USD  \n",
      "\n",
      "Processing expiration: 2025-05-02 (DTE: 24)\n",
      "  Call options: 98 contracts\n",
      "  Put options: 105 contracts\n",
      "\n",
      "Sample call option data:\n",
      "        contractSymbol             lastTradeDate  strike  lastPrice   bid  \\\n",
      "49  SPY250502C00554000 2025-04-07 20:04:09+00:00   554.0       3.17  4.16   \n",
      "\n",
      "     ask  change  percentChange  volume  openInterest  impliedVolatility  \\\n",
      "49  4.37     0.0            0.0    95.0           296            0.26905   \n",
      "\n",
      "    inTheMoney contractSize currency  \n",
      "49       False      REGULAR      USD  \n",
      "\n",
      "Processing expiration: 2025-05-16 (DTE: 38)\n",
      "  Call options: 297 contracts\n",
      "  Put options: 277 contracts\n",
      "\n",
      "Sample call option data:\n",
      "         contractSymbol             lastTradeDate  strike  lastPrice    bid  \\\n",
      "148  SPY250516C00524000 2025-04-07 20:05:24+00:00   524.0       16.4  20.94   \n",
      "\n",
      "       ask  change  percentChange  volume  openInterest  impliedVolatility  \\\n",
      "148  21.29     0.0            0.0   307.0          2191           0.320808   \n",
      "\n",
      "     inTheMoney contractSize currency  \n",
      "148       False      REGULAR      USD  \n",
      "\n",
      "Processing expiration: 2025-05-30 (DTE: 52)\n",
      "  Call options: 149 contracts\n",
      "  Put options: 136 contracts\n",
      "\n",
      "Sample call option data:\n",
      "        contractSymbol             lastTradeDate  strike  lastPrice   bid  \\\n",
      "74  SPY250530C00578000 2025-04-07 19:57:27+00:00   578.0       1.87  2.46   \n",
      "\n",
      "     ask  change  percentChange  volume  openInterest  impliedVolatility  \\\n",
      "74  2.58     0.0            0.0      74           520           0.219612   \n",
      "\n",
      "    inTheMoney contractSize currency  \n",
      "74       False      REGULAR      USD  \n",
      "\n",
      "Processing expiration: 2025-06-30 (DTE: 83)\n",
      "  Call options: 172 contracts\n",
      "  Put options: 156 contracts\n",
      "\n",
      "Sample call option data:\n",
      "        contractSymbol             lastTradeDate  strike  lastPrice    bid  \\\n",
      "86  SPY250630C00554000 2025-04-07 19:30:16+00:00   554.0        8.1  11.88   \n",
      "\n",
      "      ask  change  percentChange  volume  openInterest  impliedVolatility  \\\n",
      "86  12.26     0.0            0.0       3           400           0.240913   \n",
      "\n",
      "    inTheMoney contractSize currency  \n",
      "86       False      REGULAR      USD  \n",
      "\n",
      "Processing expiration: 2025-07-31 (DTE: 114)\n",
      "  Call options: 147 contracts\n",
      "  Put options: 131 contracts\n",
      "\n",
      "Sample call option data:\n",
      "        contractSymbol             lastTradeDate  strike  lastPrice   bid  \\\n",
      "73  SPY250731C00584000 2025-04-07 18:57:06+00:00   584.0        3.8  4.98   \n",
      "\n",
      "     ask  change  percentChange  volume  openInterest  impliedVolatility  \\\n",
      "73  5.38     0.0            0.0   101.0           241           0.201027   \n",
      "\n",
      "    inTheMoney contractSize currency  \n",
      "73       False      REGULAR      USD  \n",
      "Call options saved to SPY_options_20250408_calls.csv\n",
      "Put options saved to SPY_options_20250408_puts.csv\n",
      "Metadata saved to SPY_options_20250408_meta.csv\n",
      "\n",
      "==================================================\n",
      "OPTION CHAIN ANALYSIS FOR SPY\n",
      "==================================================\n",
      "\n",
      "Spot Price: $522.80\n",
      "Quote Date: 2025-04-08\n",
      "Total Call Options: 985\n",
      "Total Put Options: 918\n",
      "\n",
      "Available Expirations: 6\n",
      "  - 2025-04-25: 122 calls, 113 puts\n",
      "  - 2025-05-02: 98 calls, 105 puts\n",
      "  - 2025-05-16: 297 calls, 277 puts\n",
      "  - 2025-05-30: 149 calls, 136 puts\n",
      "  - 2025-06-30: 172 calls, 156 puts\n",
      "  - 2025-07-31: 147 calls, 131 puts\n",
      "\n",
      "Call Strike Range: $305.00 to $800.00\n",
      "Put Strike Range: $305.00 to $745.00\n",
      "\n",
      "Sample ATM Call Options Across Expirations:\n",
      "-------------------------------------------\n",
      "     strike expirationDate       tte    bid    ask  lastPrice  volume  openInterest  impliedVolatility  moneyness  usePrice\n",
      "22    525.0     2025-04-25  0.046575  15.58  15.95      11.53   981.0           472           0.366950   1.004208    15.765\n",
      "141   525.0     2025-05-02  0.065753  17.41  17.84      13.07   532.0           313           0.345954   1.004208    17.625\n",
      "367   523.0     2025-05-16  0.104110  21.53  21.65      15.43   652.0           635           0.319144   1.000383    21.590\n",
      "546   525.0     2025-05-30  0.142466  22.74  22.91      18.24   266.0           411           0.301521   1.004208    22.825\n",
      "721   523.0     2025-06-30  0.227397  27.93  28.41      21.05     8.0           150           0.285163   1.000383    28.170\n",
      "871   525.0     2025-07-31  0.312329   0.00   0.00      24.08   103.0           245           0.200000   1.004208    24.080\n",
      "\n",
      "Liquid Options (volume > 10):\n",
      "  - Calls: 602 (61.1% of total)\n",
      "  - Puts: 516 (56.2% of total)\n",
      "\n",
      "Implied Volatility Statistics:\n",
      "  - Call IV Range: 6.25% to 135.02%, Mean: 28.64%\n",
      "  - Put IV Range: 6.25% to 77.52%, Mean: 31.03%\n",
      "\n",
      "Data Density Analysis:\n",
      "---------------------\n",
      "Unique strike prices: 304\n",
      "Unique expirations: 6\n",
      "Volatility surface completeness: 54.0% (985/1824 points)\n",
      "\n",
      "Volume Profile (calls):\n",
      "  - Zero volume: 0 (0.0%)\n",
      "  - Low volume (1-10): 339 (34.4%)\n",
      "  - Medium volume (11-100): 355 (36.0%)\n",
      "  - High volume (>100): 247 (25.1%)\n",
      "\n",
      "Data ready for further analysis\n",
      "Enhancing option data for SPY with Greeks calculation...\n",
      "Calculating American option premiums for a sample of options...\n",
      "Option data enhancement completed.\n",
      "\n",
      "Analyzing volatility surface...\n",
      "\n",
      "Analyzing market conditions...\n",
      "\n",
      "Generating strategy recommendations...\n",
      "\n",
      "Optimizing strategy position sizing...\n",
      "\n",
      "Running machine learning analysis for trading opportunities (sensitivity: high)...\n",
      "\n",
      "Advanced volatility surface autoencoder architecture:\n"
     ]
    },
    {
     "data": {
      "text/html": [
       "<pre style=\"white-space:pre;overflow-x:auto;line-height:normal;font-family:Menlo,'DejaVu Sans Mono',consolas,'Courier New',monospace\"><span style=\"font-weight: bold\">Model: \"VolSurfaceAutoencoder\"</span>\n",
       "</pre>\n"
      ],
      "text/plain": [
       "\u001b[1mModel: \"VolSurfaceAutoencoder\"\u001b[0m\n"
      ]
     },
     "metadata": {},
     "output_type": "display_data"
    },
    {
     "data": {
      "text/html": [
       "<pre style=\"white-space:pre;overflow-x:auto;line-height:normal;font-family:Menlo,'DejaVu Sans Mono',consolas,'Courier New',monospace\">┏━━━━━━━━━━━━━━━━━━━━━┳━━━━━━━━━━━━━━━━━━━┳━━━━━━━━━━━━┳━━━━━━━━━━━━━━━━━━━┓\n",
       "┃<span style=\"font-weight: bold\"> Layer (type)        </span>┃<span style=\"font-weight: bold\"> Output Shape      </span>┃<span style=\"font-weight: bold\">    Param # </span>┃<span style=\"font-weight: bold\"> Connected to      </span>┃\n",
       "┡━━━━━━━━━━━━━━━━━━━━━╇━━━━━━━━━━━━━━━━━━━╇━━━━━━━━━━━━╇━━━━━━━━━━━━━━━━━━━┩\n",
       "│ vol_surface_input   │ (<span style=\"color: #00d7ff; text-decoration-color: #00d7ff\">None</span>, <span style=\"color: #00af00; text-decoration-color: #00af00\">6</span>, <span style=\"color: #00af00; text-decoration-color: #00af00\">11</span>, <span style=\"color: #00af00; text-decoration-color: #00af00\">1</span>)  │          <span style=\"color: #00af00; text-decoration-color: #00af00\">0</span> │ -                 │\n",
       "│ (<span style=\"color: #0087ff; text-decoration-color: #0087ff\">InputLayer</span>)        │                   │            │                   │\n",
       "├─────────────────────┼───────────────────┼────────────┼───────────────────┤\n",
       "│ enc_conv1 (<span style=\"color: #0087ff; text-decoration-color: #0087ff\">Conv2D</span>)  │ (<span style=\"color: #00d7ff; text-decoration-color: #00d7ff\">None</span>, <span style=\"color: #00af00; text-decoration-color: #00af00\">6</span>, <span style=\"color: #00af00; text-decoration-color: #00af00\">11</span>, <span style=\"color: #00af00; text-decoration-color: #00af00\">32</span>) │        <span style=\"color: #00af00; text-decoration-color: #00af00\">320</span> │ vol_surface_inpu… │\n",
       "├─────────────────────┼───────────────────┼────────────┼───────────────────┤\n",
       "│ enc_bn1             │ (<span style=\"color: #00d7ff; text-decoration-color: #00d7ff\">None</span>, <span style=\"color: #00af00; text-decoration-color: #00af00\">6</span>, <span style=\"color: #00af00; text-decoration-color: #00af00\">11</span>, <span style=\"color: #00af00; text-decoration-color: #00af00\">32</span>) │        <span style=\"color: #00af00; text-decoration-color: #00af00\">128</span> │ enc_conv1[<span style=\"color: #00af00; text-decoration-color: #00af00\">0</span>][<span style=\"color: #00af00; text-decoration-color: #00af00\">0</span>]   │\n",
       "│ (<span style=\"color: #0087ff; text-decoration-color: #0087ff\">BatchNormalizatio…</span> │                   │            │                   │\n",
       "├─────────────────────┼───────────────────┼────────────┼───────────────────┤\n",
       "│ enc_conv2 (<span style=\"color: #0087ff; text-decoration-color: #0087ff\">Conv2D</span>)  │ (<span style=\"color: #00d7ff; text-decoration-color: #00d7ff\">None</span>, <span style=\"color: #00af00; text-decoration-color: #00af00\">6</span>, <span style=\"color: #00af00; text-decoration-color: #00af00\">11</span>, <span style=\"color: #00af00; text-decoration-color: #00af00\">64</span>) │     <span style=\"color: #00af00; text-decoration-color: #00af00\">18,496</span> │ enc_bn1[<span style=\"color: #00af00; text-decoration-color: #00af00\">0</span>][<span style=\"color: #00af00; text-decoration-color: #00af00\">0</span>]     │\n",
       "├─────────────────────┼───────────────────┼────────────┼───────────────────┤\n",
       "│ enc_bn2             │ (<span style=\"color: #00d7ff; text-decoration-color: #00d7ff\">None</span>, <span style=\"color: #00af00; text-decoration-color: #00af00\">6</span>, <span style=\"color: #00af00; text-decoration-color: #00af00\">11</span>, <span style=\"color: #00af00; text-decoration-color: #00af00\">64</span>) │        <span style=\"color: #00af00; text-decoration-color: #00af00\">256</span> │ enc_conv2[<span style=\"color: #00af00; text-decoration-color: #00af00\">0</span>][<span style=\"color: #00af00; text-decoration-color: #00af00\">0</span>]   │\n",
       "│ (<span style=\"color: #0087ff; text-decoration-color: #0087ff\">BatchNormalizatio…</span> │                   │            │                   │\n",
       "├─────────────────────┼───────────────────┼────────────┼───────────────────┤\n",
       "│ enc_pool1           │ (<span style=\"color: #00d7ff; text-decoration-color: #00d7ff\">None</span>, <span style=\"color: #00af00; text-decoration-color: #00af00\">3</span>, <span style=\"color: #00af00; text-decoration-color: #00af00\">6</span>, <span style=\"color: #00af00; text-decoration-color: #00af00\">64</span>)  │          <span style=\"color: #00af00; text-decoration-color: #00af00\">0</span> │ enc_bn2[<span style=\"color: #00af00; text-decoration-color: #00af00\">0</span>][<span style=\"color: #00af00; text-decoration-color: #00af00\">0</span>]     │\n",
       "│ (<span style=\"color: #0087ff; text-decoration-color: #0087ff\">MaxPooling2D</span>)      │                   │            │                   │\n",
       "├─────────────────────┼───────────────────┼────────────┼───────────────────┤\n",
       "│ enc_conv3 (<span style=\"color: #0087ff; text-decoration-color: #0087ff\">Conv2D</span>)  │ (<span style=\"color: #00d7ff; text-decoration-color: #00d7ff\">None</span>, <span style=\"color: #00af00; text-decoration-color: #00af00\">3</span>, <span style=\"color: #00af00; text-decoration-color: #00af00\">6</span>, <span style=\"color: #00af00; text-decoration-color: #00af00\">64</span>)  │     <span style=\"color: #00af00; text-decoration-color: #00af00\">36,928</span> │ enc_pool1[<span style=\"color: #00af00; text-decoration-color: #00af00\">0</span>][<span style=\"color: #00af00; text-decoration-color: #00af00\">0</span>]   │\n",
       "├─────────────────────┼───────────────────┼────────────┼───────────────────┤\n",
       "│ enc_bn3             │ (<span style=\"color: #00d7ff; text-decoration-color: #00d7ff\">None</span>, <span style=\"color: #00af00; text-decoration-color: #00af00\">3</span>, <span style=\"color: #00af00; text-decoration-color: #00af00\">6</span>, <span style=\"color: #00af00; text-decoration-color: #00af00\">64</span>)  │        <span style=\"color: #00af00; text-decoration-color: #00af00\">256</span> │ enc_conv3[<span style=\"color: #00af00; text-decoration-color: #00af00\">0</span>][<span style=\"color: #00af00; text-decoration-color: #00af00\">0</span>]   │\n",
       "│ (<span style=\"color: #0087ff; text-decoration-color: #0087ff\">BatchNormalizatio…</span> │                   │            │                   │\n",
       "├─────────────────────┼───────────────────┼────────────┼───────────────────┤\n",
       "│ bottleneck (<span style=\"color: #0087ff; text-decoration-color: #0087ff\">Conv2D</span>) │ (<span style=\"color: #00d7ff; text-decoration-color: #00d7ff\">None</span>, <span style=\"color: #00af00; text-decoration-color: #00af00\">3</span>, <span style=\"color: #00af00; text-decoration-color: #00af00\">6</span>, <span style=\"color: #00af00; text-decoration-color: #00af00\">32</span>)  │     <span style=\"color: #00af00; text-decoration-color: #00af00\">18,464</span> │ enc_bn3[<span style=\"color: #00af00; text-decoration-color: #00af00\">0</span>][<span style=\"color: #00af00; text-decoration-color: #00af00\">0</span>]     │\n",
       "├─────────────────────┼───────────────────┼────────────┼───────────────────┤\n",
       "│ bottleneck_bn       │ (<span style=\"color: #00d7ff; text-decoration-color: #00d7ff\">None</span>, <span style=\"color: #00af00; text-decoration-color: #00af00\">3</span>, <span style=\"color: #00af00; text-decoration-color: #00af00\">6</span>, <span style=\"color: #00af00; text-decoration-color: #00af00\">32</span>)  │        <span style=\"color: #00af00; text-decoration-color: #00af00\">128</span> │ bottleneck[<span style=\"color: #00af00; text-decoration-color: #00af00\">0</span>][<span style=\"color: #00af00; text-decoration-color: #00af00\">0</span>]  │\n",
       "│ (<span style=\"color: #0087ff; text-decoration-color: #0087ff\">BatchNormalizatio…</span> │                   │            │                   │\n",
       "├─────────────────────┼───────────────────┼────────────┼───────────────────┤\n",
       "│ dec_conv1 (<span style=\"color: #0087ff; text-decoration-color: #0087ff\">Conv2D</span>)  │ (<span style=\"color: #00d7ff; text-decoration-color: #00d7ff\">None</span>, <span style=\"color: #00af00; text-decoration-color: #00af00\">3</span>, <span style=\"color: #00af00; text-decoration-color: #00af00\">6</span>, <span style=\"color: #00af00; text-decoration-color: #00af00\">64</span>)  │     <span style=\"color: #00af00; text-decoration-color: #00af00\">18,496</span> │ bottleneck_bn[<span style=\"color: #00af00; text-decoration-color: #00af00\">0</span>]… │\n",
       "├─────────────────────┼───────────────────┼────────────┼───────────────────┤\n",
       "│ dec_bn1             │ (<span style=\"color: #00d7ff; text-decoration-color: #00d7ff\">None</span>, <span style=\"color: #00af00; text-decoration-color: #00af00\">3</span>, <span style=\"color: #00af00; text-decoration-color: #00af00\">6</span>, <span style=\"color: #00af00; text-decoration-color: #00af00\">64</span>)  │        <span style=\"color: #00af00; text-decoration-color: #00af00\">256</span> │ dec_conv1[<span style=\"color: #00af00; text-decoration-color: #00af00\">0</span>][<span style=\"color: #00af00; text-decoration-color: #00af00\">0</span>]   │\n",
       "│ (<span style=\"color: #0087ff; text-decoration-color: #0087ff\">BatchNormalizatio…</span> │                   │            │                   │\n",
       "├─────────────────────┼───────────────────┼────────────┼───────────────────┤\n",
       "│ residual1 (<span style=\"color: #0087ff; text-decoration-color: #0087ff\">Add</span>)     │ (<span style=\"color: #00d7ff; text-decoration-color: #00d7ff\">None</span>, <span style=\"color: #00af00; text-decoration-color: #00af00\">3</span>, <span style=\"color: #00af00; text-decoration-color: #00af00\">6</span>, <span style=\"color: #00af00; text-decoration-color: #00af00\">64</span>)  │          <span style=\"color: #00af00; text-decoration-color: #00af00\">0</span> │ dec_bn1[<span style=\"color: #00af00; text-decoration-color: #00af00\">0</span>][<span style=\"color: #00af00; text-decoration-color: #00af00\">0</span>],    │\n",
       "│                     │                   │            │ enc_bn3[<span style=\"color: #00af00; text-decoration-color: #00af00\">0</span>][<span style=\"color: #00af00; text-decoration-color: #00af00\">0</span>]     │\n",
       "├─────────────────────┼───────────────────┼────────────┼───────────────────┤\n",
       "│ dec_conv2 (<span style=\"color: #0087ff; text-decoration-color: #0087ff\">Conv2D</span>)  │ (<span style=\"color: #00d7ff; text-decoration-color: #00d7ff\">None</span>, <span style=\"color: #00af00; text-decoration-color: #00af00\">3</span>, <span style=\"color: #00af00; text-decoration-color: #00af00\">6</span>, <span style=\"color: #00af00; text-decoration-color: #00af00\">64</span>)  │     <span style=\"color: #00af00; text-decoration-color: #00af00\">36,928</span> │ residual1[<span style=\"color: #00af00; text-decoration-color: #00af00\">0</span>][<span style=\"color: #00af00; text-decoration-color: #00af00\">0</span>]   │\n",
       "├─────────────────────┼───────────────────┼────────────┼───────────────────┤\n",
       "│ dec_bn2             │ (<span style=\"color: #00d7ff; text-decoration-color: #00d7ff\">None</span>, <span style=\"color: #00af00; text-decoration-color: #00af00\">3</span>, <span style=\"color: #00af00; text-decoration-color: #00af00\">6</span>, <span style=\"color: #00af00; text-decoration-color: #00af00\">64</span>)  │        <span style=\"color: #00af00; text-decoration-color: #00af00\">256</span> │ dec_conv2[<span style=\"color: #00af00; text-decoration-color: #00af00\">0</span>][<span style=\"color: #00af00; text-decoration-color: #00af00\">0</span>]   │\n",
       "│ (<span style=\"color: #0087ff; text-decoration-color: #0087ff\">BatchNormalizatio…</span> │                   │            │                   │\n",
       "├─────────────────────┼───────────────────┼────────────┼───────────────────┤\n",
       "│ dec_upsample1       │ (<span style=\"color: #00d7ff; text-decoration-color: #00d7ff\">None</span>, <span style=\"color: #00af00; text-decoration-color: #00af00\">6</span>, <span style=\"color: #00af00; text-decoration-color: #00af00\">12</span>, <span style=\"color: #00af00; text-decoration-color: #00af00\">64</span>) │          <span style=\"color: #00af00; text-decoration-color: #00af00\">0</span> │ dec_bn2[<span style=\"color: #00af00; text-decoration-color: #00af00\">0</span>][<span style=\"color: #00af00; text-decoration-color: #00af00\">0</span>]     │\n",
       "│ (<span style=\"color: #0087ff; text-decoration-color: #0087ff\">UpSampling2D</span>)      │                   │            │                   │\n",
       "├─────────────────────┼───────────────────┼────────────┼───────────────────┤\n",
       "│ dec_conv3 (<span style=\"color: #0087ff; text-decoration-color: #0087ff\">Conv2D</span>)  │ (<span style=\"color: #00d7ff; text-decoration-color: #00d7ff\">None</span>, <span style=\"color: #00af00; text-decoration-color: #00af00\">6</span>, <span style=\"color: #00af00; text-decoration-color: #00af00\">12</span>, <span style=\"color: #00af00; text-decoration-color: #00af00\">32</span>) │     <span style=\"color: #00af00; text-decoration-color: #00af00\">18,464</span> │ dec_upsample1[<span style=\"color: #00af00; text-decoration-color: #00af00\">0</span>]… │\n",
       "├─────────────────────┼───────────────────┼────────────┼───────────────────┤\n",
       "│ dec_bn3             │ (<span style=\"color: #00d7ff; text-decoration-color: #00d7ff\">None</span>, <span style=\"color: #00af00; text-decoration-color: #00af00\">6</span>, <span style=\"color: #00af00; text-decoration-color: #00af00\">12</span>, <span style=\"color: #00af00; text-decoration-color: #00af00\">32</span>) │        <span style=\"color: #00af00; text-decoration-color: #00af00\">128</span> │ dec_conv3[<span style=\"color: #00af00; text-decoration-color: #00af00\">0</span>][<span style=\"color: #00af00; text-decoration-color: #00af00\">0</span>]   │\n",
       "│ (<span style=\"color: #0087ff; text-decoration-color: #0087ff\">BatchNormalizatio…</span> │                   │            │                   │\n",
       "├─────────────────────┼───────────────────┼────────────┼───────────────────┤\n",
       "│ resize_output       │ (<span style=\"color: #00d7ff; text-decoration-color: #00d7ff\">None</span>, <span style=\"color: #00af00; text-decoration-color: #00af00\">6</span>, <span style=\"color: #00af00; text-decoration-color: #00af00\">11</span>, <span style=\"color: #00af00; text-decoration-color: #00af00\">32</span>) │          <span style=\"color: #00af00; text-decoration-color: #00af00\">0</span> │ dec_bn3[<span style=\"color: #00af00; text-decoration-color: #00af00\">0</span>][<span style=\"color: #00af00; text-decoration-color: #00af00\">0</span>]     │\n",
       "│ (<span style=\"color: #0087ff; text-decoration-color: #0087ff\">Resizing</span>)          │                   │            │                   │\n",
       "├─────────────────────┼───────────────────┼────────────┼───────────────────┤\n",
       "│ output (<span style=\"color: #0087ff; text-decoration-color: #0087ff\">Conv2D</span>)     │ (<span style=\"color: #00d7ff; text-decoration-color: #00d7ff\">None</span>, <span style=\"color: #00af00; text-decoration-color: #00af00\">6</span>, <span style=\"color: #00af00; text-decoration-color: #00af00\">11</span>, <span style=\"color: #00af00; text-decoration-color: #00af00\">1</span>)  │        <span style=\"color: #00af00; text-decoration-color: #00af00\">289</span> │ resize_output[<span style=\"color: #00af00; text-decoration-color: #00af00\">0</span>]… │\n",
       "└─────────────────────┴───────────────────┴────────────┴───────────────────┘\n",
       "</pre>\n"
      ],
      "text/plain": [
       "┏━━━━━━━━━━━━━━━━━━━━━┳━━━━━━━━━━━━━━━━━━━┳━━━━━━━━━━━━┳━━━━━━━━━━━━━━━━━━━┓\n",
       "┃\u001b[1m \u001b[0m\u001b[1mLayer (type)       \u001b[0m\u001b[1m \u001b[0m┃\u001b[1m \u001b[0m\u001b[1mOutput Shape     \u001b[0m\u001b[1m \u001b[0m┃\u001b[1m \u001b[0m\u001b[1m   Param #\u001b[0m\u001b[1m \u001b[0m┃\u001b[1m \u001b[0m\u001b[1mConnected to     \u001b[0m\u001b[1m \u001b[0m┃\n",
       "┡━━━━━━━━━━━━━━━━━━━━━╇━━━━━━━━━━━━━━━━━━━╇━━━━━━━━━━━━╇━━━━━━━━━━━━━━━━━━━┩\n",
       "│ vol_surface_input   │ (\u001b[38;5;45mNone\u001b[0m, \u001b[38;5;34m6\u001b[0m, \u001b[38;5;34m11\u001b[0m, \u001b[38;5;34m1\u001b[0m)  │          \u001b[38;5;34m0\u001b[0m │ -                 │\n",
       "│ (\u001b[38;5;33mInputLayer\u001b[0m)        │                   │            │                   │\n",
       "├─────────────────────┼───────────────────┼────────────┼───────────────────┤\n",
       "│ enc_conv1 (\u001b[38;5;33mConv2D\u001b[0m)  │ (\u001b[38;5;45mNone\u001b[0m, \u001b[38;5;34m6\u001b[0m, \u001b[38;5;34m11\u001b[0m, \u001b[38;5;34m32\u001b[0m) │        \u001b[38;5;34m320\u001b[0m │ vol_surface_inpu… │\n",
       "├─────────────────────┼───────────────────┼────────────┼───────────────────┤\n",
       "│ enc_bn1             │ (\u001b[38;5;45mNone\u001b[0m, \u001b[38;5;34m6\u001b[0m, \u001b[38;5;34m11\u001b[0m, \u001b[38;5;34m32\u001b[0m) │        \u001b[38;5;34m128\u001b[0m │ enc_conv1[\u001b[38;5;34m0\u001b[0m][\u001b[38;5;34m0\u001b[0m]   │\n",
       "│ (\u001b[38;5;33mBatchNormalizatio…\u001b[0m │                   │            │                   │\n",
       "├─────────────────────┼───────────────────┼────────────┼───────────────────┤\n",
       "│ enc_conv2 (\u001b[38;5;33mConv2D\u001b[0m)  │ (\u001b[38;5;45mNone\u001b[0m, \u001b[38;5;34m6\u001b[0m, \u001b[38;5;34m11\u001b[0m, \u001b[38;5;34m64\u001b[0m) │     \u001b[38;5;34m18,496\u001b[0m │ enc_bn1[\u001b[38;5;34m0\u001b[0m][\u001b[38;5;34m0\u001b[0m]     │\n",
       "├─────────────────────┼───────────────────┼────────────┼───────────────────┤\n",
       "│ enc_bn2             │ (\u001b[38;5;45mNone\u001b[0m, \u001b[38;5;34m6\u001b[0m, \u001b[38;5;34m11\u001b[0m, \u001b[38;5;34m64\u001b[0m) │        \u001b[38;5;34m256\u001b[0m │ enc_conv2[\u001b[38;5;34m0\u001b[0m][\u001b[38;5;34m0\u001b[0m]   │\n",
       "│ (\u001b[38;5;33mBatchNormalizatio…\u001b[0m │                   │            │                   │\n",
       "├─────────────────────┼───────────────────┼────────────┼───────────────────┤\n",
       "│ enc_pool1           │ (\u001b[38;5;45mNone\u001b[0m, \u001b[38;5;34m3\u001b[0m, \u001b[38;5;34m6\u001b[0m, \u001b[38;5;34m64\u001b[0m)  │          \u001b[38;5;34m0\u001b[0m │ enc_bn2[\u001b[38;5;34m0\u001b[0m][\u001b[38;5;34m0\u001b[0m]     │\n",
       "│ (\u001b[38;5;33mMaxPooling2D\u001b[0m)      │                   │            │                   │\n",
       "├─────────────────────┼───────────────────┼────────────┼───────────────────┤\n",
       "│ enc_conv3 (\u001b[38;5;33mConv2D\u001b[0m)  │ (\u001b[38;5;45mNone\u001b[0m, \u001b[38;5;34m3\u001b[0m, \u001b[38;5;34m6\u001b[0m, \u001b[38;5;34m64\u001b[0m)  │     \u001b[38;5;34m36,928\u001b[0m │ enc_pool1[\u001b[38;5;34m0\u001b[0m][\u001b[38;5;34m0\u001b[0m]   │\n",
       "├─────────────────────┼───────────────────┼────────────┼───────────────────┤\n",
       "│ enc_bn3             │ (\u001b[38;5;45mNone\u001b[0m, \u001b[38;5;34m3\u001b[0m, \u001b[38;5;34m6\u001b[0m, \u001b[38;5;34m64\u001b[0m)  │        \u001b[38;5;34m256\u001b[0m │ enc_conv3[\u001b[38;5;34m0\u001b[0m][\u001b[38;5;34m0\u001b[0m]   │\n",
       "│ (\u001b[38;5;33mBatchNormalizatio…\u001b[0m │                   │            │                   │\n",
       "├─────────────────────┼───────────────────┼────────────┼───────────────────┤\n",
       "│ bottleneck (\u001b[38;5;33mConv2D\u001b[0m) │ (\u001b[38;5;45mNone\u001b[0m, \u001b[38;5;34m3\u001b[0m, \u001b[38;5;34m6\u001b[0m, \u001b[38;5;34m32\u001b[0m)  │     \u001b[38;5;34m18,464\u001b[0m │ enc_bn3[\u001b[38;5;34m0\u001b[0m][\u001b[38;5;34m0\u001b[0m]     │\n",
       "├─────────────────────┼───────────────────┼────────────┼───────────────────┤\n",
       "│ bottleneck_bn       │ (\u001b[38;5;45mNone\u001b[0m, \u001b[38;5;34m3\u001b[0m, \u001b[38;5;34m6\u001b[0m, \u001b[38;5;34m32\u001b[0m)  │        \u001b[38;5;34m128\u001b[0m │ bottleneck[\u001b[38;5;34m0\u001b[0m][\u001b[38;5;34m0\u001b[0m]  │\n",
       "│ (\u001b[38;5;33mBatchNormalizatio…\u001b[0m │                   │            │                   │\n",
       "├─────────────────────┼───────────────────┼────────────┼───────────────────┤\n",
       "│ dec_conv1 (\u001b[38;5;33mConv2D\u001b[0m)  │ (\u001b[38;5;45mNone\u001b[0m, \u001b[38;5;34m3\u001b[0m, \u001b[38;5;34m6\u001b[0m, \u001b[38;5;34m64\u001b[0m)  │     \u001b[38;5;34m18,496\u001b[0m │ bottleneck_bn[\u001b[38;5;34m0\u001b[0m]… │\n",
       "├─────────────────────┼───────────────────┼────────────┼───────────────────┤\n",
       "│ dec_bn1             │ (\u001b[38;5;45mNone\u001b[0m, \u001b[38;5;34m3\u001b[0m, \u001b[38;5;34m6\u001b[0m, \u001b[38;5;34m64\u001b[0m)  │        \u001b[38;5;34m256\u001b[0m │ dec_conv1[\u001b[38;5;34m0\u001b[0m][\u001b[38;5;34m0\u001b[0m]   │\n",
       "│ (\u001b[38;5;33mBatchNormalizatio…\u001b[0m │                   │            │                   │\n",
       "├─────────────────────┼───────────────────┼────────────┼───────────────────┤\n",
       "│ residual1 (\u001b[38;5;33mAdd\u001b[0m)     │ (\u001b[38;5;45mNone\u001b[0m, \u001b[38;5;34m3\u001b[0m, \u001b[38;5;34m6\u001b[0m, \u001b[38;5;34m64\u001b[0m)  │          \u001b[38;5;34m0\u001b[0m │ dec_bn1[\u001b[38;5;34m0\u001b[0m][\u001b[38;5;34m0\u001b[0m],    │\n",
       "│                     │                   │            │ enc_bn3[\u001b[38;5;34m0\u001b[0m][\u001b[38;5;34m0\u001b[0m]     │\n",
       "├─────────────────────┼───────────────────┼────────────┼───────────────────┤\n",
       "│ dec_conv2 (\u001b[38;5;33mConv2D\u001b[0m)  │ (\u001b[38;5;45mNone\u001b[0m, \u001b[38;5;34m3\u001b[0m, \u001b[38;5;34m6\u001b[0m, \u001b[38;5;34m64\u001b[0m)  │     \u001b[38;5;34m36,928\u001b[0m │ residual1[\u001b[38;5;34m0\u001b[0m][\u001b[38;5;34m0\u001b[0m]   │\n",
       "├─────────────────────┼───────────────────┼────────────┼───────────────────┤\n",
       "│ dec_bn2             │ (\u001b[38;5;45mNone\u001b[0m, \u001b[38;5;34m3\u001b[0m, \u001b[38;5;34m6\u001b[0m, \u001b[38;5;34m64\u001b[0m)  │        \u001b[38;5;34m256\u001b[0m │ dec_conv2[\u001b[38;5;34m0\u001b[0m][\u001b[38;5;34m0\u001b[0m]   │\n",
       "│ (\u001b[38;5;33mBatchNormalizatio…\u001b[0m │                   │            │                   │\n",
       "├─────────────────────┼───────────────────┼────────────┼───────────────────┤\n",
       "│ dec_upsample1       │ (\u001b[38;5;45mNone\u001b[0m, \u001b[38;5;34m6\u001b[0m, \u001b[38;5;34m12\u001b[0m, \u001b[38;5;34m64\u001b[0m) │          \u001b[38;5;34m0\u001b[0m │ dec_bn2[\u001b[38;5;34m0\u001b[0m][\u001b[38;5;34m0\u001b[0m]     │\n",
       "│ (\u001b[38;5;33mUpSampling2D\u001b[0m)      │                   │            │                   │\n",
       "├─────────────────────┼───────────────────┼────────────┼───────────────────┤\n",
       "│ dec_conv3 (\u001b[38;5;33mConv2D\u001b[0m)  │ (\u001b[38;5;45mNone\u001b[0m, \u001b[38;5;34m6\u001b[0m, \u001b[38;5;34m12\u001b[0m, \u001b[38;5;34m32\u001b[0m) │     \u001b[38;5;34m18,464\u001b[0m │ dec_upsample1[\u001b[38;5;34m0\u001b[0m]… │\n",
       "├─────────────────────┼───────────────────┼────────────┼───────────────────┤\n",
       "│ dec_bn3             │ (\u001b[38;5;45mNone\u001b[0m, \u001b[38;5;34m6\u001b[0m, \u001b[38;5;34m12\u001b[0m, \u001b[38;5;34m32\u001b[0m) │        \u001b[38;5;34m128\u001b[0m │ dec_conv3[\u001b[38;5;34m0\u001b[0m][\u001b[38;5;34m0\u001b[0m]   │\n",
       "│ (\u001b[38;5;33mBatchNormalizatio…\u001b[0m │                   │            │                   │\n",
       "├─────────────────────┼───────────────────┼────────────┼───────────────────┤\n",
       "│ resize_output       │ (\u001b[38;5;45mNone\u001b[0m, \u001b[38;5;34m6\u001b[0m, \u001b[38;5;34m11\u001b[0m, \u001b[38;5;34m32\u001b[0m) │          \u001b[38;5;34m0\u001b[0m │ dec_bn3[\u001b[38;5;34m0\u001b[0m][\u001b[38;5;34m0\u001b[0m]     │\n",
       "│ (\u001b[38;5;33mResizing\u001b[0m)          │                   │            │                   │\n",
       "├─────────────────────┼───────────────────┼────────────┼───────────────────┤\n",
       "│ output (\u001b[38;5;33mConv2D\u001b[0m)     │ (\u001b[38;5;45mNone\u001b[0m, \u001b[38;5;34m6\u001b[0m, \u001b[38;5;34m11\u001b[0m, \u001b[38;5;34m1\u001b[0m)  │        \u001b[38;5;34m289\u001b[0m │ resize_output[\u001b[38;5;34m0\u001b[0m]… │\n",
       "└─────────────────────┴───────────────────┴────────────┴───────────────────┘\n"
      ]
     },
     "metadata": {},
     "output_type": "display_data"
    },
    {
     "data": {
      "text/html": [
       "<pre style=\"white-space:pre;overflow-x:auto;line-height:normal;font-family:Menlo,'DejaVu Sans Mono',consolas,'Courier New',monospace\"><span style=\"font-weight: bold\"> Total params: </span><span style=\"color: #00af00; text-decoration-color: #00af00\">149,793</span> (585.13 KB)\n",
       "</pre>\n"
      ],
      "text/plain": [
       "\u001b[1m Total params: \u001b[0m\u001b[38;5;34m149,793\u001b[0m (585.13 KB)\n"
      ]
     },
     "metadata": {},
     "output_type": "display_data"
    },
    {
     "data": {
      "text/html": [
       "<pre style=\"white-space:pre;overflow-x:auto;line-height:normal;font-family:Menlo,'DejaVu Sans Mono',consolas,'Courier New',monospace\"><span style=\"font-weight: bold\"> Trainable params: </span><span style=\"color: #00af00; text-decoration-color: #00af00\">149,089</span> (582.38 KB)\n",
       "</pre>\n"
      ],
      "text/plain": [
       "\u001b[1m Trainable params: \u001b[0m\u001b[38;5;34m149,089\u001b[0m (582.38 KB)\n"
      ]
     },
     "metadata": {},
     "output_type": "display_data"
    },
    {
     "data": {
      "text/html": [
       "<pre style=\"white-space:pre;overflow-x:auto;line-height:normal;font-family:Menlo,'DejaVu Sans Mono',consolas,'Courier New',monospace\"><span style=\"font-weight: bold\"> Non-trainable params: </span><span style=\"color: #00af00; text-decoration-color: #00af00\">704</span> (2.75 KB)\n",
       "</pre>\n"
      ],
      "text/plain": [
       "\u001b[1m Non-trainable params: \u001b[0m\u001b[38;5;34m704\u001b[0m (2.75 KB)\n"
      ]
     },
     "metadata": {},
     "output_type": "display_data"
    },
    {
     "name": "stdout",
     "output_type": "stream",
     "text": [
      "\n",
      "=== TRAINING VOLATILITY SURFACE AUTOENCODER ===\n",
      "Creating market-relevant training dataset...\n",
      "Creating augmented training dataset with 50 variations...\n",
      "Created dataset with 51 surfaces\n",
      "Training set: 41 samples\n",
      "Validation set: 10 samples\n",
      "\n",
      "Training autoencoder with early stopping and learning rate scheduling...\n",
      "Epoch 1/200\n",
      "\u001b[1m6/6\u001b[0m \u001b[32m━━━━━━━━━━━━━━━━━━━━\u001b[0m\u001b[37m\u001b[0m \u001b[1m2s\u001b[0m 32ms/step - loss: 0.0617 - val_loss: 0.0355 - learning_rate: 0.0010\n",
      "Epoch 2/200\n",
      "\u001b[1m6/6\u001b[0m \u001b[32m━━━━━━━━━━━━━━━━━━━━\u001b[0m\u001b[37m\u001b[0m \u001b[1m0s\u001b[0m 7ms/step - loss: 0.0050 - val_loss: 0.0354 - learning_rate: 0.0010\n",
      "Epoch 3/200\n",
      "\u001b[1m6/6\u001b[0m \u001b[32m━━━━━━━━━━━━━━━━━━━━\u001b[0m\u001b[37m\u001b[0m \u001b[1m0s\u001b[0m 7ms/step - loss: 0.0026 - val_loss: 0.0359 - learning_rate: 0.0010\n",
      "Epoch 4/200\n",
      "\u001b[1m6/6\u001b[0m \u001b[32m━━━━━━━━━━━━━━━━━━━━\u001b[0m\u001b[37m\u001b[0m \u001b[1m0s\u001b[0m 8ms/step - loss: 0.0019 - val_loss: 0.0370 - learning_rate: 0.0010\n",
      "Epoch 5/200\n",
      "\u001b[1m6/6\u001b[0m \u001b[32m━━━━━━━━━━━━━━━━━━━━\u001b[0m\u001b[37m\u001b[0m \u001b[1m0s\u001b[0m 8ms/step - loss: 0.0010 - val_loss: 0.0376 - learning_rate: 0.0010\n",
      "Epoch 6/200\n",
      "\u001b[1m6/6\u001b[0m \u001b[32m━━━━━━━━━━━━━━━━━━━━\u001b[0m\u001b[37m\u001b[0m \u001b[1m0s\u001b[0m 8ms/step - loss: 9.2428e-04 - val_loss: 0.0379 - learning_rate: 0.0010\n",
      "Epoch 7/200\n",
      "\u001b[1m6/6\u001b[0m \u001b[32m━━━━━━━━━━━━━━━━━━━━\u001b[0m\u001b[37m\u001b[0m \u001b[1m0s\u001b[0m 8ms/step - loss: 8.7507e-04 - val_loss: 0.0386 - learning_rate: 0.0010\n",
      "Epoch 8/200\n",
      "\u001b[1m6/6\u001b[0m \u001b[32m━━━━━━━━━━━━━━━━━━━━\u001b[0m\u001b[37m\u001b[0m \u001b[1m0s\u001b[0m 8ms/step - loss: 7.5732e-04 - val_loss: 0.0392 - learning_rate: 0.0010\n",
      "Epoch 9/200\n",
      "\u001b[1m6/6\u001b[0m \u001b[32m━━━━━━━━━━━━━━━━━━━━\u001b[0m\u001b[37m\u001b[0m \u001b[1m0s\u001b[0m 8ms/step - loss: 8.8725e-04 - val_loss: 0.0394 - learning_rate: 0.0010\n",
      "Epoch 10/200\n",
      "\u001b[1m6/6\u001b[0m \u001b[32m━━━━━━━━━━━━━━━━━━━━\u001b[0m\u001b[37m\u001b[0m \u001b[1m0s\u001b[0m 8ms/step - loss: 8.4190e-04 - val_loss: 0.0399 - learning_rate: 0.0010\n",
      "Epoch 11/200\n",
      "\u001b[1m1/6\u001b[0m \u001b[32m━━━\u001b[0m\u001b[37m━━━━━━━━━━━━━━━━━\u001b[0m \u001b[1m0s\u001b[0m 11ms/step - loss: 7.9290e-04\n",
      "Epoch 11: ReduceLROnPlateau reducing learning rate to 0.0005000000237487257.\n",
      "\u001b[1m6/6\u001b[0m \u001b[32m━━━━━━━━━━━━━━━━━━━━\u001b[0m\u001b[37m\u001b[0m \u001b[1m0s\u001b[0m 8ms/step - loss: 6.2527e-04 - val_loss: 0.0401 - learning_rate: 0.0010\n",
      "Epoch 12/200\n",
      "\u001b[1m6/6\u001b[0m \u001b[32m━━━━━━━━━━━━━━━━━━━━\u001b[0m\u001b[37m\u001b[0m \u001b[1m0s\u001b[0m 8ms/step - loss: 5.4847e-04 - val_loss: 0.0405 - learning_rate: 5.0000e-04\n",
      "Epoch 13/200\n",
      "\u001b[1m6/6\u001b[0m \u001b[32m━━━━━━━━━━━━━━━━━━━━\u001b[0m\u001b[37m\u001b[0m \u001b[1m0s\u001b[0m 8ms/step - loss: 4.3404e-04 - val_loss: 0.0413 - learning_rate: 5.0000e-04\n",
      "Epoch 14/200\n",
      "\u001b[1m6/6\u001b[0m \u001b[32m━━━━━━━━━━━━━━━━━━━━\u001b[0m\u001b[37m\u001b[0m \u001b[1m0s\u001b[0m 8ms/step - loss: 5.7400e-04 - val_loss: 0.0414 - learning_rate: 5.0000e-04\n",
      "Epoch 15/200\n",
      "\u001b[1m6/6\u001b[0m \u001b[32m━━━━━━━━━━━━━━━━━━━━\u001b[0m\u001b[37m\u001b[0m \u001b[1m0s\u001b[0m 8ms/step - loss: 5.7877e-04 - val_loss: 0.0415 - learning_rate: 5.0000e-04\n",
      "Epoch 16/200\n",
      "\u001b[1m6/6\u001b[0m \u001b[32m━━━━━━━━━━━━━━━━━━━━\u001b[0m\u001b[37m\u001b[0m \u001b[1m0s\u001b[0m 8ms/step - loss: 4.3425e-04 - val_loss: 0.0417 - learning_rate: 5.0000e-04\n",
      "Epoch 17/200\n",
      "\u001b[1m6/6\u001b[0m \u001b[32m━━━━━━━━━━━━━━━━━━━━\u001b[0m\u001b[37m\u001b[0m \u001b[1m0s\u001b[0m 8ms/step - loss: 4.4233e-04 - val_loss: 0.0418 - learning_rate: 5.0000e-04\n",
      "Epoch 18/200\n",
      "\u001b[1m6/6\u001b[0m \u001b[32m━━━━━━━━━━━━━━━━━━━━\u001b[0m\u001b[37m\u001b[0m \u001b[1m0s\u001b[0m 9ms/step - loss: 4.1882e-04 - val_loss: 0.0421 - learning_rate: 5.0000e-04\n",
      "Epoch 19/200\n",
      "\u001b[1m6/6\u001b[0m \u001b[32m━━━━━━━━━━━━━━━━━━━━\u001b[0m\u001b[37m\u001b[0m \u001b[1m0s\u001b[0m 9ms/step - loss: 3.8871e-04 - val_loss: 0.0423 - learning_rate: 5.0000e-04\n",
      "Epoch 20/200\n",
      "\u001b[1m6/6\u001b[0m \u001b[32m━━━━━━━━━━━━━━━━━━━━\u001b[0m\u001b[37m\u001b[0m \u001b[1m0s\u001b[0m 11ms/step - loss: 4.5956e-04 - val_loss: 0.0422 - learning_rate: 5.0000e-04\n",
      "Epoch 21/200\n",
      "\u001b[1m1/6\u001b[0m \u001b[32m━━━\u001b[0m\u001b[37m━━━━━━━━━━━━━━━━━\u001b[0m \u001b[1m0s\u001b[0m 16ms/step - loss: 3.6100e-04\n",
      "Epoch 21: ReduceLROnPlateau reducing learning rate to 0.0002500000118743628.\n",
      "\u001b[1m6/6\u001b[0m \u001b[32m━━━━━━━━━━━━━━━━━━━━\u001b[0m\u001b[37m\u001b[0m \u001b[1m0s\u001b[0m 11ms/step - loss: 3.8203e-04 - val_loss: 0.0421 - learning_rate: 5.0000e-04\n",
      "Epoch 22/200\n",
      "\u001b[1m6/6\u001b[0m \u001b[32m━━━━━━━━━━━━━━━━━━━━\u001b[0m\u001b[37m\u001b[0m \u001b[1m0s\u001b[0m 13ms/step - loss: 4.0884e-04 - val_loss: 0.0419 - learning_rate: 2.5000e-04\n",
      "Epoch 23/200\n",
      "\u001b[1m6/6\u001b[0m \u001b[32m━━━━━━━━━━━━━━━━━━━━\u001b[0m\u001b[37m\u001b[0m \u001b[1m0s\u001b[0m 11ms/step - loss: 4.5816e-04 - val_loss: 0.0418 - learning_rate: 2.5000e-04\n",
      "Epoch 24/200\n",
      "\u001b[1m6/6\u001b[0m \u001b[32m━━━━━━━━━━━━━━━━━━━━\u001b[0m\u001b[37m\u001b[0m \u001b[1m0s\u001b[0m 10ms/step - loss: 3.5140e-04 - val_loss: 0.0417 - learning_rate: 2.5000e-04\n",
      "Epoch 25/200\n",
      "\u001b[1m6/6\u001b[0m \u001b[32m━━━━━━━━━━━━━━━━━━━━\u001b[0m\u001b[37m\u001b[0m \u001b[1m0s\u001b[0m 9ms/step - loss: 3.1754e-04 - val_loss: 0.0417 - learning_rate: 2.5000e-04\n",
      "Epoch 26/200\n",
      "\u001b[1m6/6\u001b[0m \u001b[32m━━━━━━━━━━━━━━━━━━━━\u001b[0m\u001b[37m\u001b[0m \u001b[1m0s\u001b[0m 9ms/step - loss: 4.6105e-04 - val_loss: 0.0416 - learning_rate: 2.5000e-04\n",
      "Epoch 26: early stopping\n",
      "Restoring model weights from the end of the best epoch: 1.\n",
      "\n",
      "Training completed in 3.3 seconds (26 epochs)\n",
      "Final training loss: 0.000402\n",
      "Final validation loss: 0.041558\n",
      "Anomaly detection threshold: 0.073950\n",
      "\u001b[1m2/2\u001b[0m \u001b[32m━━━━━━━━━━━━━━━━━━━━\u001b[0m\u001b[37m\u001b[0m \u001b[1m0s\u001b[0m 37ms/step\n",
      "Market regime classifier built with 4 regimes\n",
      "\n",
      "Anomaly detection sensitivity: high\n",
      "Threshold multiplier: 0.83\n",
      "Anomaly threshold: 0.041029\n",
      "Error creating ML visualizations: IntegratedOptionsAnalyzer._create_ml_visualizations() got an unexpected keyword argument 'sensitivity'\n",
      "\n",
      "Creating visualizations for SPY...\n",
      "  Creating 3D volatility surface visualization...\n",
      "  Creating volatility skew visualization...\n",
      "  Volatility visualizations created successfully\n",
      "\n",
      "  Creating strategy payoff diagrams...\n",
      "    Processing Long Put...\n",
      "      Finding parameters directly...\n",
      "      Successfully found parameters\n",
      "      Saved payoff diagram to SPY_Long_Put_payoff.html\n",
      "    Processing Bear Put Spread...\n",
      "      Finding parameters directly...\n",
      "      Successfully found parameters\n",
      "      Saved payoff diagram to SPY_Bear_Put_Spread_payoff.html\n",
      "    Processing Bear Call Spread...\n",
      "      Finding parameters directly...\n",
      "      Successfully found parameters\n",
      "      Saved payoff diagram to SPY_Bear_Call_Spread_payoff.html\n",
      "\n",
      "Created 5 visualizations successfully\n",
      "\n",
      "================================================================================\n",
      "COMPREHENSIVE OPTIONS ANALYSIS REPORT FOR SPY\n",
      "================================================================================\n",
      "\n",
      "MARKET CONDITIONS:\n",
      "  Spot Price: $522.80\n",
      "  Put-Call Ratio: 1.74\n",
      "\n",
      "IMPLIED VOLATILITY:\n",
      "  ATM IV: 30.17%\n",
      "  Call IV Range: 6.25% to 135.02%\n",
      "  Put IV Range: 6.25% to 77.52%\n",
      "  Volatility Skew: 13.20%\n",
      "  Volatility Term Structure: -13.77%\n",
      "\n",
      "MARKET SENTIMENT:\n",
      "  Put_call_sentiment: Bearish\n",
      "  Skew_sentiment: Bearish (High Skew)\n",
      "  Iv_sentiment: Below Average Volatility\n",
      "  Overall: Bearish\n",
      "\n",
      "STRATEGY RECOMMENDATIONS:\n",
      "  Market Outlook: Bearish\n",
      "  Volatility Outlook: Below Average Volatility\n",
      "  Risk Tolerance: moderate\n",
      "\n",
      "TOP RECOMMENDED STRATEGIES:\n",
      "\n",
      "  1. Long Put (Score: 6)\n",
      "     Description: Buy a put option to profit from downward price movement\n",
      "     Market Outlook: bearish\n",
      "     Max Loss: limited to premium paid\n",
      "     Max Gain: limited (stock to zero - premium)\n",
      "     Break Even: strike price - premium paid\n",
      "     Volatility Bias: low\n",
      "     Complexity: low\n",
      "\n",
      "     POSITION SIZING:\n",
      "       Max Contracts: 39\n",
      "       Max Loss Per Contract: $12.52\n",
      "       Max Total Loss: $488.47\n",
      "\n",
      "     EXPECTED PROFIT (1 SD MOVE):\n",
      "       If Price Rises: $-488.47\n",
      "       If Price Falls: $2070.71\n",
      "\n",
      "     RISK-REWARD RATIO:\n",
      "       If Price Rises: 0.00\n",
      "       If Price Falls: 4.24\n",
      "\n",
      "  2. Bear Put Spread (Score: 4)\n",
      "     Description: Buy a higher strike put and sell a lower strike put\n",
      "     Market Outlook: moderately bearish\n",
      "     Max Loss: limited to net premium paid\n",
      "     Max Gain: limited to difference between strikes - net premium\n",
      "     Break Even: higher strike - net premium paid\n",
      "     Volatility Bias: neutral\n",
      "     Complexity: moderate\n",
      "\n",
      "     POSITION SIZING:\n",
      "       Max Contracts: 65\n",
      "       Max Loss Per Contract: $7.62\n",
      "       Max Total Loss: $495.62\n",
      "\n",
      "     EXPECTED PROFIT (1 SD MOVE):\n",
      "       If Price Rises: $-495.62\n",
      "       If Price Falls: $2104.38\n",
      "\n",
      "     RISK-REWARD RATIO:\n",
      "       If Price Rises: 0.00\n",
      "       If Price Falls: 4.25\n",
      "\n",
      "  3. Bear Call Spread (Score: 4)\n",
      "     Description: Sell a lower strike call and buy a higher strike call\n",
      "     Market Outlook: moderately bearish\n",
      "     Max Loss: limited to difference between strikes - net premium\n",
      "     Max Gain: limited to net premium received\n",
      "     Break Even: lower strike + net premium received\n",
      "     Volatility Bias: high\n",
      "     Complexity: moderate\n",
      "\n",
      "     POSITION SIZING:\n",
      "       Max Contracts: 12\n",
      "       Max Loss Per Contract: $40.93\n",
      "       Max Total Loss: $491.10\n",
      "\n",
      "     EXPECTED PROFIT (1 SD MOVE):\n",
      "       If Price Rises: $-491.10\n",
      "       If Price Falls: $288.90\n",
      "\n",
      "     RISK-REWARD RATIO:\n",
      "       If Price Rises: 0.00\n",
      "       If Price Falls: 0.59\n",
      "\n",
      "PUT-CALL PARITY VIOLATIONS DETECTED:\n",
      "  Expiration: 2025-07-31, Strike: $525.00\n",
      "  Discrepancy: 2.09%\n",
      "  Call Price: $24.08, Put Price: $29.07\n",
      "\n",
      "AMERICAN OPTION EARLY EXERCISE PREMIUM:\n",
      "\n",
      "  Call Options:\n",
      "    Strike: $531.00, Expiration: 2025-06-30\n",
      "    Premium: $0.1267 (0.54% of option price)\n",
      "    Strike: $491.00, Expiration: 2025-06-30\n",
      "    Premium: $0.1244 (0.25% of option price)\n",
      "    Strike: $492.00, Expiration: 2025-06-30\n",
      "    Premium: $0.1141 (0.23% of option price)\n",
      "\n",
      "  Put Options:\n",
      "    Strike: $572.00, Expiration: 2025-07-31\n",
      "    Premium: $2.7925 (4.06% of option price)\n",
      "    Strike: $553.00, Expiration: 2025-07-31\n",
      "    Premium: $1.6887 (3.96% of option price)\n",
      "    Strike: $572.00, Expiration: 2025-05-30\n",
      "    Premium: $1.5764 (3.10% of option price)\n",
      "\n",
      "GENERATED VISUALIZATIONS:\n",
      "  - SPY_vol_surface_3d.html (3D Volatility Surface)\n",
      "  - SPY_vol_skew.png (Volatility Skew)\n",
      "  - SPY_Long_Put_payoff.html (Payoff Diagram)\n",
      "  - SPY_Bear_Put_Spread_payoff.html (Payoff Diagram)\n",
      "  - SPY_Bear_Call_Spread_payoff.html (Payoff Diagram)\n",
      "\n",
      "Analysis Complete\n",
      "================================================================================\n",
      "\n",
      "================================================================================\n",
      "ML-ENHANCED TRADING ANALYSIS FOR SPY\n",
      "================================================================================\n",
      "\n",
      "MARKET REGIME ANALYSIS:\n",
      "  Detected Regime: Normal\n",
      "  Confidence: 33.7%\n",
      "\n",
      "VOLATILITY SURFACE ANOMALIES:\n",
      "  Significant anomalies detected (Score: 0.0143)\n",
      "\n",
      "  TOP TRADING OPPORTUNITIES:\n",
      "\n",
      "    Signal 1: Sell Put\n",
      "    Strike: $365.96 (0.70x spot)\n",
      "    Expiration: 0.05 years\n",
      "    Mispricing Magnitude: 36.02%\n",
      "\n",
      "    Signal 2: Sell Put\n",
      "    Strike: $397.33 (0.76x spot)\n",
      "    Expiration: 0.05 years\n",
      "    Mispricing Magnitude: 28.02%\n",
      "\n",
      "    Signal 3: Sell Put\n",
      "    Strike: $428.70 (0.82x spot)\n",
      "    Expiration: 0.05 years\n",
      "    Mispricing Magnitude: 19.71%\n",
      "\n",
      "    Signal 4: Sell Put\n",
      "    Strike: $365.96 (0.70x spot)\n",
      "    Expiration: 0.07 years\n",
      "    Mispricing Magnitude: 20.14%\n",
      "\n",
      "ML-ENHANCED STRATEGY RECOMMENDATIONS:\n",
      "\n",
      "  1. Long Put (Score: 6)\n",
      "     Description: Buy a put option to profit from downward price movement\n",
      "     Outlook: bearish\n",
      "     Max Loss: limited to premium paid\n",
      "     Max Gain: limited (stock to zero - premium)\n",
      "     Risk-Reward Profile: Unknown\n",
      "\n",
      "  2. Bear Put Spread (Score: 4)\n",
      "     Description: Buy a higher strike put and sell a lower strike put\n",
      "     Outlook: moderately bearish\n",
      "     Max Loss: limited to net premium paid\n",
      "     Max Gain: limited to difference between strikes - net premium\n",
      "     Risk-Reward Profile: Unknown\n",
      "\n",
      "  3. Bear Call Spread (Score: 4)\n",
      "     Description: Sell a lower strike call and buy a higher strike call\n",
      "     Outlook: moderately bearish\n",
      "     Max Loss: limited to difference between strikes - net premium\n",
      "     Max Gain: limited to net premium received\n",
      "     Risk-Reward Profile: Unknown\n",
      "\n",
      "GENERATED ML VISUALIZATIONS:\n",
      "  - SPY_ml_trading_signals.html (Trading Opportunities)\n",
      "  - SPY_mispricing_map.png (Volatility Mispricing Map)\n",
      "\n",
      "ML-Enhanced Analysis Complete\n",
      "================================================================================\n",
      "\n",
      "Visualization Options:\n",
      "1. Display standard visualizations\n",
      "2. Skip visualizations\n"
     ]
    },
    {
     "name": "stdin",
     "output_type": "stream",
     "text": [
      "\n",
      "Enter your choice (number):  1\n"
     ]
    },
    {
     "name": "stdout",
     "output_type": "stream",
     "text": [
      "Displaying vol_surface_3d...\n"
     ]
    },
    {
     "data": {
      "application/vnd.plotly.v1+json": {
       "config": {
        "plotlyServerURL": "https://plot.ly"
       },
       "data": [
        {
         "colorbar": {
          "tickformat": ".0%",
          "title": {
           "font": {
            "size": 14
           },
           "side": "right",
           "text": "Implied Volatility"
          }
         },
         "colorscale": [
          [
           0,
           "#440154"
          ],
          [
           0.1111111111111111,
           "#482878"
          ],
          [
           0.2222222222222222,
           "#3e4989"
          ],
          [
           0.3333333333333333,
           "#31688e"
          ],
          [
           0.4444444444444444,
           "#26828e"
          ],
          [
           0.5555555555555556,
           "#1f9e89"
          ],
          [
           0.6666666666666666,
           "#35b779"
          ],
          [
           0.7777777777777778,
           "#6ece58"
          ],
          [
           0.8888888888888888,
           "#b5de2b"
          ],
          [
           1,
           "#fde725"
          ]
         ],
         "name": "Original Surface",
         "opacity": 0.8,
         "showscale": true,
         "type": "surface",
         "x": [
          [
           0.7,
           0.76,
           0.82,
           0.88,
           0.94,
           1,
           1.06,
           1.12,
           1.1800000000000002,
           1.2400000000000002,
           1.3
          ],
          [
           0.7,
           0.76,
           0.82,
           0.88,
           0.94,
           1,
           1.06,
           1.12,
           1.1800000000000002,
           1.2400000000000002,
           1.3
          ],
          [
           0.7,
           0.76,
           0.82,
           0.88,
           0.94,
           1,
           1.06,
           1.12,
           1.1800000000000002,
           1.2400000000000002,
           1.3
          ],
          [
           0.7,
           0.76,
           0.82,
           0.88,
           0.94,
           1,
           1.06,
           1.12,
           1.1800000000000002,
           1.2400000000000002,
           1.3
          ],
          [
           0.7,
           0.76,
           0.82,
           0.88,
           0.94,
           1,
           1.06,
           1.12,
           1.1800000000000002,
           1.2400000000000002,
           1.3
          ],
          [
           0.7,
           0.76,
           0.82,
           0.88,
           0.94,
           1,
           1.06,
           1.12,
           1.1800000000000002,
           1.2400000000000002,
           1.3
          ]
         ],
         "y": [
          [
           0.04657534246575343,
           0.04657534246575343,
           0.04657534246575343,
           0.04657534246575343,
           0.04657534246575343,
           0.04657534246575343,
           0.04657534246575343,
           0.04657534246575343,
           0.04657534246575343,
           0.04657534246575343,
           0.04657534246575343
          ],
          [
           0.06575342465753424,
           0.06575342465753424,
           0.06575342465753424,
           0.06575342465753424,
           0.06575342465753424,
           0.06575342465753424,
           0.06575342465753424,
           0.06575342465753424,
           0.06575342465753424,
           0.06575342465753424,
           0.06575342465753424
          ],
          [
           0.10410958904109589,
           0.10410958904109589,
           0.10410958904109589,
           0.10410958904109589,
           0.10410958904109589,
           0.10410958904109589,
           0.10410958904109589,
           0.10410958904109589,
           0.10410958904109589,
           0.10410958904109589,
           0.10410958904109589
          ],
          [
           0.14246575342465753,
           0.14246575342465753,
           0.14246575342465753,
           0.14246575342465753,
           0.14246575342465753,
           0.14246575342465753,
           0.14246575342465753,
           0.14246575342465753,
           0.14246575342465753,
           0.14246575342465753,
           0.14246575342465753
          ],
          [
           0.2273972602739726,
           0.2273972602739726,
           0.2273972602739726,
           0.2273972602739726,
           0.2273972602739726,
           0.2273972602739726,
           0.2273972602739726,
           0.2273972602739726,
           0.2273972602739726,
           0.2273972602739726,
           0.2273972602739726
          ],
          [
           0.31232876712328766,
           0.31232876712328766,
           0.31232876712328766,
           0.31232876712328766,
           0.31232876712328766,
           0.31232876712328766,
           0.31232876712328766,
           0.31232876712328766,
           0.31232876712328766,
           0.31232876712328766,
           0.31232876712328766
          ]
         ],
         "z": [
          [
           0.7238530900097182,
           0.6412859852959925,
           0.5588031147820341,
           0.4800240505169935,
           0.40856836455002193,
           0.34805562893026976,
           0.3021054157068883,
           0.27433729692902836,
           0.2683708446458408,
           0.2878256309064766,
           0.33632122776008644
          ],
          [
           0.5642973830093991,
           0.5211283742955561,
           0.4680540930257392,
           0.4109034739805566,
           0.3555054519406167,
           0.30768896168652726,
           0.2732829379988968,
           0.2581163156583334,
           0.268018029445445,
           0.3088170141408403,
           0.38634220452512663
          ],
          [
           0.390515133273477,
           0.39037717094486574,
           0.369600873724108,
           0.3360766323555975,
           0.29769483758372833,
           0.2623458801528936,
           0.23792015080748807,
           0.23230804029190474,
           0.25339993935053756,
           0.3090862387277807,
           0.40725732916802726
          ],
          [
           0.35823439817291647,
           0.3651930077114983,
           0.3504442447571656,
           0.32151050421928407,
           0.28591418100721894,
           0.2511776700303356,
           0.22482336619799978,
           0.21437366441957675,
           0.22735095960443205,
           0.2712776466619312,
           0.3536761205014395
          ],
          [
           0.47674623457015036,
           0.4420410897001161,
           0.40167197753132644,
           0.357981484444559,
           0.3133121968205921,
           0.27000670104020297,
           0.23040758348416976,
           0.19685743053327018,
           0.17169882856828214,
           0.1572743639699833,
           0.1559266231191516
          ],
          [
           0.30051515718728633,
           0.27021619761562804,
           0.2473006244405537,
           0.23051444256776515,
           0.21860365690296424,
           0.21031427235185254,
           0.20439229382013202,
           0.19958372621350437,
           0.19463457443767135,
           0.18829084339833474,
           0.17929853800119638
          ]
         ]
        },
        {
         "line": {
          "color": "red",
          "width": 4
         },
         "mode": "lines",
         "name": "ATM Line",
         "type": "scatter3d",
         "x": [
          1,
          1,
          1,
          1,
          1,
          1
         ],
         "y": [
          0.04657534246575343,
          0.06575342465753424,
          0.10410958904109589,
          0.14246575342465753,
          0.2273972602739726,
          0.31232876712328766
         ],
         "z": [
          0.34805562893026976,
          0.30768896168652726,
          0.2623458801528936,
          0.2511776700303356,
          0.27000670104020297,
          0.21031427235185254
         ]
        }
       ],
       "layout": {
        "autosize": true,
        "legend": {
         "bgcolor": "rgba(255, 255, 255, 0.1)",
         "x": 0.01,
         "xanchor": "left",
         "y": 0.99,
         "yanchor": "top"
        },
        "margin": {
         "b": 0,
         "l": 0,
         "r": 0,
         "t": 65
        },
        "scene": {
         "aspectratio": {
          "x": 1.5,
          "y": 1.5,
          "z": 0.8
         },
         "camera": {
          "eye": {
           "x": 1.5,
           "y": -1.5,
           "z": 0.8
          }
         },
         "xaxis": {
          "title": {
           "text": "Moneyness (K/S)"
          },
          "type": "linear"
         },
         "yaxis": {
          "title": {
           "text": "Maturity (Years)"
          },
          "type": "linear"
         },
         "zaxis": {
          "tickformat": ".0%",
          "title": {
           "text": "Implied Volatility"
          },
          "type": "linear"
         }
        },
        "template": {
         "data": {
          "bar": [
           {
            "error_x": {
             "color": "#f2f5fa"
            },
            "error_y": {
             "color": "#f2f5fa"
            },
            "marker": {
             "line": {
              "color": "rgb(17,17,17)",
              "width": 0.5
             },
             "pattern": {
              "fillmode": "overlay",
              "size": 10,
              "solidity": 0.2
             }
            },
            "type": "bar"
           }
          ],
          "barpolar": [
           {
            "marker": {
             "line": {
              "color": "rgb(17,17,17)",
              "width": 0.5
             },
             "pattern": {
              "fillmode": "overlay",
              "size": 10,
              "solidity": 0.2
             }
            },
            "type": "barpolar"
           }
          ],
          "carpet": [
           {
            "aaxis": {
             "endlinecolor": "#A2B1C6",
             "gridcolor": "#506784",
             "linecolor": "#506784",
             "minorgridcolor": "#506784",
             "startlinecolor": "#A2B1C6"
            },
            "baxis": {
             "endlinecolor": "#A2B1C6",
             "gridcolor": "#506784",
             "linecolor": "#506784",
             "minorgridcolor": "#506784",
             "startlinecolor": "#A2B1C6"
            },
            "type": "carpet"
           }
          ],
          "choropleth": [
           {
            "colorbar": {
             "outlinewidth": 0,
             "ticks": ""
            },
            "type": "choropleth"
           }
          ],
          "contour": [
           {
            "colorbar": {
             "outlinewidth": 0,
             "ticks": ""
            },
            "colorscale": [
             [
              0,
              "#0d0887"
             ],
             [
              0.1111111111111111,
              "#46039f"
             ],
             [
              0.2222222222222222,
              "#7201a8"
             ],
             [
              0.3333333333333333,
              "#9c179e"
             ],
             [
              0.4444444444444444,
              "#bd3786"
             ],
             [
              0.5555555555555556,
              "#d8576b"
             ],
             [
              0.6666666666666666,
              "#ed7953"
             ],
             [
              0.7777777777777778,
              "#fb9f3a"
             ],
             [
              0.8888888888888888,
              "#fdca26"
             ],
             [
              1,
              "#f0f921"
             ]
            ],
            "type": "contour"
           }
          ],
          "contourcarpet": [
           {
            "colorbar": {
             "outlinewidth": 0,
             "ticks": ""
            },
            "type": "contourcarpet"
           }
          ],
          "heatmap": [
           {
            "colorbar": {
             "outlinewidth": 0,
             "ticks": ""
            },
            "colorscale": [
             [
              0,
              "#0d0887"
             ],
             [
              0.1111111111111111,
              "#46039f"
             ],
             [
              0.2222222222222222,
              "#7201a8"
             ],
             [
              0.3333333333333333,
              "#9c179e"
             ],
             [
              0.4444444444444444,
              "#bd3786"
             ],
             [
              0.5555555555555556,
              "#d8576b"
             ],
             [
              0.6666666666666666,
              "#ed7953"
             ],
             [
              0.7777777777777778,
              "#fb9f3a"
             ],
             [
              0.8888888888888888,
              "#fdca26"
             ],
             [
              1,
              "#f0f921"
             ]
            ],
            "type": "heatmap"
           }
          ],
          "heatmapgl": [
           {
            "colorbar": {
             "outlinewidth": 0,
             "ticks": ""
            },
            "colorscale": [
             [
              0,
              "#0d0887"
             ],
             [
              0.1111111111111111,
              "#46039f"
             ],
             [
              0.2222222222222222,
              "#7201a8"
             ],
             [
              0.3333333333333333,
              "#9c179e"
             ],
             [
              0.4444444444444444,
              "#bd3786"
             ],
             [
              0.5555555555555556,
              "#d8576b"
             ],
             [
              0.6666666666666666,
              "#ed7953"
             ],
             [
              0.7777777777777778,
              "#fb9f3a"
             ],
             [
              0.8888888888888888,
              "#fdca26"
             ],
             [
              1,
              "#f0f921"
             ]
            ],
            "type": "heatmapgl"
           }
          ],
          "histogram": [
           {
            "marker": {
             "pattern": {
              "fillmode": "overlay",
              "size": 10,
              "solidity": 0.2
             }
            },
            "type": "histogram"
           }
          ],
          "histogram2d": [
           {
            "colorbar": {
             "outlinewidth": 0,
             "ticks": ""
            },
            "colorscale": [
             [
              0,
              "#0d0887"
             ],
             [
              0.1111111111111111,
              "#46039f"
             ],
             [
              0.2222222222222222,
              "#7201a8"
             ],
             [
              0.3333333333333333,
              "#9c179e"
             ],
             [
              0.4444444444444444,
              "#bd3786"
             ],
             [
              0.5555555555555556,
              "#d8576b"
             ],
             [
              0.6666666666666666,
              "#ed7953"
             ],
             [
              0.7777777777777778,
              "#fb9f3a"
             ],
             [
              0.8888888888888888,
              "#fdca26"
             ],
             [
              1,
              "#f0f921"
             ]
            ],
            "type": "histogram2d"
           }
          ],
          "histogram2dcontour": [
           {
            "colorbar": {
             "outlinewidth": 0,
             "ticks": ""
            },
            "colorscale": [
             [
              0,
              "#0d0887"
             ],
             [
              0.1111111111111111,
              "#46039f"
             ],
             [
              0.2222222222222222,
              "#7201a8"
             ],
             [
              0.3333333333333333,
              "#9c179e"
             ],
             [
              0.4444444444444444,
              "#bd3786"
             ],
             [
              0.5555555555555556,
              "#d8576b"
             ],
             [
              0.6666666666666666,
              "#ed7953"
             ],
             [
              0.7777777777777778,
              "#fb9f3a"
             ],
             [
              0.8888888888888888,
              "#fdca26"
             ],
             [
              1,
              "#f0f921"
             ]
            ],
            "type": "histogram2dcontour"
           }
          ],
          "mesh3d": [
           {
            "colorbar": {
             "outlinewidth": 0,
             "ticks": ""
            },
            "type": "mesh3d"
           }
          ],
          "parcoords": [
           {
            "line": {
             "colorbar": {
              "outlinewidth": 0,
              "ticks": ""
             }
            },
            "type": "parcoords"
           }
          ],
          "pie": [
           {
            "automargin": true,
            "type": "pie"
           }
          ],
          "scatter": [
           {
            "marker": {
             "line": {
              "color": "#283442"
             }
            },
            "type": "scatter"
           }
          ],
          "scatter3d": [
           {
            "line": {
             "colorbar": {
              "outlinewidth": 0,
              "ticks": ""
             }
            },
            "marker": {
             "colorbar": {
              "outlinewidth": 0,
              "ticks": ""
             }
            },
            "type": "scatter3d"
           }
          ],
          "scattercarpet": [
           {
            "marker": {
             "colorbar": {
              "outlinewidth": 0,
              "ticks": ""
             }
            },
            "type": "scattercarpet"
           }
          ],
          "scattergeo": [
           {
            "marker": {
             "colorbar": {
              "outlinewidth": 0,
              "ticks": ""
             }
            },
            "type": "scattergeo"
           }
          ],
          "scattergl": [
           {
            "marker": {
             "line": {
              "color": "#283442"
             }
            },
            "type": "scattergl"
           }
          ],
          "scattermapbox": [
           {
            "marker": {
             "colorbar": {
              "outlinewidth": 0,
              "ticks": ""
             }
            },
            "type": "scattermapbox"
           }
          ],
          "scatterpolar": [
           {
            "marker": {
             "colorbar": {
              "outlinewidth": 0,
              "ticks": ""
             }
            },
            "type": "scatterpolar"
           }
          ],
          "scatterpolargl": [
           {
            "marker": {
             "colorbar": {
              "outlinewidth": 0,
              "ticks": ""
             }
            },
            "type": "scatterpolargl"
           }
          ],
          "scatterternary": [
           {
            "marker": {
             "colorbar": {
              "outlinewidth": 0,
              "ticks": ""
             }
            },
            "type": "scatterternary"
           }
          ],
          "surface": [
           {
            "colorbar": {
             "outlinewidth": 0,
             "ticks": ""
            },
            "colorscale": [
             [
              0,
              "#0d0887"
             ],
             [
              0.1111111111111111,
              "#46039f"
             ],
             [
              0.2222222222222222,
              "#7201a8"
             ],
             [
              0.3333333333333333,
              "#9c179e"
             ],
             [
              0.4444444444444444,
              "#bd3786"
             ],
             [
              0.5555555555555556,
              "#d8576b"
             ],
             [
              0.6666666666666666,
              "#ed7953"
             ],
             [
              0.7777777777777778,
              "#fb9f3a"
             ],
             [
              0.8888888888888888,
              "#fdca26"
             ],
             [
              1,
              "#f0f921"
             ]
            ],
            "type": "surface"
           }
          ],
          "table": [
           {
            "cells": {
             "fill": {
              "color": "#506784"
             },
             "line": {
              "color": "rgb(17,17,17)"
             }
            },
            "header": {
             "fill": {
              "color": "#2a3f5f"
             },
             "line": {
              "color": "rgb(17,17,17)"
             }
            },
            "type": "table"
           }
          ]
         },
         "layout": {
          "annotationdefaults": {
           "arrowcolor": "#f2f5fa",
           "arrowhead": 0,
           "arrowwidth": 1
          },
          "autotypenumbers": "strict",
          "coloraxis": {
           "colorbar": {
            "outlinewidth": 0,
            "ticks": ""
           }
          },
          "colorscale": {
           "diverging": [
            [
             0,
             "#8e0152"
            ],
            [
             0.1,
             "#c51b7d"
            ],
            [
             0.2,
             "#de77ae"
            ],
            [
             0.3,
             "#f1b6da"
            ],
            [
             0.4,
             "#fde0ef"
            ],
            [
             0.5,
             "#f7f7f7"
            ],
            [
             0.6,
             "#e6f5d0"
            ],
            [
             0.7,
             "#b8e186"
            ],
            [
             0.8,
             "#7fbc41"
            ],
            [
             0.9,
             "#4d9221"
            ],
            [
             1,
             "#276419"
            ]
           ],
           "sequential": [
            [
             0,
             "#0d0887"
            ],
            [
             0.1111111111111111,
             "#46039f"
            ],
            [
             0.2222222222222222,
             "#7201a8"
            ],
            [
             0.3333333333333333,
             "#9c179e"
            ],
            [
             0.4444444444444444,
             "#bd3786"
            ],
            [
             0.5555555555555556,
             "#d8576b"
            ],
            [
             0.6666666666666666,
             "#ed7953"
            ],
            [
             0.7777777777777778,
             "#fb9f3a"
            ],
            [
             0.8888888888888888,
             "#fdca26"
            ],
            [
             1,
             "#f0f921"
            ]
           ],
           "sequentialminus": [
            [
             0,
             "#0d0887"
            ],
            [
             0.1111111111111111,
             "#46039f"
            ],
            [
             0.2222222222222222,
             "#7201a8"
            ],
            [
             0.3333333333333333,
             "#9c179e"
            ],
            [
             0.4444444444444444,
             "#bd3786"
            ],
            [
             0.5555555555555556,
             "#d8576b"
            ],
            [
             0.6666666666666666,
             "#ed7953"
            ],
            [
             0.7777777777777778,
             "#fb9f3a"
            ],
            [
             0.8888888888888888,
             "#fdca26"
            ],
            [
             1,
             "#f0f921"
            ]
           ]
          },
          "colorway": [
           "#636efa",
           "#EF553B",
           "#00cc96",
           "#ab63fa",
           "#FFA15A",
           "#19d3f3",
           "#FF6692",
           "#B6E880",
           "#FF97FF",
           "#FECB52"
          ],
          "font": {
           "color": "#f2f5fa"
          },
          "geo": {
           "bgcolor": "rgb(17,17,17)",
           "lakecolor": "rgb(17,17,17)",
           "landcolor": "rgb(17,17,17)",
           "showlakes": true,
           "showland": true,
           "subunitcolor": "#506784"
          },
          "hoverlabel": {
           "align": "left"
          },
          "hovermode": "closest",
          "mapbox": {
           "style": "dark"
          },
          "paper_bgcolor": "rgb(17,17,17)",
          "plot_bgcolor": "rgb(17,17,17)",
          "polar": {
           "angularaxis": {
            "gridcolor": "#506784",
            "linecolor": "#506784",
            "ticks": ""
           },
           "bgcolor": "rgb(17,17,17)",
           "radialaxis": {
            "gridcolor": "#506784",
            "linecolor": "#506784",
            "ticks": ""
           }
          },
          "scene": {
           "xaxis": {
            "backgroundcolor": "rgb(17,17,17)",
            "gridcolor": "#506784",
            "gridwidth": 2,
            "linecolor": "#506784",
            "showbackground": true,
            "ticks": "",
            "zerolinecolor": "#C8D4E3"
           },
           "yaxis": {
            "backgroundcolor": "rgb(17,17,17)",
            "gridcolor": "#506784",
            "gridwidth": 2,
            "linecolor": "#506784",
            "showbackground": true,
            "ticks": "",
            "zerolinecolor": "#C8D4E3"
           },
           "zaxis": {
            "backgroundcolor": "rgb(17,17,17)",
            "gridcolor": "#506784",
            "gridwidth": 2,
            "linecolor": "#506784",
            "showbackground": true,
            "ticks": "",
            "zerolinecolor": "#C8D4E3"
           }
          },
          "shapedefaults": {
           "line": {
            "color": "#f2f5fa"
           }
          },
          "sliderdefaults": {
           "bgcolor": "#C8D4E3",
           "bordercolor": "rgb(17,17,17)",
           "borderwidth": 1,
           "tickwidth": 0
          },
          "ternary": {
           "aaxis": {
            "gridcolor": "#506784",
            "linecolor": "#506784",
            "ticks": ""
           },
           "baxis": {
            "gridcolor": "#506784",
            "linecolor": "#506784",
            "ticks": ""
           },
           "bgcolor": "rgb(17,17,17)",
           "caxis": {
            "gridcolor": "#506784",
            "linecolor": "#506784",
            "ticks": ""
           }
          },
          "title": {
           "x": 0.05
          },
          "updatemenudefaults": {
           "bgcolor": "#506784",
           "borderwidth": 0
          },
          "xaxis": {
           "automargin": true,
           "gridcolor": "#283442",
           "linecolor": "#506784",
           "ticks": "",
           "title": {
            "standoff": 15
           },
           "zerolinecolor": "#283442",
           "zerolinewidth": 2
          },
          "yaxis": {
           "automargin": true,
           "gridcolor": "#283442",
           "linecolor": "#506784",
           "ticks": "",
           "title": {
            "standoff": 15
           },
           "zerolinecolor": "#283442",
           "zerolinewidth": 2
          }
         }
        },
        "title": {
         "font": {
          "size": 20
         },
         "text": "SPY Implied Volatility Surface"
        }
       }
      },
      "image/png": "[encoded data removed]",
      "text/html": [
       "<div>                            <div id=\"94ca58fa-6c52-46ec-b735-7b05f7e44931\" class=\"plotly-graph-div\" style=\"height:525px; width:100%;\"></div>            <script type=\"text/javascript\">                require([\"plotly\"], function(Plotly) {                    window.PLOTLYENV=window.PLOTLYENV || {};                                    if (document.getElementById(\"94ca58fa-6c52-46ec-b735-7b05f7e44931\")) {                    Plotly.newPlot(                        \"94ca58fa-6c52-46ec-b735-7b05f7e44931\",                        [{\"colorbar\":{\"tickformat\":\".0%\",\"title\":{\"font\":{\"size\":14},\"side\":\"right\",\"text\":\"Implied Volatility\"}},\"colorscale\":[[0.0,\"#440154\"],[0.1111111111111111,\"#482878\"],[0.2222222222222222,\"#3e4989\"],[0.3333333333333333,\"#31688e\"],[0.4444444444444444,\"#26828e\"],[0.5555555555555556,\"#1f9e89\"],[0.6666666666666666,\"#35b779\"],[0.7777777777777778,\"#6ece58\"],[0.8888888888888888,\"#b5de2b\"],[1.0,\"#fde725\"]],\"name\":\"Original Surface\",\"opacity\":0.8,\"showscale\":true,\"x\":[[0.7,0.76,0.82,0.88,0.94,1.0,1.06,1.12,1.1800000000000002,1.2400000000000002,1.3],[0.7,0.76,0.82,0.88,0.94,1.0,1.06,1.12,1.1800000000000002,1.2400000000000002,1.3],[0.7,0.76,0.82,0.88,0.94,1.0,1.06,1.12,1.1800000000000002,1.2400000000000002,1.3],[0.7,0.76,0.82,0.88,0.94,1.0,1.06,1.12,1.1800000000000002,1.2400000000000002,1.3],[0.7,0.76,0.82,0.88,0.94,1.0,1.06,1.12,1.1800000000000002,1.2400000000000002,1.3],[0.7,0.76,0.82,0.88,0.94,1.0,1.06,1.12,1.1800000000000002,1.2400000000000002,1.3]],\"y\":[[0.04657534246575343,0.04657534246575343,0.04657534246575343,0.04657534246575343,0.04657534246575343,0.04657534246575343,0.04657534246575343,0.04657534246575343,0.04657534246575343,0.04657534246575343,0.04657534246575343],[0.06575342465753424,0.06575342465753424,0.06575342465753424,0.06575342465753424,0.06575342465753424,0.06575342465753424,0.06575342465753424,0.06575342465753424,0.06575342465753424,0.06575342465753424,0.06575342465753424],[0.10410958904109589,0.10410958904109589,0.10410958904109589,0.10410958904109589,0.10410958904109589,0.10410958904109589,0.10410958904109589,0.10410958904109589,0.10410958904109589,0.10410958904109589,0.10410958904109589],[0.14246575342465753,0.14246575342465753,0.14246575342465753,0.14246575342465753,0.14246575342465753,0.14246575342465753,0.14246575342465753,0.14246575342465753,0.14246575342465753,0.14246575342465753,0.14246575342465753],[0.2273972602739726,0.2273972602739726,0.2273972602739726,0.2273972602739726,0.2273972602739726,0.2273972602739726,0.2273972602739726,0.2273972602739726,0.2273972602739726,0.2273972602739726,0.2273972602739726],[0.31232876712328766,0.31232876712328766,0.31232876712328766,0.31232876712328766,0.31232876712328766,0.31232876712328766,0.31232876712328766,0.31232876712328766,0.31232876712328766,0.31232876712328766,0.31232876712328766]],\"z\":[[0.7238530900097182,0.6412859852959925,0.5588031147820341,0.4800240505169935,0.40856836455002193,0.34805562893026976,0.3021054157068883,0.27433729692902836,0.2683708446458408,0.2878256309064766,0.33632122776008644],[0.5642973830093991,0.5211283742955561,0.4680540930257392,0.4109034739805566,0.3555054519406167,0.30768896168652726,0.2732829379988968,0.2581163156583334,0.268018029445445,0.3088170141408403,0.38634220452512663],[0.390515133273477,0.39037717094486574,0.369600873724108,0.3360766323555975,0.29769483758372833,0.2623458801528936,0.23792015080748807,0.23230804029190474,0.25339993935053756,0.3090862387277807,0.40725732916802726],[0.35823439817291647,0.3651930077114983,0.3504442447571656,0.32151050421928407,0.28591418100721894,0.2511776700303356,0.22482336619799978,0.21437366441957675,0.22735095960443205,0.2712776466619312,0.3536761205014395],[0.47674623457015036,0.4420410897001161,0.40167197753132644,0.357981484444559,0.3133121968205921,0.27000670104020297,0.23040758348416976,0.19685743053327018,0.17169882856828214,0.1572743639699833,0.1559266231191516],[0.30051515718728633,0.27021619761562804,0.2473006244405537,0.23051444256776515,0.21860365690296424,0.21031427235185254,0.20439229382013202,0.19958372621350437,0.19463457443767135,0.18829084339833474,0.17929853800119638]],\"type\":\"surface\"},{\"line\":{\"color\":\"red\",\"width\":4},\"mode\":\"lines\",\"name\":\"ATM Line\",\"x\":[1.0,1.0,1.0,1.0,1.0,1.0],\"y\":[0.04657534246575343,0.06575342465753424,0.10410958904109589,0.14246575342465753,0.2273972602739726,0.31232876712328766],\"z\":[0.34805562893026976,0.30768896168652726,0.2623458801528936,0.2511776700303356,0.27000670104020297,0.21031427235185254],\"type\":\"scatter3d\"}],                        {\"template\":{\"data\":{\"barpolar\":[{\"marker\":{\"line\":{\"color\":\"rgb(17,17,17)\",\"width\":0.5},\"pattern\":{\"fillmode\":\"overlay\",\"size\":10,\"solidity\":0.2}},\"type\":\"barpolar\"}],\"bar\":[{\"error_x\":{\"color\":\"#f2f5fa\"},\"error_y\":{\"color\":\"#f2f5fa\"},\"marker\":{\"line\":{\"color\":\"rgb(17,17,17)\",\"width\":0.5},\"pattern\":{\"fillmode\":\"overlay\",\"size\":10,\"solidity\":0.2}},\"type\":\"bar\"}],\"carpet\":[{\"aaxis\":{\"endlinecolor\":\"#A2B1C6\",\"gridcolor\":\"#506784\",\"linecolor\":\"#506784\",\"minorgridcolor\":\"#506784\",\"startlinecolor\":\"#A2B1C6\"},\"baxis\":{\"endlinecolor\":\"#A2B1C6\",\"gridcolor\":\"#506784\",\"linecolor\":\"#506784\",\"minorgridcolor\":\"#506784\",\"startlinecolor\":\"#A2B1C6\"},\"type\":\"carpet\"}],\"choropleth\":[{\"colorbar\":{\"outlinewidth\":0,\"ticks\":\"\"},\"type\":\"choropleth\"}],\"contourcarpet\":[{\"colorbar\":{\"outlinewidth\":0,\"ticks\":\"\"},\"type\":\"contourcarpet\"}],\"contour\":[{\"colorbar\":{\"outlinewidth\":0,\"ticks\":\"\"},\"colorscale\":[[0.0,\"#0d0887\"],[0.1111111111111111,\"#46039f\"],[0.2222222222222222,\"#7201a8\"],[0.3333333333333333,\"#9c179e\"],[0.4444444444444444,\"#bd3786\"],[0.5555555555555556,\"#d8576b\"],[0.6666666666666666,\"#ed7953\"],[0.7777777777777778,\"#fb9f3a\"],[0.8888888888888888,\"#fdca26\"],[1.0,\"#f0f921\"]],\"type\":\"contour\"}],\"heatmapgl\":[{\"colorbar\":{\"outlinewidth\":0,\"ticks\":\"\"},\"colorscale\":[[0.0,\"#0d0887\"],[0.1111111111111111,\"#46039f\"],[0.2222222222222222,\"#7201a8\"],[0.3333333333333333,\"#9c179e\"],[0.4444444444444444,\"#bd3786\"],[0.5555555555555556,\"#d8576b\"],[0.6666666666666666,\"#ed7953\"],[0.7777777777777778,\"#fb9f3a\"],[0.8888888888888888,\"#fdca26\"],[1.0,\"#f0f921\"]],\"type\":\"heatmapgl\"}],\"heatmap\":[{\"colorbar\":{\"outlinewidth\":0,\"ticks\":\"\"},\"colorscale\":[[0.0,\"#0d0887\"],[0.1111111111111111,\"#46039f\"],[0.2222222222222222,\"#7201a8\"],[0.3333333333333333,\"#9c179e\"],[0.4444444444444444,\"#bd3786\"],[0.5555555555555556,\"#d8576b\"],[0.6666666666666666,\"#ed7953\"],[0.7777777777777778,\"#fb9f3a\"],[0.8888888888888888,\"#fdca26\"],[1.0,\"#f0f921\"]],\"type\":\"heatmap\"}],\"histogram2dcontour\":[{\"colorbar\":{\"outlinewidth\":0,\"ticks\":\"\"},\"colorscale\":[[0.0,\"#0d0887\"],[0.1111111111111111,\"#46039f\"],[0.2222222222222222,\"#7201a8\"],[0.3333333333333333,\"#9c179e\"],[0.4444444444444444,\"#bd3786\"],[0.5555555555555556,\"#d8576b\"],[0.6666666666666666,\"#ed7953\"],[0.7777777777777778,\"#fb9f3a\"],[0.8888888888888888,\"#fdca26\"],[1.0,\"#f0f921\"]],\"type\":\"histogram2dcontour\"}],\"histogram2d\":[{\"colorbar\":{\"outlinewidth\":0,\"ticks\":\"\"},\"colorscale\":[[0.0,\"#0d0887\"],[0.1111111111111111,\"#46039f\"],[0.2222222222222222,\"#7201a8\"],[0.3333333333333333,\"#9c179e\"],[0.4444444444444444,\"#bd3786\"],[0.5555555555555556,\"#d8576b\"],[0.6666666666666666,\"#ed7953\"],[0.7777777777777778,\"#fb9f3a\"],[0.8888888888888888,\"#fdca26\"],[1.0,\"#f0f921\"]],\"type\":\"histogram2d\"}],\"histogram\":[{\"marker\":{\"pattern\":{\"fillmode\":\"overlay\",\"size\":10,\"solidity\":0.2}},\"type\":\"histogram\"}],\"mesh3d\":[{\"colorbar\":{\"outlinewidth\":0,\"ticks\":\"\"},\"type\":\"mesh3d\"}],\"parcoords\":[{\"line\":{\"colorbar\":{\"outlinewidth\":0,\"ticks\":\"\"}},\"type\":\"parcoords\"}],\"pie\":[{\"automargin\":true,\"type\":\"pie\"}],\"scatter3d\":[{\"line\":{\"colorbar\":{\"outlinewidth\":0,\"ticks\":\"\"}},\"marker\":{\"colorbar\":{\"outlinewidth\":0,\"ticks\":\"\"}},\"type\":\"scatter3d\"}],\"scattercarpet\":[{\"marker\":{\"colorbar\":{\"outlinewidth\":0,\"ticks\":\"\"}},\"type\":\"scattercarpet\"}],\"scattergeo\":[{\"marker\":{\"colorbar\":{\"outlinewidth\":0,\"ticks\":\"\"}},\"type\":\"scattergeo\"}],\"scattergl\":[{\"marker\":{\"line\":{\"color\":\"#283442\"}},\"type\":\"scattergl\"}],\"scattermapbox\":[{\"marker\":{\"colorbar\":{\"outlinewidth\":0,\"ticks\":\"\"}},\"type\":\"scattermapbox\"}],\"scatterpolargl\":[{\"marker\":{\"colorbar\":{\"outlinewidth\":0,\"ticks\":\"\"}},\"type\":\"scatterpolargl\"}],\"scatterpolar\":[{\"marker\":{\"colorbar\":{\"outlinewidth\":0,\"ticks\":\"\"}},\"type\":\"scatterpolar\"}],\"scatter\":[{\"marker\":{\"line\":{\"color\":\"#283442\"}},\"type\":\"scatter\"}],\"scatterternary\":[{\"marker\":{\"colorbar\":{\"outlinewidth\":0,\"ticks\":\"\"}},\"type\":\"scatterternary\"}],\"surface\":[{\"colorbar\":{\"outlinewidth\":0,\"ticks\":\"\"},\"colorscale\":[[0.0,\"#0d0887\"],[0.1111111111111111,\"#46039f\"],[0.2222222222222222,\"#7201a8\"],[0.3333333333333333,\"#9c179e\"],[0.4444444444444444,\"#bd3786\"],[0.5555555555555556,\"#d8576b\"],[0.6666666666666666,\"#ed7953\"],[0.7777777777777778,\"#fb9f3a\"],[0.8888888888888888,\"#fdca26\"],[1.0,\"#f0f921\"]],\"type\":\"surface\"}],\"table\":[{\"cells\":{\"fill\":{\"color\":\"#506784\"},\"line\":{\"color\":\"rgb(17,17,17)\"}},\"header\":{\"fill\":{\"color\":\"#2a3f5f\"},\"line\":{\"color\":\"rgb(17,17,17)\"}},\"type\":\"table\"}]},\"layout\":{\"annotationdefaults\":{\"arrowcolor\":\"#f2f5fa\",\"arrowhead\":0,\"arrowwidth\":1},\"autotypenumbers\":\"strict\",\"coloraxis\":{\"colorbar\":{\"outlinewidth\":0,\"ticks\":\"\"}},\"colorscale\":{\"diverging\":[[0,\"#8e0152\"],[0.1,\"#c51b7d\"],[0.2,\"#de77ae\"],[0.3,\"#f1b6da\"],[0.4,\"#fde0ef\"],[0.5,\"#f7f7f7\"],[0.6,\"#e6f5d0\"],[0.7,\"#b8e186\"],[0.8,\"#7fbc41\"],[0.9,\"#4d9221\"],[1,\"#276419\"]],\"sequential\":[[0.0,\"#0d0887\"],[0.1111111111111111,\"#46039f\"],[0.2222222222222222,\"#7201a8\"],[0.3333333333333333,\"#9c179e\"],[0.4444444444444444,\"#bd3786\"],[0.5555555555555556,\"#d8576b\"],[0.6666666666666666,\"#ed7953\"],[0.7777777777777778,\"#fb9f3a\"],[0.8888888888888888,\"#fdca26\"],[1.0,\"#f0f921\"]],\"sequentialminus\":[[0.0,\"#0d0887\"],[0.1111111111111111,\"#46039f\"],[0.2222222222222222,\"#7201a8\"],[0.3333333333333333,\"#9c179e\"],[0.4444444444444444,\"#bd3786\"],[0.5555555555555556,\"#d8576b\"],[0.6666666666666666,\"#ed7953\"],[0.7777777777777778,\"#fb9f3a\"],[0.8888888888888888,\"#fdca26\"],[1.0,\"#f0f921\"]]},\"colorway\":[\"#636efa\",\"#EF553B\",\"#00cc96\",\"#ab63fa\",\"#FFA15A\",\"#19d3f3\",\"#FF6692\",\"#B6E880\",\"#FF97FF\",\"#FECB52\"],\"font\":{\"color\":\"#f2f5fa\"},\"geo\":{\"bgcolor\":\"rgb(17,17,17)\",\"lakecolor\":\"rgb(17,17,17)\",\"landcolor\":\"rgb(17,17,17)\",\"showlakes\":true,\"showland\":true,\"subunitcolor\":\"#506784\"},\"hoverlabel\":{\"align\":\"left\"},\"hovermode\":\"closest\",\"mapbox\":{\"style\":\"dark\"},\"paper_bgcolor\":\"rgb(17,17,17)\",\"plot_bgcolor\":\"rgb(17,17,17)\",\"polar\":{\"angularaxis\":{\"gridcolor\":\"#506784\",\"linecolor\":\"#506784\",\"ticks\":\"\"},\"bgcolor\":\"rgb(17,17,17)\",\"radialaxis\":{\"gridcolor\":\"#506784\",\"linecolor\":\"#506784\",\"ticks\":\"\"}},\"scene\":{\"xaxis\":{\"backgroundcolor\":\"rgb(17,17,17)\",\"gridcolor\":\"#506784\",\"gridwidth\":2,\"linecolor\":\"#506784\",\"showbackground\":true,\"ticks\":\"\",\"zerolinecolor\":\"#C8D4E3\"},\"yaxis\":{\"backgroundcolor\":\"rgb(17,17,17)\",\"gridcolor\":\"#506784\",\"gridwidth\":2,\"linecolor\":\"#506784\",\"showbackground\":true,\"ticks\":\"\",\"zerolinecolor\":\"#C8D4E3\"},\"zaxis\":{\"backgroundcolor\":\"rgb(17,17,17)\",\"gridcolor\":\"#506784\",\"gridwidth\":2,\"linecolor\":\"#506784\",\"showbackground\":true,\"ticks\":\"\",\"zerolinecolor\":\"#C8D4E3\"}},\"shapedefaults\":{\"line\":{\"color\":\"#f2f5fa\"}},\"sliderdefaults\":{\"bgcolor\":\"#C8D4E3\",\"bordercolor\":\"rgb(17,17,17)\",\"borderwidth\":1,\"tickwidth\":0},\"ternary\":{\"aaxis\":{\"gridcolor\":\"#506784\",\"linecolor\":\"#506784\",\"ticks\":\"\"},\"baxis\":{\"gridcolor\":\"#506784\",\"linecolor\":\"#506784\",\"ticks\":\"\"},\"bgcolor\":\"rgb(17,17,17)\",\"caxis\":{\"gridcolor\":\"#506784\",\"linecolor\":\"#506784\",\"ticks\":\"\"}},\"title\":{\"x\":0.05},\"updatemenudefaults\":{\"bgcolor\":\"#506784\",\"borderwidth\":0},\"xaxis\":{\"automargin\":true,\"gridcolor\":\"#283442\",\"linecolor\":\"#506784\",\"ticks\":\"\",\"title\":{\"standoff\":15},\"zerolinecolor\":\"#283442\",\"zerolinewidth\":2},\"yaxis\":{\"automargin\":true,\"gridcolor\":\"#283442\",\"linecolor\":\"#506784\",\"ticks\":\"\",\"title\":{\"standoff\":15},\"zerolinecolor\":\"#283442\",\"zerolinewidth\":2}}},\"title\":{\"font\":{\"size\":20},\"text\":\"SPY Implied Volatility Surface\"},\"scene\":{\"zaxis\":{\"title\":{\"text\":\"Implied Volatility\"},\"tickformat\":\".0%\"},\"aspectratio\":{\"x\":1.5,\"y\":1.5,\"z\":0.8},\"camera\":{\"eye\":{\"x\":1.5,\"y\":-1.5,\"z\":0.8}},\"xaxis\":{\"title\":{\"text\":\"Moneyness (K\\u002fS)\"}},\"yaxis\":{\"title\":{\"text\":\"Maturity (Years)\"}}},\"margin\":{\"l\":0,\"r\":0,\"b\":0,\"t\":65},\"legend\":{\"yanchor\":\"top\",\"y\":0.99,\"xanchor\":\"left\",\"x\":0.01,\"bgcolor\":\"rgba(255, 255, 255, 0.1)\"}},                        {\"responsive\": true}                    ).then(function(){\n",
       "                            \n",
       "var gd = document.getElementById('94ca58fa-6c52-46ec-b735-7b05f7e44931');\n",
       "var x = new MutationObserver(function (mutations, observer) {{\n",
       "        var display = window.getComputedStyle(gd).display;\n",
       "        if (!display || display === 'none') {{\n",
       "            console.log([gd, 'removed!']);\n",
       "            Plotly.purge(gd);\n",
       "            observer.disconnect();\n",
       "        }}\n",
       "}});\n",
       "\n",
       "// Listen for the removal of the full notebook cells\n",
       "var notebookContainer = gd.closest('#notebook-container');\n",
       "if (notebookContainer) {{\n",
       "    x.observe(notebookContainer, {childList: true});\n",
       "}}\n",
       "\n",
       "// Listen for the clearing of the current output cell\n",
       "var outputEl = gd.closest('.output');\n",
       "if (outputEl) {{\n",
       "    x.observe(outputEl, {childList: true});\n",
       "}}\n",
       "\n",
       "                        })                };                });            </script>        </div>"
      ]
     },
     "metadata": {},
     "output_type": "display_data"
    },
    {
     "name": "stdout",
     "output_type": "stream",
     "text": [
      "Displaying vol_skew...\n",
      "Displaying strategy_payoff_1...\n"
     ]
    },
    {
     "data": {
      "application/vnd.plotly.v1+json": {
       "config": {
        "plotlyServerURL": "https://plot.ly"
       },
       "data": [
        {
         "line": {
          "color": "green",
          "width": 3
         },
         "mode": "lines",
         "name": "Payoff",
         "type": "scatter",
         "x": [
          365.9599999999999,
          369.1284848484848,
          372.2969696969696,
          375.46545454545446,
          378.63393939393933,
          381.8024242424242,
          384.970909090909,
          388.13939393939387,
          391.30787878787874,
          394.47636363636354,
          397.6448484848484,
          400.8133333333333,
          403.9818181818181,
          407.15030303030295,
          410.3187878787878,
          413.4872727272727,
          416.6557575757575,
          419.82424242424236,
          422.9927272727272,
          426.1612121212121,
          429.3296969696969,
          432.49818181818176,
          435.66666666666663,
          438.83515151515144,
          442.0036363636363,
          445.17212121212117,
          448.340606060606,
          451.50909090909084,
          454.6775757575757,
          457.8460606060605,
          461.0145454545454,
          464.18303030303025,
          467.3515151515151,
          470.52,
          473.6884848484848,
          476.85696969696966,
          480.0254545454545,
          483.19393939393933,
          486.3624242424242,
          489.53090909090906,
          492.6993939393939,
          495.86787878787874,
          499.0363636363636,
          502.2048484848484,
          505.37333333333333,
          508.54181818181814,
          511.71030303030295,
          514.8787878787879,
          518.0472727272727,
          521.2157575757576,
          524.3842424242424,
          527.5527272727272,
          530.7212121212121,
          533.889696969697,
          537.0581818181818,
          540.2266666666667,
          543.3951515151515,
          546.5636363636363,
          549.7321212121212,
          552.900606060606,
          556.0690909090908,
          559.2375757575758,
          562.4060606060606,
          565.5745454545454,
          568.7430303030303,
          571.9115151515151,
          575.0799999999999,
          578.2484848484848,
          581.4169696969697,
          584.5854545454545,
          587.7539393939394,
          590.9224242424242,
          594.090909090909,
          597.2593939393939,
          600.4278787878787,
          603.5963636363637,
          606.7648484848485,
          609.9333333333333,
          613.1018181818182,
          616.270303030303,
          619.4387878787879,
          622.6072727272727,
          625.7757575757576,
          628.9442424242425,
          632.1127272727273,
          635.2812121212121,
          638.449696969697,
          641.6181818181818,
          644.7866666666666,
          647.9551515151516,
          651.1236363636364,
          654.2921212121212,
          657.4606060606061,
          660.6290909090909,
          663.7975757575757,
          666.9660606060606,
          670.1345454545454,
          673.3030303030303,
          676.4715151515152,
          679.64
         ],
         "y": [
          131.51500000000007,
          128.3465151515152,
          125.1780303030304,
          122.00954545454553,
          118.84106060606067,
          115.6725757575758,
          112.50409090909099,
          109.33560606060612,
          106.16712121212126,
          102.99863636363645,
          99.83015151515158,
          96.66166666666672,
          93.49318181818191,
          90.32469696969704,
          87.15621212121218,
          83.98772727272731,
          80.8192424242425,
          77.65075757575764,
          74.48227272727277,
          71.3137878787879,
          68.1453030303031,
          64.97681818181823,
          61.80833333333337,
          58.639848484848564,
          55.4713636363637,
          52.30287878787883,
          49.13439393939402,
          45.96590909090916,
          42.79742424242429,
          39.62893939393948,
          36.46045454545462,
          33.29196969696975,
          30.123484848484885,
          26.95500000000002,
          23.78651515151521,
          20.618030303030345,
          17.44954545454548,
          14.28106060606067,
          11.112575757575804,
          7.944090909090939,
          4.77560606060613,
          1.607121212121264,
          -1.5613636363636019,
          -4.729848484848411,
          -7.898333333333333,
          -11.066818181818142,
          -12.524999999999999,
          -12.524999999999999,
          -12.524999999999999,
          -12.524999999999999,
          -12.524999999999999,
          -12.524999999999999,
          -12.524999999999999,
          -12.524999999999999,
          -12.524999999999999,
          -12.524999999999999,
          -12.524999999999999,
          -12.524999999999999,
          -12.524999999999999,
          -12.524999999999999,
          -12.524999999999999,
          -12.524999999999999,
          -12.524999999999999,
          -12.524999999999999,
          -12.524999999999999,
          -12.524999999999999,
          -12.524999999999999,
          -12.524999999999999,
          -12.524999999999999,
          -12.524999999999999,
          -12.524999999999999,
          -12.524999999999999,
          -12.524999999999999,
          -12.524999999999999,
          -12.524999999999999,
          -12.524999999999999,
          -12.524999999999999,
          -12.524999999999999,
          -12.524999999999999,
          -12.524999999999999,
          -12.524999999999999,
          -12.524999999999999,
          -12.524999999999999,
          -12.524999999999999,
          -12.524999999999999,
          -12.524999999999999,
          -12.524999999999999,
          -12.524999999999999,
          -12.524999999999999,
          -12.524999999999999,
          -12.524999999999999,
          -12.524999999999999,
          -12.524999999999999,
          -12.524999999999999,
          -12.524999999999999,
          -12.524999999999999,
          -12.524999999999999,
          -12.524999999999999,
          -12.524999999999999,
          -12.524999999999999
         ]
        },
        {
         "marker": {
          "color": "yellow",
          "size": 10,
          "symbol": "x"
         },
         "mode": "markers",
         "name": "Break-even: $497.48",
         "type": "scatter",
         "x": [
          497.475
         ],
         "y": [
          0
         ]
        },
        {
         "marker": {
          "color": "white",
          "size": 12,
          "symbol": "circle"
         },
         "mode": "markers",
         "name": "Current: $522.80",
         "type": "scatter",
         "x": [
          522.8
         ],
         "y": [
          -12.524999999999999
         ]
        },
        {
         "line": {
          "color": "gray",
          "dash": "dash",
          "width": 1
         },
         "mode": "lines",
         "showlegend": false,
         "type": "scatter",
         "x": [
          365.9599999999999,
          679.64
         ],
         "y": [
          0,
          0
         ]
        }
       ],
       "layout": {
        "annotations": [
         {
          "arrowcolor": "green",
          "arrowhead": 2,
          "arrowsize": 1,
          "arrowwidth": 2,
          "bgcolor": "rgba(50, 50, 50, 0.8)",
          "bordercolor": "green",
          "borderpad": 4,
          "borderwidth": 2,
          "font": {
           "color": "white"
          },
          "showarrow": true,
          "text": "Max Profit: $131.52",
          "x": 365.9599999999999,
          "y": 131.51500000000007
         },
         {
          "arrowcolor": "red",
          "arrowhead": 2,
          "arrowsize": 1,
          "arrowwidth": 2,
          "bgcolor": "rgba(50, 50, 50, 0.8)",
          "bordercolor": "red",
          "borderpad": 4,
          "borderwidth": 2,
          "font": {
           "color": "white"
          },
          "showarrow": true,
          "text": "Max Loss: $-12.52",
          "x": 511.71030303030295,
          "y": -12.524999999999999
         },
         {
          "align": "left",
          "bgcolor": "rgba(50, 50, 50, 0.8)",
          "bordercolor": "white",
          "borderpad": 4,
          "borderwidth": 1,
          "font": {
           "color": "white"
          },
          "showarrow": false,
          "text": "put: Strike $510.00, Premium $12.52\n",
          "x": 0.02,
          "xref": "paper",
          "y": 0.02,
          "yref": "paper"
         }
        ],
        "height": 360,
        "hovermode": "x",
        "legend": {
         "x": 0.01,
         "xanchor": "left",
         "y": 0.99,
         "yanchor": "top"
        },
        "template": {
         "data": {
          "bar": [
           {
            "error_x": {
             "color": "#f2f5fa"
            },
            "error_y": {
             "color": "#f2f5fa"
            },
            "marker": {
             "line": {
              "color": "rgb(17,17,17)",
              "width": 0.5
             },
             "pattern": {
              "fillmode": "overlay",
              "size": 10,
              "solidity": 0.2
             }
            },
            "type": "bar"
           }
          ],
          "barpolar": [
           {
            "marker": {
             "line": {
              "color": "rgb(17,17,17)",
              "width": 0.5
             },
             "pattern": {
              "fillmode": "overlay",
              "size": 10,
              "solidity": 0.2
             }
            },
            "type": "barpolar"
           }
          ],
          "carpet": [
           {
            "aaxis": {
             "endlinecolor": "#A2B1C6",
             "gridcolor": "#506784",
             "linecolor": "#506784",
             "minorgridcolor": "#506784",
             "startlinecolor": "#A2B1C6"
            },
            "baxis": {
             "endlinecolor": "#A2B1C6",
             "gridcolor": "#506784",
             "linecolor": "#506784",
             "minorgridcolor": "#506784",
             "startlinecolor": "#A2B1C6"
            },
            "type": "carpet"
           }
          ],
          "choropleth": [
           {
            "colorbar": {
             "outlinewidth": 0,
             "ticks": ""
            },
            "type": "choropleth"
           }
          ],
          "contour": [
           {
            "colorbar": {
             "outlinewidth": 0,
             "ticks": ""
            },
            "colorscale": [
             [
              0,
              "#0d0887"
             ],
             [
              0.1111111111111111,
              "#46039f"
             ],
             [
              0.2222222222222222,
              "#7201a8"
             ],
             [
              0.3333333333333333,
              "#9c179e"
             ],
             [
              0.4444444444444444,
              "#bd3786"
             ],
             [
              0.5555555555555556,
              "#d8576b"
             ],
             [
              0.6666666666666666,
              "#ed7953"
             ],
             [
              0.7777777777777778,
              "#fb9f3a"
             ],
             [
              0.8888888888888888,
              "#fdca26"
             ],
             [
              1,
              "#f0f921"
             ]
            ],
            "type": "contour"
           }
          ],
          "contourcarpet": [
           {
            "colorbar": {
             "outlinewidth": 0,
             "ticks": ""
            },
            "type": "contourcarpet"
           }
          ],
          "heatmap": [
           {
            "colorbar": {
             "outlinewidth": 0,
             "ticks": ""
            },
            "colorscale": [
             [
              0,
              "#0d0887"
             ],
             [
              0.1111111111111111,
              "#46039f"
             ],
             [
              0.2222222222222222,
              "#7201a8"
             ],
             [
              0.3333333333333333,
              "#9c179e"
             ],
             [
              0.4444444444444444,
              "#bd3786"
             ],
             [
              0.5555555555555556,
              "#d8576b"
             ],
             [
              0.6666666666666666,
              "#ed7953"
             ],
             [
              0.7777777777777778,
              "#fb9f3a"
             ],
             [
              0.8888888888888888,
              "#fdca26"
             ],
             [
              1,
              "#f0f921"
             ]
            ],
            "type": "heatmap"
           }
          ],
          "heatmapgl": [
           {
            "colorbar": {
             "outlinewidth": 0,
             "ticks": ""
            },
            "colorscale": [
             [
              0,
              "#0d0887"
             ],
             [
              0.1111111111111111,
              "#46039f"
             ],
             [
              0.2222222222222222,
              "#7201a8"
             ],
             [
              0.3333333333333333,
              "#9c179e"
             ],
             [
              0.4444444444444444,
              "#bd3786"
             ],
             [
              0.5555555555555556,
              "#d8576b"
             ],
             [
              0.6666666666666666,
              "#ed7953"
             ],
             [
              0.7777777777777778,
              "#fb9f3a"
             ],
             [
              0.8888888888888888,
              "#fdca26"
             ],
             [
              1,
              "#f0f921"
             ]
            ],
            "type": "heatmapgl"
           }
          ],
          "histogram": [
           {
            "marker": {
             "pattern": {
              "fillmode": "overlay",
              "size": 10,
              "solidity": 0.2
             }
            },
            "type": "histogram"
           }
          ],
          "histogram2d": [
           {
            "colorbar": {
             "outlinewidth": 0,
             "ticks": ""
            },
            "colorscale": [
             [
              0,
              "#0d0887"
             ],
             [
              0.1111111111111111,
              "#46039f"
             ],
             [
              0.2222222222222222,
              "#7201a8"
             ],
             [
              0.3333333333333333,
              "#9c179e"
             ],
             [
              0.4444444444444444,
              "#bd3786"
             ],
             [
              0.5555555555555556,
              "#d8576b"
             ],
             [
              0.6666666666666666,
              "#ed7953"
             ],
             [
              0.7777777777777778,
              "#fb9f3a"
             ],
             [
              0.8888888888888888,
              "#fdca26"
             ],
             [
              1,
              "#f0f921"
             ]
            ],
            "type": "histogram2d"
           }
          ],
          "histogram2dcontour": [
           {
            "colorbar": {
             "outlinewidth": 0,
             "ticks": ""
            },
            "colorscale": [
             [
              0,
              "#0d0887"
             ],
             [
              0.1111111111111111,
              "#46039f"
             ],
             [
              0.2222222222222222,
              "#7201a8"
             ],
             [
              0.3333333333333333,
              "#9c179e"
             ],
             [
              0.4444444444444444,
              "#bd3786"
             ],
             [
              0.5555555555555556,
              "#d8576b"
             ],
             [
              0.6666666666666666,
              "#ed7953"
             ],
             [
              0.7777777777777778,
              "#fb9f3a"
             ],
             [
              0.8888888888888888,
              "#fdca26"
             ],
             [
              1,
              "#f0f921"
             ]
            ],
            "type": "histogram2dcontour"
           }
          ],
          "mesh3d": [
           {
            "colorbar": {
             "outlinewidth": 0,
             "ticks": ""
            },
            "type": "mesh3d"
           }
          ],
          "parcoords": [
           {
            "line": {
             "colorbar": {
              "outlinewidth": 0,
              "ticks": ""
             }
            },
            "type": "parcoords"
           }
          ],
          "pie": [
           {
            "automargin": true,
            "type": "pie"
           }
          ],
          "scatter": [
           {
            "marker": {
             "line": {
              "color": "#283442"
             }
            },
            "type": "scatter"
           }
          ],
          "scatter3d": [
           {
            "line": {
             "colorbar": {
              "outlinewidth": 0,
              "ticks": ""
             }
            },
            "marker": {
             "colorbar": {
              "outlinewidth": 0,
              "ticks": ""
             }
            },
            "type": "scatter3d"
           }
          ],
          "scattercarpet": [
           {
            "marker": {
             "colorbar": {
              "outlinewidth": 0,
              "ticks": ""
             }
            },
            "type": "scattercarpet"
           }
          ],
          "scattergeo": [
           {
            "marker": {
             "colorbar": {
              "outlinewidth": 0,
              "ticks": ""
             }
            },
            "type": "scattergeo"
           }
          ],
          "scattergl": [
           {
            "marker": {
             "line": {
              "color": "#283442"
             }
            },
            "type": "scattergl"
           }
          ],
          "scattermapbox": [
           {
            "marker": {
             "colorbar": {
              "outlinewidth": 0,
              "ticks": ""
             }
            },
            "type": "scattermapbox"
           }
          ],
          "scatterpolar": [
           {
            "marker": {
             "colorbar": {
              "outlinewidth": 0,
              "ticks": ""
             }
            },
            "type": "scatterpolar"
           }
          ],
          "scatterpolargl": [
           {
            "marker": {
             "colorbar": {
              "outlinewidth": 0,
              "ticks": ""
             }
            },
            "type": "scatterpolargl"
           }
          ],
          "scatterternary": [
           {
            "marker": {
             "colorbar": {
              "outlinewidth": 0,
              "ticks": ""
             }
            },
            "type": "scatterternary"
           }
          ],
          "surface": [
           {
            "colorbar": {
             "outlinewidth": 0,
             "ticks": ""
            },
            "colorscale": [
             [
              0,
              "#0d0887"
             ],
             [
              0.1111111111111111,
              "#46039f"
             ],
             [
              0.2222222222222222,
              "#7201a8"
             ],
             [
              0.3333333333333333,
              "#9c179e"
             ],
             [
              0.4444444444444444,
              "#bd3786"
             ],
             [
              0.5555555555555556,
              "#d8576b"
             ],
             [
              0.6666666666666666,
              "#ed7953"
             ],
             [
              0.7777777777777778,
              "#fb9f3a"
             ],
             [
              0.8888888888888888,
              "#fdca26"
             ],
             [
              1,
              "#f0f921"
             ]
            ],
            "type": "surface"
           }
          ],
          "table": [
           {
            "cells": {
             "fill": {
              "color": "#506784"
             },
             "line": {
              "color": "rgb(17,17,17)"
             }
            },
            "header": {
             "fill": {
              "color": "#2a3f5f"
             },
             "line": {
              "color": "rgb(17,17,17)"
             }
            },
            "type": "table"
           }
          ]
         },
         "layout": {
          "annotationdefaults": {
           "arrowcolor": "#f2f5fa",
           "arrowhead": 0,
           "arrowwidth": 1
          },
          "autotypenumbers": "strict",
          "coloraxis": {
           "colorbar": {
            "outlinewidth": 0,
            "ticks": ""
           }
          },
          "colorscale": {
           "diverging": [
            [
             0,
             "#8e0152"
            ],
            [
             0.1,
             "#c51b7d"
            ],
            [
             0.2,
             "#de77ae"
            ],
            [
             0.3,
             "#f1b6da"
            ],
            [
             0.4,
             "#fde0ef"
            ],
            [
             0.5,
             "#f7f7f7"
            ],
            [
             0.6,
             "#e6f5d0"
            ],
            [
             0.7,
             "#b8e186"
            ],
            [
             0.8,
             "#7fbc41"
            ],
            [
             0.9,
             "#4d9221"
            ],
            [
             1,
             "#276419"
            ]
           ],
           "sequential": [
            [
             0,
             "#0d0887"
            ],
            [
             0.1111111111111111,
             "#46039f"
            ],
            [
             0.2222222222222222,
             "#7201a8"
            ],
            [
             0.3333333333333333,
             "#9c179e"
            ],
            [
             0.4444444444444444,
             "#bd3786"
            ],
            [
             0.5555555555555556,
             "#d8576b"
            ],
            [
             0.6666666666666666,
             "#ed7953"
            ],
            [
             0.7777777777777778,
             "#fb9f3a"
            ],
            [
             0.8888888888888888,
             "#fdca26"
            ],
            [
             1,
             "#f0f921"
            ]
           ],
           "sequentialminus": [
            [
             0,
             "#0d0887"
            ],
            [
             0.1111111111111111,
             "#46039f"
            ],
            [
             0.2222222222222222,
             "#7201a8"
            ],
            [
             0.3333333333333333,
             "#9c179e"
            ],
            [
             0.4444444444444444,
             "#bd3786"
            ],
            [
             0.5555555555555556,
             "#d8576b"
            ],
            [
             0.6666666666666666,
             "#ed7953"
            ],
            [
             0.7777777777777778,
             "#fb9f3a"
            ],
            [
             0.8888888888888888,
             "#fdca26"
            ],
            [
             1,
             "#f0f921"
            ]
           ]
          },
          "colorway": [
           "#636efa",
           "#EF553B",
           "#00cc96",
           "#ab63fa",
           "#FFA15A",
           "#19d3f3",
           "#FF6692",
           "#B6E880",
           "#FF97FF",
           "#FECB52"
          ],
          "font": {
           "color": "#f2f5fa"
          },
          "geo": {
           "bgcolor": "rgb(17,17,17)",
           "lakecolor": "rgb(17,17,17)",
           "landcolor": "rgb(17,17,17)",
           "showlakes": true,
           "showland": true,
           "subunitcolor": "#506784"
          },
          "hoverlabel": {
           "align": "left"
          },
          "hovermode": "closest",
          "mapbox": {
           "style": "dark"
          },
          "paper_bgcolor": "rgb(17,17,17)",
          "plot_bgcolor": "rgb(17,17,17)",
          "polar": {
           "angularaxis": {
            "gridcolor": "#506784",
            "linecolor": "#506784",
            "ticks": ""
           },
           "bgcolor": "rgb(17,17,17)",
           "radialaxis": {
            "gridcolor": "#506784",
            "linecolor": "#506784",
            "ticks": ""
           }
          },
          "scene": {
           "xaxis": {
            "backgroundcolor": "rgb(17,17,17)",
            "gridcolor": "#506784",
            "gridwidth": 2,
            "linecolor": "#506784",
            "showbackground": true,
            "ticks": "",
            "zerolinecolor": "#C8D4E3"
           },
           "yaxis": {
            "backgroundcolor": "rgb(17,17,17)",
            "gridcolor": "#506784",
            "gridwidth": 2,
            "linecolor": "#506784",
            "showbackground": true,
            "ticks": "",
            "zerolinecolor": "#C8D4E3"
           },
           "zaxis": {
            "backgroundcolor": "rgb(17,17,17)",
            "gridcolor": "#506784",
            "gridwidth": 2,
            "linecolor": "#506784",
            "showbackground": true,
            "ticks": "",
            "zerolinecolor": "#C8D4E3"
           }
          },
          "shapedefaults": {
           "line": {
            "color": "#f2f5fa"
           }
          },
          "sliderdefaults": {
           "bgcolor": "#C8D4E3",
           "bordercolor": "rgb(17,17,17)",
           "borderwidth": 1,
           "tickwidth": 0
          },
          "ternary": {
           "aaxis": {
            "gridcolor": "#506784",
            "linecolor": "#506784",
            "ticks": ""
           },
           "baxis": {
            "gridcolor": "#506784",
            "linecolor": "#506784",
            "ticks": ""
           },
           "bgcolor": "rgb(17,17,17)",
           "caxis": {
            "gridcolor": "#506784",
            "linecolor": "#506784",
            "ticks": ""
           }
          },
          "title": {
           "x": 0.05
          },
          "updatemenudefaults": {
           "bgcolor": "#506784",
           "borderwidth": 0
          },
          "xaxis": {
           "automargin": true,
           "gridcolor": "#283442",
           "linecolor": "#506784",
           "ticks": "",
           "title": {
            "standoff": 15
           },
           "zerolinecolor": "#283442",
           "zerolinewidth": 2
          },
          "yaxis": {
           "automargin": true,
           "gridcolor": "#283442",
           "linecolor": "#506784",
           "ticks": "",
           "title": {
            "standoff": 15
           },
           "zerolinecolor": "#283442",
           "zerolinewidth": 2
          }
         }
        },
        "title": {
         "text": "Long Put Payoff Diagram - SPY"
        },
        "xaxis": {
         "title": {
          "text": "Stock Price at Expiration"
         },
         "type": "linear"
        },
        "yaxis": {
         "title": {
          "text": "Profit/Loss"
         },
         "type": "linear"
        }
       }
      },
      "text/html": [
       "<div>                            <div id=\"47e0de4c-33ec-4548-973f-60925e617e54\" class=\"plotly-graph-div\" style=\"height:525px; width:100%;\"></div>            <script type=\"text/javascript\">                require([\"plotly\"], function(Plotly) {                    window.PLOTLYENV=window.PLOTLYENV || {};                                    if (document.getElementById(\"47e0de4c-33ec-4548-973f-60925e617e54\")) {                    Plotly.newPlot(                        \"47e0de4c-33ec-4548-973f-60925e617e54\",                        [{\"line\":{\"color\":\"green\",\"width\":3},\"mode\":\"lines\",\"name\":\"Payoff\",\"x\":[365.9599999999999,369.1284848484848,372.2969696969696,375.46545454545446,378.63393939393933,381.8024242424242,384.970909090909,388.13939393939387,391.30787878787874,394.47636363636354,397.6448484848484,400.8133333333333,403.9818181818181,407.15030303030295,410.3187878787878,413.4872727272727,416.6557575757575,419.82424242424236,422.9927272727272,426.1612121212121,429.3296969696969,432.49818181818176,435.66666666666663,438.83515151515144,442.0036363636363,445.17212121212117,448.340606060606,451.50909090909084,454.6775757575757,457.8460606060605,461.0145454545454,464.18303030303025,467.3515151515151,470.52,473.6884848484848,476.85696969696966,480.0254545454545,483.19393939393933,486.3624242424242,489.53090909090906,492.6993939393939,495.86787878787874,499.0363636363636,502.2048484848484,505.37333333333333,508.54181818181814,511.71030303030295,514.8787878787879,518.0472727272727,521.2157575757576,524.3842424242424,527.5527272727272,530.7212121212121,533.889696969697,537.0581818181818,540.2266666666667,543.3951515151515,546.5636363636363,549.7321212121212,552.900606060606,556.0690909090908,559.2375757575758,562.4060606060606,565.5745454545454,568.7430303030303,571.9115151515151,575.0799999999999,578.2484848484848,581.4169696969697,584.5854545454545,587.7539393939394,590.9224242424242,594.090909090909,597.2593939393939,600.4278787878787,603.5963636363637,606.7648484848485,609.9333333333333,613.1018181818182,616.270303030303,619.4387878787879,622.6072727272727,625.7757575757576,628.9442424242425,632.1127272727273,635.2812121212121,638.449696969697,641.6181818181818,644.7866666666666,647.9551515151516,651.1236363636364,654.2921212121212,657.4606060606061,660.6290909090909,663.7975757575757,666.9660606060606,670.1345454545454,673.3030303030303,676.4715151515152,679.64],\"y\":[131.51500000000007,128.3465151515152,125.1780303030304,122.00954545454553,118.84106060606067,115.6725757575758,112.50409090909099,109.33560606060612,106.16712121212126,102.99863636363645,99.83015151515158,96.66166666666672,93.49318181818191,90.32469696969704,87.15621212121218,83.98772727272731,80.8192424242425,77.65075757575764,74.48227272727277,71.3137878787879,68.1453030303031,64.97681818181823,61.80833333333337,58.639848484848564,55.4713636363637,52.30287878787883,49.13439393939402,45.96590909090916,42.79742424242429,39.62893939393948,36.46045454545462,33.29196969696975,30.123484848484885,26.95500000000002,23.78651515151521,20.618030303030345,17.44954545454548,14.28106060606067,11.112575757575804,7.944090909090939,4.77560606060613,1.607121212121264,-1.5613636363636019,-4.729848484848411,-7.898333333333333,-11.066818181818142,-12.524999999999999,-12.524999999999999,-12.524999999999999,-12.524999999999999,-12.524999999999999,-12.524999999999999,-12.524999999999999,-12.524999999999999,-12.524999999999999,-12.524999999999999,-12.524999999999999,-12.524999999999999,-12.524999999999999,-12.524999999999999,-12.524999999999999,-12.524999999999999,-12.524999999999999,-12.524999999999999,-12.524999999999999,-12.524999999999999,-12.524999999999999,-12.524999999999999,-12.524999999999999,-12.524999999999999,-12.524999999999999,-12.524999999999999,-12.524999999999999,-12.524999999999999,-12.524999999999999,-12.524999999999999,-12.524999999999999,-12.524999999999999,-12.524999999999999,-12.524999999999999,-12.524999999999999,-12.524999999999999,-12.524999999999999,-12.524999999999999,-12.524999999999999,-12.524999999999999,-12.524999999999999,-12.524999999999999,-12.524999999999999,-12.524999999999999,-12.524999999999999,-12.524999999999999,-12.524999999999999,-12.524999999999999,-12.524999999999999,-12.524999999999999,-12.524999999999999,-12.524999999999999,-12.524999999999999,-12.524999999999999],\"type\":\"scatter\"},{\"marker\":{\"color\":\"yellow\",\"size\":10,\"symbol\":\"x\"},\"mode\":\"markers\",\"name\":\"Break-even: $497.48\",\"x\":[497.475],\"y\":[0],\"type\":\"scatter\"},{\"marker\":{\"color\":\"white\",\"size\":12,\"symbol\":\"circle\"},\"mode\":\"markers\",\"name\":\"Current: $522.80\",\"x\":[522.8],\"y\":[-12.524999999999999],\"type\":\"scatter\"},{\"line\":{\"color\":\"gray\",\"dash\":\"dash\",\"width\":1},\"mode\":\"lines\",\"showlegend\":false,\"x\":[365.9599999999999,679.64],\"y\":[0,0],\"type\":\"scatter\"}],                        {\"template\":{\"data\":{\"barpolar\":[{\"marker\":{\"line\":{\"color\":\"rgb(17,17,17)\",\"width\":0.5},\"pattern\":{\"fillmode\":\"overlay\",\"size\":10,\"solidity\":0.2}},\"type\":\"barpolar\"}],\"bar\":[{\"error_x\":{\"color\":\"#f2f5fa\"},\"error_y\":{\"color\":\"#f2f5fa\"},\"marker\":{\"line\":{\"color\":\"rgb(17,17,17)\",\"width\":0.5},\"pattern\":{\"fillmode\":\"overlay\",\"size\":10,\"solidity\":0.2}},\"type\":\"bar\"}],\"carpet\":[{\"aaxis\":{\"endlinecolor\":\"#A2B1C6\",\"gridcolor\":\"#506784\",\"linecolor\":\"#506784\",\"minorgridcolor\":\"#506784\",\"startlinecolor\":\"#A2B1C6\"},\"baxis\":{\"endlinecolor\":\"#A2B1C6\",\"gridcolor\":\"#506784\",\"linecolor\":\"#506784\",\"minorgridcolor\":\"#506784\",\"startlinecolor\":\"#A2B1C6\"},\"type\":\"carpet\"}],\"choropleth\":[{\"colorbar\":{\"outlinewidth\":0,\"ticks\":\"\"},\"type\":\"choropleth\"}],\"contourcarpet\":[{\"colorbar\":{\"outlinewidth\":0,\"ticks\":\"\"},\"type\":\"contourcarpet\"}],\"contour\":[{\"colorbar\":{\"outlinewidth\":0,\"ticks\":\"\"},\"colorscale\":[[0.0,\"#0d0887\"],[0.1111111111111111,\"#46039f\"],[0.2222222222222222,\"#7201a8\"],[0.3333333333333333,\"#9c179e\"],[0.4444444444444444,\"#bd3786\"],[0.5555555555555556,\"#d8576b\"],[0.6666666666666666,\"#ed7953\"],[0.7777777777777778,\"#fb9f3a\"],[0.8888888888888888,\"#fdca26\"],[1.0,\"#f0f921\"]],\"type\":\"contour\"}],\"heatmapgl\":[{\"colorbar\":{\"outlinewidth\":0,\"ticks\":\"\"},\"colorscale\":[[0.0,\"#0d0887\"],[0.1111111111111111,\"#46039f\"],[0.2222222222222222,\"#7201a8\"],[0.3333333333333333,\"#9c179e\"],[0.4444444444444444,\"#bd3786\"],[0.5555555555555556,\"#d8576b\"],[0.6666666666666666,\"#ed7953\"],[0.7777777777777778,\"#fb9f3a\"],[0.8888888888888888,\"#fdca26\"],[1.0,\"#f0f921\"]],\"type\":\"heatmapgl\"}],\"heatmap\":[{\"colorbar\":{\"outlinewidth\":0,\"ticks\":\"\"},\"colorscale\":[[0.0,\"#0d0887\"],[0.1111111111111111,\"#46039f\"],[0.2222222222222222,\"#7201a8\"],[0.3333333333333333,\"#9c179e\"],[0.4444444444444444,\"#bd3786\"],[0.5555555555555556,\"#d8576b\"],[0.6666666666666666,\"#ed7953\"],[0.7777777777777778,\"#fb9f3a\"],[0.8888888888888888,\"#fdca26\"],[1.0,\"#f0f921\"]],\"type\":\"heatmap\"}],\"histogram2dcontour\":[{\"colorbar\":{\"outlinewidth\":0,\"ticks\":\"\"},\"colorscale\":[[0.0,\"#0d0887\"],[0.1111111111111111,\"#46039f\"],[0.2222222222222222,\"#7201a8\"],[0.3333333333333333,\"#9c179e\"],[0.4444444444444444,\"#bd3786\"],[0.5555555555555556,\"#d8576b\"],[0.6666666666666666,\"#ed7953\"],[0.7777777777777778,\"#fb9f3a\"],[0.8888888888888888,\"#fdca26\"],[1.0,\"#f0f921\"]],\"type\":\"histogram2dcontour\"}],\"histogram2d\":[{\"colorbar\":{\"outlinewidth\":0,\"ticks\":\"\"},\"colorscale\":[[0.0,\"#0d0887\"],[0.1111111111111111,\"#46039f\"],[0.2222222222222222,\"#7201a8\"],[0.3333333333333333,\"#9c179e\"],[0.4444444444444444,\"#bd3786\"],[0.5555555555555556,\"#d8576b\"],[0.6666666666666666,\"#ed7953\"],[0.7777777777777778,\"#fb9f3a\"],[0.8888888888888888,\"#fdca26\"],[1.0,\"#f0f921\"]],\"type\":\"histogram2d\"}],\"histogram\":[{\"marker\":{\"pattern\":{\"fillmode\":\"overlay\",\"size\":10,\"solidity\":0.2}},\"type\":\"histogram\"}],\"mesh3d\":[{\"colorbar\":{\"outlinewidth\":0,\"ticks\":\"\"},\"type\":\"mesh3d\"}],\"parcoords\":[{\"line\":{\"colorbar\":{\"outlinewidth\":0,\"ticks\":\"\"}},\"type\":\"parcoords\"}],\"pie\":[{\"automargin\":true,\"type\":\"pie\"}],\"scatter3d\":[{\"line\":{\"colorbar\":{\"outlinewidth\":0,\"ticks\":\"\"}},\"marker\":{\"colorbar\":{\"outlinewidth\":0,\"ticks\":\"\"}},\"type\":\"scatter3d\"}],\"scattercarpet\":[{\"marker\":{\"colorbar\":{\"outlinewidth\":0,\"ticks\":\"\"}},\"type\":\"scattercarpet\"}],\"scattergeo\":[{\"marker\":{\"colorbar\":{\"outlinewidth\":0,\"ticks\":\"\"}},\"type\":\"scattergeo\"}],\"scattergl\":[{\"marker\":{\"line\":{\"color\":\"#283442\"}},\"type\":\"scattergl\"}],\"scattermapbox\":[{\"marker\":{\"colorbar\":{\"outlinewidth\":0,\"ticks\":\"\"}},\"type\":\"scattermapbox\"}],\"scatterpolargl\":[{\"marker\":{\"colorbar\":{\"outlinewidth\":0,\"ticks\":\"\"}},\"type\":\"scatterpolargl\"}],\"scatterpolar\":[{\"marker\":{\"colorbar\":{\"outlinewidth\":0,\"ticks\":\"\"}},\"type\":\"scatterpolar\"}],\"scatter\":[{\"marker\":{\"line\":{\"color\":\"#283442\"}},\"type\":\"scatter\"}],\"scatterternary\":[{\"marker\":{\"colorbar\":{\"outlinewidth\":0,\"ticks\":\"\"}},\"type\":\"scatterternary\"}],\"surface\":[{\"colorbar\":{\"outlinewidth\":0,\"ticks\":\"\"},\"colorscale\":[[0.0,\"#0d0887\"],[0.1111111111111111,\"#46039f\"],[0.2222222222222222,\"#7201a8\"],[0.3333333333333333,\"#9c179e\"],[0.4444444444444444,\"#bd3786\"],[0.5555555555555556,\"#d8576b\"],[0.6666666666666666,\"#ed7953\"],[0.7777777777777778,\"#fb9f3a\"],[0.8888888888888888,\"#fdca26\"],[1.0,\"#f0f921\"]],\"type\":\"surface\"}],\"table\":[{\"cells\":{\"fill\":{\"color\":\"#506784\"},\"line\":{\"color\":\"rgb(17,17,17)\"}},\"header\":{\"fill\":{\"color\":\"#2a3f5f\"},\"line\":{\"color\":\"rgb(17,17,17)\"}},\"type\":\"table\"}]},\"layout\":{\"annotationdefaults\":{\"arrowcolor\":\"#f2f5fa\",\"arrowhead\":0,\"arrowwidth\":1},\"autotypenumbers\":\"strict\",\"coloraxis\":{\"colorbar\":{\"outlinewidth\":0,\"ticks\":\"\"}},\"colorscale\":{\"diverging\":[[0,\"#8e0152\"],[0.1,\"#c51b7d\"],[0.2,\"#de77ae\"],[0.3,\"#f1b6da\"],[0.4,\"#fde0ef\"],[0.5,\"#f7f7f7\"],[0.6,\"#e6f5d0\"],[0.7,\"#b8e186\"],[0.8,\"#7fbc41\"],[0.9,\"#4d9221\"],[1,\"#276419\"]],\"sequential\":[[0.0,\"#0d0887\"],[0.1111111111111111,\"#46039f\"],[0.2222222222222222,\"#7201a8\"],[0.3333333333333333,\"#9c179e\"],[0.4444444444444444,\"#bd3786\"],[0.5555555555555556,\"#d8576b\"],[0.6666666666666666,\"#ed7953\"],[0.7777777777777778,\"#fb9f3a\"],[0.8888888888888888,\"#fdca26\"],[1.0,\"#f0f921\"]],\"sequentialminus\":[[0.0,\"#0d0887\"],[0.1111111111111111,\"#46039f\"],[0.2222222222222222,\"#7201a8\"],[0.3333333333333333,\"#9c179e\"],[0.4444444444444444,\"#bd3786\"],[0.5555555555555556,\"#d8576b\"],[0.6666666666666666,\"#ed7953\"],[0.7777777777777778,\"#fb9f3a\"],[0.8888888888888888,\"#fdca26\"],[1.0,\"#f0f921\"]]},\"colorway\":[\"#636efa\",\"#EF553B\",\"#00cc96\",\"#ab63fa\",\"#FFA15A\",\"#19d3f3\",\"#FF6692\",\"#B6E880\",\"#FF97FF\",\"#FECB52\"],\"font\":{\"color\":\"#f2f5fa\"},\"geo\":{\"bgcolor\":\"rgb(17,17,17)\",\"lakecolor\":\"rgb(17,17,17)\",\"landcolor\":\"rgb(17,17,17)\",\"showlakes\":true,\"showland\":true,\"subunitcolor\":\"#506784\"},\"hoverlabel\":{\"align\":\"left\"},\"hovermode\":\"closest\",\"mapbox\":{\"style\":\"dark\"},\"paper_bgcolor\":\"rgb(17,17,17)\",\"plot_bgcolor\":\"rgb(17,17,17)\",\"polar\":{\"angularaxis\":{\"gridcolor\":\"#506784\",\"linecolor\":\"#506784\",\"ticks\":\"\"},\"bgcolor\":\"rgb(17,17,17)\",\"radialaxis\":{\"gridcolor\":\"#506784\",\"linecolor\":\"#506784\",\"ticks\":\"\"}},\"scene\":{\"xaxis\":{\"backgroundcolor\":\"rgb(17,17,17)\",\"gridcolor\":\"#506784\",\"gridwidth\":2,\"linecolor\":\"#506784\",\"showbackground\":true,\"ticks\":\"\",\"zerolinecolor\":\"#C8D4E3\"},\"yaxis\":{\"backgroundcolor\":\"rgb(17,17,17)\",\"gridcolor\":\"#506784\",\"gridwidth\":2,\"linecolor\":\"#506784\",\"showbackground\":true,\"ticks\":\"\",\"zerolinecolor\":\"#C8D4E3\"},\"zaxis\":{\"backgroundcolor\":\"rgb(17,17,17)\",\"gridcolor\":\"#506784\",\"gridwidth\":2,\"linecolor\":\"#506784\",\"showbackground\":true,\"ticks\":\"\",\"zerolinecolor\":\"#C8D4E3\"}},\"shapedefaults\":{\"line\":{\"color\":\"#f2f5fa\"}},\"sliderdefaults\":{\"bgcolor\":\"#C8D4E3\",\"bordercolor\":\"rgb(17,17,17)\",\"borderwidth\":1,\"tickwidth\":0},\"ternary\":{\"aaxis\":{\"gridcolor\":\"#506784\",\"linecolor\":\"#506784\",\"ticks\":\"\"},\"baxis\":{\"gridcolor\":\"#506784\",\"linecolor\":\"#506784\",\"ticks\":\"\"},\"bgcolor\":\"rgb(17,17,17)\",\"caxis\":{\"gridcolor\":\"#506784\",\"linecolor\":\"#506784\",\"ticks\":\"\"}},\"title\":{\"x\":0.05},\"updatemenudefaults\":{\"bgcolor\":\"#506784\",\"borderwidth\":0},\"xaxis\":{\"automargin\":true,\"gridcolor\":\"#283442\",\"linecolor\":\"#506784\",\"ticks\":\"\",\"title\":{\"standoff\":15},\"zerolinecolor\":\"#283442\",\"zerolinewidth\":2},\"yaxis\":{\"automargin\":true,\"gridcolor\":\"#283442\",\"linecolor\":\"#506784\",\"ticks\":\"\",\"title\":{\"standoff\":15},\"zerolinecolor\":\"#283442\",\"zerolinewidth\":2}}},\"legend\":{\"yanchor\":\"top\",\"y\":0.99,\"xanchor\":\"left\",\"x\":0.01},\"title\":{\"text\":\"Long Put Payoff Diagram - SPY\"},\"xaxis\":{\"title\":{\"text\":\"Stock Price at Expiration\"}},\"yaxis\":{\"title\":{\"text\":\"Profit\\u002fLoss\"}},\"hovermode\":\"x\",\"annotations\":[{\"arrowcolor\":\"green\",\"arrowhead\":2,\"arrowsize\":1,\"arrowwidth\":2,\"bgcolor\":\"rgba(50, 50, 50, 0.8)\",\"bordercolor\":\"green\",\"borderpad\":4,\"borderwidth\":2,\"font\":{\"color\":\"white\"},\"showarrow\":true,\"text\":\"Max Profit: $131.52\",\"x\":365.9599999999999,\"y\":131.51500000000007},{\"arrowcolor\":\"red\",\"arrowhead\":2,\"arrowsize\":1,\"arrowwidth\":2,\"bgcolor\":\"rgba(50, 50, 50, 0.8)\",\"bordercolor\":\"red\",\"borderpad\":4,\"borderwidth\":2,\"font\":{\"color\":\"white\"},\"showarrow\":true,\"text\":\"Max Loss: $-12.52\",\"x\":511.71030303030295,\"y\":-12.524999999999999},{\"align\":\"left\",\"bgcolor\":\"rgba(50, 50, 50, 0.8)\",\"bordercolor\":\"white\",\"borderpad\":4,\"borderwidth\":1,\"font\":{\"color\":\"white\"},\"showarrow\":false,\"text\":\"put: Strike $510.00, Premium $12.52\\n\",\"x\":0.02,\"xref\":\"paper\",\"y\":0.02,\"yref\":\"paper\"}]},                        {\"responsive\": true}                    ).then(function(){\n",
       "                            \n",
       "var gd = document.getElementById('47e0de4c-33ec-4548-973f-60925e617e54');\n",
       "var x = new MutationObserver(function (mutations, observer) {{\n",
       "        var display = window.getComputedStyle(gd).display;\n",
       "        if (!display || display === 'none') {{\n",
       "            console.log([gd, 'removed!']);\n",
       "            Plotly.purge(gd);\n",
       "            observer.disconnect();\n",
       "        }}\n",
       "}});\n",
       "\n",
       "// Listen for the removal of the full notebook cells\n",
       "var notebookContainer = gd.closest('#notebook-container');\n",
       "if (notebookContainer) {{\n",
       "    x.observe(notebookContainer, {childList: true});\n",
       "}}\n",
       "\n",
       "// Listen for the clearing of the current output cell\n",
       "var outputEl = gd.closest('.output');\n",
       "if (outputEl) {{\n",
       "    x.observe(outputEl, {childList: true});\n",
       "}}\n",
       "\n",
       "                        })                };                });            </script>        </div>"
      ]
     },
     "metadata": {},
     "output_type": "display_data"
    },
    {
     "name": "stdout",
     "output_type": "stream",
     "text": [
      "Displaying strategy_payoff_2...\n"
     ]
    },
    {
     "data": {
      "application/vnd.plotly.v1+json": {
       "config": {
        "plotlyServerURL": "https://plot.ly"
       },
       "data": [
        {
         "line": {
          "color": "green",
          "width": 3
         },
         "mode": "lines",
         "name": "Payoff",
         "type": "scatter",
         "x": [
          365.9599999999999,
          369.1284848484848,
          372.2969696969696,
          375.46545454545446,
          378.63393939393933,
          381.8024242424242,
          384.970909090909,
          388.13939393939387,
          391.30787878787874,
          394.47636363636354,
          397.6448484848484,
          400.8133333333333,
          403.9818181818181,
          407.15030303030295,
          410.3187878787878,
          413.4872727272727,
          416.6557575757575,
          419.82424242424236,
          422.9927272727272,
          426.1612121212121,
          429.3296969696969,
          432.49818181818176,
          435.66666666666663,
          438.83515151515144,
          442.0036363636363,
          445.17212121212117,
          448.340606060606,
          451.50909090909084,
          454.6775757575757,
          457.8460606060605,
          461.0145454545454,
          464.18303030303025,
          467.3515151515151,
          470.52,
          473.6884848484848,
          476.85696969696966,
          480.0254545454545,
          483.19393939393933,
          486.3624242424242,
          489.53090909090906,
          492.6993939393939,
          495.86787878787874,
          499.0363636363636,
          502.2048484848484,
          505.37333333333333,
          508.54181818181814,
          511.71030303030295,
          514.8787878787879,
          518.0472727272727,
          521.2157575757576,
          524.3842424242424,
          527.5527272727272,
          530.7212121212121,
          533.889696969697,
          537.0581818181818,
          540.2266666666667,
          543.3951515151515,
          546.5636363636363,
          549.7321212121212,
          552.900606060606,
          556.0690909090908,
          559.2375757575758,
          562.4060606060606,
          565.5745454545454,
          568.7430303030303,
          571.9115151515151,
          575.0799999999999,
          578.2484848484848,
          581.4169696969697,
          584.5854545454545,
          587.7539393939394,
          590.9224242424242,
          594.090909090909,
          597.2593939393939,
          600.4278787878787,
          603.5963636363637,
          606.7648484848485,
          609.9333333333333,
          613.1018181818182,
          616.270303030303,
          619.4387878787879,
          622.6072727272727,
          625.7757575757576,
          628.9442424242425,
          632.1127272727273,
          635.2812121212121,
          638.449696969697,
          641.6181818181818,
          644.7866666666666,
          647.9551515151516,
          651.1236363636364,
          654.2921212121212,
          657.4606060606061,
          660.6290909090909,
          663.7975757575757,
          666.9660606060606,
          670.1345454545454,
          673.3030303030303,
          676.4715151515152,
          679.64
         ],
         "y": [
          32.375,
          32.375,
          32.375,
          32.375,
          32.375,
          32.375,
          32.375,
          32.375,
          32.375,
          32.375,
          32.375,
          32.375,
          32.375,
          32.375,
          32.375,
          32.375,
          32.375,
          32.375,
          32.375,
          32.375,
          32.375,
          32.375,
          32.375,
          32.375,
          32.375,
          32.375,
          32.375,
          32.375,
          32.375,
          32.375,
          32.375,
          32.375,
          32.375,
          31.855000000000018,
          28.68651515151521,
          25.518030303030343,
          22.349545454545478,
          19.18106060606067,
          16.012575757575803,
          12.844090909090939,
          9.67560606060613,
          6.507121212121264,
          3.3386363636363985,
          0.17015151515158955,
          -2.998333333333333,
          -6.166818181818142,
          -7.624999999999998,
          -7.624999999999998,
          -7.624999999999998,
          -7.624999999999998,
          -7.624999999999998,
          -7.624999999999998,
          -7.624999999999998,
          -7.624999999999998,
          -7.624999999999998,
          -7.624999999999998,
          -7.624999999999998,
          -7.624999999999998,
          -7.624999999999998,
          -7.624999999999998,
          -7.624999999999998,
          -7.624999999999998,
          -7.624999999999998,
          -7.624999999999998,
          -7.624999999999998,
          -7.624999999999998,
          -7.624999999999998,
          -7.624999999999998,
          -7.624999999999998,
          -7.624999999999998,
          -7.624999999999998,
          -7.624999999999998,
          -7.624999999999998,
          -7.624999999999998,
          -7.624999999999998,
          -7.624999999999998,
          -7.624999999999998,
          -7.624999999999998,
          -7.624999999999998,
          -7.624999999999998,
          -7.624999999999998,
          -7.624999999999998,
          -7.624999999999998,
          -7.624999999999998,
          -7.624999999999998,
          -7.624999999999998,
          -7.624999999999998,
          -7.624999999999998,
          -7.624999999999998,
          -7.624999999999998,
          -7.624999999999998,
          -7.624999999999998,
          -7.624999999999998,
          -7.624999999999998,
          -7.624999999999998,
          -7.624999999999998,
          -7.624999999999998,
          -7.624999999999998,
          -7.624999999999998,
          -7.624999999999998
         ]
        },
        {
         "marker": {
          "color": "yellow",
          "size": 10,
          "symbol": "x"
         },
         "mode": "markers",
         "name": "Break-even: $502.38",
         "type": "scatter",
         "x": [
          502.375
         ],
         "y": [
          0
         ]
        },
        {
         "marker": {
          "color": "white",
          "size": 12,
          "symbol": "circle"
         },
         "mode": "markers",
         "name": "Current: $522.80",
         "type": "scatter",
         "x": [
          522.8
         ],
         "y": [
          -7.624999999999998
         ]
        },
        {
         "line": {
          "color": "gray",
          "dash": "dash",
          "width": 1
         },
         "mode": "lines",
         "showlegend": false,
         "type": "scatter",
         "x": [
          365.9599999999999,
          679.64
         ],
         "y": [
          0,
          0
         ]
        }
       ],
       "layout": {
        "annotations": [
         {
          "arrowcolor": "green",
          "arrowhead": 2,
          "arrowsize": 1,
          "arrowwidth": 2,
          "bgcolor": "rgba(50, 50, 50, 0.8)",
          "bordercolor": "green",
          "borderpad": 4,
          "borderwidth": 2,
          "font": {
           "color": "white"
          },
          "showarrow": true,
          "text": "Max Profit: $32.38",
          "x": 365.9599999999999,
          "y": 32.375
         },
         {
          "arrowcolor": "red",
          "arrowhead": 2,
          "arrowsize": 1,
          "arrowwidth": 2,
          "bgcolor": "rgba(50, 50, 50, 0.8)",
          "bordercolor": "red",
          "borderpad": 4,
          "borderwidth": 2,
          "font": {
           "color": "white"
          },
          "showarrow": true,
          "text": "Max Loss: $-7.62",
          "x": 511.71030303030295,
          "y": -7.624999999999998
         },
         {
          "align": "left",
          "bgcolor": "rgba(50, 50, 50, 0.8)",
          "bordercolor": "white",
          "borderpad": 4,
          "borderwidth": 1,
          "font": {
           "color": "white"
          },
          "showarrow": false,
          "text": "long_put: Strike $510.00, Premium $12.52\nshort_put: Strike $470.00, Premium $4.90\n",
          "x": 0.02,
          "xref": "paper",
          "y": 0.02,
          "yref": "paper"
         }
        ],
        "height": 360,
        "hovermode": "x",
        "legend": {
         "x": 0.01,
         "xanchor": "left",
         "y": 0.99,
         "yanchor": "top"
        },
        "template": {
         "data": {
          "bar": [
           {
            "error_x": {
             "color": "#f2f5fa"
            },
            "error_y": {
             "color": "#f2f5fa"
            },
            "marker": {
             "line": {
              "color": "rgb(17,17,17)",
              "width": 0.5
             },
             "pattern": {
              "fillmode": "overlay",
              "size": 10,
              "solidity": 0.2
             }
            },
            "type": "bar"
           }
          ],
          "barpolar": [
           {
            "marker": {
             "line": {
              "color": "rgb(17,17,17)",
              "width": 0.5
             },
             "pattern": {
              "fillmode": "overlay",
              "size": 10,
              "solidity": 0.2
             }
            },
            "type": "barpolar"
           }
          ],
          "carpet": [
           {
            "aaxis": {
             "endlinecolor": "#A2B1C6",
             "gridcolor": "#506784",
             "linecolor": "#506784",
             "minorgridcolor": "#506784",
             "startlinecolor": "#A2B1C6"
            },
            "baxis": {
             "endlinecolor": "#A2B1C6",
             "gridcolor": "#506784",
             "linecolor": "#506784",
             "minorgridcolor": "#506784",
             "startlinecolor": "#A2B1C6"
            },
            "type": "carpet"
           }
          ],
          "choropleth": [
           {
            "colorbar": {
             "outlinewidth": 0,
             "ticks": ""
            },
            "type": "choropleth"
           }
          ],
          "contour": [
           {
            "colorbar": {
             "outlinewidth": 0,
             "ticks": ""
            },
            "colorscale": [
             [
              0,
              "#0d0887"
             ],
             [
              0.1111111111111111,
              "#46039f"
             ],
             [
              0.2222222222222222,
              "#7201a8"
             ],
             [
              0.3333333333333333,
              "#9c179e"
             ],
             [
              0.4444444444444444,
              "#bd3786"
             ],
             [
              0.5555555555555556,
              "#d8576b"
             ],
             [
              0.6666666666666666,
              "#ed7953"
             ],
             [
              0.7777777777777778,
              "#fb9f3a"
             ],
             [
              0.8888888888888888,
              "#fdca26"
             ],
             [
              1,
              "#f0f921"
             ]
            ],
            "type": "contour"
           }
          ],
          "contourcarpet": [
           {
            "colorbar": {
             "outlinewidth": 0,
             "ticks": ""
            },
            "type": "contourcarpet"
           }
          ],
          "heatmap": [
           {
            "colorbar": {
             "outlinewidth": 0,
             "ticks": ""
            },
            "colorscale": [
             [
              0,
              "#0d0887"
             ],
             [
              0.1111111111111111,
              "#46039f"
             ],
             [
              0.2222222222222222,
              "#7201a8"
             ],
             [
              0.3333333333333333,
              "#9c179e"
             ],
             [
              0.4444444444444444,
              "#bd3786"
             ],
             [
              0.5555555555555556,
              "#d8576b"
             ],
             [
              0.6666666666666666,
              "#ed7953"
             ],
             [
              0.7777777777777778,
              "#fb9f3a"
             ],
             [
              0.8888888888888888,
              "#fdca26"
             ],
             [
              1,
              "#f0f921"
             ]
            ],
            "type": "heatmap"
           }
          ],
          "heatmapgl": [
           {
            "colorbar": {
             "outlinewidth": 0,
             "ticks": ""
            },
            "colorscale": [
             [
              0,
              "#0d0887"
             ],
             [
              0.1111111111111111,
              "#46039f"
             ],
             [
              0.2222222222222222,
              "#7201a8"
             ],
             [
              0.3333333333333333,
              "#9c179e"
             ],
             [
              0.4444444444444444,
              "#bd3786"
             ],
             [
              0.5555555555555556,
              "#d8576b"
             ],
             [
              0.6666666666666666,
              "#ed7953"
             ],
             [
              0.7777777777777778,
              "#fb9f3a"
             ],
             [
              0.8888888888888888,
              "#fdca26"
             ],
             [
              1,
              "#f0f921"
             ]
            ],
            "type": "heatmapgl"
           }
          ],
          "histogram": [
           {
            "marker": {
             "pattern": {
              "fillmode": "overlay",
              "size": 10,
              "solidity": 0.2
             }
            },
            "type": "histogram"
           }
          ],
          "histogram2d": [
           {
            "colorbar": {
             "outlinewidth": 0,
             "ticks": ""
            },
            "colorscale": [
             [
              0,
              "#0d0887"
             ],
             [
              0.1111111111111111,
              "#46039f"
             ],
             [
              0.2222222222222222,
              "#7201a8"
             ],
             [
              0.3333333333333333,
              "#9c179e"
             ],
             [
              0.4444444444444444,
              "#bd3786"
             ],
             [
              0.5555555555555556,
              "#d8576b"
             ],
             [
              0.6666666666666666,
              "#ed7953"
             ],
             [
              0.7777777777777778,
              "#fb9f3a"
             ],
             [
              0.8888888888888888,
              "#fdca26"
             ],
             [
              1,
              "#f0f921"
             ]
            ],
            "type": "histogram2d"
           }
          ],
          "histogram2dcontour": [
           {
            "colorbar": {
             "outlinewidth": 0,
             "ticks": ""
            },
            "colorscale": [
             [
              0,
              "#0d0887"
             ],
             [
              0.1111111111111111,
              "#46039f"
             ],
             [
              0.2222222222222222,
              "#7201a8"
             ],
             [
              0.3333333333333333,
              "#9c179e"
             ],
             [
              0.4444444444444444,
              "#bd3786"
             ],
             [
              0.5555555555555556,
              "#d8576b"
             ],
             [
              0.6666666666666666,
              "#ed7953"
             ],
             [
              0.7777777777777778,
              "#fb9f3a"
             ],
             [
              0.8888888888888888,
              "#fdca26"
             ],
             [
              1,
              "#f0f921"
             ]
            ],
            "type": "histogram2dcontour"
           }
          ],
          "mesh3d": [
           {
            "colorbar": {
             "outlinewidth": 0,
             "ticks": ""
            },
            "type": "mesh3d"
           }
          ],
          "parcoords": [
           {
            "line": {
             "colorbar": {
              "outlinewidth": 0,
              "ticks": ""
             }
            },
            "type": "parcoords"
           }
          ],
          "pie": [
           {
            "automargin": true,
            "type": "pie"
           }
          ],
          "scatter": [
           {
            "marker": {
             "line": {
              "color": "#283442"
             }
            },
            "type": "scatter"
           }
          ],
          "scatter3d": [
           {
            "line": {
             "colorbar": {
              "outlinewidth": 0,
              "ticks": ""
             }
            },
            "marker": {
             "colorbar": {
              "outlinewidth": 0,
              "ticks": ""
             }
            },
            "type": "scatter3d"
           }
          ],
          "scattercarpet": [
           {
            "marker": {
             "colorbar": {
              "outlinewidth": 0,
              "ticks": ""
             }
            },
            "type": "scattercarpet"
           }
          ],
          "scattergeo": [
           {
            "marker": {
             "colorbar": {
              "outlinewidth": 0,
              "ticks": ""
             }
            },
            "type": "scattergeo"
           }
          ],
          "scattergl": [
           {
            "marker": {
             "line": {
              "color": "#283442"
             }
            },
            "type": "scattergl"
           }
          ],
          "scattermapbox": [
           {
            "marker": {
             "colorbar": {
              "outlinewidth": 0,
              "ticks": ""
             }
            },
            "type": "scattermapbox"
           }
          ],
          "scatterpolar": [
           {
            "marker": {
             "colorbar": {
              "outlinewidth": 0,
              "ticks": ""
             }
            },
            "type": "scatterpolar"
           }
          ],
          "scatterpolargl": [
           {
            "marker": {
             "colorbar": {
              "outlinewidth": 0,
              "ticks": ""
             }
            },
            "type": "scatterpolargl"
           }
          ],
          "scatterternary": [
           {
            "marker": {
             "colorbar": {
              "outlinewidth": 0,
              "ticks": ""
             }
            },
            "type": "scatterternary"
           }
          ],
          "surface": [
           {
            "colorbar": {
             "outlinewidth": 0,
             "ticks": ""
            },
            "colorscale": [
             [
              0,
              "#0d0887"
             ],
             [
              0.1111111111111111,
              "#46039f"
             ],
             [
              0.2222222222222222,
              "#7201a8"
             ],
             [
              0.3333333333333333,
              "#9c179e"
             ],
             [
              0.4444444444444444,
              "#bd3786"
             ],
             [
              0.5555555555555556,
              "#d8576b"
             ],
             [
              0.6666666666666666,
              "#ed7953"
             ],
             [
              0.7777777777777778,
              "#fb9f3a"
             ],
             [
              0.8888888888888888,
              "#fdca26"
             ],
             [
              1,
              "#f0f921"
             ]
            ],
            "type": "surface"
           }
          ],
          "table": [
           {
            "cells": {
             "fill": {
              "color": "#506784"
             },
             "line": {
              "color": "rgb(17,17,17)"
             }
            },
            "header": {
             "fill": {
              "color": "#2a3f5f"
             },
             "line": {
              "color": "rgb(17,17,17)"
             }
            },
            "type": "table"
           }
          ]
         },
         "layout": {
          "annotationdefaults": {
           "arrowcolor": "#f2f5fa",
           "arrowhead": 0,
           "arrowwidth": 1
          },
          "autotypenumbers": "strict",
          "coloraxis": {
           "colorbar": {
            "outlinewidth": 0,
            "ticks": ""
           }
          },
          "colorscale": {
           "diverging": [
            [
             0,
             "#8e0152"
            ],
            [
             0.1,
             "#c51b7d"
            ],
            [
             0.2,
             "#de77ae"
            ],
            [
             0.3,
             "#f1b6da"
            ],
            [
             0.4,
             "#fde0ef"
            ],
            [
             0.5,
             "#f7f7f7"
            ],
            [
             0.6,
             "#e6f5d0"
            ],
            [
             0.7,
             "#b8e186"
            ],
            [
             0.8,
             "#7fbc41"
            ],
            [
             0.9,
             "#4d9221"
            ],
            [
             1,
             "#276419"
            ]
           ],
           "sequential": [
            [
             0,
             "#0d0887"
            ],
            [
             0.1111111111111111,
             "#46039f"
            ],
            [
             0.2222222222222222,
             "#7201a8"
            ],
            [
             0.3333333333333333,
             "#9c179e"
            ],
            [
             0.4444444444444444,
             "#bd3786"
            ],
            [
             0.5555555555555556,
             "#d8576b"
            ],
            [
             0.6666666666666666,
             "#ed7953"
            ],
            [
             0.7777777777777778,
             "#fb9f3a"
            ],
            [
             0.8888888888888888,
             "#fdca26"
            ],
            [
             1,
             "#f0f921"
            ]
           ],
           "sequentialminus": [
            [
             0,
             "#0d0887"
            ],
            [
             0.1111111111111111,
             "#46039f"
            ],
            [
             0.2222222222222222,
             "#7201a8"
            ],
            [
             0.3333333333333333,
             "#9c179e"
            ],
            [
             0.4444444444444444,
             "#bd3786"
            ],
            [
             0.5555555555555556,
             "#d8576b"
            ],
            [
             0.6666666666666666,
             "#ed7953"
            ],
            [
             0.7777777777777778,
             "#fb9f3a"
            ],
            [
             0.8888888888888888,
             "#fdca26"
            ],
            [
             1,
             "#f0f921"
            ]
           ]
          },
          "colorway": [
           "#636efa",
           "#EF553B",
           "#00cc96",
           "#ab63fa",
           "#FFA15A",
           "#19d3f3",
           "#FF6692",
           "#B6E880",
           "#FF97FF",
           "#FECB52"
          ],
          "font": {
           "color": "#f2f5fa"
          },
          "geo": {
           "bgcolor": "rgb(17,17,17)",
           "lakecolor": "rgb(17,17,17)",
           "landcolor": "rgb(17,17,17)",
           "showlakes": true,
           "showland": true,
           "subunitcolor": "#506784"
          },
          "hoverlabel": {
           "align": "left"
          },
          "hovermode": "closest",
          "mapbox": {
           "style": "dark"
          },
          "paper_bgcolor": "rgb(17,17,17)",
          "plot_bgcolor": "rgb(17,17,17)",
          "polar": {
           "angularaxis": {
            "gridcolor": "#506784",
            "linecolor": "#506784",
            "ticks": ""
           },
           "bgcolor": "rgb(17,17,17)",
           "radialaxis": {
            "gridcolor": "#506784",
            "linecolor": "#506784",
            "ticks": ""
           }
          },
          "scene": {
           "xaxis": {
            "backgroundcolor": "rgb(17,17,17)",
            "gridcolor": "#506784",
            "gridwidth": 2,
            "linecolor": "#506784",
            "showbackground": true,
            "ticks": "",
            "zerolinecolor": "#C8D4E3"
           },
           "yaxis": {
            "backgroundcolor": "rgb(17,17,17)",
            "gridcolor": "#506784",
            "gridwidth": 2,
            "linecolor": "#506784",
            "showbackground": true,
            "ticks": "",
            "zerolinecolor": "#C8D4E3"
           },
           "zaxis": {
            "backgroundcolor": "rgb(17,17,17)",
            "gridcolor": "#506784",
            "gridwidth": 2,
            "linecolor": "#506784",
            "showbackground": true,
            "ticks": "",
            "zerolinecolor": "#C8D4E3"
           }
          },
          "shapedefaults": {
           "line": {
            "color": "#f2f5fa"
           }
          },
          "sliderdefaults": {
           "bgcolor": "#C8D4E3",
           "bordercolor": "rgb(17,17,17)",
           "borderwidth": 1,
           "tickwidth": 0
          },
          "ternary": {
           "aaxis": {
            "gridcolor": "#506784",
            "linecolor": "#506784",
            "ticks": ""
           },
           "baxis": {
            "gridcolor": "#506784",
            "linecolor": "#506784",
            "ticks": ""
           },
           "bgcolor": "rgb(17,17,17)",
           "caxis": {
            "gridcolor": "#506784",
            "linecolor": "#506784",
            "ticks": ""
           }
          },
          "title": {
           "x": 0.05
          },
          "updatemenudefaults": {
           "bgcolor": "#506784",
           "borderwidth": 0
          },
          "xaxis": {
           "automargin": true,
           "gridcolor": "#283442",
           "linecolor": "#506784",
           "ticks": "",
           "title": {
            "standoff": 15
           },
           "zerolinecolor": "#283442",
           "zerolinewidth": 2
          },
          "yaxis": {
           "automargin": true,
           "gridcolor": "#283442",
           "linecolor": "#506784",
           "ticks": "",
           "title": {
            "standoff": 15
           },
           "zerolinecolor": "#283442",
           "zerolinewidth": 2
          }
         }
        },
        "title": {
         "text": "Bear Put Spread Payoff Diagram - SPY"
        },
        "xaxis": {
         "title": {
          "text": "Stock Price at Expiration"
         },
         "type": "linear"
        },
        "yaxis": {
         "title": {
          "text": "Profit/Loss"
         },
         "type": "linear"
        }
       }
      },
      "text/html": [
       "<div>                            <div id=\"1da8486a-408c-4d2a-a671-198386def00f\" class=\"plotly-graph-div\" style=\"height:525px; width:100%;\"></div>            <script type=\"text/javascript\">                require([\"plotly\"], function(Plotly) {                    window.PLOTLYENV=window.PLOTLYENV || {};                                    if (document.getElementById(\"1da8486a-408c-4d2a-a671-198386def00f\")) {                    Plotly.newPlot(                        \"1da8486a-408c-4d2a-a671-198386def00f\",                        [{\"line\":{\"color\":\"green\",\"width\":3},\"mode\":\"lines\",\"name\":\"Payoff\",\"x\":[365.9599999999999,369.1284848484848,372.2969696969696,375.46545454545446,378.63393939393933,381.8024242424242,384.970909090909,388.13939393939387,391.30787878787874,394.47636363636354,397.6448484848484,400.8133333333333,403.9818181818181,407.15030303030295,410.3187878787878,413.4872727272727,416.6557575757575,419.82424242424236,422.9927272727272,426.1612121212121,429.3296969696969,432.49818181818176,435.66666666666663,438.83515151515144,442.0036363636363,445.17212121212117,448.340606060606,451.50909090909084,454.6775757575757,457.8460606060605,461.0145454545454,464.18303030303025,467.3515151515151,470.52,473.6884848484848,476.85696969696966,480.0254545454545,483.19393939393933,486.3624242424242,489.53090909090906,492.6993939393939,495.86787878787874,499.0363636363636,502.2048484848484,505.37333333333333,508.54181818181814,511.71030303030295,514.8787878787879,518.0472727272727,521.2157575757576,524.3842424242424,527.5527272727272,530.7212121212121,533.889696969697,537.0581818181818,540.2266666666667,543.3951515151515,546.5636363636363,549.7321212121212,552.900606060606,556.0690909090908,559.2375757575758,562.4060606060606,565.5745454545454,568.7430303030303,571.9115151515151,575.0799999999999,578.2484848484848,581.4169696969697,584.5854545454545,587.7539393939394,590.9224242424242,594.090909090909,597.2593939393939,600.4278787878787,603.5963636363637,606.7648484848485,609.9333333333333,613.1018181818182,616.270303030303,619.4387878787879,622.6072727272727,625.7757575757576,628.9442424242425,632.1127272727273,635.2812121212121,638.449696969697,641.6181818181818,644.7866666666666,647.9551515151516,651.1236363636364,654.2921212121212,657.4606060606061,660.6290909090909,663.7975757575757,666.9660606060606,670.1345454545454,673.3030303030303,676.4715151515152,679.64],\"y\":[32.375,32.375,32.375,32.375,32.375,32.375,32.375,32.375,32.375,32.375,32.375,32.375,32.375,32.375,32.375,32.375,32.375,32.375,32.375,32.375,32.375,32.375,32.375,32.375,32.375,32.375,32.375,32.375,32.375,32.375,32.375,32.375,32.375,31.855000000000018,28.68651515151521,25.518030303030343,22.349545454545478,19.18106060606067,16.012575757575803,12.844090909090939,9.67560606060613,6.507121212121264,3.3386363636363985,0.17015151515158955,-2.998333333333333,-6.166818181818142,-7.624999999999998,-7.624999999999998,-7.624999999999998,-7.624999999999998,-7.624999999999998,-7.624999999999998,-7.624999999999998,-7.624999999999998,-7.624999999999998,-7.624999999999998,-7.624999999999998,-7.624999999999998,-7.624999999999998,-7.624999999999998,-7.624999999999998,-7.624999999999998,-7.624999999999998,-7.624999999999998,-7.624999999999998,-7.624999999999998,-7.624999999999998,-7.624999999999998,-7.624999999999998,-7.624999999999998,-7.624999999999998,-7.624999999999998,-7.624999999999998,-7.624999999999998,-7.624999999999998,-7.624999999999998,-7.624999999999998,-7.624999999999998,-7.624999999999998,-7.624999999999998,-7.624999999999998,-7.624999999999998,-7.624999999999998,-7.624999999999998,-7.624999999999998,-7.624999999999998,-7.624999999999998,-7.624999999999998,-7.624999999999998,-7.624999999999998,-7.624999999999998,-7.624999999999998,-7.624999999999998,-7.624999999999998,-7.624999999999998,-7.624999999999998,-7.624999999999998,-7.624999999999998,-7.624999999999998,-7.624999999999998],\"type\":\"scatter\"},{\"marker\":{\"color\":\"yellow\",\"size\":10,\"symbol\":\"x\"},\"mode\":\"markers\",\"name\":\"Break-even: $502.38\",\"x\":[502.375],\"y\":[0],\"type\":\"scatter\"},{\"marker\":{\"color\":\"white\",\"size\":12,\"symbol\":\"circle\"},\"mode\":\"markers\",\"name\":\"Current: $522.80\",\"x\":[522.8],\"y\":[-7.624999999999998],\"type\":\"scatter\"},{\"line\":{\"color\":\"gray\",\"dash\":\"dash\",\"width\":1},\"mode\":\"lines\",\"showlegend\":false,\"x\":[365.9599999999999,679.64],\"y\":[0,0],\"type\":\"scatter\"}],                        {\"template\":{\"data\":{\"barpolar\":[{\"marker\":{\"line\":{\"color\":\"rgb(17,17,17)\",\"width\":0.5},\"pattern\":{\"fillmode\":\"overlay\",\"size\":10,\"solidity\":0.2}},\"type\":\"barpolar\"}],\"bar\":[{\"error_x\":{\"color\":\"#f2f5fa\"},\"error_y\":{\"color\":\"#f2f5fa\"},\"marker\":{\"line\":{\"color\":\"rgb(17,17,17)\",\"width\":0.5},\"pattern\":{\"fillmode\":\"overlay\",\"size\":10,\"solidity\":0.2}},\"type\":\"bar\"}],\"carpet\":[{\"aaxis\":{\"endlinecolor\":\"#A2B1C6\",\"gridcolor\":\"#506784\",\"linecolor\":\"#506784\",\"minorgridcolor\":\"#506784\",\"startlinecolor\":\"#A2B1C6\"},\"baxis\":{\"endlinecolor\":\"#A2B1C6\",\"gridcolor\":\"#506784\",\"linecolor\":\"#506784\",\"minorgridcolor\":\"#506784\",\"startlinecolor\":\"#A2B1C6\"},\"type\":\"carpet\"}],\"choropleth\":[{\"colorbar\":{\"outlinewidth\":0,\"ticks\":\"\"},\"type\":\"choropleth\"}],\"contourcarpet\":[{\"colorbar\":{\"outlinewidth\":0,\"ticks\":\"\"},\"type\":\"contourcarpet\"}],\"contour\":[{\"colorbar\":{\"outlinewidth\":0,\"ticks\":\"\"},\"colorscale\":[[0.0,\"#0d0887\"],[0.1111111111111111,\"#46039f\"],[0.2222222222222222,\"#7201a8\"],[0.3333333333333333,\"#9c179e\"],[0.4444444444444444,\"#bd3786\"],[0.5555555555555556,\"#d8576b\"],[0.6666666666666666,\"#ed7953\"],[0.7777777777777778,\"#fb9f3a\"],[0.8888888888888888,\"#fdca26\"],[1.0,\"#f0f921\"]],\"type\":\"contour\"}],\"heatmapgl\":[{\"colorbar\":{\"outlinewidth\":0,\"ticks\":\"\"},\"colorscale\":[[0.0,\"#0d0887\"],[0.1111111111111111,\"#46039f\"],[0.2222222222222222,\"#7201a8\"],[0.3333333333333333,\"#9c179e\"],[0.4444444444444444,\"#bd3786\"],[0.5555555555555556,\"#d8576b\"],[0.6666666666666666,\"#ed7953\"],[0.7777777777777778,\"#fb9f3a\"],[0.8888888888888888,\"#fdca26\"],[1.0,\"#f0f921\"]],\"type\":\"heatmapgl\"}],\"heatmap\":[{\"colorbar\":{\"outlinewidth\":0,\"ticks\":\"\"},\"colorscale\":[[0.0,\"#0d0887\"],[0.1111111111111111,\"#46039f\"],[0.2222222222222222,\"#7201a8\"],[0.3333333333333333,\"#9c179e\"],[0.4444444444444444,\"#bd3786\"],[0.5555555555555556,\"#d8576b\"],[0.6666666666666666,\"#ed7953\"],[0.7777777777777778,\"#fb9f3a\"],[0.8888888888888888,\"#fdca26\"],[1.0,\"#f0f921\"]],\"type\":\"heatmap\"}],\"histogram2dcontour\":[{\"colorbar\":{\"outlinewidth\":0,\"ticks\":\"\"},\"colorscale\":[[0.0,\"#0d0887\"],[0.1111111111111111,\"#46039f\"],[0.2222222222222222,\"#7201a8\"],[0.3333333333333333,\"#9c179e\"],[0.4444444444444444,\"#bd3786\"],[0.5555555555555556,\"#d8576b\"],[0.6666666666666666,\"#ed7953\"],[0.7777777777777778,\"#fb9f3a\"],[0.8888888888888888,\"#fdca26\"],[1.0,\"#f0f921\"]],\"type\":\"histogram2dcontour\"}],\"histogram2d\":[{\"colorbar\":{\"outlinewidth\":0,\"ticks\":\"\"},\"colorscale\":[[0.0,\"#0d0887\"],[0.1111111111111111,\"#46039f\"],[0.2222222222222222,\"#7201a8\"],[0.3333333333333333,\"#9c179e\"],[0.4444444444444444,\"#bd3786\"],[0.5555555555555556,\"#d8576b\"],[0.6666666666666666,\"#ed7953\"],[0.7777777777777778,\"#fb9f3a\"],[0.8888888888888888,\"#fdca26\"],[1.0,\"#f0f921\"]],\"type\":\"histogram2d\"}],\"histogram\":[{\"marker\":{\"pattern\":{\"fillmode\":\"overlay\",\"size\":10,\"solidity\":0.2}},\"type\":\"histogram\"}],\"mesh3d\":[{\"colorbar\":{\"outlinewidth\":0,\"ticks\":\"\"},\"type\":\"mesh3d\"}],\"parcoords\":[{\"line\":{\"colorbar\":{\"outlinewidth\":0,\"ticks\":\"\"}},\"type\":\"parcoords\"}],\"pie\":[{\"automargin\":true,\"type\":\"pie\"}],\"scatter3d\":[{\"line\":{\"colorbar\":{\"outlinewidth\":0,\"ticks\":\"\"}},\"marker\":{\"colorbar\":{\"outlinewidth\":0,\"ticks\":\"\"}},\"type\":\"scatter3d\"}],\"scattercarpet\":[{\"marker\":{\"colorbar\":{\"outlinewidth\":0,\"ticks\":\"\"}},\"type\":\"scattercarpet\"}],\"scattergeo\":[{\"marker\":{\"colorbar\":{\"outlinewidth\":0,\"ticks\":\"\"}},\"type\":\"scattergeo\"}],\"scattergl\":[{\"marker\":{\"line\":{\"color\":\"#283442\"}},\"type\":\"scattergl\"}],\"scattermapbox\":[{\"marker\":{\"colorbar\":{\"outlinewidth\":0,\"ticks\":\"\"}},\"type\":\"scattermapbox\"}],\"scatterpolargl\":[{\"marker\":{\"colorbar\":{\"outlinewidth\":0,\"ticks\":\"\"}},\"type\":\"scatterpolargl\"}],\"scatterpolar\":[{\"marker\":{\"colorbar\":{\"outlinewidth\":0,\"ticks\":\"\"}},\"type\":\"scatterpolar\"}],\"scatter\":[{\"marker\":{\"line\":{\"color\":\"#283442\"}},\"type\":\"scatter\"}],\"scatterternary\":[{\"marker\":{\"colorbar\":{\"outlinewidth\":0,\"ticks\":\"\"}},\"type\":\"scatterternary\"}],\"surface\":[{\"colorbar\":{\"outlinewidth\":0,\"ticks\":\"\"},\"colorscale\":[[0.0,\"#0d0887\"],[0.1111111111111111,\"#46039f\"],[0.2222222222222222,\"#7201a8\"],[0.3333333333333333,\"#9c179e\"],[0.4444444444444444,\"#bd3786\"],[0.5555555555555556,\"#d8576b\"],[0.6666666666666666,\"#ed7953\"],[0.7777777777777778,\"#fb9f3a\"],[0.8888888888888888,\"#fdca26\"],[1.0,\"#f0f921\"]],\"type\":\"surface\"}],\"table\":[{\"cells\":{\"fill\":{\"color\":\"#506784\"},\"line\":{\"color\":\"rgb(17,17,17)\"}},\"header\":{\"fill\":{\"color\":\"#2a3f5f\"},\"line\":{\"color\":\"rgb(17,17,17)\"}},\"type\":\"table\"}]},\"layout\":{\"annotationdefaults\":{\"arrowcolor\":\"#f2f5fa\",\"arrowhead\":0,\"arrowwidth\":1},\"autotypenumbers\":\"strict\",\"coloraxis\":{\"colorbar\":{\"outlinewidth\":0,\"ticks\":\"\"}},\"colorscale\":{\"diverging\":[[0,\"#8e0152\"],[0.1,\"#c51b7d\"],[0.2,\"#de77ae\"],[0.3,\"#f1b6da\"],[0.4,\"#fde0ef\"],[0.5,\"#f7f7f7\"],[0.6,\"#e6f5d0\"],[0.7,\"#b8e186\"],[0.8,\"#7fbc41\"],[0.9,\"#4d9221\"],[1,\"#276419\"]],\"sequential\":[[0.0,\"#0d0887\"],[0.1111111111111111,\"#46039f\"],[0.2222222222222222,\"#7201a8\"],[0.3333333333333333,\"#9c179e\"],[0.4444444444444444,\"#bd3786\"],[0.5555555555555556,\"#d8576b\"],[0.6666666666666666,\"#ed7953\"],[0.7777777777777778,\"#fb9f3a\"],[0.8888888888888888,\"#fdca26\"],[1.0,\"#f0f921\"]],\"sequentialminus\":[[0.0,\"#0d0887\"],[0.1111111111111111,\"#46039f\"],[0.2222222222222222,\"#7201a8\"],[0.3333333333333333,\"#9c179e\"],[0.4444444444444444,\"#bd3786\"],[0.5555555555555556,\"#d8576b\"],[0.6666666666666666,\"#ed7953\"],[0.7777777777777778,\"#fb9f3a\"],[0.8888888888888888,\"#fdca26\"],[1.0,\"#f0f921\"]]},\"colorway\":[\"#636efa\",\"#EF553B\",\"#00cc96\",\"#ab63fa\",\"#FFA15A\",\"#19d3f3\",\"#FF6692\",\"#B6E880\",\"#FF97FF\",\"#FECB52\"],\"font\":{\"color\":\"#f2f5fa\"},\"geo\":{\"bgcolor\":\"rgb(17,17,17)\",\"lakecolor\":\"rgb(17,17,17)\",\"landcolor\":\"rgb(17,17,17)\",\"showlakes\":true,\"showland\":true,\"subunitcolor\":\"#506784\"},\"hoverlabel\":{\"align\":\"left\"},\"hovermode\":\"closest\",\"mapbox\":{\"style\":\"dark\"},\"paper_bgcolor\":\"rgb(17,17,17)\",\"plot_bgcolor\":\"rgb(17,17,17)\",\"polar\":{\"angularaxis\":{\"gridcolor\":\"#506784\",\"linecolor\":\"#506784\",\"ticks\":\"\"},\"bgcolor\":\"rgb(17,17,17)\",\"radialaxis\":{\"gridcolor\":\"#506784\",\"linecolor\":\"#506784\",\"ticks\":\"\"}},\"scene\":{\"xaxis\":{\"backgroundcolor\":\"rgb(17,17,17)\",\"gridcolor\":\"#506784\",\"gridwidth\":2,\"linecolor\":\"#506784\",\"showbackground\":true,\"ticks\":\"\",\"zerolinecolor\":\"#C8D4E3\"},\"yaxis\":{\"backgroundcolor\":\"rgb(17,17,17)\",\"gridcolor\":\"#506784\",\"gridwidth\":2,\"linecolor\":\"#506784\",\"showbackground\":true,\"ticks\":\"\",\"zerolinecolor\":\"#C8D4E3\"},\"zaxis\":{\"backgroundcolor\":\"rgb(17,17,17)\",\"gridcolor\":\"#506784\",\"gridwidth\":2,\"linecolor\":\"#506784\",\"showbackground\":true,\"ticks\":\"\",\"zerolinecolor\":\"#C8D4E3\"}},\"shapedefaults\":{\"line\":{\"color\":\"#f2f5fa\"}},\"sliderdefaults\":{\"bgcolor\":\"#C8D4E3\",\"bordercolor\":\"rgb(17,17,17)\",\"borderwidth\":1,\"tickwidth\":0},\"ternary\":{\"aaxis\":{\"gridcolor\":\"#506784\",\"linecolor\":\"#506784\",\"ticks\":\"\"},\"baxis\":{\"gridcolor\":\"#506784\",\"linecolor\":\"#506784\",\"ticks\":\"\"},\"bgcolor\":\"rgb(17,17,17)\",\"caxis\":{\"gridcolor\":\"#506784\",\"linecolor\":\"#506784\",\"ticks\":\"\"}},\"title\":{\"x\":0.05},\"updatemenudefaults\":{\"bgcolor\":\"#506784\",\"borderwidth\":0},\"xaxis\":{\"automargin\":true,\"gridcolor\":\"#283442\",\"linecolor\":\"#506784\",\"ticks\":\"\",\"title\":{\"standoff\":15},\"zerolinecolor\":\"#283442\",\"zerolinewidth\":2},\"yaxis\":{\"automargin\":true,\"gridcolor\":\"#283442\",\"linecolor\":\"#506784\",\"ticks\":\"\",\"title\":{\"standoff\":15},\"zerolinecolor\":\"#283442\",\"zerolinewidth\":2}}},\"legend\":{\"yanchor\":\"top\",\"y\":0.99,\"xanchor\":\"left\",\"x\":0.01},\"title\":{\"text\":\"Bear Put Spread Payoff Diagram - SPY\"},\"xaxis\":{\"title\":{\"text\":\"Stock Price at Expiration\"}},\"yaxis\":{\"title\":{\"text\":\"Profit\\u002fLoss\"}},\"hovermode\":\"x\",\"annotations\":[{\"arrowcolor\":\"green\",\"arrowhead\":2,\"arrowsize\":1,\"arrowwidth\":2,\"bgcolor\":\"rgba(50, 50, 50, 0.8)\",\"bordercolor\":\"green\",\"borderpad\":4,\"borderwidth\":2,\"font\":{\"color\":\"white\"},\"showarrow\":true,\"text\":\"Max Profit: $32.38\",\"x\":365.9599999999999,\"y\":32.375},{\"arrowcolor\":\"red\",\"arrowhead\":2,\"arrowsize\":1,\"arrowwidth\":2,\"bgcolor\":\"rgba(50, 50, 50, 0.8)\",\"bordercolor\":\"red\",\"borderpad\":4,\"borderwidth\":2,\"font\":{\"color\":\"white\"},\"showarrow\":true,\"text\":\"Max Loss: $-7.62\",\"x\":511.71030303030295,\"y\":-7.624999999999998},{\"align\":\"left\",\"bgcolor\":\"rgba(50, 50, 50, 0.8)\",\"bordercolor\":\"white\",\"borderpad\":4,\"borderwidth\":1,\"font\":{\"color\":\"white\"},\"showarrow\":false,\"text\":\"long_put: Strike $510.00, Premium $12.52\\nshort_put: Strike $470.00, Premium $4.90\\n\",\"x\":0.02,\"xref\":\"paper\",\"y\":0.02,\"yref\":\"paper\"}]},                        {\"responsive\": true}                    ).then(function(){\n",
       "                            \n",
       "var gd = document.getElementById('1da8486a-408c-4d2a-a671-198386def00f');\n",
       "var x = new MutationObserver(function (mutations, observer) {{\n",
       "        var display = window.getComputedStyle(gd).display;\n",
       "        if (!display || display === 'none') {{\n",
       "            console.log([gd, 'removed!']);\n",
       "            Plotly.purge(gd);\n",
       "            observer.disconnect();\n",
       "        }}\n",
       "}});\n",
       "\n",
       "// Listen for the removal of the full notebook cells\n",
       "var notebookContainer = gd.closest('#notebook-container');\n",
       "if (notebookContainer) {{\n",
       "    x.observe(notebookContainer, {childList: true});\n",
       "}}\n",
       "\n",
       "// Listen for the clearing of the current output cell\n",
       "var outputEl = gd.closest('.output');\n",
       "if (outputEl) {{\n",
       "    x.observe(outputEl, {childList: true});\n",
       "}}\n",
       "\n",
       "                        })                };                });            </script>        </div>"
      ]
     },
     "metadata": {},
     "output_type": "display_data"
    },
    {
     "name": "stdout",
     "output_type": "stream",
     "text": [
      "Displaying strategy_payoff_3...\n"
     ]
    },
    {
     "data": {
      "application/vnd.plotly.v1+json": {
       "config": {
        "plotlyServerURL": "https://plot.ly"
       },
       "data": [
        {
         "line": {
          "color": "green",
          "width": 3
         },
         "mode": "lines",
         "name": "Payoff",
         "type": "scatter",
         "x": [
          365.9599999999999,
          369.1284848484848,
          372.2969696969696,
          375.46545454545446,
          378.63393939393933,
          381.8024242424242,
          384.970909090909,
          388.13939393939387,
          391.30787878787874,
          394.47636363636354,
          397.6448484848484,
          400.8133333333333,
          403.9818181818181,
          407.15030303030295,
          410.3187878787878,
          413.4872727272727,
          416.6557575757575,
          419.82424242424236,
          422.9927272727272,
          426.1612121212121,
          429.3296969696969,
          432.49818181818176,
          435.66666666666663,
          438.83515151515144,
          442.0036363636363,
          445.17212121212117,
          448.340606060606,
          451.50909090909084,
          454.6775757575757,
          457.8460606060605,
          461.0145454545454,
          464.18303030303025,
          467.3515151515151,
          470.52,
          473.6884848484848,
          476.85696969696966,
          480.0254545454545,
          483.19393939393933,
          486.3624242424242,
          489.53090909090906,
          492.6993939393939,
          495.86787878787874,
          499.0363636363636,
          502.2048484848484,
          505.37333333333333,
          508.54181818181814,
          511.71030303030295,
          514.8787878787879,
          518.0472727272727,
          521.2157575757576,
          524.3842424242424,
          527.5527272727272,
          530.7212121212121,
          533.889696969697,
          537.0581818181818,
          540.2266666666667,
          543.3951515151515,
          546.5636363636363,
          549.7321212121212,
          552.900606060606,
          556.0690909090908,
          559.2375757575758,
          562.4060606060606,
          565.5745454545454,
          568.7430303030303,
          571.9115151515151,
          575.0799999999999,
          578.2484848484848,
          581.4169696969697,
          584.5854545454545,
          587.7539393939394,
          590.9224242424242,
          594.090909090909,
          597.2593939393939,
          600.4278787878787,
          603.5963636363637,
          606.7648484848485,
          609.9333333333333,
          613.1018181818182,
          616.270303030303,
          619.4387878787879,
          622.6072727272727,
          625.7757575757576,
          628.9442424242425,
          632.1127272727273,
          635.2812121212121,
          638.449696969697,
          641.6181818181818,
          644.7866666666666,
          647.9551515151516,
          651.1236363636364,
          654.2921212121212,
          657.4606060606061,
          660.6290909090909,
          663.7975757575757,
          666.9660606060606,
          670.1345454545454,
          673.3030303030303,
          676.4715151515152,
          679.64
         ],
         "y": [
          24.075,
          24.075,
          24.075,
          24.075,
          24.075,
          24.075,
          24.075,
          24.075,
          24.075,
          24.075,
          24.075,
          24.075,
          24.075,
          24.075,
          24.075,
          24.075,
          24.075,
          24.075,
          24.075,
          24.075,
          24.075,
          24.075,
          24.075,
          24.075,
          24.075,
          24.075,
          24.075,
          24.075,
          24.075,
          24.075,
          24.075,
          24.075,
          24.075,
          24.075,
          24.075,
          24.075,
          24.075,
          24.075,
          24.075,
          24.075,
          24.075,
          24.075,
          24.075,
          24.075,
          24.075,
          24.075,
          22.364696969697047,
          19.196212121212124,
          16.027727272727315,
          12.859242424242392,
          9.690757575757583,
          6.522272727272775,
          3.353787878787853,
          0.18530303030304363,
          -2.983181818181765,
          -6.151666666666688,
          -9.320151515151498,
          -12.488636363636306,
          -15.657121212121229,
          -18.825606060606038,
          -21.994090909090847,
          -25.16257575757577,
          -28.33106060606058,
          -31.499545454545387,
          -34.66803030303031,
          -37.836515151515115,
          -40.925,
          -40.925,
          -40.925,
          -40.925,
          -40.925,
          -40.925,
          -40.925,
          -40.925,
          -40.925,
          -40.925,
          -40.925,
          -40.925,
          -40.925,
          -40.925,
          -40.925,
          -40.925,
          -40.925,
          -40.925,
          -40.925,
          -40.925,
          -40.925,
          -40.925,
          -40.925,
          -40.925,
          -40.925,
          -40.925,
          -40.925,
          -40.925,
          -40.925,
          -40.925,
          -40.925,
          -40.925,
          -40.925,
          -40.925
         ]
        },
        {
         "marker": {
          "color": "yellow",
          "size": 10,
          "symbol": "x"
         },
         "mode": "markers",
         "name": "Break-even: $534.08",
         "type": "scatter",
         "x": [
          534.075
         ],
         "y": [
          0
         ]
        },
        {
         "marker": {
          "color": "white",
          "size": 12,
          "symbol": "circle"
         },
         "mode": "markers",
         "name": "Current: $522.80",
         "type": "scatter",
         "x": [
          522.8
         ],
         "y": [
          11.275000000000045
         ]
        },
        {
         "line": {
          "color": "gray",
          "dash": "dash",
          "width": 1
         },
         "mode": "lines",
         "showlegend": false,
         "type": "scatter",
         "x": [
          365.9599999999999,
          679.64
         ],
         "y": [
          0,
          0
         ]
        }
       ],
       "layout": {
        "annotations": [
         {
          "arrowcolor": "green",
          "arrowhead": 2,
          "arrowsize": 1,
          "arrowwidth": 2,
          "bgcolor": "rgba(50, 50, 50, 0.8)",
          "bordercolor": "green",
          "borderpad": 4,
          "borderwidth": 2,
          "font": {
           "color": "white"
          },
          "showarrow": true,
          "text": "Max Profit: $24.07",
          "x": 365.9599999999999,
          "y": 24.075
         },
         {
          "arrowcolor": "red",
          "arrowhead": 2,
          "arrowsize": 1,
          "arrowwidth": 2,
          "bgcolor": "rgba(50, 50, 50, 0.8)",
          "bordercolor": "red",
          "borderpad": 4,
          "borderwidth": 2,
          "font": {
           "color": "white"
          },
          "showarrow": true,
          "text": "Max Loss: $-40.92",
          "x": 575.0799999999999,
          "y": -40.925
         },
         {
          "align": "left",
          "bgcolor": "rgba(50, 50, 50, 0.8)",
          "bordercolor": "white",
          "borderpad": 4,
          "borderwidth": 1,
          "font": {
           "color": "white"
          },
          "showarrow": false,
          "text": "short_call: Strike $510.00, Premium $24.62\nlong_call: Strike $575.00, Premium $0.55\n",
          "x": 0.02,
          "xref": "paper",
          "y": 0.02,
          "yref": "paper"
         }
        ],
        "height": 360,
        "hovermode": "x",
        "legend": {
         "x": 0.01,
         "xanchor": "left",
         "y": 0.99,
         "yanchor": "top"
        },
        "template": {
         "data": {
          "bar": [
           {
            "error_x": {
             "color": "#f2f5fa"
            },
            "error_y": {
             "color": "#f2f5fa"
            },
            "marker": {
             "line": {
              "color": "rgb(17,17,17)",
              "width": 0.5
             },
             "pattern": {
              "fillmode": "overlay",
              "size": 10,
              "solidity": 0.2
             }
            },
            "type": "bar"
           }
          ],
          "barpolar": [
           {
            "marker": {
             "line": {
              "color": "rgb(17,17,17)",
              "width": 0.5
             },
             "pattern": {
              "fillmode": "overlay",
              "size": 10,
              "solidity": 0.2
             }
            },
            "type": "barpolar"
           }
          ],
          "carpet": [
           {
            "aaxis": {
             "endlinecolor": "#A2B1C6",
             "gridcolor": "#506784",
             "linecolor": "#506784",
             "minorgridcolor": "#506784",
             "startlinecolor": "#A2B1C6"
            },
            "baxis": {
             "endlinecolor": "#A2B1C6",
             "gridcolor": "#506784",
             "linecolor": "#506784",
             "minorgridcolor": "#506784",
             "startlinecolor": "#A2B1C6"
            },
            "type": "carpet"
           }
          ],
          "choropleth": [
           {
            "colorbar": {
             "outlinewidth": 0,
             "ticks": ""
            },
            "type": "choropleth"
           }
          ],
          "contour": [
           {
            "colorbar": {
             "outlinewidth": 0,
             "ticks": ""
            },
            "colorscale": [
             [
              0,
              "#0d0887"
             ],
             [
              0.1111111111111111,
              "#46039f"
             ],
             [
              0.2222222222222222,
              "#7201a8"
             ],
             [
              0.3333333333333333,
              "#9c179e"
             ],
             [
              0.4444444444444444,
              "#bd3786"
             ],
             [
              0.5555555555555556,
              "#d8576b"
             ],
             [
              0.6666666666666666,
              "#ed7953"
             ],
             [
              0.7777777777777778,
              "#fb9f3a"
             ],
             [
              0.8888888888888888,
              "#fdca26"
             ],
             [
              1,
              "#f0f921"
             ]
            ],
            "type": "contour"
           }
          ],
          "contourcarpet": [
           {
            "colorbar": {
             "outlinewidth": 0,
             "ticks": ""
            },
            "type": "contourcarpet"
           }
          ],
          "heatmap": [
           {
            "colorbar": {
             "outlinewidth": 0,
             "ticks": ""
            },
            "colorscale": [
             [
              0,
              "#0d0887"
             ],
             [
              0.1111111111111111,
              "#46039f"
             ],
             [
              0.2222222222222222,
              "#7201a8"
             ],
             [
              0.3333333333333333,
              "#9c179e"
             ],
             [
              0.4444444444444444,
              "#bd3786"
             ],
             [
              0.5555555555555556,
              "#d8576b"
             ],
             [
              0.6666666666666666,
              "#ed7953"
             ],
             [
              0.7777777777777778,
              "#fb9f3a"
             ],
             [
              0.8888888888888888,
              "#fdca26"
             ],
             [
              1,
              "#f0f921"
             ]
            ],
            "type": "heatmap"
           }
          ],
          "heatmapgl": [
           {
            "colorbar": {
             "outlinewidth": 0,
             "ticks": ""
            },
            "colorscale": [
             [
              0,
              "#0d0887"
             ],
             [
              0.1111111111111111,
              "#46039f"
             ],
             [
              0.2222222222222222,
              "#7201a8"
             ],
             [
              0.3333333333333333,
              "#9c179e"
             ],
             [
              0.4444444444444444,
              "#bd3786"
             ],
             [
              0.5555555555555556,
              "#d8576b"
             ],
             [
              0.6666666666666666,
              "#ed7953"
             ],
             [
              0.7777777777777778,
              "#fb9f3a"
             ],
             [
              0.8888888888888888,
              "#fdca26"
             ],
             [
              1,
              "#f0f921"
             ]
            ],
            "type": "heatmapgl"
           }
          ],
          "histogram": [
           {
            "marker": {
             "pattern": {
              "fillmode": "overlay",
              "size": 10,
              "solidity": 0.2
             }
            },
            "type": "histogram"
           }
          ],
          "histogram2d": [
           {
            "colorbar": {
             "outlinewidth": 0,
             "ticks": ""
            },
            "colorscale": [
             [
              0,
              "#0d0887"
             ],
             [
              0.1111111111111111,
              "#46039f"
             ],
             [
              0.2222222222222222,
              "#7201a8"
             ],
             [
              0.3333333333333333,
              "#9c179e"
             ],
             [
              0.4444444444444444,
              "#bd3786"
             ],
             [
              0.5555555555555556,
              "#d8576b"
             ],
             [
              0.6666666666666666,
              "#ed7953"
             ],
             [
              0.7777777777777778,
              "#fb9f3a"
             ],
             [
              0.8888888888888888,
              "#fdca26"
             ],
             [
              1,
              "#f0f921"
             ]
            ],
            "type": "histogram2d"
           }
          ],
          "histogram2dcontour": [
           {
            "colorbar": {
             "outlinewidth": 0,
             "ticks": ""
            },
            "colorscale": [
             [
              0,
              "#0d0887"
             ],
             [
              0.1111111111111111,
              "#46039f"
             ],
             [
              0.2222222222222222,
              "#7201a8"
             ],
             [
              0.3333333333333333,
              "#9c179e"
             ],
             [
              0.4444444444444444,
              "#bd3786"
             ],
             [
              0.5555555555555556,
              "#d8576b"
             ],
             [
              0.6666666666666666,
              "#ed7953"
             ],
             [
              0.7777777777777778,
              "#fb9f3a"
             ],
             [
              0.8888888888888888,
              "#fdca26"
             ],
             [
              1,
              "#f0f921"
             ]
            ],
            "type": "histogram2dcontour"
           }
          ],
          "mesh3d": [
           {
            "colorbar": {
             "outlinewidth": 0,
             "ticks": ""
            },
            "type": "mesh3d"
           }
          ],
          "parcoords": [
           {
            "line": {
             "colorbar": {
              "outlinewidth": 0,
              "ticks": ""
             }
            },
            "type": "parcoords"
           }
          ],
          "pie": [
           {
            "automargin": true,
            "type": "pie"
           }
          ],
          "scatter": [
           {
            "marker": {
             "line": {
              "color": "#283442"
             }
            },
            "type": "scatter"
           }
          ],
          "scatter3d": [
           {
            "line": {
             "colorbar": {
              "outlinewidth": 0,
              "ticks": ""
             }
            },
            "marker": {
             "colorbar": {
              "outlinewidth": 0,
              "ticks": ""
             }
            },
            "type": "scatter3d"
           }
          ],
          "scattercarpet": [
           {
            "marker": {
             "colorbar": {
              "outlinewidth": 0,
              "ticks": ""
             }
            },
            "type": "scattercarpet"
           }
          ],
          "scattergeo": [
           {
            "marker": {
             "colorbar": {
              "outlinewidth": 0,
              "ticks": ""
             }
            },
            "type": "scattergeo"
           }
          ],
          "scattergl": [
           {
            "marker": {
             "line": {
              "color": "#283442"
             }
            },
            "type": "scattergl"
           }
          ],
          "scattermapbox": [
           {
            "marker": {
             "colorbar": {
              "outlinewidth": 0,
              "ticks": ""
             }
            },
            "type": "scattermapbox"
           }
          ],
          "scatterpolar": [
           {
            "marker": {
             "colorbar": {
              "outlinewidth": 0,
              "ticks": ""
             }
            },
            "type": "scatterpolar"
           }
          ],
          "scatterpolargl": [
           {
            "marker": {
             "colorbar": {
              "outlinewidth": 0,
              "ticks": ""
             }
            },
            "type": "scatterpolargl"
           }
          ],
          "scatterternary": [
           {
            "marker": {
             "colorbar": {
              "outlinewidth": 0,
              "ticks": ""
             }
            },
            "type": "scatterternary"
           }
          ],
          "surface": [
           {
            "colorbar": {
             "outlinewidth": 0,
             "ticks": ""
            },
            "colorscale": [
             [
              0,
              "#0d0887"
             ],
             [
              0.1111111111111111,
              "#46039f"
             ],
             [
              0.2222222222222222,
              "#7201a8"
             ],
             [
              0.3333333333333333,
              "#9c179e"
             ],
             [
              0.4444444444444444,
              "#bd3786"
             ],
             [
              0.5555555555555556,
              "#d8576b"
             ],
             [
              0.6666666666666666,
              "#ed7953"
             ],
             [
              0.7777777777777778,
              "#fb9f3a"
             ],
             [
              0.8888888888888888,
              "#fdca26"
             ],
             [
              1,
              "#f0f921"
             ]
            ],
            "type": "surface"
           }
          ],
          "table": [
           {
            "cells": {
             "fill": {
              "color": "#506784"
             },
             "line": {
              "color": "rgb(17,17,17)"
             }
            },
            "header": {
             "fill": {
              "color": "#2a3f5f"
             },
             "line": {
              "color": "rgb(17,17,17)"
             }
            },
            "type": "table"
           }
          ]
         },
         "layout": {
          "annotationdefaults": {
           "arrowcolor": "#f2f5fa",
           "arrowhead": 0,
           "arrowwidth": 1
          },
          "autotypenumbers": "strict",
          "coloraxis": {
           "colorbar": {
            "outlinewidth": 0,
            "ticks": ""
           }
          },
          "colorscale": {
           "diverging": [
            [
             0,
             "#8e0152"
            ],
            [
             0.1,
             "#c51b7d"
            ],
            [
             0.2,
             "#de77ae"
            ],
            [
             0.3,
             "#f1b6da"
            ],
            [
             0.4,
             "#fde0ef"
            ],
            [
             0.5,
             "#f7f7f7"
            ],
            [
             0.6,
             "#e6f5d0"
            ],
            [
             0.7,
             "#b8e186"
            ],
            [
             0.8,
             "#7fbc41"
            ],
            [
             0.9,
             "#4d9221"
            ],
            [
             1,
             "#276419"
            ]
           ],
           "sequential": [
            [
             0,
             "#0d0887"
            ],
            [
             0.1111111111111111,
             "#46039f"
            ],
            [
             0.2222222222222222,
             "#7201a8"
            ],
            [
             0.3333333333333333,
             "#9c179e"
            ],
            [
             0.4444444444444444,
             "#bd3786"
            ],
            [
             0.5555555555555556,
             "#d8576b"
            ],
            [
             0.6666666666666666,
             "#ed7953"
            ],
            [
             0.7777777777777778,
             "#fb9f3a"
            ],
            [
             0.8888888888888888,
             "#fdca26"
            ],
            [
             1,
             "#f0f921"
            ]
           ],
           "sequentialminus": [
            [
             0,
             "#0d0887"
            ],
            [
             0.1111111111111111,
             "#46039f"
            ],
            [
             0.2222222222222222,
             "#7201a8"
            ],
            [
             0.3333333333333333,
             "#9c179e"
            ],
            [
             0.4444444444444444,
             "#bd3786"
            ],
            [
             0.5555555555555556,
             "#d8576b"
            ],
            [
             0.6666666666666666,
             "#ed7953"
            ],
            [
             0.7777777777777778,
             "#fb9f3a"
            ],
            [
             0.8888888888888888,
             "#fdca26"
            ],
            [
             1,
             "#f0f921"
            ]
           ]
          },
          "colorway": [
           "#636efa",
           "#EF553B",
           "#00cc96",
           "#ab63fa",
           "#FFA15A",
           "#19d3f3",
           "#FF6692",
           "#B6E880",
           "#FF97FF",
           "#FECB52"
          ],
          "font": {
           "color": "#f2f5fa"
          },
          "geo": {
           "bgcolor": "rgb(17,17,17)",
           "lakecolor": "rgb(17,17,17)",
           "landcolor": "rgb(17,17,17)",
           "showlakes": true,
           "showland": true,
           "subunitcolor": "#506784"
          },
          "hoverlabel": {
           "align": "left"
          },
          "hovermode": "closest",
          "mapbox": {
           "style": "dark"
          },
          "paper_bgcolor": "rgb(17,17,17)",
          "plot_bgcolor": "rgb(17,17,17)",
          "polar": {
           "angularaxis": {
            "gridcolor": "#506784",
            "linecolor": "#506784",
            "ticks": ""
           },
           "bgcolor": "rgb(17,17,17)",
           "radialaxis": {
            "gridcolor": "#506784",
            "linecolor": "#506784",
            "ticks": ""
           }
          },
          "scene": {
           "xaxis": {
            "backgroundcolor": "rgb(17,17,17)",
            "gridcolor": "#506784",
            "gridwidth": 2,
            "linecolor": "#506784",
            "showbackground": true,
            "ticks": "",
            "zerolinecolor": "#C8D4E3"
           },
           "yaxis": {
            "backgroundcolor": "rgb(17,17,17)",
            "gridcolor": "#506784",
            "gridwidth": 2,
            "linecolor": "#506784",
            "showbackground": true,
            "ticks": "",
            "zerolinecolor": "#C8D4E3"
           },
           "zaxis": {
            "backgroundcolor": "rgb(17,17,17)",
            "gridcolor": "#506784",
            "gridwidth": 2,
            "linecolor": "#506784",
            "showbackground": true,
            "ticks": "",
            "zerolinecolor": "#C8D4E3"
           }
          },
          "shapedefaults": {
           "line": {
            "color": "#f2f5fa"
           }
          },
          "sliderdefaults": {
           "bgcolor": "#C8D4E3",
           "bordercolor": "rgb(17,17,17)",
           "borderwidth": 1,
           "tickwidth": 0
          },
          "ternary": {
           "aaxis": {
            "gridcolor": "#506784",
            "linecolor": "#506784",
            "ticks": ""
           },
           "baxis": {
            "gridcolor": "#506784",
            "linecolor": "#506784",
            "ticks": ""
           },
           "bgcolor": "rgb(17,17,17)",
           "caxis": {
            "gridcolor": "#506784",
            "linecolor": "#506784",
            "ticks": ""
           }
          },
          "title": {
           "x": 0.05
          },
          "updatemenudefaults": {
           "bgcolor": "#506784",
           "borderwidth": 0
          },
          "xaxis": {
           "automargin": true,
           "gridcolor": "#283442",
           "linecolor": "#506784",
           "ticks": "",
           "title": {
            "standoff": 15
           },
           "zerolinecolor": "#283442",
           "zerolinewidth": 2
          },
          "yaxis": {
           "automargin": true,
           "gridcolor": "#283442",
           "linecolor": "#506784",
           "ticks": "",
           "title": {
            "standoff": 15
           },
           "zerolinecolor": "#283442",
           "zerolinewidth": 2
          }
         }
        },
        "title": {
         "text": "Bear Call Spread Payoff Diagram - SPY"
        },
        "xaxis": {
         "title": {
          "text": "Stock Price at Expiration"
         },
         "type": "linear"
        },
        "yaxis": {
         "title": {
          "text": "Profit/Loss"
         },
         "type": "linear"
        }
       }
      },
      "text/html": [
       "<div>                            <div id=\"4975619e-fffd-43e7-a8e2-37fdc70f78d8\" class=\"plotly-graph-div\" style=\"height:525px; width:100%;\"></div>            <script type=\"text/javascript\">                require([\"plotly\"], function(Plotly) {                    window.PLOTLYENV=window.PLOTLYENV || {};                                    if (document.getElementById(\"4975619e-fffd-43e7-a8e2-37fdc70f78d8\")) {                    Plotly.newPlot(                        \"4975619e-fffd-43e7-a8e2-37fdc70f78d8\",                        [{\"line\":{\"color\":\"green\",\"width\":3},\"mode\":\"lines\",\"name\":\"Payoff\",\"x\":[365.9599999999999,369.1284848484848,372.2969696969696,375.46545454545446,378.63393939393933,381.8024242424242,384.970909090909,388.13939393939387,391.30787878787874,394.47636363636354,397.6448484848484,400.8133333333333,403.9818181818181,407.15030303030295,410.3187878787878,413.4872727272727,416.6557575757575,419.82424242424236,422.9927272727272,426.1612121212121,429.3296969696969,432.49818181818176,435.66666666666663,438.83515151515144,442.0036363636363,445.17212121212117,448.340606060606,451.50909090909084,454.6775757575757,457.8460606060605,461.0145454545454,464.18303030303025,467.3515151515151,470.52,473.6884848484848,476.85696969696966,480.0254545454545,483.19393939393933,486.3624242424242,489.53090909090906,492.6993939393939,495.86787878787874,499.0363636363636,502.2048484848484,505.37333333333333,508.54181818181814,511.71030303030295,514.8787878787879,518.0472727272727,521.2157575757576,524.3842424242424,527.5527272727272,530.7212121212121,533.889696969697,537.0581818181818,540.2266666666667,543.3951515151515,546.5636363636363,549.7321212121212,552.900606060606,556.0690909090908,559.2375757575758,562.4060606060606,565.5745454545454,568.7430303030303,571.9115151515151,575.0799999999999,578.2484848484848,581.4169696969697,584.5854545454545,587.7539393939394,590.9224242424242,594.090909090909,597.2593939393939,600.4278787878787,603.5963636363637,606.7648484848485,609.9333333333333,613.1018181818182,616.270303030303,619.4387878787879,622.6072727272727,625.7757575757576,628.9442424242425,632.1127272727273,635.2812121212121,638.449696969697,641.6181818181818,644.7866666666666,647.9551515151516,651.1236363636364,654.2921212121212,657.4606060606061,660.6290909090909,663.7975757575757,666.9660606060606,670.1345454545454,673.3030303030303,676.4715151515152,679.64],\"y\":[24.075,24.075,24.075,24.075,24.075,24.075,24.075,24.075,24.075,24.075,24.075,24.075,24.075,24.075,24.075,24.075,24.075,24.075,24.075,24.075,24.075,24.075,24.075,24.075,24.075,24.075,24.075,24.075,24.075,24.075,24.075,24.075,24.075,24.075,24.075,24.075,24.075,24.075,24.075,24.075,24.075,24.075,24.075,24.075,24.075,24.075,22.364696969697047,19.196212121212124,16.027727272727315,12.859242424242392,9.690757575757583,6.522272727272775,3.353787878787853,0.18530303030304363,-2.983181818181765,-6.151666666666688,-9.320151515151498,-12.488636363636306,-15.657121212121229,-18.825606060606038,-21.994090909090847,-25.16257575757577,-28.33106060606058,-31.499545454545387,-34.66803030303031,-37.836515151515115,-40.925,-40.925,-40.925,-40.925,-40.925,-40.925,-40.925,-40.925,-40.925,-40.925,-40.925,-40.925,-40.925,-40.925,-40.925,-40.925,-40.925,-40.925,-40.925,-40.925,-40.925,-40.925,-40.925,-40.925,-40.925,-40.925,-40.925,-40.925,-40.925,-40.925,-40.925,-40.925,-40.925,-40.925],\"type\":\"scatter\"},{\"marker\":{\"color\":\"yellow\",\"size\":10,\"symbol\":\"x\"},\"mode\":\"markers\",\"name\":\"Break-even: $534.08\",\"x\":[534.075],\"y\":[0],\"type\":\"scatter\"},{\"marker\":{\"color\":\"white\",\"size\":12,\"symbol\":\"circle\"},\"mode\":\"markers\",\"name\":\"Current: $522.80\",\"x\":[522.8],\"y\":[11.275000000000045],\"type\":\"scatter\"},{\"line\":{\"color\":\"gray\",\"dash\":\"dash\",\"width\":1},\"mode\":\"lines\",\"showlegend\":false,\"x\":[365.9599999999999,679.64],\"y\":[0,0],\"type\":\"scatter\"}],                        {\"template\":{\"data\":{\"barpolar\":[{\"marker\":{\"line\":{\"color\":\"rgb(17,17,17)\",\"width\":0.5},\"pattern\":{\"fillmode\":\"overlay\",\"size\":10,\"solidity\":0.2}},\"type\":\"barpolar\"}],\"bar\":[{\"error_x\":{\"color\":\"#f2f5fa\"},\"error_y\":{\"color\":\"#f2f5fa\"},\"marker\":{\"line\":{\"color\":\"rgb(17,17,17)\",\"width\":0.5},\"pattern\":{\"fillmode\":\"overlay\",\"size\":10,\"solidity\":0.2}},\"type\":\"bar\"}],\"carpet\":[{\"aaxis\":{\"endlinecolor\":\"#A2B1C6\",\"gridcolor\":\"#506784\",\"linecolor\":\"#506784\",\"minorgridcolor\":\"#506784\",\"startlinecolor\":\"#A2B1C6\"},\"baxis\":{\"endlinecolor\":\"#A2B1C6\",\"gridcolor\":\"#506784\",\"linecolor\":\"#506784\",\"minorgridcolor\":\"#506784\",\"startlinecolor\":\"#A2B1C6\"},\"type\":\"carpet\"}],\"choropleth\":[{\"colorbar\":{\"outlinewidth\":0,\"ticks\":\"\"},\"type\":\"choropleth\"}],\"contourcarpet\":[{\"colorbar\":{\"outlinewidth\":0,\"ticks\":\"\"},\"type\":\"contourcarpet\"}],\"contour\":[{\"colorbar\":{\"outlinewidth\":0,\"ticks\":\"\"},\"colorscale\":[[0.0,\"#0d0887\"],[0.1111111111111111,\"#46039f\"],[0.2222222222222222,\"#7201a8\"],[0.3333333333333333,\"#9c179e\"],[0.4444444444444444,\"#bd3786\"],[0.5555555555555556,\"#d8576b\"],[0.6666666666666666,\"#ed7953\"],[0.7777777777777778,\"#fb9f3a\"],[0.8888888888888888,\"#fdca26\"],[1.0,\"#f0f921\"]],\"type\":\"contour\"}],\"heatmapgl\":[{\"colorbar\":{\"outlinewidth\":0,\"ticks\":\"\"},\"colorscale\":[[0.0,\"#0d0887\"],[0.1111111111111111,\"#46039f\"],[0.2222222222222222,\"#7201a8\"],[0.3333333333333333,\"#9c179e\"],[0.4444444444444444,\"#bd3786\"],[0.5555555555555556,\"#d8576b\"],[0.6666666666666666,\"#ed7953\"],[0.7777777777777778,\"#fb9f3a\"],[0.8888888888888888,\"#fdca26\"],[1.0,\"#f0f921\"]],\"type\":\"heatmapgl\"}],\"heatmap\":[{\"colorbar\":{\"outlinewidth\":0,\"ticks\":\"\"},\"colorscale\":[[0.0,\"#0d0887\"],[0.1111111111111111,\"#46039f\"],[0.2222222222222222,\"#7201a8\"],[0.3333333333333333,\"#9c179e\"],[0.4444444444444444,\"#bd3786\"],[0.5555555555555556,\"#d8576b\"],[0.6666666666666666,\"#ed7953\"],[0.7777777777777778,\"#fb9f3a\"],[0.8888888888888888,\"#fdca26\"],[1.0,\"#f0f921\"]],\"type\":\"heatmap\"}],\"histogram2dcontour\":[{\"colorbar\":{\"outlinewidth\":0,\"ticks\":\"\"},\"colorscale\":[[0.0,\"#0d0887\"],[0.1111111111111111,\"#46039f\"],[0.2222222222222222,\"#7201a8\"],[0.3333333333333333,\"#9c179e\"],[0.4444444444444444,\"#bd3786\"],[0.5555555555555556,\"#d8576b\"],[0.6666666666666666,\"#ed7953\"],[0.7777777777777778,\"#fb9f3a\"],[0.8888888888888888,\"#fdca26\"],[1.0,\"#f0f921\"]],\"type\":\"histogram2dcontour\"}],\"histogram2d\":[{\"colorbar\":{\"outlinewidth\":0,\"ticks\":\"\"},\"colorscale\":[[0.0,\"#0d0887\"],[0.1111111111111111,\"#46039f\"],[0.2222222222222222,\"#7201a8\"],[0.3333333333333333,\"#9c179e\"],[0.4444444444444444,\"#bd3786\"],[0.5555555555555556,\"#d8576b\"],[0.6666666666666666,\"#ed7953\"],[0.7777777777777778,\"#fb9f3a\"],[0.8888888888888888,\"#fdca26\"],[1.0,\"#f0f921\"]],\"type\":\"histogram2d\"}],\"histogram\":[{\"marker\":{\"pattern\":{\"fillmode\":\"overlay\",\"size\":10,\"solidity\":0.2}},\"type\":\"histogram\"}],\"mesh3d\":[{\"colorbar\":{\"outlinewidth\":0,\"ticks\":\"\"},\"type\":\"mesh3d\"}],\"parcoords\":[{\"line\":{\"colorbar\":{\"outlinewidth\":0,\"ticks\":\"\"}},\"type\":\"parcoords\"}],\"pie\":[{\"automargin\":true,\"type\":\"pie\"}],\"scatter3d\":[{\"line\":{\"colorbar\":{\"outlinewidth\":0,\"ticks\":\"\"}},\"marker\":{\"colorbar\":{\"outlinewidth\":0,\"ticks\":\"\"}},\"type\":\"scatter3d\"}],\"scattercarpet\":[{\"marker\":{\"colorbar\":{\"outlinewidth\":0,\"ticks\":\"\"}},\"type\":\"scattercarpet\"}],\"scattergeo\":[{\"marker\":{\"colorbar\":{\"outlinewidth\":0,\"ticks\":\"\"}},\"type\":\"scattergeo\"}],\"scattergl\":[{\"marker\":{\"line\":{\"color\":\"#283442\"}},\"type\":\"scattergl\"}],\"scattermapbox\":[{\"marker\":{\"colorbar\":{\"outlinewidth\":0,\"ticks\":\"\"}},\"type\":\"scattermapbox\"}],\"scatterpolargl\":[{\"marker\":{\"colorbar\":{\"outlinewidth\":0,\"ticks\":\"\"}},\"type\":\"scatterpolargl\"}],\"scatterpolar\":[{\"marker\":{\"colorbar\":{\"outlinewidth\":0,\"ticks\":\"\"}},\"type\":\"scatterpolar\"}],\"scatter\":[{\"marker\":{\"line\":{\"color\":\"#283442\"}},\"type\":\"scatter\"}],\"scatterternary\":[{\"marker\":{\"colorbar\":{\"outlinewidth\":0,\"ticks\":\"\"}},\"type\":\"scatterternary\"}],\"surface\":[{\"colorbar\":{\"outlinewidth\":0,\"ticks\":\"\"},\"colorscale\":[[0.0,\"#0d0887\"],[0.1111111111111111,\"#46039f\"],[0.2222222222222222,\"#7201a8\"],[0.3333333333333333,\"#9c179e\"],[0.4444444444444444,\"#bd3786\"],[0.5555555555555556,\"#d8576b\"],[0.6666666666666666,\"#ed7953\"],[0.7777777777777778,\"#fb9f3a\"],[0.8888888888888888,\"#fdca26\"],[1.0,\"#f0f921\"]],\"type\":\"surface\"}],\"table\":[{\"cells\":{\"fill\":{\"color\":\"#506784\"},\"line\":{\"color\":\"rgb(17,17,17)\"}},\"header\":{\"fill\":{\"color\":\"#2a3f5f\"},\"line\":{\"color\":\"rgb(17,17,17)\"}},\"type\":\"table\"}]},\"layout\":{\"annotationdefaults\":{\"arrowcolor\":\"#f2f5fa\",\"arrowhead\":0,\"arrowwidth\":1},\"autotypenumbers\":\"strict\",\"coloraxis\":{\"colorbar\":{\"outlinewidth\":0,\"ticks\":\"\"}},\"colorscale\":{\"diverging\":[[0,\"#8e0152\"],[0.1,\"#c51b7d\"],[0.2,\"#de77ae\"],[0.3,\"#f1b6da\"],[0.4,\"#fde0ef\"],[0.5,\"#f7f7f7\"],[0.6,\"#e6f5d0\"],[0.7,\"#b8e186\"],[0.8,\"#7fbc41\"],[0.9,\"#4d9221\"],[1,\"#276419\"]],\"sequential\":[[0.0,\"#0d0887\"],[0.1111111111111111,\"#46039f\"],[0.2222222222222222,\"#7201a8\"],[0.3333333333333333,\"#9c179e\"],[0.4444444444444444,\"#bd3786\"],[0.5555555555555556,\"#d8576b\"],[0.6666666666666666,\"#ed7953\"],[0.7777777777777778,\"#fb9f3a\"],[0.8888888888888888,\"#fdca26\"],[1.0,\"#f0f921\"]],\"sequentialminus\":[[0.0,\"#0d0887\"],[0.1111111111111111,\"#46039f\"],[0.2222222222222222,\"#7201a8\"],[0.3333333333333333,\"#9c179e\"],[0.4444444444444444,\"#bd3786\"],[0.5555555555555556,\"#d8576b\"],[0.6666666666666666,\"#ed7953\"],[0.7777777777777778,\"#fb9f3a\"],[0.8888888888888888,\"#fdca26\"],[1.0,\"#f0f921\"]]},\"colorway\":[\"#636efa\",\"#EF553B\",\"#00cc96\",\"#ab63fa\",\"#FFA15A\",\"#19d3f3\",\"#FF6692\",\"#B6E880\",\"#FF97FF\",\"#FECB52\"],\"font\":{\"color\":\"#f2f5fa\"},\"geo\":{\"bgcolor\":\"rgb(17,17,17)\",\"lakecolor\":\"rgb(17,17,17)\",\"landcolor\":\"rgb(17,17,17)\",\"showlakes\":true,\"showland\":true,\"subunitcolor\":\"#506784\"},\"hoverlabel\":{\"align\":\"left\"},\"hovermode\":\"closest\",\"mapbox\":{\"style\":\"dark\"},\"paper_bgcolor\":\"rgb(17,17,17)\",\"plot_bgcolor\":\"rgb(17,17,17)\",\"polar\":{\"angularaxis\":{\"gridcolor\":\"#506784\",\"linecolor\":\"#506784\",\"ticks\":\"\"},\"bgcolor\":\"rgb(17,17,17)\",\"radialaxis\":{\"gridcolor\":\"#506784\",\"linecolor\":\"#506784\",\"ticks\":\"\"}},\"scene\":{\"xaxis\":{\"backgroundcolor\":\"rgb(17,17,17)\",\"gridcolor\":\"#506784\",\"gridwidth\":2,\"linecolor\":\"#506784\",\"showbackground\":true,\"ticks\":\"\",\"zerolinecolor\":\"#C8D4E3\"},\"yaxis\":{\"backgroundcolor\":\"rgb(17,17,17)\",\"gridcolor\":\"#506784\",\"gridwidth\":2,\"linecolor\":\"#506784\",\"showbackground\":true,\"ticks\":\"\",\"zerolinecolor\":\"#C8D4E3\"},\"zaxis\":{\"backgroundcolor\":\"rgb(17,17,17)\",\"gridcolor\":\"#506784\",\"gridwidth\":2,\"linecolor\":\"#506784\",\"showbackground\":true,\"ticks\":\"\",\"zerolinecolor\":\"#C8D4E3\"}},\"shapedefaults\":{\"line\":{\"color\":\"#f2f5fa\"}},\"sliderdefaults\":{\"bgcolor\":\"#C8D4E3\",\"bordercolor\":\"rgb(17,17,17)\",\"borderwidth\":1,\"tickwidth\":0},\"ternary\":{\"aaxis\":{\"gridcolor\":\"#506784\",\"linecolor\":\"#506784\",\"ticks\":\"\"},\"baxis\":{\"gridcolor\":\"#506784\",\"linecolor\":\"#506784\",\"ticks\":\"\"},\"bgcolor\":\"rgb(17,17,17)\",\"caxis\":{\"gridcolor\":\"#506784\",\"linecolor\":\"#506784\",\"ticks\":\"\"}},\"title\":{\"x\":0.05},\"updatemenudefaults\":{\"bgcolor\":\"#506784\",\"borderwidth\":0},\"xaxis\":{\"automargin\":true,\"gridcolor\":\"#283442\",\"linecolor\":\"#506784\",\"ticks\":\"\",\"title\":{\"standoff\":15},\"zerolinecolor\":\"#283442\",\"zerolinewidth\":2},\"yaxis\":{\"automargin\":true,\"gridcolor\":\"#283442\",\"linecolor\":\"#506784\",\"ticks\":\"\",\"title\":{\"standoff\":15},\"zerolinecolor\":\"#283442\",\"zerolinewidth\":2}}},\"legend\":{\"yanchor\":\"top\",\"y\":0.99,\"xanchor\":\"left\",\"x\":0.01},\"title\":{\"text\":\"Bear Call Spread Payoff Diagram - SPY\"},\"xaxis\":{\"title\":{\"text\":\"Stock Price at Expiration\"}},\"yaxis\":{\"title\":{\"text\":\"Profit\\u002fLoss\"}},\"hovermode\":\"x\",\"annotations\":[{\"arrowcolor\":\"green\",\"arrowhead\":2,\"arrowsize\":1,\"arrowwidth\":2,\"bgcolor\":\"rgba(50, 50, 50, 0.8)\",\"bordercolor\":\"green\",\"borderpad\":4,\"borderwidth\":2,\"font\":{\"color\":\"white\"},\"showarrow\":true,\"text\":\"Max Profit: $24.07\",\"x\":365.9599999999999,\"y\":24.075},{\"arrowcolor\":\"red\",\"arrowhead\":2,\"arrowsize\":1,\"arrowwidth\":2,\"bgcolor\":\"rgba(50, 50, 50, 0.8)\",\"bordercolor\":\"red\",\"borderpad\":4,\"borderwidth\":2,\"font\":{\"color\":\"white\"},\"showarrow\":true,\"text\":\"Max Loss: $-40.92\",\"x\":575.0799999999999,\"y\":-40.925},{\"align\":\"left\",\"bgcolor\":\"rgba(50, 50, 50, 0.8)\",\"bordercolor\":\"white\",\"borderpad\":4,\"borderwidth\":1,\"font\":{\"color\":\"white\"},\"showarrow\":false,\"text\":\"short_call: Strike $510.00, Premium $24.62\\nlong_call: Strike $575.00, Premium $0.55\\n\",\"x\":0.02,\"xref\":\"paper\",\"y\":0.02,\"yref\":\"paper\"}]},                        {\"responsive\": true}                    ).then(function(){\n",
       "                            \n",
       "var gd = document.getElementById('4975619e-fffd-43e7-a8e2-37fdc70f78d8');\n",
       "var x = new MutationObserver(function (mutations, observer) {{\n",
       "        var display = window.getComputedStyle(gd).display;\n",
       "        if (!display || display === 'none') {{\n",
       "            console.log([gd, 'removed!']);\n",
       "            Plotly.purge(gd);\n",
       "            observer.disconnect();\n",
       "        }}\n",
       "}});\n",
       "\n",
       "// Listen for the removal of the full notebook cells\n",
       "var notebookContainer = gd.closest('#notebook-container');\n",
       "if (notebookContainer) {{\n",
       "    x.observe(notebookContainer, {childList: true});\n",
       "}}\n",
       "\n",
       "// Listen for the clearing of the current output cell\n",
       "var outputEl = gd.closest('.output');\n",
       "if (outputEl) {{\n",
       "    x.observe(outputEl, {childList: true});\n",
       "}}\n",
       "\n",
       "                        })                };                });            </script>        </div>"
      ]
     },
     "metadata": {},
     "output_type": "display_data"
    },
    {
     "name": "stdin",
     "output_type": "stream",
     "text": [
      "\n",
      "Do you want to save the analysis to a report file? (y/n):  y\n"
     ]
    },
    {
     "name": "stdout",
     "output_type": "stream",
     "text": [
      "\n",
      "Report saved to SPY_analysis_report.txt\n",
      "\n",
      "Analysis complete. Thank you for using the Options Analysis Toolkit.\n"
     ]
    },
    {
     "data": {
      "image/png": "[encoded data removed]",
      "text/plain": [
       "<Figure size 1200x800 with 1 Axes>"
      ]
     },
     "metadata": {},
     "output_type": "display_data"
    }
   ],
   "source": [
    "import yfinance as yf\n",
    "import pandas as pd\n",
    "import numpy as np\n",
    "import datetime\n",
    "import sys\n",
    "import time\n",
    "import os\n",
    "import glob\n",
    "import json\n",
    "import pickle\n",
    "import matplotlib.pyplot as plt\n",
    "import seaborn as sns\n",
    "from scipy.interpolate import griddata, RectBivariateSpline\n",
    "from scipy.stats import norm\n",
    "from scipy import optimize\n",
    "from sklearn.cluster import KMeans\n",
    "\n",
    "# TensorFlow and Keras imports\n",
    "import tensorflow as tf\n",
    "from tensorflow.keras.models import Model, load_model, Sequential\n",
    "from tensorflow.keras.layers import Input, Dense, Conv2D, MaxPooling2D, UpSampling2D, Flatten, Reshape\n",
    "from tensorflow.keras.layers import BatchNormalization, Add, Resizing\n",
    "from tensorflow.keras.optimizers import Adam\n",
    "from tensorflow.keras.callbacks import EarlyStopping, ModelCheckpoint, ReduceLROnPlateau, TensorBoard\n",
    "\n",
    "# Visualization imports\n",
    "import plotly.graph_objects as go\n",
    "import plotly.express as px\n",
    "from plotly.subplots import make_subplots\n",
    "from mpl_toolkits.mplot3d import Axes3D\n",
    "\n",
    "# Suppress warnings\n",
    "import warnings\n",
    "warnings.filterwarnings('ignore')\n",
    "warnings.filterwarnings('ignore')\n",
    "\n",
    "class OptionsDataFetcher:\n",
    "    \"\"\"\n",
    "    Fetches option data from Yahoo Finance API\n",
    "    \"\"\"\n",
    "    def __init__(self):\n",
    "        self.current_date = datetime.datetime.now().date()\n",
    "    \n",
    "    def get_option_chain(self, ticker=\"SPY\", dte_min=10, dte_max=120):\n",
    "        \"\"\"\n",
    "        Get option chain data for a ticker using Yahoo Finance API\n",
    "        \n",
    "        Parameters:\n",
    "        -----------\n",
    "        ticker : str\n",
    "            Ticker symbol\n",
    "        dte_min : int\n",
    "            Minimum days to expiration\n",
    "        dte_max : int\n",
    "            Maximum days to expiration\n",
    "            \n",
    "        Returns:\n",
    "        --------\n",
    "        dict: Option chain data with calls and puts\n",
    "        \"\"\"\n",
    "        # Remove any leading hyphens or special characters from ticker\n",
    "        ticker = ticker.strip().lstrip('-').upper()\n",
    "        if not ticker:\n",
    "            print(\"Invalid ticker symbol\")\n",
    "            return None\n",
    "            \n",
    "        # Get current date\n",
    "        current_date = datetime.datetime.now().date()\n",
    "        \n",
    "        # Create the ticker object\n",
    "        print(f\"Getting data for {ticker}...\")\n",
    "        \n",
    "        try:\n",
    "            # Create ticker object with timeout\n",
    "            stock = yf.Ticker(ticker)\n",
    "            \n",
    "            # Get basic info (with error handling)\n",
    "            try:\n",
    "                info = stock.info\n",
    "                if not info:\n",
    "                    print(f\"Could not get info for {ticker}. Ticker may be invalid.\")\n",
    "                    return None\n",
    "                    \n",
    "                spot_price = info.get('regularMarketPrice', info.get('currentPrice', None))\n",
    "                if spot_price is None:\n",
    "                    print(f\"Could not get current price for {ticker}\")\n",
    "                    # Try to get price from history as fallback\n",
    "                    hist = stock.history(period=\"1d\")\n",
    "                    if not hist.empty:\n",
    "                        spot_price = hist['Close'].iloc[-1]\n",
    "                        print(f\"Using price from history: ${spot_price:.2f}\")\n",
    "                    else:\n",
    "                        print(f\"Could not determine price for {ticker}\")\n",
    "                        return None\n",
    "                else:\n",
    "                    print(f\"Current price: ${spot_price:.2f}\")\n",
    "            except Exception as e:\n",
    "                print(f\"Error getting ticker info: {str(e)}\")\n",
    "                return None\n",
    "            \n",
    "            # Get available expiration dates\n",
    "            try:\n",
    "                expirations = stock.options\n",
    "                if not expirations:\n",
    "                    print(f\"No options available for {ticker}\")\n",
    "                    return None\n",
    "                    \n",
    "                print(f\"Available expirations: {len(expirations)}\")\n",
    "                print(f\"First few expirations: {expirations[:min(3, len(expirations))]}\")\n",
    "            except Exception as e:\n",
    "                print(f\"Error getting expirations: {str(e)}\")\n",
    "                return None\n",
    "            \n",
    "            # Filter expirations based on DTE\n",
    "            filtered_expirations = []\n",
    "            for exp in expirations:\n",
    "                try:\n",
    "                    exp_date = datetime.datetime.strptime(exp, '%Y-%m-%d').date()\n",
    "                    dte = (exp_date - current_date).days\n",
    "                    if dte_min <= dte <= dte_max:\n",
    "                        filtered_expirations.append((exp, dte))\n",
    "                except Exception as e:\n",
    "                    print(f\"Error processing expiration date {exp}: {str(e)}\")\n",
    "                    continue\n",
    "            \n",
    "            if not filtered_expirations:\n",
    "                print(f\"No options found for {ticker} within the DTE range {dte_min}-{dte_max}\")\n",
    "                return None\n",
    "            \n",
    "            # Sort by DTE\n",
    "            filtered_expirations.sort(key=lambda x: x[1])\n",
    "            \n",
    "            # Select multiple expirations (up to 6)\n",
    "            # Choose a good spread of expirations\n",
    "            num_expirations = min(6, len(filtered_expirations))\n",
    "            selected_expirations = []\n",
    "            \n",
    "            if num_expirations == 1:\n",
    "                selected_expirations = [filtered_expirations[0]]\n",
    "            else:\n",
    "                # Select evenly spaced expirations across the range\n",
    "                indices = np.linspace(0, len(filtered_expirations)-1, num_expirations).astype(int)\n",
    "                selected_expirations = [filtered_expirations[i] for i in indices]\n",
    "            \n",
    "            print(f\"\\nSelected {len(selected_expirations)} expirations:\")\n",
    "            for exp, dte in selected_expirations:\n",
    "                print(f\"  - {exp} (DTE: {dte})\")\n",
    "            \n",
    "            # Get option chain for each expiration\n",
    "            calls_data = []\n",
    "            puts_data = []\n",
    "            \n",
    "            # Set a standard ATM volatility for theoretical prices if needed\n",
    "            # This will be refined later in the enhancement step\n",
    "            base_atm_vol = 0.20  \n",
    "            \n",
    "            # Get risk-free rate\n",
    "            risk_free_rate = self._get_risk_free_rate()\n",
    "            \n",
    "            for exp, dte in selected_expirations:\n",
    "                print(f\"\\nProcessing expiration: {exp} (DTE: {dte})\")\n",
    "                \n",
    "                try:\n",
    "                    # Get option chain for this expiration with retry on failure\n",
    "                    max_retries = 3\n",
    "                    for retry in range(max_retries):\n",
    "                        try:\n",
    "                            options = stock.option_chain(exp)\n",
    "                            break\n",
    "                        except Exception as e:\n",
    "                            if retry < max_retries - 1:\n",
    "                                print(f\"Retry {retry+1}/{max_retries} for {exp}...\")\n",
    "                                time.sleep(1)  # Wait before retrying\n",
    "                            else:\n",
    "                                raise e\n",
    "                    \n",
    "                    calls = options.calls.copy()\n",
    "                    puts = options.puts.copy()\n",
    "                    \n",
    "                    # Print sample data\n",
    "                    print(f\"  Call options: {len(calls)} contracts\")\n",
    "                    print(f\"  Put options: {len(puts)} contracts\")\n",
    "                    \n",
    "                    if len(calls) > 0:\n",
    "                        print(\"\\nSample call option data:\")\n",
    "                        sample_idx = min(len(calls) // 2, len(calls) - 1)  # Ensure valid index\n",
    "                        print(calls.iloc[sample_idx:sample_idx+1])\n",
    "                    \n",
    "                    # Add expiration date to the dataframes\n",
    "                    calls['expirationDate'] = exp\n",
    "                    puts['expirationDate'] = exp\n",
    "                    \n",
    "                    # Calculate time to expiration in years\n",
    "                    tte = dte / 365.0\n",
    "                    \n",
    "                    calls['tte'] = tte\n",
    "                    puts['tte'] = tte\n",
    "                    \n",
    "                    # Calculate moneyness\n",
    "                    if spot_price:\n",
    "                        calls['moneyness'] = calls['strike'] / spot_price\n",
    "                        puts['moneyness'] = puts['strike'] / spot_price\n",
    "                    \n",
    "                    # Handle missing bid/ask values\n",
    "                    calls['bid'] = calls['bid'].fillna(0)\n",
    "                    calls['ask'] = calls['ask'].fillna(0)\n",
    "                    puts['bid'] = puts['bid'].fillna(0)\n",
    "                    puts['ask'] = puts['ask'].fillna(0)\n",
    "                    \n",
    "                    # Calculate mid prices with safeguards\n",
    "                    calls['midPrice'] = calls.apply(\n",
    "                        lambda row: (row['bid'] + row['ask']) / 2 if row['bid'] > 0 and row['ask'] > 0 \n",
    "                        else row['lastPrice'], axis=1)\n",
    "                    puts['midPrice'] = puts.apply(\n",
    "                        lambda row: (row['bid'] + row['ask']) / 2 if row['bid'] > 0 and row['ask'] > 0 \n",
    "                        else row['lastPrice'], axis=1)\n",
    "                    \n",
    "                    # Ensure we always have a usable price\n",
    "                    calculator = OptionsCalculator(risk_free_rate)\n",
    "                    \n",
    "                    # For calls\n",
    "                    calls['usePrice'] = calls.apply(\n",
    "                        lambda row: row['midPrice'] if row['midPrice'] > 0 \n",
    "                        else (row['lastPrice'] if row['lastPrice'] > 0 \n",
    "                              else (max(row['bid'], row['ask']) if max(row['bid'], row['ask']) > 0 \n",
    "                                    else calculator._estimate_theoretical_price(\n",
    "                                        spot_price, row['strike'], tte, risk_free_rate,\n",
    "                                        base_atm_vol, 'call'))), axis=1)\n",
    "                    \n",
    "                    # For puts\n",
    "                    puts['usePrice'] = puts.apply(\n",
    "                        lambda row: row['midPrice'] if row['midPrice'] > 0 \n",
    "                        else (row['lastPrice'] if row['lastPrice'] > 0 \n",
    "                              else (max(row['bid'], row['ask']) if max(row['bid'], row['ask']) > 0 \n",
    "                                    else calculator._estimate_theoretical_price(\n",
    "                                        spot_price, row['strike'], tte, risk_free_rate, \n",
    "                                        base_atm_vol, 'put'))), axis=1)\n",
    "                    \n",
    "                    # Ensure implied volatility is reasonable (will be refined later)\n",
    "                    calls['impliedVolatility'] = calls['impliedVolatility'].fillna(0)\n",
    "                    puts['impliedVolatility'] = puts['impliedVolatility'].fillna(0)\n",
    "                    \n",
    "                    # Replace zero or very low IV with reasonable estimates\n",
    "                    calls['impliedVolatility'] = calls.apply(\n",
    "                        lambda row: row['impliedVolatility'] if row['impliedVolatility'] > 0.05\n",
    "                        else (0.30 if abs(row['moneyness'] - 1) > 0.1 else 0.20), axis=1)\n",
    "                    \n",
    "                    puts['impliedVolatility'] = puts.apply(\n",
    "                        lambda row: row['impliedVolatility'] if row['impliedVolatility'] > 0.05\n",
    "                        else (0.30 if abs(row['moneyness'] - 1) > 0.1 else 0.20), axis=1)\n",
    "                    \n",
    "                    # Add option type\n",
    "                    calls['option_type'] = 'call'\n",
    "                    puts['option_type'] = 'put'\n",
    "                    \n",
    "                    # Add days to expiration\n",
    "                    calls['dte'] = dte\n",
    "                    puts['dte'] = dte\n",
    "                    \n",
    "                    # Add to data lists\n",
    "                    calls_data.append(calls)\n",
    "                    puts_data.append(puts)\n",
    "                    \n",
    "                except Exception as e:\n",
    "                    print(f\"Error processing expiration {exp}: {str(e)}\")\n",
    "                    continue\n",
    "            \n",
    "            if not calls_data or not puts_data:\n",
    "                print(f\"No valid option chains found for {ticker}\")\n",
    "                return None\n",
    "            \n",
    "            # Combine data from all expirations\n",
    "            all_calls = pd.concat(calls_data, ignore_index=True)\n",
    "            all_puts = pd.concat(puts_data, ignore_index=True)\n",
    "            \n",
    "            # Return dictionary with calls and puts\n",
    "            option_data = {\n",
    "                'ticker': ticker,\n",
    "                'spot_price': spot_price,\n",
    "                'calls': all_calls,\n",
    "                'puts': all_puts,\n",
    "                'quote_date': current_date,\n",
    "                'risk_free_rate': risk_free_rate\n",
    "            }\n",
    "            \n",
    "            return option_data\n",
    "            \n",
    "        except Exception as e:\n",
    "            print(f\"Error retrieving option data: {str(e)}\")\n",
    "            return None\n",
    "    \n",
    "    def _get_risk_free_rate(self):\n",
    "        \"\"\"\n",
    "        Get risk-free rate estimate - in a real system, this would query actual treasury yields\n",
    "        Here we'll use a placeholder value\n",
    "        \n",
    "        Returns:\n",
    "        --------\n",
    "        float: Estimated risk-free rate\n",
    "        \"\"\"\n",
    "        # In a full implementation, pull treasury yields based on option maturities\n",
    "        # For simplicity, we'll use a fixed value here\n",
    "        return 0.05  # 5%\n",
    "\n",
    "    def analyze_option_data(self, option_data):\n",
    "        \"\"\"\n",
    "        Display summary statistics and sample data for option chains\n",
    "        \"\"\"\n",
    "        if option_data is None:\n",
    "            print(\"No option data available for analysis\")\n",
    "            return\n",
    "        \n",
    "        ticker = option_data['ticker']\n",
    "        spot_price = option_data['spot_price']\n",
    "        calls = option_data['calls']\n",
    "        puts = option_data['puts']\n",
    "        \n",
    "        print(\"\\n\" + \"=\"*50)\n",
    "        print(f\"OPTION CHAIN ANALYSIS FOR {ticker}\")\n",
    "        print(\"=\"*50)\n",
    "        \n",
    "        print(f\"\\nSpot Price: ${spot_price:.2f}\")\n",
    "        print(f\"Quote Date: {option_data['quote_date']}\")\n",
    "        print(f\"Total Call Options: {len(calls)}\")\n",
    "        print(f\"Total Put Options: {len(puts)}\")\n",
    "        \n",
    "        # Analyze expirations\n",
    "        expirations = sorted(calls['expirationDate'].unique())\n",
    "        print(f\"\\nAvailable Expirations: {len(expirations)}\")\n",
    "        for exp in expirations:\n",
    "            exp_calls = calls[calls['expirationDate'] == exp]\n",
    "            exp_puts = puts[puts['expirationDate'] == exp]\n",
    "            print(f\"  - {exp}: {len(exp_calls)} calls, {len(exp_puts)} puts\")\n",
    "        \n",
    "        # Analyze strikes\n",
    "        if len(calls) > 0 and len(puts) > 0:\n",
    "            call_strikes = sorted(calls['strike'].unique())\n",
    "            put_strikes = sorted(puts['strike'].unique())\n",
    "            print(f\"\\nCall Strike Range: ${min(call_strikes):.2f} to ${max(call_strikes):.2f}\")\n",
    "            print(f\"Put Strike Range: ${min(put_strikes):.2f} to ${max(put_strikes):.2f}\")\n",
    "        \n",
    "        # Show sample ATM call options across expirations\n",
    "        print(\"\\nSample ATM Call Options Across Expirations:\")\n",
    "        print(\"-------------------------------------------\")\n",
    "        \n",
    "        # Define ATM range\n",
    "        atm_calls = calls[(calls['moneyness'] > 0.95) & (calls['moneyness'] < 1.05)]\n",
    "        \n",
    "        if len(atm_calls) > 0:\n",
    "            sample_calls = []\n",
    "            \n",
    "            for exp in expirations:\n",
    "                # Get ATM calls for this expiration\n",
    "                exp_atm_calls = atm_calls[atm_calls['expirationDate'] == exp]\n",
    "                \n",
    "                if len(exp_atm_calls) > 0:\n",
    "                    try:\n",
    "                        # Find closest to ATM\n",
    "                        moneyness_diffs = abs(exp_atm_calls['moneyness'] - 1.0)\n",
    "                        closest_idx = moneyness_diffs.idxmin()\n",
    "                        closest_atm = exp_atm_calls.loc[closest_idx]\n",
    "                        sample_calls.append(closest_atm)\n",
    "                    except Exception as e:\n",
    "                        print(f\"Error finding ATM option for {exp}: {e}\")\n",
    "                        continue\n",
    "            \n",
    "            if sample_calls:\n",
    "                # Convert to DataFrame and display\n",
    "                sample_df = pd.DataFrame(sample_calls)\n",
    "                display_cols = ['strike', 'expirationDate', 'tte', 'bid', 'ask', 'lastPrice', \n",
    "                              'volume', 'openInterest', 'impliedVolatility', 'moneyness', 'usePrice']\n",
    "                \n",
    "                # Only include columns that exist\n",
    "                display_cols = [col for col in display_cols if col in sample_df.columns]\n",
    "                print(sample_df[display_cols].to_string())\n",
    "            else:\n",
    "                print(\"No suitable ATM call options found\")\n",
    "        else:\n",
    "            print(\"No ATM call options found\")\n",
    "        \n",
    "        # Check for liquidity\n",
    "        liquid_calls = calls[calls['volume'] > 10]\n",
    "        liquid_puts = puts[puts['volume'] > 10]\n",
    "        \n",
    "        print(f\"\\nLiquid Options (volume > 10):\")\n",
    "        if len(liquid_calls) > 0:\n",
    "            print(f\"  - Calls: {len(liquid_calls)} ({len(liquid_calls)/len(calls)*100:.1f}% of total)\")\n",
    "        else:\n",
    "            print(\"  - Calls: 0 (0.0% of total)\")\n",
    "            \n",
    "        if len(liquid_puts) > 0:\n",
    "            print(f\"  - Puts: {len(liquid_puts)} ({len(liquid_puts)/len(puts)*100:.1f}% of total)\")\n",
    "        else:\n",
    "            print(\"  - Puts: 0 (0.0% of total)\")\n",
    "        \n",
    "        # Show implied volatility statistics\n",
    "        call_iv = calls['impliedVolatility'].dropna()\n",
    "        put_iv = puts['impliedVolatility'].dropna()\n",
    "        \n",
    "        if len(call_iv) > 0 and len(put_iv) > 0:\n",
    "            print(\"\\nImplied Volatility Statistics:\")\n",
    "            print(f\"  - Call IV Range: {call_iv.min():.2%} to {call_iv.max():.2%}, Mean: {call_iv.mean():.2%}\")\n",
    "            print(f\"  - Put IV Range: {put_iv.min():.2%} to {put_iv.max():.2%}, Mean: {put_iv.mean():.2%}\")\n",
    "        \n",
    "        # Data density analysis\n",
    "        print(\"\\nData Density Analysis:\")\n",
    "        print(\"---------------------\")\n",
    "        \n",
    "        # Check strike coverage\n",
    "        if 'strike' in calls.columns:\n",
    "            unique_strikes = len(calls['strike'].unique())\n",
    "            print(f\"Unique strike prices: {unique_strikes}\")\n",
    "        \n",
    "        # Check expiration coverage\n",
    "        if 'expirationDate' in calls.columns:\n",
    "            unique_expirations = len(calls['expirationDate'].unique())\n",
    "            print(f\"Unique expirations: {unique_expirations}\")\n",
    "        \n",
    "        # Check for completeness of volatility surface\n",
    "        total_possible_points = unique_strikes * unique_expirations\n",
    "        actual_points = len(calls)\n",
    "        completeness = (actual_points / total_possible_points) * 100 if total_possible_points > 0 else 0\n",
    "        \n",
    "        print(f\"Volatility surface completeness: {completeness:.1f}% ({actual_points}/{total_possible_points} points)\")\n",
    "        \n",
    "        # Check volume profile\n",
    "        if 'volume' in calls.columns:\n",
    "            zero_volume = len(calls[calls['volume'] == 0])\n",
    "            low_volume = len(calls[(calls['volume'] > 0) & (calls['volume'] <= 10)])\n",
    "            medium_volume = len(calls[(calls['volume'] > 10) & (calls['volume'] <= 100)])\n",
    "            high_volume = len(calls[calls['volume'] > 100])\n",
    "            \n",
    "            print(\"\\nVolume Profile (calls):\")\n",
    "            print(f\"  - Zero volume: {zero_volume} ({zero_volume/len(calls)*100:.1f}%)\")\n",
    "            print(f\"  - Low volume (1-10): {low_volume} ({low_volume/len(calls)*100:.1f}%)\")\n",
    "            print(f\"  - Medium volume (11-100): {medium_volume} ({medium_volume/len(calls)*100:.1f}%)\")\n",
    "            print(f\"  - High volume (>100): {high_volume} ({high_volume/len(calls)*100:.1f}%)\")\n",
    "        \n",
    "        print(\"\\nData ready for further analysis\")\n",
    "    \n",
    "    def save_option_data_to_csv(self, option_data, filename=None):\n",
    "        \"\"\"\n",
    "        Save option data to CSV files\n",
    "        \n",
    "        Parameters:\n",
    "        -----------\n",
    "        option_data : dict\n",
    "            Option data from get_option_chain\n",
    "        filename : str, optional\n",
    "            Base filename (without extension)\n",
    "            \n",
    "        Returns:\n",
    "        --------\n",
    "        tuple: (calls_file, puts_file, meta_file) - paths to the saved files\n",
    "        \"\"\"\n",
    "        if option_data is None:\n",
    "            print(\"No option data to save\")\n",
    "            return None, None, None\n",
    "        \n",
    "        # Create default filename if not provided\n",
    "        if filename is None:\n",
    "            ticker = option_data['ticker']\n",
    "            date_str = datetime.datetime.now().strftime(\"%Y%m%d\")\n",
    "            filename = f\"{ticker}_options_{date_str}\"\n",
    "        \n",
    "        # Save calls\n",
    "        calls_file = f\"{filename}_calls.csv\"\n",
    "        option_data['calls'].to_csv(calls_file, index=False)\n",
    "        print(f\"Call options saved to {calls_file}\")\n",
    "        \n",
    "        # Save puts\n",
    "        puts_file = f\"{filename}_puts.csv\"\n",
    "        option_data['puts'].to_csv(puts_file, index=False)\n",
    "        print(f\"Put options saved to {puts_file}\")\n",
    "        \n",
    "        # Save metadata\n",
    "        meta = {\n",
    "            'ticker': option_data['ticker'],\n",
    "            'spot_price': option_data['spot_price'],\n",
    "            'quote_date': str(option_data['quote_date']),\n",
    "            'risk_free_rate': option_data['risk_free_rate']\n",
    "        }\n",
    "        \n",
    "        meta_df = pd.DataFrame([meta])\n",
    "        meta_file = f\"{filename}_meta.csv\"\n",
    "        meta_df.to_csv(meta_file, index=False)\n",
    "        print(f\"Metadata saved to {meta_file}\")\n",
    "        \n",
    "        return calls_file, puts_file, meta_file\n",
    "\n",
    "class VolatilitySurfaceAnalyzer:\n",
    "    \"\"\"\n",
    "    Analyzes and visualizes volatility surfaces from option data\n",
    "    \"\"\"\n",
    "    def __init__(self, model_path=None):\n",
    "        \"\"\"\n",
    "        Initialize the analyzer\n",
    "        \n",
    "        Parameters:\n",
    "        -----------\n",
    "        model_path : str, optional\n",
    "            Path to a pre-trained model file\n",
    "        \"\"\"\n",
    "        self.model_path = model_path\n",
    "        self.model = None\n",
    "        self.anomaly_threshold = None\n",
    "            \n",
    "        # Load model if provided\n",
    "        if model_path and os.path.exists(model_path):\n",
    "            try:\n",
    "                self.model = load_model(model_path)\n",
    "                threshold_path = model_path.replace('.keras', '_threshold.npy')\n",
    "                if os.path.exists(threshold_path):\n",
    "                    self.anomaly_threshold = np.load(threshold_path)\n",
    "                print(f\"Loaded model from {model_path}\")\n",
    "            except Exception as e:\n",
    "                print(f\"Could not load model: {e}\")\n",
    "    \n",
    "    def load_option_data_from_files(self, calls_file, puts_file, meta_file=None):\n",
    "        \"\"\"\n",
    "        Load option data directly from CSV files\n",
    "        \n",
    "        Parameters:\n",
    "        -----------\n",
    "        calls_file : str\n",
    "            Path to calls CSV file\n",
    "        puts_file : str\n",
    "            Path to puts CSV file\n",
    "        meta_file : str, optional\n",
    "            Path to metadata CSV file (will be inferred if not provided)\n",
    "            \n",
    "        Returns:\n",
    "        --------\n",
    "        dict: Loaded option data or None if files not found\n",
    "        \"\"\"\n",
    "        # Check if files exist\n",
    "        if not os.path.exists(calls_file):\n",
    "            print(f\"Calls file not found: {calls_file}\")\n",
    "            return None\n",
    "            \n",
    "        if not os.path.exists(puts_file):\n",
    "            print(f\"Puts file not found: {puts_file}\")\n",
    "            return None\n",
    "        \n",
    "        # If meta file not provided, try to infer it\n",
    "        if meta_file is None:\n",
    "            meta_file = calls_file.replace('_calls.csv', '_meta.csv')\n",
    "        \n",
    "        # Load data\n",
    "        try:\n",
    "            calls = pd.read_csv(calls_file)\n",
    "            puts = pd.read_csv(puts_file)\n",
    "            \n",
    "            # Get ticker and spot price from the data itself if meta file doesn't exist\n",
    "            if not os.path.exists(meta_file):\n",
    "                print(f\"Meta file not found: {meta_file}. Extracting info from option data.\")\n",
    "                # Extract ticker from contract symbol\n",
    "                ticker = calls['contractSymbol'].iloc[0].split(calls['strike'].iloc[0])[0]\n",
    "                \n",
    "                # Try to extract spot price from moneyness and strike\n",
    "                if 'moneyness' in calls.columns and 'strike' in calls.columns:\n",
    "                    # Calculate spot price as strike/moneyness for the median option\n",
    "                    median_idx = len(calls) // 2\n",
    "                    spot_price = calls['strike'].iloc[median_idx] / calls['moneyness'].iloc[median_idx]\n",
    "                else:\n",
    "                    # Default to a reasonable value\n",
    "                    spot_price = 100.0\n",
    "                \n",
    "                # Get quote date from file name or use current date\n",
    "                try:\n",
    "                    date_str = os.path.basename(calls_file).split('_')[2]\n",
    "                    quote_date = datetime.datetime.strptime(date_str, '%Y%m%d').date()\n",
    "                except:\n",
    "                    quote_date = datetime.datetime.now().date()\n",
    "                \n",
    "                # Default risk-free rate\n",
    "                risk_free_rate = 0.05\n",
    "            else:\n",
    "                # Load metadata from file\n",
    "                meta = pd.read_csv(meta_file)\n",
    "                ticker = meta['ticker'].iloc[0]\n",
    "                spot_price = meta['spot_price'].iloc[0]\n",
    "                quote_date = meta['quote_date'].iloc[0]\n",
    "                risk_free_rate = meta['risk_free_rate'].iloc[0] if 'risk_free_rate' in meta.columns else 0.05\n",
    "            \n",
    "            # Construct the result dictionary\n",
    "            option_data = {\n",
    "                'ticker': ticker,\n",
    "                'spot_price': spot_price,\n",
    "                'calls': calls,\n",
    "                'puts': puts,\n",
    "                'quote_date': quote_date,\n",
    "                'risk_free_rate': risk_free_rate\n",
    "            }\n",
    "            \n",
    "            return option_data\n",
    "        except Exception as e:\n",
    "            print(f\"Error loading data: {e}\")\n",
    "            return None\n",
    "    \n",
    "    def load_option_data_for_ticker(self, ticker, date=None):\n",
    "        \"\"\"\n",
    "        Load option data for a specific ticker and date\n",
    "        \n",
    "        Parameters:\n",
    "        -----------\n",
    "        ticker : str\n",
    "            Ticker symbol\n",
    "        date : str, optional\n",
    "            Date string (YYYYMMDD format). If None, loads the most recent data.\n",
    "            \n",
    "        Returns:\n",
    "        --------\n",
    "        dict: Loaded option data or None if not found\n",
    "        \"\"\"\n",
    "        ticker = ticker.upper()\n",
    "        \n",
    "        # Try to find the appropriate files directly in the current directory\n",
    "        if date:\n",
    "            calls_file = f\"{ticker}_options_{date}_calls.csv\"\n",
    "            puts_file = f\"{ticker}_options_{date}_puts.csv\"\n",
    "            meta_file = f\"{ticker}_options_{date}_meta.csv\"\n",
    "        else:\n",
    "            # Find the most recent data by searching for any file pattern\n",
    "            files = glob.glob(f\"{ticker}_options_*_calls.csv\")\n",
    "            if not files:\n",
    "                print(f\"No data files found for ticker {ticker}\")\n",
    "                return None\n",
    "                \n",
    "            # Sort by date (newest first)\n",
    "            files.sort(reverse=True)\n",
    "            calls_file = files[0]\n",
    "            date_str = calls_file.split('_')[2]\n",
    "            puts_file = f\"{ticker}_options_{date_str}_puts.csv\"\n",
    "            meta_file = f\"{ticker}_options_{date_str}_meta.csv\"\n",
    "        \n",
    "        return self.load_option_data_from_files(calls_file, puts_file, meta_file)\n",
    "    \n",
    "    def construct_vol_surface(self, option_data, num_strikes=11, num_maturities=6):\n",
    "        \"\"\"\n",
    "        Construct a volatility surface from real market data\n",
    "        \n",
    "        Parameters:\n",
    "        -----------\n",
    "        option_data : dict\n",
    "            Option data dictionary\n",
    "        num_strikes : int\n",
    "            Number of strikes to use in the surface\n",
    "        num_maturities : int\n",
    "            Number of maturities to use in the surface\n",
    "            \n",
    "        Returns:\n",
    "        --------\n",
    "        tuple: (implied_vols, strikes, maturities, spot_price)\n",
    "        \"\"\"\n",
    "        # Extract data\n",
    "        ticker = option_data['ticker']\n",
    "        spot_price = option_data['spot_price']\n",
    "        calls = option_data['calls']\n",
    "        puts = option_data['puts']\n",
    "        \n",
    "        # Combine calls and puts\n",
    "        options = pd.concat([calls, puts], ignore_index=True)\n",
    "        \n",
    "        # Filter out options with missing values\n",
    "        options = options.dropna(subset=['impliedVolatility', 'moneyness', 'tte'])\n",
    "        \n",
    "        # Filter out options with zero or very low volume/open interest\n",
    "        # But keep some even with low volume to ensure enough data points\n",
    "        options = options[options['usePrice'] > 0.05]  # Filter out very low prices\n",
    "        \n",
    "        if len(options) == 0:\n",
    "            print(f\"No valid options found for {ticker}\")\n",
    "            return None, None, None, spot_price\n",
    "        \n",
    "        # Extract unique maturities\n",
    "        unique_maturities = sorted(options['tte'].unique())\n",
    "        \n",
    "        # If we have more maturities than needed, select a representative sample\n",
    "        if len(unique_maturities) > num_maturities:\n",
    "            # Choose maturities to get a good spread\n",
    "            indices = np.linspace(0, len(unique_maturities)-1, num_maturities).astype(int)\n",
    "            selected_maturities = [unique_maturities[i] for i in indices]\n",
    "        else:\n",
    "            selected_maturities = unique_maturities\n",
    "        \n",
    "        # Create moneyness grid - restrict to reasonable range\n",
    "        moneyness_grid = np.linspace(0.7, 1.3, num_strikes)\n",
    "        strike_grid = moneyness_grid * spot_price\n",
    "        \n",
    "        # Initialize volatility surface\n",
    "        vol_surface = np.zeros((len(selected_maturities), len(moneyness_grid)))\n",
    "        \n",
    "        # Fill the surface\n",
    "        for i, maturity in enumerate(selected_maturities):\n",
    "            # Filter options for this maturity\n",
    "            maturity_options = options[np.isclose(options['tte'], maturity, atol=0.01)]\n",
    "            \n",
    "            if len(maturity_options) == 0:\n",
    "                continue\n",
    "            \n",
    "            # Group options by strike and select the most liquid option (highest volume) for each strike\n",
    "            grouped = maturity_options.groupby('strike')\n",
    "            most_liquid = grouped.apply(lambda x: x.sort_values('volume', ascending=False).iloc[0])\n",
    "            \n",
    "            # Calculate implied volatility for each option\n",
    "            for _, row in most_liquid.iterrows():\n",
    "                strike = row['strike']\n",
    "                \n",
    "                # Find the closest moneyness\n",
    "                moneyness = strike / spot_price\n",
    "                \n",
    "                # Only interpolate within our grid bounds, don't extrapolate\n",
    "                if moneyness < moneyness_grid[0] or moneyness > moneyness_grid[-1]:\n",
    "                    continue\n",
    "                    \n",
    "                j = np.argmin(np.abs(moneyness_grid - moneyness))\n",
    "                \n",
    "                # Use implied volatility\n",
    "                iv = row['impliedVolatility']\n",
    "                \n",
    "                # Skip unreasonable volatility values\n",
    "                if iv < 0.05 or iv > 2.0:\n",
    "                    continue\n",
    "                    \n",
    "                # Update the vol surface\n",
    "                vol_surface[i, j] = iv\n",
    "        \n",
    "        # Interpolate missing values for each specific maturity slice\n",
    "        for i in range(vol_surface.shape[0]):\n",
    "            # Find non-zero (valid) values\n",
    "            non_zero_indices = np.nonzero(vol_surface[i, :])[0]\n",
    "            \n",
    "            if len(non_zero_indices) > 1:\n",
    "                non_zero_moneyness = moneyness_grid[non_zero_indices]\n",
    "                non_zero_vols = vol_surface[i, non_zero_indices]\n",
    "                \n",
    "                # Interpolate missing values only for this maturity slice\n",
    "                for j, moneyness in enumerate(moneyness_grid):\n",
    "                    if vol_surface[i, j] == 0:\n",
    "                        # Proper bounds checking for safe interpolation\n",
    "                        if moneyness < np.min(non_zero_moneyness):\n",
    "                            # Use closest value for extrapolation below range\n",
    "                            vol_surface[i, j] = vol_surface[i, non_zero_indices[0]]\n",
    "                        elif moneyness > np.max(non_zero_moneyness):\n",
    "                            # Use closest value for extrapolation above range\n",
    "                            vol_surface[i, j] = vol_surface[i, non_zero_indices[-1]]\n",
    "                        else:\n",
    "                            # Safe interpolation within range\n",
    "                            vol_surface[i, j] = np.interp(moneyness, non_zero_moneyness, non_zero_vols)\n",
    "        \n",
    "        # Handle empty rows and fill remaining zeros with reasonable values\n",
    "        for i in range(vol_surface.shape[0]):\n",
    "            if not np.any(vol_surface[i, :]):\n",
    "                # If entire maturity slice is empty, fill with values from closest maturity\n",
    "                non_empty_rows = [r for r in range(vol_surface.shape[0]) if np.any(vol_surface[r, :])]\n",
    "                if non_empty_rows:\n",
    "                    closest_row = non_empty_rows[np.argmin(np.abs(np.array(non_empty_rows) - i))]\n",
    "                    vol_surface[i, :] = vol_surface[closest_row, :]\n",
    "                else:\n",
    "                    # If all rows are empty, use default estimate\n",
    "                    vol_surface[i, :] = 0.3\n",
    "        \n",
    "        # Fill any remaining zeros with a reasonable guess\n",
    "        median_vol = np.median(vol_surface[vol_surface > 0]) if np.any(vol_surface > 0) else 0.3\n",
    "        vol_surface[vol_surface == 0] = median_vol\n",
    "        \n",
    "        return vol_surface, strike_grid, np.array(selected_maturities), spot_price\n",
    "    \n",
    "    def filter_and_smooth_vol_surface(self, vol_surface, strikes, maturities, smoothing_level=0.1):\n",
    "        \"\"\"\n",
    "        Filter and smooth a volatility surface to remove noise\n",
    "        \n",
    "        Parameters:\n",
    "        -----------\n",
    "        vol_surface : numpy.ndarray\n",
    "            Raw volatility surface\n",
    "        strikes : array\n",
    "            Strike prices\n",
    "        maturities : array\n",
    "            Time to maturities\n",
    "        smoothing_level : float\n",
    "            Controls smoothing of the surface\n",
    "            \n",
    "        Returns:\n",
    "        --------\n",
    "        numpy.ndarray: Smoothed volatility surface\n",
    "        \"\"\"\n",
    "        # Check that we have enough data points\n",
    "        if vol_surface.shape[0] < 3 or vol_surface.shape[1] < 3:\n",
    "            # Not enough points for smoothing, return as is\n",
    "            return vol_surface\n",
    "        \n",
    "        # Clip extreme values\n",
    "        vol_median = np.median(vol_surface)\n",
    "        vol_std = np.std(vol_surface)\n",
    "        \n",
    "        lower_bound = max(0.05, vol_median - 3 * vol_std)\n",
    "        upper_bound = min(2.0, vol_median + 3 * vol_std)\n",
    "        \n",
    "        vol_surface = np.clip(vol_surface, lower_bound, upper_bound)\n",
    "        \n",
    "        # Apply smoothing with spline\n",
    "        smoothing_factor = smoothing_level * (len(strikes) * len(maturities))\n",
    "        \n",
    "        try:\n",
    "            # Create spline with appropriate smoothing\n",
    "            iv_spline = RectBivariateSpline(\n",
    "                maturities, strikes,\n",
    "                vol_surface,\n",
    "                kx=min(3, len(maturities)-1),\n",
    "                ky=min(3, len(strikes)-1),\n",
    "                s=smoothing_factor\n",
    "            )\n",
    "            \n",
    "            # Evaluate on the original grid\n",
    "            smoothed_surface = iv_spline(maturities, strikes)\n",
    "            \n",
    "            # Ensure the smoothed surface is reasonable\n",
    "            smoothed_surface = np.clip(smoothed_surface, lower_bound, upper_bound)\n",
    "            \n",
    "            return smoothed_surface\n",
    "        except Exception as e:\n",
    "            print(f\"Error during surface smoothing: {e}\")\n",
    "            # If smoothing fails, return the original surface\n",
    "            return vol_surface\n",
    "    \n",
    "    def visualize_vol_surface_3d(self, vol_surface, strikes, maturities, spot_price, \n",
    "                                title=\"Volatility Surface\", highlight_point=None, \n",
    "                                reconstructed_surface=None, show_plot=True, save_path=None):\n",
    "        \"\"\"\n",
    "        Create a 3D visualization of the volatility surface\n",
    "        \n",
    "        Parameters:\n",
    "        -----------\n",
    "        vol_surface : numpy.ndarray\n",
    "            Volatility surface data\n",
    "        strikes : array\n",
    "            Strike prices\n",
    "        maturities : array\n",
    "            Time to maturities\n",
    "        spot_price : float\n",
    "            Current spot price\n",
    "        title : str\n",
    "            Plot title\n",
    "        highlight_point : tuple, optional\n",
    "            (maturity_idx, strike_idx) point to highlight\n",
    "        reconstructed_surface : numpy.ndarray, optional\n",
    "            Reconstructed surface from autoencoder\n",
    "        show_plot : bool\n",
    "            Whether to display the plot\n",
    "        save_path : str, optional\n",
    "            Path to save the figure\n",
    "            \n",
    "        Returns:\n",
    "        --------\n",
    "        plotly.graph_objects.Figure: Surface plot\n",
    "        \"\"\"\n",
    "        # Create meshgrid for visualization\n",
    "        moneyness = strikes / spot_price\n",
    "        strike_grid, maturity_grid = np.meshgrid(moneyness, maturities)\n",
    "        \n",
    "        # Create figure\n",
    "        fig = go.Figure()\n",
    "        \n",
    "        # Add original surface\n",
    "        fig.add_trace(go.Surface(\n",
    "            z=vol_surface,\n",
    "            x=strike_grid,\n",
    "            y=maturity_grid,\n",
    "            colorscale='Viridis',\n",
    "            opacity=0.8,\n",
    "            name='Original Surface',\n",
    "            showscale=True,\n",
    "            colorbar=dict(\n",
    "                title=\"Implied Volatility\",\n",
    "                titleside=\"right\",\n",
    "                titlefont=dict(size=14),\n",
    "                tickformat=\".0%\"\n",
    "            )\n",
    "        ))\n",
    "        \n",
    "        # Add reconstructed surface if provided\n",
    "        if reconstructed_surface is not None:\n",
    "            fig.add_trace(go.Surface(\n",
    "                z=reconstructed_surface,\n",
    "                x=strike_grid,\n",
    "                y=maturity_grid,\n",
    "                colorscale='Plasma',\n",
    "                opacity=0.5,\n",
    "                name='Reconstructed Surface',\n",
    "                showscale=False\n",
    "            ))\n",
    "        \n",
    "        # Highlight anomaly point if provided\n",
    "        if highlight_point is not None:\n",
    "            maturity_idx, strike_idx = highlight_point\n",
    "            # Make sure indices are valid\n",
    "            if maturity_idx < len(maturities) and strike_idx < len(moneyness):\n",
    "                x = moneyness[strike_idx]\n",
    "                y = maturities[maturity_idx]\n",
    "                z = vol_surface[maturity_idx, strike_idx]\n",
    "                \n",
    "                fig.add_trace(go.Scatter3d(\n",
    "                    x=[x],\n",
    "                    y=[y],\n",
    "                    z=[z],\n",
    "                    mode='markers',\n",
    "                    marker=dict(\n",
    "                        size=8,\n",
    "                        color='red',\n",
    "                    ),\n",
    "                    name=f\"Anomaly: {z:.1%} IV\"\n",
    "                ))\n",
    "                \n",
    "                # Add a line to the surface\n",
    "                fig.add_trace(go.Scatter3d(\n",
    "                    x=[x, x],\n",
    "                    y=[y, y],\n",
    "                    z=[0, z],\n",
    "                    mode='lines',\n",
    "                    line=dict(\n",
    "                        color='red',\n",
    "                        width=3,\n",
    "                        dash='dash'\n",
    "                    ),\n",
    "                    showlegend=False\n",
    "                ))\n",
    "        \n",
    "        # Add ATM line\n",
    "        atm_idx = np.argmin(np.abs(moneyness - 1.0))\n",
    "        fig.add_trace(go.Scatter3d(\n",
    "            x=[1.0] * len(maturities),\n",
    "            y=maturities,\n",
    "            z=vol_surface[:, atm_idx],\n",
    "            mode='lines',\n",
    "            line=dict(\n",
    "                color='red',\n",
    "                width=4\n",
    "            ),\n",
    "            name=\"ATM Line\"\n",
    "        ))\n",
    "        \n",
    "        # Update layout\n",
    "        fig.update_layout(\n",
    "            title=dict(\n",
    "                text=title,\n",
    "                font=dict(size=20)\n",
    "            ),\n",
    "            scene=dict(\n",
    "                xaxis_title=\"Moneyness (K/S)\",\n",
    "                yaxis_title=\"Maturity (Years)\",\n",
    "                zaxis_title=\"Implied Volatility\",\n",
    "                zaxis=dict(tickformat=\".0%\"),\n",
    "                aspectratio=dict(x=1.5, y=1.5, z=0.8),\n",
    "                camera=dict(\n",
    "                    eye=dict(x=1.5, y=-1.5, z=0.8)\n",
    "                )\n",
    "            ),\n",
    "            margin=dict(l=0, r=0, b=0, t=65),\n",
    "            legend=dict(\n",
    "                yanchor=\"top\",\n",
    "                y=0.99,\n",
    "                xanchor=\"left\",\n",
    "                x=0.01,\n",
    "                bgcolor=\"rgba(255, 255, 255, 0.1)\"\n",
    "            ),\n",
    "            template=\"plotly_dark\"\n",
    "        )\n",
    "        \n",
    "        # Save if path provided\n",
    "        if save_path:\n",
    "            fig.write_html(save_path)\n",
    "        \n",
    "        # Show the plot if requested\n",
    "        if show_plot:\n",
    "            fig.show()\n",
    "        \n",
    "        return fig\n",
    "\n",
    "    def visualize_vol_skew(self, vol_surface, strikes, maturities, spot_price, \n",
    "                       maturity_indices=None, title=\"Volatility Skew\", \n",
    "                       highlight_point=None, show_plot=True, save_path=None):\n",
    "        \"\"\"\n",
    "        Create a visualization of volatility skew across different maturities\n",
    "        \n",
    "        Parameters:\n",
    "        -----------\n",
    "        vol_surface : numpy.ndarray\n",
    "            Volatility surface data\n",
    "        strikes : array\n",
    "            Strike prices\n",
    "        maturities : array\n",
    "            Time to maturities\n",
    "        spot_price : float\n",
    "            Current spot price\n",
    "        maturity_indices : list, optional\n",
    "            Indices of maturities to include\n",
    "        title : str\n",
    "            Plot title\n",
    "        highlight_point : tuple, optional\n",
    "            (maturity_idx, strike_idx) point to highlight\n",
    "        show_plot : bool\n",
    "            Whether to display the plot\n",
    "        save_path : str, optional\n",
    "            Path to save the figure\n",
    "            \n",
    "        Returns:\n",
    "        --------\n",
    "        matplotlib.figure.Figure: Skew figure\n",
    "        \"\"\"\n",
    "        # Convert strikes to moneyness\n",
    "        moneyness = strikes / spot_price\n",
    "        \n",
    "        # Select maturity indices if not provided\n",
    "        if maturity_indices is None:\n",
    "            # Select up to 4 maturities, evenly spaced\n",
    "            if len(maturities) <= 4:\n",
    "                maturity_indices = list(range(len(maturities)))\n",
    "            else:\n",
    "                maturity_indices = np.linspace(0, len(maturities)-1, 4).astype(int)\n",
    "        \n",
    "        # Create figure\n",
    "        plt.style.use('dark_background')\n",
    "        fig, ax = plt.subplots(figsize=(12, 8))\n",
    "        \n",
    "        # Plot skew for each selected maturity\n",
    "        colors = plt.cm.plasma(np.linspace(0, 1, len(maturity_indices)))\n",
    "        \n",
    "        for i, mat_idx in enumerate(maturity_indices):\n",
    "            if mat_idx < len(maturities):\n",
    "                # Get data for this maturity\n",
    "                vols = vol_surface[mat_idx, :]\n",
    "                \n",
    "                # Plot the skew\n",
    "                ax.plot(moneyness, vols, 'o-', linewidth=2, markersize=5, \n",
    "                       color=colors[i], label=f'T = {maturities[mat_idx]:.2f} years')\n",
    "        \n",
    "        # Add vertical line at ATM\n",
    "        ax.axvline(x=1.0, color='white', linestyle='--', alpha=0.7, label='ATM')\n",
    "        \n",
    "        # Highlight anomaly point if provided\n",
    "        if highlight_point is not None:\n",
    "            maturity_idx, strike_idx = highlight_point\n",
    "            if maturity_idx < len(maturities) and strike_idx < len(moneyness):\n",
    "                anomaly_moneyness = moneyness[strike_idx]\n",
    "                anomaly_vol = vol_surface[maturity_idx, strike_idx]\n",
    "                \n",
    "                ax.plot(anomaly_moneyness, anomaly_vol, 'r*', markersize=15, label='Anomaly')\n",
    "        \n",
    "        # Customize plot\n",
    "        ax.set_xlabel('Moneyness (K/S)', fontsize=14)\n",
    "        ax.set_ylabel('Implied Volatility', fontsize=14)\n",
    "        ax.set_title(title, fontsize=16)\n",
    "        ax.grid(True, alpha=0.3)\n",
    "        ax.legend()\n",
    "        \n",
    "        # Format y-axis as percentage\n",
    "        ax.yaxis.set_major_formatter(plt.FuncFormatter(lambda x, _: '{:.0%}'.format(x)))\n",
    "        \n",
    "        plt.tight_layout()\n",
    "        \n",
    "        # Save if path provided\n",
    "        if save_path:\n",
    "            plt.savefig(save_path, dpi=300, bbox_inches='tight')\n",
    "        \n",
    "        # Show the plot if requested\n",
    "        if show_plot:\n",
    "            plt.show()\n",
    "        \n",
    "        return fig\n",
    "\n",
    "class OptionsCalculator:\n",
    "    \"\"\"\n",
    "    A comprehensive options pricing calculator with support for various models\n",
    "    \"\"\"\n",
    "    def __init__(self, risk_free_rate=0.05, dividend_yield=0.0):\n",
    "        \"\"\"\n",
    "        Initialize the options calculator\n",
    "        \n",
    "        Parameters:\n",
    "        -----------\n",
    "        risk_free_rate : float\n",
    "            Risk-free interest rate (annual)\n",
    "        dividend_yield : float\n",
    "            Dividend yield (annual)\n",
    "        \"\"\"\n",
    "        self.risk_free_rate = risk_free_rate\n",
    "        self.dividend_yield = dividend_yield\n",
    "    \n",
    "    def set_parameters(self, risk_free_rate=None, dividend_yield=None):\n",
    "        \"\"\"\n",
    "        Update calculator parameters\n",
    "        \n",
    "        Parameters:\n",
    "        -----------\n",
    "        risk_free_rate : float, optional\n",
    "            Risk-free interest rate (annual)\n",
    "        dividend_yield : float, optional\n",
    "            Dividend yield (annual)\n",
    "        \"\"\"\n",
    "        if risk_free_rate is not None:\n",
    "            self.risk_free_rate = risk_free_rate\n",
    "        if dividend_yield is not None:\n",
    "            self.dividend_yield = dividend_yield\n",
    "    \n",
    "    def black_scholes_price(self, S, K, T, r, sigma, option_type='call'):\n",
    "        \"\"\"\n",
    "        Calculate option price using Black-Scholes model\n",
    "        \n",
    "        Parameters:\n",
    "        -----------\n",
    "        S : float\n",
    "            Underlying asset price\n",
    "        K : float\n",
    "            Strike price\n",
    "        T : float\n",
    "            Time to expiration (in years)\n",
    "        r : float\n",
    "            Risk-free interest rate (annual)\n",
    "        sigma : float\n",
    "            Volatility (annual)\n",
    "        option_type : str\n",
    "            'call' or 'put'\n",
    "            \n",
    "        Returns:\n",
    "        --------\n",
    "        float: Option price\n",
    "        \"\"\"\n",
    "        if T <= 0:\n",
    "            # Handle expired or about-to-expire options\n",
    "            if option_type.lower() == 'call':\n",
    "                return max(0, S - K)\n",
    "            else:\n",
    "                return max(0, K - S)\n",
    "        \n",
    "        # Calculate d1 and d2\n",
    "        d1 = (np.log(S / K) + (r + 0.5 * sigma**2) * T) / (sigma * np.sqrt(T))\n",
    "        d2 = d1 - sigma * np.sqrt(T)\n",
    "        \n",
    "        # Calculate option price based on type\n",
    "        if option_type.lower() == 'call':\n",
    "            price = S * norm.cdf(d1) - K * np.exp(-r * T) * norm.cdf(d2)\n",
    "        else:\n",
    "            price = K * np.exp(-r * T) * norm.cdf(-d2) - S * norm.cdf(-d1)\n",
    "        \n",
    "        return price\n",
    "    \n",
    "    def calculate_implied_volatility(self, price, S, K, T, r, option_type='call'):\n",
    "        \"\"\"\n",
    "        Calculate implied volatility using advanced numerical methods\n",
    "        \n",
    "        Parameters:\n",
    "        -----------\n",
    "        price : float\n",
    "            Market price of the option\n",
    "        S : float\n",
    "            Underlying asset price\n",
    "        K : float\n",
    "            Strike price\n",
    "        T : float\n",
    "            Time to expiration (in years)\n",
    "        r : float\n",
    "            Risk-free interest rate (annual)\n",
    "        option_type : str\n",
    "            'call' or 'put'\n",
    "            \n",
    "        Returns:\n",
    "        --------\n",
    "        float: Implied volatility\n",
    "        \"\"\"\n",
    "        # Basic validation\n",
    "        if price <= 0.001 or T <= 0.001:\n",
    "            return 0.15  # Return a reasonable default volatility for edge cases\n",
    "        \n",
    "        # Calculate intrinsic value\n",
    "        if option_type.lower() == 'call':\n",
    "            intrinsic = max(0, S - K)\n",
    "        else:\n",
    "            intrinsic = max(0, K - S)\n",
    "        \n",
    "        # If price is too close to intrinsic, adjust slightly for numerical stability\n",
    "        if price <= intrinsic * 1.01:\n",
    "            price = max(price, intrinsic * 1.02)\n",
    "        \n",
    "        # Calculate moneyness for better initial guess\n",
    "        moneyness = K / S\n",
    "        \n",
    "        # Initial guess based on moneyness (industry standard approach)\n",
    "        if abs(moneyness - 1.0) > 0.3:  # Deep ITM or OTM\n",
    "            initial_guess = 0.4\n",
    "        elif abs(moneyness - 1.0) > 0.1:  # Moderately ITM or OTM\n",
    "            initial_guess = 0.3\n",
    "        else:  # Near ATM\n",
    "            initial_guess = 0.2\n",
    "        \n",
    "        # Adjust for option maturity\n",
    "        if T > 0.5:  # Longer dated\n",
    "            initial_guess *= 0.9\n",
    "        elif T < 0.05:  # Very short dated\n",
    "            initial_guess *= 1.2\n",
    "        \n",
    "        # Define the objective function for Newton-Raphson method\n",
    "        def objective(sigma):\n",
    "            try:\n",
    "                model_price = self.black_scholes_price(S, K, T, r, sigma, option_type)\n",
    "                return model_price - price\n",
    "            except:\n",
    "                return 1000  # Return large error for failed calculation\n",
    "        \n",
    "        # Define the derivative of the objective function for Newton-Raphson\n",
    "        def derivative(sigma):\n",
    "            \"\"\"Vega approximation for Newton-Raphson\"\"\"\n",
    "            h = max(0.001, sigma * 0.01)  # Small step size proportional to sigma\n",
    "            return (objective(sigma + h) - objective(sigma)) / h\n",
    "        \n",
    "        # Method 1: Newton-Raphson with safeguards\n",
    "        try:\n",
    "            sigma = initial_guess\n",
    "            for i in range(50):  # Maximum 50 iterations\n",
    "                f_sigma = objective(sigma)\n",
    "                \n",
    "                # If we're close enough to the solution, return\n",
    "                if abs(f_sigma) < 1e-5:\n",
    "                    return max(0.01, min(2.0, sigma))  # Bound within reasonable range\n",
    "                \n",
    "                # Calculate derivative (vega)\n",
    "                f_prime = derivative(sigma)\n",
    "                \n",
    "                # Avoid division by near-zero\n",
    "                if abs(f_prime) < 1e-8:\n",
    "                    f_prime = 1e-8 if f_prime >= 0 else -1e-8\n",
    "                \n",
    "                # Newton step with dampening to avoid overshooting\n",
    "                delta_sigma = f_sigma / f_prime\n",
    "                if abs(delta_sigma) > 0.2:  # Limit step size\n",
    "                    delta_sigma = 0.2 * (delta_sigma / abs(delta_sigma))\n",
    "                \n",
    "                # Update sigma\n",
    "                new_sigma = sigma - delta_sigma\n",
    "                \n",
    "                # Bound sigma to reasonable range\n",
    "                new_sigma = max(0.01, min(2.0, new_sigma))\n",
    "                \n",
    "                # Check for convergence\n",
    "                if abs(new_sigma - sigma) < 1e-6:\n",
    "                    return new_sigma\n",
    "                \n",
    "                sigma = new_sigma\n",
    "        except Exception as e:\n",
    "            pass  # Proceed to alternative methods on failure\n",
    "        \n",
    "        # Method 2: Trial-and-Error with Interpolation\n",
    "        try:\n",
    "            # Create a grid of volatility values\n",
    "            sigmas = np.linspace(0.01, 2.0, 200)\n",
    "            prices = np.array([self.black_scholes_price(S, K, T, r, s, option_type) for s in sigmas])\n",
    "            \n",
    "            # Find where the price curve crosses the market price\n",
    "            price_diff = prices - price\n",
    "            sign_changes = np.where(np.diff(np.signbit(price_diff)))[0]\n",
    "            \n",
    "            if len(sign_changes) > 0:\n",
    "                # Interpolate between the two closest points\n",
    "                idx = sign_changes[0]\n",
    "                sigma_low, sigma_high = sigmas[idx], sigmas[idx + 1]\n",
    "                price_low, price_high = prices[idx], prices[idx + 1]\n",
    "                \n",
    "                # Linear interpolation\n",
    "                if price_high != price_low:  # Avoid division by zero\n",
    "                    sigma_interp = sigma_low + (sigma_high - sigma_low) * (price - price_low) / (price_high - price_low)\n",
    "                    return sigma_interp\n",
    "                else:\n",
    "                    return sigma_low\n",
    "            \n",
    "            # If no sign change, find closest price match\n",
    "            idx = np.argmin(np.abs(prices - price))\n",
    "            return sigmas[idx]\n",
    "        except Exception as e:\n",
    "            pass\n",
    "        \n",
    "        # Method 3: Simplified approximation using moneyness and time decay\n",
    "        # Based on the 1 Standard Deviation Rule mentioned in the article\n",
    "        # This is a fallback method for when all else fails\n",
    "        \n",
    "        # Calculate baseline IV based on moneyness\n",
    "        if option_type.lower() == 'call':\n",
    "            if moneyness < 0.9:  # ITM\n",
    "                baseline_iv = 0.25\n",
    "            elif moneyness > 1.1:  # OTM\n",
    "                baseline_iv = 0.35\n",
    "            else:  # ATM\n",
    "                baseline_iv = 0.20\n",
    "        else:  # Put\n",
    "            if moneyness > 1.1:  # ITM\n",
    "                baseline_iv = 0.25\n",
    "            elif moneyness < 0.9:  # OTM\n",
    "                baseline_iv = 0.35\n",
    "            else:  # ATM\n",
    "                baseline_iv = 0.20\n",
    "        \n",
    "        # Adjust for time\n",
    "        if T <= 0.1:  # Very short-dated\n",
    "            baseline_iv *= 1.3\n",
    "        elif T <= 0.25:  # Short-dated\n",
    "            baseline_iv *= 1.1\n",
    "        elif T >= 1.0:  # Long-dated\n",
    "            baseline_iv *= 0.9\n",
    "        \n",
    "        return baseline_iv\n",
    "    \n",
    "    def binomial_tree_american_price(self, S, K, T, r, sigma, option_type='call', steps=50, dividend_yield=None):\n",
    "        \"\"\"\n",
    "        Calculate American option price using binomial tree model with numerical stability improvements\n",
    "        \n",
    "        Parameters:\n",
    "        -----------\n",
    "        S : float\n",
    "            Underlying asset price\n",
    "        K : float\n",
    "            Strike price\n",
    "        T : float\n",
    "            Time to expiration (in years)\n",
    "        r : float\n",
    "            Risk-free interest rate (annual)\n",
    "        sigma : float\n",
    "            Volatility (annual)\n",
    "        option_type : str\n",
    "            'call' or 'put'\n",
    "        steps : int\n",
    "            Number of time steps in the tree (reduced default for stability)\n",
    "        dividend_yield : float, optional\n",
    "            Dividend yield (annual), defaults to instance value if None\n",
    "            \n",
    "        Returns:\n",
    "        --------\n",
    "        float: Option price\n",
    "        \"\"\"\n",
    "        if T <= 0:\n",
    "            # Handle expired or about-to-expire options\n",
    "            if option_type.lower() == 'call':\n",
    "                return max(0, S - K)\n",
    "            else:\n",
    "                return max(0, K - S)\n",
    "        \n",
    "        # Use fewer steps for numerical stability\n",
    "        steps = min(steps, 70)  # Cap at 70 steps to avoid overflow\n",
    "        \n",
    "        # Set dividend yield\n",
    "        q = self.dividend_yield if dividend_yield is None else dividend_yield\n",
    "        \n",
    "        # Time step\n",
    "        dt = T / steps\n",
    "        \n",
    "        # Calculate up and down factors with numerical stability\n",
    "        u = np.exp(sigma * np.sqrt(dt))\n",
    "        d = 1 / u\n",
    "        \n",
    "        # Risk-neutral probability with bounds check\n",
    "        p_temp = (np.exp((r - q) * dt) - d) / (u - d)\n",
    "        p = max(0.001, min(0.999, p_temp))  # Bound probability to avoid edge cases\n",
    "        \n",
    "        # Calculate discount factor once\n",
    "        discount = np.exp(-r * dt)\n",
    "        \n",
    "        # Initialize asset price tree using logarithmic spacing for numerical stability\n",
    "        # at final step (step = steps)\n",
    "        price_tree = np.zeros(steps + 1)\n",
    "        for j in range(steps + 1):\n",
    "            price_tree[j] = S * (u ** j) * (d ** (steps - j))\n",
    "        \n",
    "        # Initialize option values at final time step\n",
    "        option_tree = np.zeros(steps + 1)\n",
    "        if option_type.lower() == 'call':\n",
    "            for j in range(steps + 1):\n",
    "                option_tree[j] = max(0, price_tree[j] - K)\n",
    "        else:\n",
    "            for j in range(steps + 1):\n",
    "                option_tree[j] = max(0, K - price_tree[j])\n",
    "        \n",
    "        # Backward induction through the tree\n",
    "        for i in range(steps - 1, -1, -1):\n",
    "            # Calculate asset prices at this step for intrinsic value\n",
    "            for j in range(i + 1):\n",
    "                # Asset price at this node\n",
    "                asset_price = S * (u ** j) * (d ** (i - j))\n",
    "                \n",
    "                # Option value if held (continuation value)\n",
    "                continuation = discount * (p * option_tree[j + 1] + (1 - p) * option_tree[j])\n",
    "                \n",
    "                # Option value if exercised (intrinsic value)\n",
    "                if option_type.lower() == 'call':\n",
    "                    intrinsic = max(0, asset_price - K)\n",
    "                else:\n",
    "                    intrinsic = max(0, K - asset_price)\n",
    "                \n",
    "                # For American options, take maximum of continuation and intrinsic values\n",
    "                option_tree[j] = max(continuation, intrinsic)\n",
    "        \n",
    "        # Apply sanity check to final output\n",
    "        result = option_tree[0]\n",
    "        \n",
    "        # Bound the result to avoid unrealistic values\n",
    "        # Maximum value is 2x the stock price for calls or strike for puts\n",
    "        if option_type.lower() == 'call':\n",
    "            max_value = 2 * S\n",
    "        else:\n",
    "            max_value = K\n",
    "        \n",
    "        # Minimum value is 0\n",
    "        result = max(0, min(max_value, result))\n",
    "        \n",
    "        # Calculate Black-Scholes price for comparison\n",
    "        bs_price = self.black_scholes_price(S, K, T, r, sigma, option_type)\n",
    "        \n",
    "        # Calculate early exercise premium\n",
    "        premium = max(0, result - bs_price)\n",
    "        \n",
    "        # Apply additional sanity check on premium (shouldn't exceed 25% of BS price)\n",
    "        max_premium = 0.25 * max(bs_price, 0.01)\n",
    "        premium = min(premium, max_premium)\n",
    "        \n",
    "        # Return American price\n",
    "        return bs_price + premium\n",
    "    \n",
    "    def calculate_greeks(self, S, K, T, r, sigma, option_type='call', model='black_scholes', american=False):\n",
    "        \"\"\"\n",
    "        Calculate option Greeks\n",
    "        \n",
    "        Parameters:\n",
    "        -----------\n",
    "        S : float\n",
    "            Underlying asset price\n",
    "        K : float\n",
    "            Strike price\n",
    "        T : float\n",
    "            Time to expiration (in years)\n",
    "        r : float\n",
    "            Risk-free interest rate (annual)\n",
    "        sigma : float\n",
    "            Volatility (annual)\n",
    "        option_type : str\n",
    "            'call' or 'put'\n",
    "        model : str\n",
    "            Pricing model ('black_scholes' or 'binomial')\n",
    "        american : bool\n",
    "            Whether the option is American-style (only for binomial model)\n",
    "            \n",
    "        Returns:\n",
    "        --------\n",
    "        dict: Option Greeks (delta, gamma, theta, vega, rho)\n",
    "        \"\"\"\n",
    "        # Small change values for finite differences\n",
    "        dS = S * 0.01  # 1% of stock price\n",
    "        dsigma = 0.005  # 0.5 percentage points\n",
    "        dT = 1/365  # One day\n",
    "        dr = 0.0005  # 0.05 percentage points\n",
    "        \n",
    "        if model.lower() == 'black_scholes':\n",
    "            # Calculate d1 and d2\n",
    "            d1 = (np.log(S / K) + (r + 0.5 * sigma**2) * T) / (sigma * np.sqrt(T))\n",
    "            d2 = d1 - sigma * np.sqrt(T)\n",
    "            \n",
    "            # Delta\n",
    "            if option_type.lower() == 'call':\n",
    "                delta = norm.cdf(d1)\n",
    "            else:\n",
    "                delta = norm.cdf(d1) - 1\n",
    "            \n",
    "            # Gamma (same for calls and puts)\n",
    "            gamma = norm.pdf(d1) / (S * sigma * np.sqrt(T))\n",
    "            \n",
    "            # Theta (per day)\n",
    "            term1 = -S * norm.pdf(d1) * sigma / (2 * np.sqrt(T))\n",
    "            if option_type.lower() == 'call':\n",
    "                term2 = -r * K * np.exp(-r * T) * norm.cdf(d2)\n",
    "                theta = (term1 + term2) / 365\n",
    "            else:\n",
    "                term2 = r * K * np.exp(-r * T) * norm.cdf(-d2)\n",
    "                theta = (term1 + term2) / 365\n",
    "            \n",
    "            # Vega (for 1% change in volatility)\n",
    "            vega = S * np.sqrt(T) * norm.pdf(d1) * 0.01\n",
    "            \n",
    "            # Rho (for 1% change in interest rate)\n",
    "            if option_type.lower() == 'call':\n",
    "                rho = K * T * np.exp(-r * T) * norm.cdf(d2) * 0.01\n",
    "            else:\n",
    "                rho = -K * T * np.exp(-r * T) * norm.cdf(-d2) * 0.01\n",
    "        else:\n",
    "            # For binomial, use finite differences\n",
    "            if american:\n",
    "                price_func = lambda s, t, vol, rate: self.binomial_tree_american_price(\n",
    "                    s, K, t, rate, vol, option_type)\n",
    "            else:\n",
    "                price_func = lambda s, t, vol, rate: self.black_scholes_price(\n",
    "                    s, K, t, rate, vol, option_type)\n",
    "            \n",
    "            # Base price\n",
    "            base_price = price_func(S, T, sigma, r)\n",
    "            \n",
    "            # Delta: dPrice/dS\n",
    "            delta = (price_func(S + dS, T, sigma, r) - price_func(S - dS, T, sigma, r)) / (2 * dS)\n",
    "            \n",
    "            # Gamma: d²Price/dS²\n",
    "            gamma = (price_func(S + dS, T, sigma, r) - 2 * base_price + price_func(S - dS, T, sigma, r)) / (dS**2)\n",
    "            \n",
    "            # Theta: -dPrice/dT (per day)\n",
    "            theta = -(price_func(S, T + dT, sigma, r) - base_price) / dT / 365\n",
    "            \n",
    "            # Vega: dPrice/dSigma (for 1% change)\n",
    "            vega = (price_func(S, T, sigma + dsigma, r) - price_func(S, T, sigma - dsigma, r)) / (2 * dsigma) * 0.01\n",
    "            \n",
    "            # Rho: dPrice/dr (for 1% change)\n",
    "            rho = (price_func(S, T, sigma, r + dr) - price_func(S, T, sigma, r - dr)) / (2 * dr) * 0.01\n",
    "        \n",
    "        return {\n",
    "            'delta': delta,\n",
    "            'gamma': gamma,\n",
    "            'theta': theta,\n",
    "            'vega': vega,\n",
    "            'rho': rho\n",
    "        }\n",
    "    \n",
    "    def enhance_option_data(self, option_data):\n",
    "        \"\"\"\n",
    "        Enhance option data with additional calculated fields\n",
    "        \n",
    "        Parameters:\n",
    "        -----------\n",
    "        option_data : dict\n",
    "            Option data structure\n",
    "            \n",
    "        Returns:\n",
    "        --------\n",
    "        dict: Enhanced option data\n",
    "        \"\"\"\n",
    "        # Extract data\n",
    "        ticker = option_data['ticker']\n",
    "        spot_price = option_data['spot_price']\n",
    "        calls = option_data['calls'].copy()\n",
    "        puts = option_data['puts'].copy()\n",
    "        r = option_data.get('risk_free_rate', self.risk_free_rate)\n",
    "        \n",
    "        print(f\"Enhancing option data for {ticker} with Greeks calculation...\")\n",
    "        \n",
    "        # Initialize columns for Greeks\n",
    "        greek_cols = ['delta', 'gamma', 'theta', 'vega', 'rho']\n",
    "        \n",
    "        # Process calls\n",
    "        for col in greek_cols:\n",
    "            calls[col] = np.nan\n",
    "        \n",
    "        # First, make sure all options have reasonable implied volatility values\n",
    "        for idx, row in calls.iterrows():\n",
    "            S = spot_price\n",
    "            K = row['strike']\n",
    "            T = row['tte']\n",
    "            \n",
    "            # For options with no/low bid-ask, use heuristics for IV\n",
    "            if pd.isna(row['impliedVolatility']) or row['impliedVolatility'] <= 0.01:\n",
    "                # Calculate realistic IV from option price\n",
    "                try:\n",
    "                    if row['usePrice'] > 0:\n",
    "                        iv = self.calculate_implied_volatility(row['usePrice'], S, K, T, r, 'call')\n",
    "                        calls.at[idx, 'impliedVolatility'] = iv\n",
    "                except Exception as e:\n",
    "                    # Use heuristic approximation if calculation fails\n",
    "                    moneyness = K / S\n",
    "                    if moneyness < 0.95:  # ITM\n",
    "                        calls.at[idx, 'impliedVolatility'] = 0.20\n",
    "                    elif moneyness > 1.05:  # OTM\n",
    "                        calls.at[idx, 'impliedVolatility'] = 0.30\n",
    "                    else:  # ATM\n",
    "                        calls.at[idx, 'impliedVolatility'] = 0.25\n",
    "                    print(f\"Used heuristic IV for call option {idx}\")\n",
    "        \n",
    "        # Now calculate Greeks with improved IV values\n",
    "        for idx, row in calls.iterrows():\n",
    "            S = spot_price\n",
    "            K = row['strike']\n",
    "            T = row['tte']\n",
    "            sigma = row['impliedVolatility']\n",
    "            \n",
    "            # Skip invalid data\n",
    "            if pd.isna(sigma) or sigma <= 0 or T <= 0:\n",
    "                continue\n",
    "            \n",
    "            # Calculate Greeks\n",
    "            try:\n",
    "                greeks = self.calculate_greeks(S, K, T, r, sigma, 'call')\n",
    "                for greek, value in greeks.items():\n",
    "                    calls.at[idx, greek] = value\n",
    "            except Exception as e:\n",
    "                print(f\"Error calculating Greeks for call option {idx}: {e}\")\n",
    "        \n",
    "        # Process puts - first improve IV values\n",
    "        for col in greek_cols:\n",
    "            puts[col] = np.nan\n",
    "        \n",
    "        for idx, row in puts.iterrows():\n",
    "            S = spot_price\n",
    "            K = row['strike']\n",
    "            T = row['tte']\n",
    "            \n",
    "            # For options with no/low bid-ask, use heuristics for IV\n",
    "            if pd.isna(row['impliedVolatility']) or row['impliedVolatility'] <= 0.01:\n",
    "                # Calculate realistic IV from option price\n",
    "                try:\n",
    "                    if row['usePrice'] > 0:\n",
    "                        iv = self.calculate_implied_volatility(row['usePrice'], S, K, T, r, 'put')\n",
    "                        puts.at[idx, 'impliedVolatility'] = iv\n",
    "                except Exception as e:\n",
    "                    # Use heuristic approximation if calculation fails\n",
    "                    moneyness = K / S\n",
    "                    if moneyness > 1.05:  # ITM\n",
    "                        puts.at[idx, 'impliedVolatility'] = 0.20\n",
    "                    elif moneyness < 0.95:  # OTM\n",
    "                        puts.at[idx, 'impliedVolatility'] = 0.30\n",
    "                    else:  # ATM\n",
    "                        puts.at[idx, 'impliedVolatility'] = 0.25\n",
    "                    print(f\"Used heuristic IV for put option {idx}\")\n",
    "        \n",
    "        # Calculate Greeks for puts with improved IV values\n",
    "        for idx, row in puts.iterrows():\n",
    "            S = spot_price\n",
    "            K = row['strike']\n",
    "            T = row['tte']\n",
    "            sigma = row['impliedVolatility']\n",
    "            \n",
    "            # Skip invalid data\n",
    "            if pd.isna(sigma) or sigma <= 0 or T <= 0:\n",
    "                continue\n",
    "            \n",
    "            # Calculate Greeks\n",
    "            try:\n",
    "                greeks = self.calculate_greeks(S, K, T, r, sigma, 'put')\n",
    "                for greek, value in greeks.items():\n",
    "                    puts.at[idx, greek] = value\n",
    "            except Exception as e:\n",
    "                print(f\"Error calculating Greeks for put option {idx}: {e}\")\n",
    "        \n",
    "        # Add American option premiums\n",
    "        calls['american_premium'] = np.nan\n",
    "        puts['american_premium'] = np.nan\n",
    "        \n",
    "        # Calculate early exercise premium for a subset of options\n",
    "        # (for efficiency, we'll calculate for near-the-money options with significant time value)\n",
    "        sample_calls = calls[(calls['moneyness'] > 0.9) & (calls['moneyness'] < 1.1) & (calls['tte'] > 0.1)]\n",
    "        sample_puts = puts[(puts['moneyness'] > 0.9) & (puts['moneyness'] < 1.1) & (puts['tte'] > 0.1)]\n",
    "        \n",
    "        # Take a random sample of up to 10 options\n",
    "        if len(sample_calls) > 10:\n",
    "            sample_calls = sample_calls.sample(10)\n",
    "        if len(sample_puts) > 10:\n",
    "            sample_puts = sample_puts.sample(10)\n",
    "        \n",
    "        print(\"Calculating American option premiums for a sample of options...\")\n",
    "        \n",
    "        # Calculate for sampled calls\n",
    "        for idx, row in sample_calls.iterrows():\n",
    "            S = spot_price\n",
    "            K = row['strike']\n",
    "            T = row['tte']\n",
    "            sigma = row['impliedVolatility']\n",
    "            \n",
    "            if pd.isna(sigma) or sigma <= 0 or T <= 0:\n",
    "                continue\n",
    "            \n",
    "            try:\n",
    "                # European price (Black-Scholes)\n",
    "                european_price = self.black_scholes_price(S, K, T, r, sigma, 'call')\n",
    "                \n",
    "                # American price (Binomial Tree)\n",
    "                american_price = self.binomial_tree_american_price(S, K, T, r, sigma, 'call')\n",
    "                \n",
    "                # Early exercise premium\n",
    "                premium = american_price - european_price\n",
    "                calls.at[idx, 'american_premium'] = premium\n",
    "            except Exception as e:\n",
    "                print(f\"Error calculating American premium for call option {idx}: {e}\")\n",
    "        \n",
    "        # Calculate for sampled puts\n",
    "        for idx, row in sample_puts.iterrows():\n",
    "            S = spot_price\n",
    "            K = row['strike']\n",
    "            T = row['tte']\n",
    "            sigma = row['impliedVolatility']\n",
    "            \n",
    "            if pd.isna(sigma) or sigma <= 0 or T <= 0:\n",
    "                continue\n",
    "            \n",
    "            try:\n",
    "                # European price (Black-Scholes)\n",
    "                european_price = self.black_scholes_price(S, K, T, r, sigma, 'put')\n",
    "                \n",
    "                # American price (Binomial Tree)\n",
    "                american_price = self.binomial_tree_american_price(S, K, T, r, sigma, 'put')\n",
    "                \n",
    "                # Early exercise premium\n",
    "                premium = american_price - european_price\n",
    "                puts.at[idx, 'american_premium'] = premium\n",
    "            except Exception as e:\n",
    "                print(f\"Error calculating American premium for put option {idx}: {e}\")\n",
    "        \n",
    "        # Update option data\n",
    "        enhanced_data = option_data.copy()\n",
    "        enhanced_data['calls'] = calls\n",
    "        enhanced_data['puts'] = puts\n",
    "        \n",
    "        print(\"Option data enhancement completed.\")\n",
    "        \n",
    "        return enhanced_data\n",
    "    \n",
    "    def _estimate_theoretical_price(self, S, K, T, r, sigma=0.20, option_type='call'):\n",
    "        \"\"\"\n",
    "        Estimate theoretical option price using Black-Scholes\n",
    "        when market prices are unavailable\n",
    "        \n",
    "        Parameters:\n",
    "        -----------\n",
    "        S : float\n",
    "            Underlying asset price\n",
    "        K : float\n",
    "            Strike price\n",
    "        T : float\n",
    "            Time to expiration (in years)\n",
    "        r : float\n",
    "            Risk-free interest rate (annual)\n",
    "        sigma : float\n",
    "            Volatility estimate (default: 20%)\n",
    "        option_type : str\n",
    "            'call' or 'put'\n",
    "            \n",
    "        Returns:\n",
    "        --------\n",
    "        float: Estimated option price\n",
    "        \"\"\"\n",
    "        try:\n",
    "            # Use Black-Scholes for estimation\n",
    "            return self.black_scholes_price(S, K, T, r, sigma, option_type)\n",
    "        except:\n",
    "            # Rough approximation as last resort\n",
    "            moneyness = K/S\n",
    "            if option_type.lower() == 'call':\n",
    "                if moneyness < 0.95:  # ITM\n",
    "                    return max(0.01, S - K)\n",
    "                elif moneyness > 1.05:  # OTM\n",
    "                    return max(0.01, S * 0.03 * np.exp(-moneyness))\n",
    "                else:  # ATM\n",
    "                    return max(0.01, S * 0.04)\n",
    "            else:  # Put\n",
    "                if moneyness > 1.05:  # ITM\n",
    "                    return max(0.01, K - S)\n",
    "                elif moneyness < 0.95:  # OTM\n",
    "                    return max(0.01, S * 0.03 * np.exp(1/moneyness))\n",
    "                else:  # ATM\n",
    "                    return max(0.01, S * 0.04)\n",
    "\n",
    "class OptionsStrategyAnalyzer:\n",
    "    \"\"\"\n",
    "    Analyzes and recommends option strategies based on market conditions\n",
    "    \"\"\"\n",
    "    def __init__(self, options_calculator=None):\n",
    "        \"\"\"\n",
    "        Initialize the strategy analyzer\n",
    "        \n",
    "        Parameters:\n",
    "        -----------\n",
    "        options_calculator : OptionsCalculator, optional\n",
    "            Calculator for option pricing\n",
    "        \"\"\"\n",
    "        self.calculator = options_calculator if options_calculator else OptionsCalculator()\n",
    "\n",
    "    def recommend_strategies_with_ml(self, market_conditions, anomaly_results, risk_tolerance='moderate'):\n",
    "        \"\"\"\n",
    "        Recommend option strategies based on market conditions and ML-detected anomalies\n",
    "        \n",
    "        Parameters:\n",
    "        -----------\n",
    "        market_conditions : dict\n",
    "            Market condition analysis\n",
    "        anomaly_results : dict\n",
    "            Anomaly detection results from ML\n",
    "        risk_tolerance : str\n",
    "            'low', 'moderate', or 'high'\n",
    "            \n",
    "        Returns:\n",
    "        --------\n",
    "        dict: Strategy recommendations incorporating ML insights\n",
    "        \"\"\"\n",
    "        # Get standard recommendations first\n",
    "        base_recommendations = self.recommend_strategies(market_conditions, risk_tolerance)\n",
    "        \n",
    "        # Check if we have anomalies to exploit\n",
    "        anomalies = anomaly_results.get('top_anomalies', [])\n",
    "        if not anomalies or not anomaly_results.get('is_anomaly', False):\n",
    "            # No significant anomalies, return base recommendations\n",
    "            return base_recommendations\n",
    "        \n",
    "        # Initialize ML-enhanced recommendations\n",
    "        ml_recommendations = []\n",
    "        \n",
    "        # Process each anomaly to generate strategy recommendations\n",
    "        for anomaly in anomalies:\n",
    "            strike = anomaly['strike']\n",
    "            maturity = anomaly['maturity']\n",
    "            moneyness = anomaly['moneyness']\n",
    "            trade_direction = anomaly['trade_direction']\n",
    "            option_type = anomaly['option_type']\n",
    "            \n",
    "            # Generate strategies based on the anomaly\n",
    "            if trade_direction == \"Buy\" and option_type == \"Call\":\n",
    "                # Underpriced call - bullish opportunity\n",
    "                strategy = {\n",
    "                    'strategy': 'Long Call (ML)',\n",
    "                    'score': 7,  # Higher score due to ML detection\n",
    "                    'description': f'Buy underpriced call at strike ${strike:.2f} expiring in {maturity:.2f} years',\n",
    "                    'outlook': 'bullish',\n",
    "                    'rationale': 'ML detected underpriced call option',\n",
    "                    'max_loss': 'limited to premium paid',\n",
    "                    'max_gain': 'unlimited',\n",
    "                    'break_even': f'strike price + premium paid',\n",
    "                    'volatility_bias': 'low',\n",
    "                    'complexity': 'low',\n",
    "                    'anomaly_details': anomaly\n",
    "                }\n",
    "                ml_recommendations.append(strategy)\n",
    "                \n",
    "                # Add a call spread as alternative\n",
    "                if moneyness < 1.1:  # Not too far OTM\n",
    "                    strategy = {\n",
    "                        'strategy': 'Bull Call Spread (ML)',\n",
    "                        'score': 6,\n",
    "                        'description': f'Buy underpriced call at ${strike:.2f} and sell call at higher strike',\n",
    "                        'outlook': 'moderately bullish',\n",
    "                        'rationale': 'ML detected underpriced call option',\n",
    "                        'max_loss': 'limited to net premium paid',\n",
    "                        'max_gain': 'limited to difference between strikes - net premium',\n",
    "                        'break_even': 'lower strike + net premium paid',\n",
    "                        'volatility_bias': 'neutral',\n",
    "                        'complexity': 'moderate',\n",
    "                        'anomaly_details': anomaly\n",
    "                    }\n",
    "                    ml_recommendations.append(strategy)\n",
    "                    \n",
    "            elif trade_direction == \"Buy\" and option_type == \"Put\":\n",
    "                # Underpriced put - bearish opportunity\n",
    "                strategy = {\n",
    "                    'strategy': 'Long Put (ML)',\n",
    "                    'score': 7,\n",
    "                    'description': f'Buy underpriced put at strike ${strike:.2f} expiring in {maturity:.2f} years',\n",
    "                    'outlook': 'bearish',\n",
    "                    'rationale': 'ML detected underpriced put option',\n",
    "                    'max_loss': 'limited to premium paid',\n",
    "                    'max_gain': 'limited (stock to zero - premium)',\n",
    "                    'break_even': 'strike price - premium paid',\n",
    "                    'volatility_bias': 'low',\n",
    "                    'complexity': 'low',\n",
    "                    'anomaly_details': anomaly\n",
    "                }\n",
    "                ml_recommendations.append(strategy)\n",
    "                \n",
    "                # Add a put spread as alternative\n",
    "                if moneyness > 0.9:  # Not too far OTM\n",
    "                    strategy = {\n",
    "                        'strategy': 'Bear Put Spread (ML)',\n",
    "                        'score': 6,\n",
    "                        'description': f'Buy underpriced put at ${strike:.2f} and sell put at lower strike',\n",
    "                        'outlook': 'moderately bearish',\n",
    "                        'rationale': 'ML detected underpriced put option',\n",
    "                        'max_loss': 'limited to net premium paid',\n",
    "                        'max_gain': 'limited to difference between strikes - net premium',\n",
    "                        'break_even': 'higher strike - net premium paid',\n",
    "                        'volatility_bias': 'neutral',\n",
    "                        'complexity': 'moderate',\n",
    "                        'anomaly_details': anomaly\n",
    "                    }\n",
    "                    ml_recommendations.append(strategy)\n",
    "                    \n",
    "            elif trade_direction == \"Sell\" and option_type == \"Call\":\n",
    "                # Overpriced call - bearish/neutral opportunity\n",
    "                strategy = {\n",
    "                    'strategy': 'Bear Call Spread (ML)',\n",
    "                    'score': 7,\n",
    "                    'description': f'Sell overpriced call at strike ${strike:.2f} expiring in {maturity:.2f} years and buy higher strike call',\n",
    "                    'outlook': 'moderately bearish',\n",
    "                    'rationale': 'ML detected overpriced call option',\n",
    "                    'max_loss': 'limited to difference between strikes - net premium',\n",
    "                    'max_gain': 'limited to net premium received',\n",
    "                    'break_even': 'lower strike + net premium received',\n",
    "                    'volatility_bias': 'high',\n",
    "                    'complexity': 'moderate',\n",
    "                    'anomaly_details': anomaly\n",
    "                }\n",
    "                ml_recommendations.append(strategy)\n",
    "                \n",
    "            elif trade_direction == \"Sell\" and option_type == \"Put\":\n",
    "                # Overpriced put - bullish/neutral opportunity\n",
    "                strategy = {\n",
    "                    'strategy': 'Bull Put Spread (ML)',\n",
    "                    'score': 7,\n",
    "                    'description': f'Sell overpriced put at strike ${strike:.2f} expiring in {maturity:.2f} years and buy lower strike put',\n",
    "                    'outlook': 'moderately bullish',\n",
    "                    'rationale': 'ML detected overpriced put option',\n",
    "                    'max_loss': 'limited to difference between strikes - net premium',\n",
    "                    'max_gain': 'limited to net premium received',\n",
    "                    'break_even': 'higher strike - net premium received',\n",
    "                    'volatility_bias': 'high',\n",
    "                    'complexity': 'moderate',\n",
    "                    'anomaly_details': anomaly\n",
    "                }\n",
    "                ml_recommendations.append(strategy)\n",
    "        \n",
    "        # Check if the ML recommendations align with market outlook\n",
    "        market_outlook = base_recommendations['market_outlook']\n",
    "        \n",
    "        # Filter and prioritize ML recommendations that align with market outlook\n",
    "        aligned_recommendations = []\n",
    "        misaligned_recommendations = []\n",
    "        \n",
    "        for rec in ml_recommendations:\n",
    "            if (market_outlook == \"Bullish\" and rec['outlook'] in ['bullish', 'moderately bullish']) or \\\n",
    "               (market_outlook == \"Bearish\" and rec['outlook'] in ['bearish', 'moderately bearish']) or \\\n",
    "               (market_outlook == \"Neutral\" and 'neutral' in rec['outlook']):\n",
    "                # Boost score for aligned recommendations\n",
    "                rec['score'] += 1\n",
    "                aligned_recommendations.append(rec)\n",
    "            else:\n",
    "                misaligned_recommendations.append(rec)\n",
    "        \n",
    "        # Combine recommendations\n",
    "        # Priority: 1. Aligned ML recommendations, 2. Base recommendations, 3. Misaligned ML recommendations\n",
    "        final_recommendations = aligned_recommendations + base_recommendations['recommendations']\n",
    "        \n",
    "        # Sort by score\n",
    "        final_recommendations = sorted(final_recommendations, key=lambda x: x['score'], reverse=True)\n",
    "        \n",
    "        # Take top 3\n",
    "        top_recommendations = final_recommendations[:3]\n",
    "        \n",
    "        # Add market regime information from ML\n",
    "        result = {\n",
    "            'market_outlook': base_recommendations['market_outlook'],\n",
    "            'volatility_outlook': base_recommendations['volatility_outlook'],\n",
    "            'risk_tolerance': risk_tolerance,\n",
    "            'recommendations': top_recommendations,\n",
    "            'ml_enhanced': True,\n",
    "            'anomaly_detected': anomaly_results.get('is_anomaly', False)\n",
    "        }\n",
    "        \n",
    "        return result\n",
    "\n",
    "    \n",
    "    def analyze_market_conditions(self, option_data, vol_surface=None):\n",
    "        \"\"\"\n",
    "        Analyze current market conditions from option data\n",
    "        \n",
    "        Parameters:\n",
    "        -----------\n",
    "        option_data : dict\n",
    "            Option data structure\n",
    "        vol_surface : tuple, optional\n",
    "            (surface, strikes, maturities, spot_price) from vol surface analysis\n",
    "            \n",
    "        Returns:\n",
    "        --------\n",
    "        dict: Market condition analysis\n",
    "        \"\"\"\n",
    "        # Extract data\n",
    "        ticker = option_data['ticker']\n",
    "        spot_price = option_data['spot_price']\n",
    "        calls = option_data['calls']\n",
    "        puts = option_data['puts']\n",
    "        \n",
    "        # Calculate put-call ratio\n",
    "        call_volume = calls['volume'].sum()\n",
    "        put_volume = puts['volume'].sum()\n",
    "        put_call_ratio = put_volume / call_volume if call_volume > 0 else float('nan')\n",
    "        \n",
    "        # Check if we have the vol surface\n",
    "        vol_skew = None\n",
    "        vol_term_structure = None\n",
    "        \n",
    "        if vol_surface is not None:\n",
    "            surface, strikes, maturities, _ = vol_surface\n",
    "            \n",
    "            # Calculate volatility skew (difference between OTM puts and ATM)\n",
    "            moneyness = strikes / spot_price\n",
    "            atm_idx = np.argmin(np.abs(moneyness - 1.0))\n",
    "            \n",
    "            # Find OTM put index (moneyness around 0.9)\n",
    "            otm_put_idx = np.argmin(np.abs(moneyness - 0.9))\n",
    "            \n",
    "            # Calculate skew for the first maturity\n",
    "            if len(surface) > 0:\n",
    "                vol_skew = float(surface[0, otm_put_idx] - surface[0, atm_idx])\n",
    "            \n",
    "            # Calculate term structure (difference between long and short term ATM vol)\n",
    "            if len(surface) > 1:\n",
    "                vol_term_structure = float(surface[-1, atm_idx] - surface[0, atm_idx])\n",
    "        \n",
    "        # Calculate implied volatility statistics\n",
    "        call_iv = calls['impliedVolatility'].dropna()\n",
    "        put_iv = puts['impliedVolatility'].dropna()\n",
    "        \n",
    "        # Calculate average ATM implied volatility\n",
    "        atm_calls = calls[(calls['moneyness'] > 0.95) & (calls['moneyness'] < 1.05)]\n",
    "        atm_puts = puts[(puts['moneyness'] > 0.95) & (puts['moneyness'] < 1.05)]\n",
    "        \n",
    "        atm_iv = np.nan\n",
    "        if not atm_calls.empty:\n",
    "            atm_iv = atm_calls['impliedVolatility'].mean()\n",
    "        elif not atm_puts.empty:\n",
    "            atm_iv = atm_puts['impliedVolatility'].mean()\n",
    "        \n",
    "        # Check historical context (ideally we'd have historical data to compare)\n",
    "        # For now, we'll use a placeholder value for IV rank\n",
    "        iv_rank = 0.5  # Midpoint as placeholder\n",
    "        \n",
    "        # Put-call parity check\n",
    "        parity_violations = []\n",
    "        \n",
    "        # Check put-call parity for ATM options with same expiration\n",
    "        expirations = sorted(calls['expirationDate'].unique())\n",
    "        \n",
    "        for exp in expirations:\n",
    "            exp_calls = calls[calls['expirationDate'] == exp]\n",
    "            exp_puts = puts[puts['expirationDate'] == exp]\n",
    "            \n",
    "            # Find ATM options\n",
    "            atm_exp_calls = exp_calls[(exp_calls['moneyness'] > 0.98) & (exp_calls['moneyness'] < 1.02)]\n",
    "            atm_exp_puts = exp_puts[(exp_puts['moneyness'] > 0.98) & (exp_puts['moneyness'] < 1.02)]\n",
    "            \n",
    "            if atm_exp_calls.empty or atm_exp_puts.empty:\n",
    "                continue\n",
    "            \n",
    "            # Find closest ATM call and put\n",
    "            call_idx = np.argmin(np.abs(atm_exp_calls['moneyness'] - 1.0))\n",
    "            put_idx = np.argmin(np.abs(atm_exp_puts['moneyness'] - 1.0))\n",
    "            \n",
    "            try:\n",
    "                call = atm_exp_calls.iloc[call_idx]\n",
    "                put = atm_exp_puts.iloc[put_idx]\n",
    "                \n",
    "                # Only check if strikes are close\n",
    "                if abs(call['strike'] - put['strike']) / spot_price < 0.02:\n",
    "                    T = call['tte']\n",
    "                    K = call['strike']\n",
    "                    r = option_data.get('risk_free_rate', self.calculator.risk_free_rate)\n",
    "                    \n",
    "                    # Put-call parity: C - P = S - K*exp(-rT)\n",
    "                    left_side = call['usePrice'] - put['usePrice']\n",
    "                    right_side = spot_price - K * np.exp(-r * T)\n",
    "                    \n",
    "                    # Calculate discrepancy as percentage\n",
    "                    discrepancy = abs(left_side - right_side) / spot_price\n",
    "                    \n",
    "                    if discrepancy > 0.01:  # More than 1% discrepancy\n",
    "                        parity_violations.append({\n",
    "                            'expiration': exp,\n",
    "                            'strike': K,\n",
    "                            'discrepancy': discrepancy,\n",
    "                            'call_price': call['usePrice'],\n",
    "                            'put_price': put['usePrice']\n",
    "                        })\n",
    "            except Exception as e:\n",
    "                print(f\"Error checking put-call parity for {exp}: {e}\")\n",
    "        \n",
    "        # Create market conditions summary\n",
    "        market_conditions = {\n",
    "            'ticker': ticker,\n",
    "            'spot_price': spot_price,\n",
    "            'put_call_ratio': put_call_ratio,\n",
    "            'average_iv': {\n",
    "                'calls': call_iv.mean() if not call_iv.empty else np.nan,\n",
    "                'puts': put_iv.mean() if not put_iv.empty else np.nan,\n",
    "                'atm': atm_iv\n",
    "            },\n",
    "            'iv_range': {\n",
    "                'calls': (call_iv.min(), call_iv.max()) if not call_iv.empty else (np.nan, np.nan),\n",
    "                'puts': (put_iv.min(), put_iv.max()) if not put_iv.empty else (np.nan, np.nan)\n",
    "            },\n",
    "            'iv_rank': iv_rank,\n",
    "            'vol_skew': vol_skew,\n",
    "            'vol_term_structure': vol_term_structure,\n",
    "            'parity_violations': parity_violations,\n",
    "            'market_sentiment': self._interpret_market_sentiment(put_call_ratio, vol_skew, iv_rank)\n",
    "        }\n",
    "        \n",
    "        return market_conditions\n",
    "    \n",
    "    def _interpret_market_sentiment(self, put_call_ratio, vol_skew, iv_rank):\n",
    "        \"\"\"\n",
    "        Interpret market sentiment based on indicators\n",
    "        \n",
    "        Parameters:\n",
    "        -----------\n",
    "        put_call_ratio : float\n",
    "            Put-call volume ratio\n",
    "        vol_skew : float\n",
    "            Volatility skew (OTM put - ATM) or None\n",
    "        iv_rank : float\n",
    "            Implied volatility rank (0-1)\n",
    "            \n",
    "        Returns:\n",
    "        --------\n",
    "        dict: Market sentiment interpretation\n",
    "        \"\"\"\n",
    "        sentiment = {}\n",
    "        \n",
    "        # Interpret put-call ratio\n",
    "        if pd.isna(put_call_ratio):\n",
    "            sentiment['put_call_sentiment'] = \"Unknown\"\n",
    "        elif put_call_ratio > 1.5:\n",
    "            sentiment['put_call_sentiment'] = \"Bearish\"\n",
    "        elif put_call_ratio > 1.0:\n",
    "            sentiment['put_call_sentiment'] = \"Slightly Bearish\"\n",
    "        elif put_call_ratio > 0.7:\n",
    "            sentiment['put_call_sentiment'] = \"Neutral\"\n",
    "        elif put_call_ratio > 0.4:\n",
    "            sentiment['put_call_sentiment'] = \"Slightly Bullish\"\n",
    "        else:\n",
    "            sentiment['put_call_sentiment'] = \"Bullish\"\n",
    "        \n",
    "        # Interpret volatility skew\n",
    "        if vol_skew is None:\n",
    "            sentiment['skew_sentiment'] = \"Unknown\"\n",
    "        elif vol_skew > 0.1:\n",
    "            sentiment['skew_sentiment'] = \"Bearish (High Skew)\"\n",
    "        elif vol_skew > 0.05:\n",
    "            sentiment['skew_sentiment'] = \"Slightly Bearish\"\n",
    "        elif vol_skew > -0.05:\n",
    "            sentiment['skew_sentiment'] = \"Neutral\"\n",
    "        else:\n",
    "            sentiment['skew_sentiment'] = \"Bullish (Reverse Skew)\"\n",
    "        \n",
    "        # Interpret IV rank\n",
    "        if pd.isna(iv_rank):\n",
    "            sentiment['iv_sentiment'] = \"Unknown\"\n",
    "        elif iv_rank > 0.8:\n",
    "            sentiment['iv_sentiment'] = \"High Volatility\"\n",
    "        elif iv_rank > 0.5:\n",
    "            sentiment['iv_sentiment'] = \"Above Average Volatility\"\n",
    "        elif iv_rank > 0.2:\n",
    "            sentiment['iv_sentiment'] = \"Below Average Volatility\"\n",
    "        else:\n",
    "            sentiment['iv_sentiment'] = \"Low Volatility\"\n",
    "        \n",
    "        # Determine overall sentiment\n",
    "        sentiments = [\n",
    "            s for s in [\n",
    "                sentiment.get('put_call_sentiment'), \n",
    "                sentiment.get('skew_sentiment'), \n",
    "                sentiment.get('iv_sentiment')\n",
    "            ] if s not in [None, \"Unknown\"]\n",
    "        ]\n",
    "        \n",
    "        if len(sentiments) > 0:\n",
    "            # Count sentiment leanings\n",
    "            bullish_count = sum(1 for s in sentiments if \"Bullish\" in s)\n",
    "            bearish_count = sum(1 for s in sentiments if \"Bearish\" in s)\n",
    "            \n",
    "            if bearish_count > bullish_count:\n",
    "                sentiment['overall'] = \"Bearish\"\n",
    "            elif bullish_count > bearish_count:\n",
    "                sentiment['overall'] = \"Bullish\"\n",
    "            else:\n",
    "                sentiment['overall'] = \"Neutral\"\n",
    "        else:\n",
    "            sentiment['overall'] = \"Insufficient Data\"\n",
    "        \n",
    "        return sentiment\n",
    "    \n",
    "    def recommend_strategies(self, market_conditions, risk_tolerance='moderate'):\n",
    "        \"\"\"\n",
    "        Recommend option strategies based on market conditions\n",
    "        \n",
    "        Parameters:\n",
    "        -----------\n",
    "        market_conditions : dict\n",
    "            Market condition analysis\n",
    "        risk_tolerance : str\n",
    "            'low', 'moderate', or 'high'\n",
    "            \n",
    "        Returns:\n",
    "        --------\n",
    "        dict: Strategy recommendations\n",
    "        \"\"\"\n",
    "        # Extract key metrics\n",
    "        sentiment = market_conditions['market_sentiment']['overall']\n",
    "        iv_sentiment = market_conditions['market_sentiment'].get('iv_sentiment', 'Unknown')\n",
    "        vol_skew = market_conditions.get('vol_skew')\n",
    "        vol_term = market_conditions.get('vol_term_structure')\n",
    "        \n",
    "        # Base strategies by market outlook\n",
    "        bullish_strategies = ['Long Call', 'Bull Call Spread', 'Bull Put Spread', 'Call Debit Spread']\n",
    "        bearish_strategies = ['Long Put', 'Bear Put Spread', 'Bear Call Spread', 'Put Debit Spread']\n",
    "        neutral_strategies = ['Iron Condor', 'Iron Butterfly', 'Calendar Spread', 'Straddle', 'Strangle']\n",
    "        \n",
    "        # Adjust for volatility conditions\n",
    "        high_iv_strategies = ['Iron Condor', 'Iron Butterfly', 'Call Credit Spread', 'Put Credit Spread', 'Covered Call']\n",
    "        low_iv_strategies = ['Long Call', 'Long Put', 'Long Straddle', 'Long Strangle', 'Calendar Spread']\n",
    "        \n",
    "        # Initialize recommendations\n",
    "        primary_recommendations = []\n",
    "        alternative_recommendations = []\n",
    "        \n",
    "        # Determine recommended strategies based on conditions\n",
    "        if sentiment == \"Bullish\":\n",
    "            primary_recommendations = bullish_strategies[:2]\n",
    "            alternative_recommendations = bullish_strategies[2:]\n",
    "        elif sentiment == \"Bearish\":\n",
    "            primary_recommendations = bearish_strategies[:2]\n",
    "            alternative_recommendations = bearish_strategies[2:]\n",
    "        else:  # Neutral\n",
    "            primary_recommendations = neutral_strategies[:2]\n",
    "            alternative_recommendations = neutral_strategies[2:]\n",
    "        \n",
    "        # Adjust based on volatility conditions\n",
    "        if iv_sentiment == \"High Volatility\" or iv_sentiment == \"Above Average Volatility\":\n",
    "            # Favor strategies that benefit from high volatility or volatility contraction\n",
    "            primary_recommendations = [s for s in primary_recommendations if s in high_iv_strategies] or high_iv_strategies[:2]\n",
    "        elif iv_sentiment == \"Low Volatility\" or iv_sentiment == \"Below Average Volatility\":\n",
    "            # Favor strategies that benefit from volatility expansion\n",
    "            alternative_recommendations.extend([s for s in low_iv_strategies if s not in primary_recommendations])\n",
    "        \n",
    "        # Calculate strategy scores (higher is better)\n",
    "        strategy_scores = {}\n",
    "        \n",
    "        # Define all potential strategies\n",
    "        all_strategies = {\n",
    "            'Long Call': {\n",
    "                'description': 'Buy a call option to profit from upward price movement',\n",
    "                'outlook': 'bullish',\n",
    "                'volatility': 'low',\n",
    "                'complexity': 'low',\n",
    "                'max_loss': 'limited to premium paid',\n",
    "                'max_gain': 'unlimited',\n",
    "                'break_even': 'strike price + premium paid'\n",
    "            },\n",
    "            'Long Put': {\n",
    "                'description': 'Buy a put option to profit from downward price movement',\n",
    "                'outlook': 'bearish',\n",
    "                'volatility': 'low',\n",
    "                'complexity': 'low',\n",
    "                'max_loss': 'limited to premium paid',\n",
    "                'max_gain': 'limited (stock to zero - premium)',\n",
    "                'break_even': 'strike price - premium paid'\n",
    "            },\n",
    "            'Bull Call Spread': {\n",
    "                'description': 'Buy a lower strike call and sell a higher strike call',\n",
    "                'outlook': 'moderately bullish',\n",
    "                'volatility': 'neutral',\n",
    "                'complexity': 'moderate',\n",
    "                'max_loss': 'limited to net premium paid',\n",
    "                'max_gain': 'limited to difference between strikes - net premium',\n",
    "                'break_even': 'lower strike + net premium paid'\n",
    "            },\n",
    "            'Bear Put Spread': {\n",
    "                'description': 'Buy a higher strike put and sell a lower strike put',\n",
    "                'outlook': 'moderately bearish',\n",
    "                'volatility': 'neutral',\n",
    "                'complexity': 'moderate',\n",
    "                'max_loss': 'limited to net premium paid',\n",
    "                'max_gain': 'limited to difference between strikes - net premium',\n",
    "                'break_even': 'higher strike - net premium paid'\n",
    "            },\n",
    "            'Bull Put Spread': {\n",
    "                'description': 'Sell a higher strike put and buy a lower strike put',\n",
    "                'outlook': 'moderately bullish',\n",
    "                'volatility': 'high',\n",
    "                'complexity': 'moderate',\n",
    "                'max_loss': 'limited to difference between strikes - net premium',\n",
    "                'max_gain': 'limited to net premium received',\n",
    "                'break_even': 'higher strike - net premium received'\n",
    "            },\n",
    "            'Bear Call Spread': {\n",
    "                'description': 'Sell a lower strike call and buy a higher strike call',\n",
    "                'outlook': 'moderately bearish',\n",
    "                'volatility': 'high',\n",
    "                'complexity': 'moderate',\n",
    "                'max_loss': 'limited to difference between strikes - net premium',\n",
    "                'max_gain': 'limited to net premium received',\n",
    "                'break_even': 'lower strike + net premium received'\n",
    "            },\n",
    "            'Iron Condor': {\n",
    "                'description': 'Sell an OTM put spread and an OTM call spread',\n",
    "                'outlook': 'neutral',\n",
    "                'volatility': 'high',\n",
    "                'complexity': 'high',\n",
    "                'max_loss': 'limited to difference between long/short strikes - net premium',\n",
    "                'max_gain': 'limited to net premium received',\n",
    "                'break_even': 'complex (depends on strikes and premium)'\n",
    "            },\n",
    "            'Iron Butterfly': {\n",
    "                'description': 'Sell an ATM straddle and buy OTM wings',\n",
    "                'outlook': 'strongly neutral',\n",
    "                'volatility': 'high',\n",
    "                'complexity': 'high',\n",
    "                'max_loss': 'limited to difference between long/short strikes - net premium',\n",
    "                'max_gain': 'limited to net premium received',\n",
    "                'break_even': 'complex (depends on strikes and premium)'\n",
    "            },\n",
    "            'Calendar Spread': {\n",
    "                'description': 'Sell a near-term option and buy a longer-term option at the same strike',\n",
    "                'outlook': 'neutral to moderately directional',\n",
    "                'volatility': 'low to neutral',\n",
    "                'complexity': 'high',\n",
    "                'max_loss': 'limited to net premium paid',\n",
    "                'max_gain': 'limited (depends on future implied volatility)',\n",
    "                'break_even': 'complex (depends on time decay and volatility)'\n",
    "            },\n",
    "            'Long Straddle': {\n",
    "                'description': 'Buy a call and a put at the same strike price',\n",
    "                'outlook': 'volatile (direction neutral)',\n",
    "                'volatility': 'low',\n",
    "                'complexity': 'moderate',\n",
    "                'max_loss': 'limited to total premium paid',\n",
    "                'max_gain': 'unlimited (significant price movement)',\n",
    "                'break_even': 'strike price ± total premium paid'\n",
    "            },\n",
    "            'Long Strangle': {\n",
    "                'description': 'Buy an OTM call and an OTM put',\n",
    "                'outlook': 'highly volatile (direction neutral)',\n",
    "                'volatility': 'low',\n",
    "                'complexity': 'moderate',\n",
    "                'max_loss': 'limited to total premium paid',\n",
    "                'max_gain': 'unlimited (significant price movement)',\n",
    "                'break_even': 'complex (depends on strikes and premium)'\n",
    "            },\n",
    "            'Short Straddle': {\n",
    "                'description': 'Sell a call and a put at the same strike price',\n",
    "                'outlook': 'non-volatile (direction neutral)',\n",
    "                'volatility': 'high',\n",
    "                'complexity': 'high',\n",
    "                'max_loss': 'unlimited',\n",
    "                'max_gain': 'limited to total premium received',\n",
    "                'break_even': 'strike price ± total premium received'\n",
    "            },\n",
    "            'Short Strangle': {\n",
    "                'description': 'Sell an OTM call and an OTM put',\n",
    "                'outlook': 'non-volatile (direction neutral)',\n",
    "                'volatility': 'high',\n",
    "                'complexity': 'high',\n",
    "                'max_loss': 'unlimited',\n",
    "                'max_gain': 'limited to total premium received',\n",
    "                'break_even': 'complex (depends on strikes and premium)'\n",
    "            },\n",
    "            'Covered Call': {\n",
    "                'description': 'Own the underlying stock and sell a call against it',\n",
    "                'outlook': 'moderately bullish to neutral',\n",
    "                'volatility': 'high',\n",
    "                'complexity': 'moderate',\n",
    "                'max_loss': 'limited to stock purchase price - premium received',\n",
    "                'max_gain': 'limited to strike price - stock purchase price + premium received',\n",
    "                'break_even': 'stock purchase price - premium received'\n",
    "            },\n",
    "            'Protective Put': {\n",
    "                'description': 'Own the underlying stock and buy a put to protect it',\n",
    "                'outlook': 'cautiously bullish',\n",
    "                'volatility': 'low',\n",
    "                'complexity': 'moderate',\n",
    "                'max_loss': 'limited to stock purchase price - strike price + premium paid',\n",
    "                'max_gain': 'unlimited (stock appreciation - premium paid)',\n",
    "                'break_even': 'stock purchase price + premium paid'\n",
    "            }\n",
    "        }\n",
    "        \n",
    "        # Score each strategy based on market conditions and risk tolerance\n",
    "        for strategy, details in all_strategies.items():\n",
    "            score = 0\n",
    "            \n",
    "            # Score based on market outlook\n",
    "            if sentiment == \"Bullish\" and details['outlook'] in ['bullish', 'moderately bullish', 'cautiously bullish']:\n",
    "                score += 3\n",
    "            elif sentiment == \"Bearish\" and details['outlook'] in ['bearish', 'moderately bearish']:\n",
    "                score += 3\n",
    "            elif sentiment == \"Neutral\" and details['outlook'] in ['neutral', 'strongly neutral', 'non-volatile (direction neutral)']:\n",
    "                score += 3\n",
    "            elif sentiment == \"Insufficient Data\":\n",
    "                # Default scoring for insufficient data\n",
    "                score += 1\n",
    "            \n",
    "            # Score based on volatility conditions\n",
    "            if iv_sentiment in [\"High Volatility\", \"Above Average Volatility\"] and details['volatility'] == 'high':\n",
    "                score += 2\n",
    "            elif iv_sentiment in [\"Low Volatility\", \"Below Average Volatility\"] and details['volatility'] == 'low':\n",
    "                score += 2\n",
    "            elif iv_sentiment == \"Unknown\":\n",
    "                score += 1\n",
    "            \n",
    "            # Adjust for risk tolerance\n",
    "            if risk_tolerance == 'low':\n",
    "                if details['complexity'] == 'low' and details['max_loss'].startswith('limited'):\n",
    "                    score += 2\n",
    "                elif details['max_loss'].startswith('unlimited'):\n",
    "                    score -= 3\n",
    "            elif risk_tolerance == 'moderate':\n",
    "                if details['complexity'] == 'moderate':\n",
    "                    score += 1\n",
    "                elif details['max_loss'].startswith('unlimited'):\n",
    "                    score -= 2\n",
    "            else:  # high risk tolerance\n",
    "                if details['max_gain'] == 'unlimited':\n",
    "                    score += 1\n",
    "            \n",
    "            # Special adjustments for skew and term structure\n",
    "            if vol_skew is not None:\n",
    "                if vol_skew > 0.05 and details['outlook'] == 'bearish':\n",
    "                    score += 1  # Higher skew often indicates bearish sentiment\n",
    "                elif vol_skew < -0.05 and details['outlook'] == 'bullish':\n",
    "                    score += 1  # Reverse skew can indicate bullish sentiment\n",
    "            \n",
    "            if vol_term is not None:\n",
    "                if vol_term > 0.05 and strategy == 'Calendar Spread':\n",
    "                    score += 2  # Calendar spreads benefit from positive term structure\n",
    "            \n",
    "            strategy_scores[strategy] = {\n",
    "                'score': score,\n",
    "                'details': details\n",
    "            }\n",
    "        \n",
    "        # Sort strategies by score\n",
    "        sorted_strategies = sorted(strategy_scores.items(), key=lambda x: x[1]['score'], reverse=True)\n",
    "        \n",
    "        # Get top 3 recommended strategies\n",
    "        top_recommendations = sorted_strategies[:3]\n",
    "        \n",
    "        # Format recommendations\n",
    "        formatted_recommendations = []\n",
    "        for strategy, data in top_recommendations:\n",
    "            formatted_recommendations.append({\n",
    "                'strategy': strategy,\n",
    "                'score': data['score'],\n",
    "                'description': data['details']['description'],\n",
    "                'outlook': data['details']['outlook'],\n",
    "                'max_loss': data['details']['max_loss'],\n",
    "                'max_gain': data['details']['max_gain'],\n",
    "                'break_even': data['details']['break_even'],\n",
    "                'volatility_bias': data['details']['volatility'],\n",
    "                'complexity': data['details']['complexity']\n",
    "            })\n",
    "        \n",
    "        return {\n",
    "            'market_outlook': sentiment,\n",
    "            'volatility_outlook': iv_sentiment,\n",
    "            'risk_tolerance': risk_tolerance,\n",
    "            'recommendations': formatted_recommendations\n",
    "        }\n",
    "    \n",
    "    def visualize_strategy_payoff(self, strategy, option_data, parameters=None):\n",
    "        \"\"\"\n",
    "        Visualize the payoff diagram for a given strategy\n",
    "        \n",
    "        Parameters:\n",
    "        -----------\n",
    "        strategy : str\n",
    "            Strategy name\n",
    "        option_data : dict\n",
    "            Option data structure\n",
    "        parameters : dict, optional\n",
    "            Strategy-specific parameters\n",
    "            \n",
    "        Returns:\n",
    "        --------\n",
    "        plotly.graph_objects.Figure: Payoff diagram\n",
    "        \"\"\"\n",
    "        # Extract base data\n",
    "        ticker = option_data['ticker']\n",
    "        spot_price = option_data['spot_price']\n",
    "        \n",
    "        # If no specific parameters provided, try to find suitable options\n",
    "        if parameters is None:\n",
    "            parameters = self._find_strategy_parameters(strategy, option_data)\n",
    "        \n",
    "        # If we still don't have parameters, return None\n",
    "        if parameters is None:\n",
    "            print(f\"Could not find suitable parameters for {strategy}\")\n",
    "            return None\n",
    "        \n",
    "        # Calculate price range for visualization (±30% from current price)\n",
    "        price_min = spot_price * 0.7\n",
    "        price_max = spot_price * 1.3\n",
    "        prices = np.linspace(price_min, price_max, 100)\n",
    "        \n",
    "        # Calculate payoffs based on strategy\n",
    "        payoffs = self._calculate_strategy_payoffs(strategy, prices, parameters)\n",
    "        \n",
    "        # Create payoff diagram\n",
    "        fig = go.Figure()\n",
    "        \n",
    "        # Add payoff curve\n",
    "        fig.add_trace(go.Scatter(\n",
    "            x=prices,\n",
    "            y=payoffs,\n",
    "            mode='lines',\n",
    "            name='Payoff',\n",
    "            line=dict(color='green', width=3)\n",
    "        ))\n",
    "        \n",
    "        # Add break-even points\n",
    "        break_evens = self._find_break_even_points(prices, payoffs)\n",
    "        for be_price in break_evens:\n",
    "            fig.add_trace(go.Scatter(\n",
    "                x=[be_price],\n",
    "                y=[0],\n",
    "                mode='markers',\n",
    "                marker=dict(color='yellow', size=10, symbol='x'),\n",
    "                name=f'Break-even: ${be_price:.2f}'\n",
    "            ))\n",
    "        \n",
    "        # Add current price marker\n",
    "        fig.add_trace(go.Scatter(\n",
    "            x=[spot_price],\n",
    "            y=[self._calculate_strategy_payoffs(strategy, [spot_price], parameters)[0]],\n",
    "            mode='markers',\n",
    "            marker=dict(color='white', size=12, symbol='circle'),\n",
    "            name=f'Current: ${spot_price:.2f}'\n",
    "        ))\n",
    "        \n",
    "        # Add zero line\n",
    "        fig.add_trace(go.Scatter(\n",
    "            x=[price_min, price_max],\n",
    "            y=[0, 0],\n",
    "            mode='lines',\n",
    "            line=dict(color='gray', width=1, dash='dash'),\n",
    "            showlegend=False\n",
    "        ))\n",
    "        \n",
    "        # Update layout\n",
    "        fig.update_layout(\n",
    "            title=f\"{strategy} Payoff Diagram - {ticker}\",\n",
    "            xaxis_title=\"Stock Price at Expiration\",\n",
    "            yaxis_title=\"Profit/Loss\",\n",
    "            template=\"plotly_dark\",\n",
    "            hovermode=\"x\",\n",
    "            legend=dict(\n",
    "                yanchor=\"top\",\n",
    "                y=0.99,\n",
    "                xanchor=\"left\",\n",
    "                x=0.01\n",
    "            )\n",
    "        )\n",
    "        \n",
    "        # Add annotations for max profit and loss\n",
    "        max_profit = np.max(payoffs)\n",
    "        max_loss = np.min(payoffs)\n",
    "        \n",
    "        if max_profit > 0:\n",
    "            max_profit_idx = np.argmax(payoffs)\n",
    "            fig.add_annotation(\n",
    "                x=prices[max_profit_idx],\n",
    "                y=max_profit,\n",
    "                text=f\"Max Profit: ${max_profit:.2f}\",\n",
    "                showarrow=True,\n",
    "                arrowhead=2,\n",
    "                arrowcolor=\"green\",\n",
    "                arrowwidth=2,\n",
    "                arrowsize=1,\n",
    "                bgcolor=\"rgba(50, 50, 50, 0.8)\",\n",
    "                bordercolor=\"green\",\n",
    "                borderwidth=2,\n",
    "                borderpad=4,\n",
    "                font=dict(color=\"white\")\n",
    "            )\n",
    "        \n",
    "        if max_loss < 0:\n",
    "            max_loss_idx = np.argmin(payoffs)\n",
    "            fig.add_annotation(\n",
    "                x=prices[max_loss_idx],\n",
    "                y=max_loss,\n",
    "                text=f\"Max Loss: ${max_loss:.2f}\",\n",
    "                showarrow=True,\n",
    "                arrowhead=2,\n",
    "                arrowcolor=\"red\",\n",
    "                arrowwidth=2,\n",
    "                arrowsize=1,\n",
    "                bgcolor=\"rgba(50, 50, 50, 0.8)\",\n",
    "                bordercolor=\"red\",\n",
    "                borderwidth=2,\n",
    "                borderpad=4,\n",
    "                font=dict(color=\"white\")\n",
    "            )\n",
    "        \n",
    "        # Add strategy description\n",
    "        param_text = \"\"\n",
    "        for key, value in parameters.items():\n",
    "            if isinstance(value, dict) and 'strike' in value:\n",
    "                param_text += f\"{key}: Strike ${value['strike']:.2f}, Premium ${value['premium']:.2f}\\n\"\n",
    "        \n",
    "        fig.add_annotation(\n",
    "            x=0.02,\n",
    "            y=0.02,\n",
    "            xref=\"paper\",\n",
    "            yref=\"paper\",\n",
    "            text=param_text,\n",
    "            showarrow=False,\n",
    "            bgcolor=\"rgba(50, 50, 50, 0.8)\",\n",
    "            bordercolor=\"white\",\n",
    "            borderwidth=1,\n",
    "            borderpad=4,\n",
    "            font=dict(color=\"white\"),\n",
    "            align=\"left\"\n",
    "        )\n",
    "        \n",
    "        return fig\n",
    "    \n",
    "    def _find_strategy_parameters(self, strategy, option_data):\n",
    "        \"\"\"\n",
    "        Find suitable parameters for a given strategy\n",
    "        \n",
    "        Parameters:\n",
    "        -----------\n",
    "        strategy : str\n",
    "            Strategy name\n",
    "        option_data : dict\n",
    "            Option data structure\n",
    "            \n",
    "        Returns:\n",
    "        --------\n",
    "        dict: Strategy parameters\n",
    "        \"\"\"\n",
    "        # Extract data\n",
    "        spot_price = option_data['spot_price']\n",
    "        calls = option_data['calls']\n",
    "        puts = option_data['puts']\n",
    "        \n",
    "        # Filter for options with reasonable volume and valid prices\n",
    "        valid_calls = calls[(calls['volume'] > 5) & (calls['usePrice'] > 0)]\n",
    "        valid_puts = puts[(puts['volume'] > 5) & (puts['usePrice'] > 0)]\n",
    "        \n",
    "        # Find the closest expiration with sufficient liquidity\n",
    "        expirations = sorted(valid_calls['expirationDate'].unique())\n",
    "        \n",
    "        if not expirations:\n",
    "            return None\n",
    "        \n",
    "        # Use the nearest expiration for simplicity\n",
    "        expiration = expirations[0]\n",
    "        \n",
    "        # Filter by expiration\n",
    "        exp_calls = valid_calls[valid_calls['expirationDate'] == expiration]\n",
    "        exp_puts = valid_puts[valid_puts['expirationDate'] == expiration]\n",
    "        \n",
    "        if exp_calls.empty or exp_puts.empty:\n",
    "            return None\n",
    "        \n",
    "        # Get time to expiration\n",
    "        tte = exp_calls['tte'].iloc[0]\n",
    "        \n",
    "        # Find ATM, OTM, and ITM options\n",
    "        atm_calls = exp_calls[(exp_calls['moneyness'] > 0.97) & (exp_calls['moneyness'] < 1.03)]\n",
    "        atm_puts = exp_puts[(exp_puts['moneyness'] > 0.97) & (exp_puts['moneyness'] < 1.03)]\n",
    "        \n",
    "        otm_calls = exp_calls[exp_calls['moneyness'] > 1.05]\n",
    "        otm_puts = exp_puts[exp_puts['moneyness'] < 0.95]\n",
    "        \n",
    "        itm_calls = exp_calls[exp_calls['moneyness'] < 0.95]\n",
    "        itm_puts = exp_puts[exp_puts['moneyness'] > 1.05]\n",
    "        \n",
    "        # Strategy-specific parameter selection\n",
    "        if strategy == 'Long Call':\n",
    "            # Select ATM call with acceptable volume\n",
    "            if not atm_calls.empty:\n",
    "                call = atm_calls.iloc[0]\n",
    "                return {\n",
    "                    'call': {\n",
    "                        'strike': call['strike'],\n",
    "                        'premium': call['usePrice'],\n",
    "                        'tte': tte\n",
    "                    }\n",
    "                }\n",
    "        \n",
    "        elif strategy == 'Long Put':\n",
    "            # Select ATM put with acceptable volume\n",
    "            if not atm_puts.empty:\n",
    "                put = atm_puts.iloc[0]\n",
    "                return {\n",
    "                    'put': {\n",
    "                        'strike': put['strike'],\n",
    "                        'premium': put['usePrice'],\n",
    "                        'tte': tte\n",
    "                    }\n",
    "                }\n",
    "        \n",
    "        elif strategy == 'Bull Call Spread':\n",
    "            # Select ATM call and OTM call\n",
    "            if not atm_calls.empty and not otm_calls.empty:\n",
    "                atm_call = atm_calls.iloc[0]\n",
    "                # Find OTM call with strike ~5-10% above ATM\n",
    "                target_moneyness = 1.1\n",
    "                otm_idx = np.argmin(np.abs(otm_calls['moneyness'] - target_moneyness))\n",
    "                otm_call = otm_calls.iloc[otm_idx]\n",
    "                \n",
    "                return {\n",
    "                    'long_call': {\n",
    "                        'strike': atm_call['strike'],\n",
    "                        'premium': atm_call['usePrice'],\n",
    "                        'tte': tte\n",
    "                    },\n",
    "                    'short_call': {\n",
    "                        'strike': otm_call['strike'],\n",
    "                        'premium': otm_call['usePrice'],\n",
    "                        'tte': tte\n",
    "                    }\n",
    "                }\n",
    "        \n",
    "        elif strategy == 'Bear Put Spread':\n",
    "            # Select ATM put and OTM put\n",
    "            if not atm_puts.empty and not otm_puts.empty:\n",
    "                atm_put = atm_puts.iloc[0]\n",
    "                # Find OTM put with strike ~5-10% below ATM\n",
    "                target_moneyness = 0.9\n",
    "                otm_idx = np.argmin(np.abs(otm_puts['moneyness'] - target_moneyness))\n",
    "                otm_put = otm_puts.iloc[otm_idx]\n",
    "                \n",
    "                return {\n",
    "                    'long_put': {\n",
    "                        'strike': atm_put['strike'],\n",
    "                        'premium': atm_put['usePrice'],\n",
    "                        'tte': tte\n",
    "                    },\n",
    "                    'short_put': {\n",
    "                        'strike': otm_put['strike'],\n",
    "                        'premium': otm_put['usePrice'],\n",
    "                        'tte': tte\n",
    "                    }\n",
    "                }\n",
    "        \n",
    "        elif strategy == 'Bull Put Spread':\n",
    "            # Select ATM put and OTM put\n",
    "            if not atm_puts.empty and not otm_puts.empty:\n",
    "                atm_put = atm_puts.iloc[0]\n",
    "                # Find OTM put with strike ~5-10% below ATM\n",
    "                target_moneyness = 0.9\n",
    "                otm_idx = np.argmin(np.abs(otm_puts['moneyness'] - target_moneyness))\n",
    "                otm_put = otm_puts.iloc[otm_idx]\n",
    "                \n",
    "                return {\n",
    "                    'short_put': {\n",
    "                        'strike': atm_put['strike'],\n",
    "                        'premium': atm_put['usePrice'],\n",
    "                        'tte': tte\n",
    "                    },\n",
    "                    'long_put': {\n",
    "                        'strike': otm_put['strike'],\n",
    "                        'premium': otm_put['usePrice'],\n",
    "                        'tte': tte\n",
    "                    }\n",
    "                }\n",
    "        \n",
    "        elif strategy == 'Bear Call Spread':\n",
    "            # Select ATM call and OTM call\n",
    "            if not atm_calls.empty and not otm_calls.empty:\n",
    "                atm_call = atm_calls.iloc[0]\n",
    "                # Find OTM call with strike ~5-10% above ATM\n",
    "                target_moneyness = 1.1\n",
    "                otm_idx = np.argmin(np.abs(otm_calls['moneyness'] - target_moneyness))\n",
    "                otm_call = otm_calls.iloc[otm_idx]\n",
    "                \n",
    "                return {\n",
    "                    'short_call': {\n",
    "                        'strike': atm_call['strike'],\n",
    "                        'premium': atm_call['usePrice'],\n",
    "                        'tte': tte\n",
    "                    },\n",
    "                    'long_call': {\n",
    "                        'strike': otm_call['strike'],\n",
    "                        'premium': otm_call['usePrice'],\n",
    "                        'tte': tte\n",
    "                    }\n",
    "                }\n",
    "        \n",
    "        elif strategy == 'Iron Condor':\n",
    "            # Need all four: OTM put, ATM put, ATM call, OTM call\n",
    "            if not atm_calls.empty and not otm_calls.empty and not atm_puts.empty and not otm_puts.empty:\n",
    "                atm_call = atm_calls.iloc[0]\n",
    "                atm_put = atm_puts.iloc[0]\n",
    "                \n",
    "                # Find OTM call and put with appropriate moneyness\n",
    "                otm_call_target = 1.1\n",
    "                otm_put_target = 0.9\n",
    "                \n",
    "                otm_call_idx = np.argmin(np.abs(otm_calls['moneyness'] - otm_call_target))\n",
    "                otm_put_idx = np.argmin(np.abs(otm_puts['moneyness'] - otm_put_target))\n",
    "                \n",
    "                otm_call = otm_calls.iloc[otm_call_idx]\n",
    "                otm_put = otm_puts.iloc[otm_put_idx]\n",
    "                \n",
    "                return {\n",
    "                    'short_put': {\n",
    "                        'strike': atm_put['strike'],\n",
    "                        'premium': atm_put['usePrice'],\n",
    "                        'tte': tte\n",
    "                    },\n",
    "                    'long_put': {\n",
    "                        'strike': otm_put['strike'],\n",
    "                        'premium': otm_put['usePrice'],\n",
    "                        'tte': tte\n",
    "                    },\n",
    "                    'short_call': {\n",
    "                        'strike': atm_call['strike'],\n",
    "                        'premium': atm_call['usePrice'],\n",
    "                        'tte': tte\n",
    "                    },\n",
    "                    'long_call': {\n",
    "                        'strike': otm_call['strike'],\n",
    "                        'premium': otm_call['usePrice'],\n",
    "                        'tte': tte\n",
    "                    }\n",
    "                }\n",
    "        \n",
    "        elif strategy == 'Long Straddle':\n",
    "            # Need ATM call and ATM put with same strike\n",
    "            if not atm_calls.empty and not atm_puts.empty:\n",
    "                # Find closest matching strikes\n",
    "                atm_call = atm_calls.iloc[0]\n",
    "                atm_put = atm_puts.iloc[np.argmin(np.abs(atm_puts['strike'] - atm_call['strike']))]\n",
    "                \n",
    "                return {\n",
    "                    'call': {\n",
    "                        'strike': atm_call['strike'],\n",
    "                        'premium': atm_call['usePrice'],\n",
    "                        'tte': tte\n",
    "                    },\n",
    "                    'put': {\n",
    "                        'strike': atm_put['strike'],\n",
    "                        'premium': atm_put['usePrice'],\n",
    "                        'tte': tte\n",
    "                    }\n",
    "                }\n",
    "        \n",
    "        elif strategy == 'Long Strangle':\n",
    "            # Need OTM call and OTM put\n",
    "            if not otm_calls.empty and not otm_puts.empty:\n",
    "                # Find appropriate strikes\n",
    "                otm_call_target = 1.1\n",
    "                otm_put_target = 0.9\n",
    "                \n",
    "                otm_call_idx = np.argmin(np.abs(otm_calls['moneyness'] - otm_call_target))\n",
    "                otm_put_idx = np.argmin(np.abs(otm_puts['moneyness'] - otm_put_target))\n",
    "                \n",
    "                otm_call = otm_calls.iloc[otm_call_idx]\n",
    "                otm_put = otm_puts.iloc[otm_put_idx]\n",
    "                \n",
    "                return {\n",
    "                    'call': {\n",
    "                        'strike': otm_call['strike'],\n",
    "                        'premium': otm_call['usePrice'],\n",
    "                        'tte': tte\n",
    "                    },\n",
    "                    'put': {\n",
    "                        'strike': otm_put['strike'],\n",
    "                        'premium': otm_put['usePrice'],\n",
    "                        'tte': tte\n",
    "                    }\n",
    "                }\n",
    "        \n",
    "        elif strategy == 'Covered Call':\n",
    "            # Need ATM or OTM call, and assume stock ownership at current price\n",
    "            if not atm_calls.empty:\n",
    "                # Prefer slightly OTM for covered call\n",
    "                target_moneyness = 1.05\n",
    "                idx = np.argmin(np.abs(atm_calls['moneyness'] - target_moneyness))\n",
    "                call = atm_calls.iloc[idx]\n",
    "                \n",
    "                return {\n",
    "                    'stock': {\n",
    "                        'price': spot_price,\n",
    "                        'quantity': 100  # Standard contract size\n",
    "                    },\n",
    "                    'short_call': {\n",
    "                        'strike': call['strike'],\n",
    "                        'premium': call['usePrice'],\n",
    "                        'tte': tte\n",
    "                    }\n",
    "                }\n",
    "        \n",
    "        # If no appropriate parameters could be found\n",
    "        return None\n",
    "    \n",
    "    def _calculate_strategy_payoffs(self, strategy, prices, parameters):\n",
    "        \"\"\"\n",
    "        Calculate payoffs for a given strategy at expiration\n",
    "        \n",
    "        Parameters:\n",
    "        -----------\n",
    "        strategy : str\n",
    "            Strategy name\n",
    "        prices : array\n",
    "            Array of prices at expiration\n",
    "        parameters : dict\n",
    "            Strategy parameters\n",
    "            \n",
    "        Returns:\n",
    "        --------\n",
    "        array: Payoffs at each price\n",
    "        \"\"\"\n",
    "        payoffs = np.zeros_like(prices)\n",
    "        \n",
    "        if strategy == 'Long Call':\n",
    "            call = parameters['call']\n",
    "            for i, price in enumerate(prices):\n",
    "                # Payoff = max(0, price - strike) - premium\n",
    "                payoffs[i] = max(0, price - call['strike']) - call['premium']\n",
    "        \n",
    "        elif strategy == 'Long Put':\n",
    "            put = parameters['put']\n",
    "            for i, price in enumerate(prices):\n",
    "                # Payoff = max(0, strike - price) - premium\n",
    "                payoffs[i] = max(0, put['strike'] - price) - put['premium']\n",
    "        \n",
    "        elif strategy == 'Bull Call Spread':\n",
    "            long_call = parameters['long_call']\n",
    "            short_call = parameters['short_call']\n",
    "            for i, price in enumerate(prices):\n",
    "                # Payoff = max(0, price - long_strike) - max(0, price - short_strike) - net premium\n",
    "                long_payoff = max(0, price - long_call['strike'])\n",
    "                short_payoff = -max(0, price - short_call['strike'])\n",
    "                net_premium = long_call['premium'] - short_call['premium']\n",
    "                payoffs[i] = long_payoff + short_payoff - net_premium\n",
    "        \n",
    "        elif strategy == 'Bear Put Spread':\n",
    "            long_put = parameters['long_put']\n",
    "            short_put = parameters['short_put']\n",
    "            for i, price in enumerate(prices):\n",
    "                # Payoff = max(0, long_strike - price) - max(0, short_strike - price) - net premium\n",
    "                long_payoff = max(0, long_put['strike'] - price)\n",
    "                short_payoff = -max(0, short_put['strike'] - price)\n",
    "                net_premium = long_put['premium'] - short_put['premium']\n",
    "                payoffs[i] = long_payoff + short_payoff - net_premium\n",
    "        \n",
    "        elif strategy == 'Bull Put Spread':\n",
    "            short_put = parameters['short_put']\n",
    "            long_put = parameters['long_put']\n",
    "            for i, price in enumerate(prices):\n",
    "                # Payoff = short_premium - long_premium + max(0, long_strike - price) - max(0, short_strike - price)\n",
    "                short_payoff = -max(0, short_put['strike'] - price) + short_put['premium']\n",
    "                long_payoff = max(0, long_put['strike'] - price) - long_put['premium']\n",
    "                payoffs[i] = short_payoff + long_payoff\n",
    "        \n",
    "        elif strategy == 'Bear Call Spread':\n",
    "            short_call = parameters['short_call']\n",
    "            long_call = parameters['long_call']\n",
    "            for i, price in enumerate(prices):\n",
    "                # Payoff = short_premium - long_premium + max(0, price - long_strike) - max(0, price - short_strike)\n",
    "                short_payoff = -max(0, price - short_call['strike']) + short_call['premium']\n",
    "                long_payoff = max(0, price - long_call['strike']) - long_call['premium']\n",
    "                payoffs[i] = short_payoff + long_payoff\n",
    "        \n",
    "        elif strategy == 'Iron Condor':\n",
    "            short_put = parameters['short_put']\n",
    "            long_put = parameters['long_put']\n",
    "            short_call = parameters['short_call']\n",
    "            long_call = parameters['long_call']\n",
    "            \n",
    "            for i, price in enumerate(prices):\n",
    "                # Payoff from put spread\n",
    "                put_short_payoff = -max(0, short_put['strike'] - price) + short_put['premium']\n",
    "                put_long_payoff = max(0, long_put['strike'] - price) - long_put['premium']\n",
    "                \n",
    "                # Payoff from call spread\n",
    "                call_short_payoff = -max(0, price - short_call['strike']) + short_call['premium']\n",
    "                call_long_payoff = max(0, price - long_call['strike']) - long_call['premium']\n",
    "                \n",
    "                payoffs[i] = put_short_payoff + put_long_payoff + call_short_payoff + call_long_payoff\n",
    "        \n",
    "        elif strategy == 'Long Straddle':\n",
    "            call = parameters['call']\n",
    "            put = parameters['put']\n",
    "            for i, price in enumerate(prices):\n",
    "                # Payoff = max(0, price - strike) + max(0, strike - price) - total premium\n",
    "                call_payoff = max(0, price - call['strike'])\n",
    "                put_payoff = max(0, put['strike'] - price)\n",
    "                total_premium = call['premium'] + put['premium']\n",
    "                payoffs[i] = call_payoff + put_payoff - total_premium\n",
    "        \n",
    "        elif strategy == 'Long Strangle':\n",
    "            call = parameters['call']\n",
    "            put = parameters['put']\n",
    "            for i, price in enumerate(prices):\n",
    "                # Payoff = max(0, price - call_strike) + max(0, put_strike - price) - total premium\n",
    "                call_payoff = max(0, price - call['strike'])\n",
    "                put_payoff = max(0, put['strike'] - price)\n",
    "                total_premium = call['premium'] + put['premium']\n",
    "                payoffs[i] = call_payoff + put_payoff - total_premium\n",
    "        \n",
    "        elif strategy == 'Covered Call':\n",
    "            stock = parameters['stock']\n",
    "            short_call = parameters['short_call']\n",
    "            for i, price in enumerate(prices):\n",
    "                # Payoff = price - stock_price + short_premium - max(0, price - short_strike)\n",
    "                stock_payoff = price - stock['price']\n",
    "                call_payoff = -max(0, price - short_call['strike']) + short_call['premium']\n",
    "                payoffs[i] = stock_payoff + call_payoff\n",
    "        \n",
    "        return payoffs\n",
    "    \n",
    "    def _find_break_even_points(self, prices, payoffs):\n",
    "        \"\"\"\n",
    "        Find break-even points (where payoff crosses zero)\n",
    "        \n",
    "        Parameters:\n",
    "        -----------\n",
    "        prices : array\n",
    "            Array of prices\n",
    "        payoffs : array\n",
    "            Array of corresponding payoffs\n",
    "            \n",
    "        Returns:\n",
    "        --------\n",
    "        list: Break-even price points\n",
    "        \"\"\"\n",
    "        break_evens = []\n",
    "        \n",
    "        # Find where payoff crosses zero\n",
    "        for i in range(1, len(prices)):\n",
    "            if (payoffs[i-1] <= 0 and payoffs[i] > 0) or (payoffs[i-1] >= 0 and payoffs[i] < 0):\n",
    "                # Linear interpolation to find more precise break-even point\n",
    "                slope = (payoffs[i] - payoffs[i-1]) / (prices[i] - prices[i-1])\n",
    "                intercept = payoffs[i-1] - slope * prices[i-1]\n",
    "                break_even = -intercept / slope\n",
    "                break_evens.append(break_even)\n",
    "        \n",
    "        return break_evens\n",
    "\n",
    "class OptionsPortfolioOptimizer:\n",
    "    \"\"\"\n",
    "    Optimizes option portfolios and strategies\n",
    "    \"\"\"\n",
    "    def __init__(self, options_calculator=None):\n",
    "        \"\"\"\n",
    "        Initialize the portfolio optimizer\n",
    "        \n",
    "        Parameters:\n",
    "        -----------\n",
    "        options_calculator : OptionsCalculator, optional\n",
    "            Calculator for option pricing\n",
    "        \"\"\"\n",
    "        self.calculator = options_calculator if options_calculator else OptionsCalculator()\n",
    "    \n",
    "    def optimize_position_sizing(self, option_data, strategy, max_loss_percent=0.05, risk_capital=10000):\n",
    "        \"\"\"\n",
    "        Optimize position sizing for a given strategy\n",
    "        \n",
    "        Parameters:\n",
    "        -----------\n",
    "        option_data : dict\n",
    "            Option data structure\n",
    "        strategy : dict\n",
    "            Strategy specification\n",
    "        max_loss_percent : float\n",
    "            Maximum loss as percentage of capital\n",
    "        risk_capital : float\n",
    "            Total capital available for the trade\n",
    "            \n",
    "        Returns:\n",
    "        --------\n",
    "        dict: Optimized position sizing\n",
    "        \"\"\"\n",
    "        # Calculate max dollar loss allowed\n",
    "        max_loss_dollars = risk_capital * max_loss_percent\n",
    "        \n",
    "        # Extract strategy parameters\n",
    "        strategy_type = strategy['strategy']\n",
    "        \n",
    "        # Find options for the strategy\n",
    "        analyzer = OptionsStrategyAnalyzer(self.calculator)\n",
    "        params = analyzer._find_strategy_parameters(strategy_type, option_data)\n",
    "        \n",
    "        if params is None:\n",
    "            return {\n",
    "                'error': f\"Could not find suitable options for {strategy_type}\"\n",
    "            }\n",
    "        \n",
    "        # Calculate strategy max loss per contract\n",
    "        prices = np.linspace(\n",
    "            option_data['spot_price'] * 0.5,\n",
    "            option_data['spot_price'] * 1.5,\n",
    "            100\n",
    "        )\n",
    "        payoffs = analyzer._calculate_strategy_payoffs(strategy_type, prices, params)\n",
    "        max_loss_per_contract = abs(min(payoffs))\n",
    "        \n",
    "        # Calculate max number of contracts\n",
    "        if max_loss_per_contract > 0:\n",
    "            max_contracts = int(max_loss_dollars / max_loss_per_contract)\n",
    "        else:\n",
    "            max_contracts = 0\n",
    "        \n",
    "        # If strategy has unlimited risk, limit to 1 contract\n",
    "        if strategy_type in ['Short Straddle', 'Short Strangle']:\n",
    "            max_contracts = min(max_contracts, 1)\n",
    "        \n",
    "        # Calculate expected profit if price moves by +/- 1 standard deviation\n",
    "        spot_price = option_data['spot_price']\n",
    "        \n",
    "        # Use average ATM IV to estimate price range\n",
    "        atm_iv = option_data.get('average_iv', {}).get('atm')\n",
    "        if pd.isna(atm_iv) or atm_iv is None:\n",
    "            # Use a default value if not available\n",
    "            atm_iv = 0.3\n",
    "        \n",
    "        # Calculate 1 standard deviation move\n",
    "        tte = 0.25  # Assume 3-month horizon for analysis\n",
    "        std_move = spot_price * atm_iv * np.sqrt(tte)\n",
    "        \n",
    "        # Calculate expected payoffs at +/- 1 std dev\n",
    "        up_price = spot_price + std_move\n",
    "        down_price = max(0.01, spot_price - std_move)\n",
    "        \n",
    "        up_payoff = analyzer._calculate_strategy_payoffs(strategy_type, [up_price], params)[0]\n",
    "        down_payoff = analyzer._calculate_strategy_payoffs(strategy_type, [down_price], params)[0]\n",
    "        \n",
    "        # Total expected profit with optimized position size\n",
    "        up_profit = up_payoff * max_contracts\n",
    "        down_profit = down_payoff * max_contracts\n",
    "        \n",
    "        # Calculate risk-reward ratio\n",
    "        if max_loss_per_contract > 0:\n",
    "            risk_reward_up = up_payoff / max_loss_per_contract if up_payoff > 0 else 0\n",
    "            risk_reward_down = down_payoff / max_loss_per_contract if down_payoff > 0 else 0\n",
    "        else:\n",
    "            risk_reward_up = float('inf') if up_payoff > 0 else 0\n",
    "            risk_reward_down = float('inf') if down_payoff > 0 else 0\n",
    "        \n",
    "        # Return results\n",
    "        return {\n",
    "            'strategy': strategy_type,\n",
    "            'max_contracts': max_contracts,\n",
    "            'max_loss_per_contract': max_loss_per_contract,\n",
    "            'max_total_loss': max_loss_per_contract * max_contracts,\n",
    "            'expected_price_range': {\n",
    "                'up': up_price,\n",
    "                'down': down_price\n",
    "            },\n",
    "            'expected_profit': {\n",
    "                'up': up_profit,\n",
    "                'down': down_profit\n",
    "            },\n",
    "            'risk_reward_ratio': {\n",
    "                'up': risk_reward_up,\n",
    "                'down': risk_reward_down\n",
    "            },\n",
    "            'parameters': params\n",
    "        }\n",
    "        \n",
    "    def build_multi_leg_portfolio(self, option_data, strategies, risk_allocation=None):\n",
    "        \"\"\"\n",
    "        Build a multi-leg strategy portfolio with optimized allocations\n",
    "        \n",
    "        Parameters:\n",
    "        -----------\n",
    "        option_data : dict\n",
    "            Option data structure\n",
    "        strategies : list\n",
    "            List of strategy specifications\n",
    "        risk_allocation : dict, optional\n",
    "            Allocation of risk capital to each strategy\n",
    "            \n",
    "        Returns:\n",
    "        --------\n",
    "        dict: Portfolio specification with optimized positions\n",
    "        \"\"\"\n",
    "        # Default risk allocation (equal weighting)\n",
    "        if risk_allocation is None:\n",
    "            risk_allocation = {}\n",
    "            weight = 1.0 / len(strategies)\n",
    "            for strategy in strategies:\n",
    "                risk_allocation[strategy['strategy']] = weight\n",
    "        \n",
    "        # Default settings\n",
    "        risk_capital = 10000\n",
    "        max_loss_percent = 0.05\n",
    "        \n",
    "        # Initialize portfolio\n",
    "        portfolio = {\n",
    "            'strategies': [],\n",
    "            'total_capital_required': 0,\n",
    "            'max_portfolio_loss': 0\n",
    "        }\n",
    "        \n",
    "        # Process each strategy\n",
    "        for strategy in strategies:\n",
    "            strategy_type = strategy['strategy']\n",
    "            strategy_allocation = risk_allocation.get(strategy_type, 0)\n",
    "            \n",
    "            if strategy_allocation <= 0:\n",
    "                continue\n",
    "            \n",
    "            # Optimize position size for this strategy\n",
    "            sizing = self.optimize_position_sizing(\n",
    "                option_data,\n",
    "                strategy,\n",
    "                max_loss_percent=max_loss_percent * strategy_allocation / sum(risk_allocation.values()),\n",
    "                risk_capital=risk_capital\n",
    "            )\n",
    "            \n",
    "            if 'error' in sizing:\n",
    "                # Skip strategies that couldn't be optimized\n",
    "                continue\n",
    "            \n",
    "            # Calculate capital required (approximated as max loss for simplicity)\n",
    "            capital_required = sizing['max_total_loss']\n",
    "            \n",
    "            # Add to portfolio\n",
    "            portfolio['strategies'].append({\n",
    "                'strategy': strategy_type,\n",
    "                'contracts': sizing['max_contracts'],\n",
    "                'capital_required': capital_required,\n",
    "                'max_loss': sizing['max_total_loss'],\n",
    "                'expected_profit': sizing['expected_profit'],\n",
    "                'risk_reward_ratio': sizing['risk_reward_ratio'],\n",
    "                'parameters': sizing['parameters']\n",
    "            })\n",
    "            \n",
    "            # Update portfolio totals\n",
    "            portfolio['total_capital_required'] += capital_required\n",
    "            portfolio['max_portfolio_loss'] += sizing['max_total_loss']\n",
    "        \n",
    "        # Calculate portfolio metrics\n",
    "        if portfolio['strategies']:\n",
    "            # Weighted average risk-reward ratio\n",
    "            total_allocation = sum(s['capital_required'] for s in portfolio['strategies'])\n",
    "            avg_risk_reward_up = sum(\n",
    "                s['risk_reward_ratio']['up'] * s['capital_required'] / total_allocation\n",
    "                for s in portfolio['strategies']\n",
    "            )\n",
    "            avg_risk_reward_down = sum(\n",
    "                s['risk_reward_ratio']['down'] * s['capital_required'] / total_allocation\n",
    "                for s in portfolio['strategies']\n",
    "            )\n",
    "            \n",
    "            # Portfolio expected profit (simple sum - in reality would be more complex)\n",
    "            portfolio_profit_up = sum(s['expected_profit']['up'] for s in portfolio['strategies'])\n",
    "            portfolio_profit_down = sum(s['expected_profit']['down'] for s in portfolio['strategies'])\n",
    "            \n",
    "            portfolio['portfolio_metrics'] = {\n",
    "                'avg_risk_reward_ratio': {\n",
    "                    'up': avg_risk_reward_up,\n",
    "                    'down': avg_risk_reward_down\n",
    "                },\n",
    "                'expected_portfolio_profit': {\n",
    "                    'up': portfolio_profit_up,\n",
    "                    'down': portfolio_profit_down\n",
    "                }\n",
    "            }\n",
    "        \n",
    "        return portfolio\n",
    "\n",
    "def recommend_strategies_with_ml(self, market_conditions, anomaly_results, risk_tolerance='moderate'):\n",
    "    \"\"\"\n",
    "    Recommend option strategies based on market conditions and ML-detected anomalies\n",
    "    \n",
    "    Parameters:\n",
    "    -----------\n",
    "    market_conditions : dict\n",
    "        Market condition analysis\n",
    "    anomaly_results : dict\n",
    "        Anomaly detection results from ML\n",
    "    risk_tolerance : str\n",
    "        'low', 'moderate', or 'high'\n",
    "        \n",
    "    Returns:\n",
    "    --------\n",
    "    dict: Strategy recommendations incorporating ML insights\n",
    "    \"\"\"\n",
    "    # Get standard recommendations first\n",
    "    base_recommendations = self.recommend_strategies(market_conditions, risk_tolerance)\n",
    "    \n",
    "    # Check if we have anomalies to exploit\n",
    "    anomalies = anomaly_results.get('top_anomalies', [])\n",
    "    if not anomalies or not anomaly_results.get('is_anomaly', False):\n",
    "        # No significant anomalies, return base recommendations\n",
    "        return base_recommendations\n",
    "    \n",
    "    # Initialize ML-enhanced recommendations\n",
    "    ml_recommendations = []\n",
    "    \n",
    "    # Process each anomaly to generate strategy recommendations\n",
    "    for anomaly in anomalies:\n",
    "        strike = anomaly['strike']\n",
    "        maturity = anomaly['maturity']\n",
    "        moneyness = anomaly['moneyness']\n",
    "        trade_direction = anomaly['trade_direction']\n",
    "        option_type = anomaly['option_type']\n",
    "        \n",
    "        # Generate strategies based on the anomaly\n",
    "        if trade_direction == \"Buy\" and option_type == \"Call\":\n",
    "            # Underpriced call - bullish opportunity\n",
    "            strategy = {\n",
    "                'strategy': 'Long Call (ML)',\n",
    "                'score': 7,  # Higher score due to ML detection\n",
    "                'description': f'Buy underpriced call at strike ${strike:.2f} expiring in {maturity:.2f} years',\n",
    "                'outlook': 'bullish',\n",
    "                'rationale': 'ML detected underpriced call option',\n",
    "                'max_loss': 'limited to premium paid',\n",
    "                'max_gain': 'unlimited',\n",
    "                'break_even': f'strike price + premium paid',\n",
    "                'volatility_bias': 'low',\n",
    "                'complexity': 'low',\n",
    "                'anomaly_details': anomaly\n",
    "            }\n",
    "            ml_recommendations.append(strategy)\n",
    "            \n",
    "            # Add a call spread as alternative\n",
    "            if moneyness < 1.1:  # Not too far OTM\n",
    "                strategy = {\n",
    "                    'strategy': 'Bull Call Spread (ML)',\n",
    "                    'score': 6,\n",
    "                    'description': f'Buy underpriced call at ${strike:.2f} and sell call at higher strike',\n",
    "                    'outlook': 'moderately bullish',\n",
    "                    'rationale': 'ML detected underpriced call option',\n",
    "                    'max_loss': 'limited to net premium paid',\n",
    "                    'max_gain': 'limited to difference between strikes - net premium',\n",
    "                    'break_even': 'lower strike + net premium paid',\n",
    "                    'volatility_bias': 'neutral',\n",
    "                    'complexity': 'moderate',\n",
    "                    'anomaly_details': anomaly\n",
    "                }\n",
    "                ml_recommendations.append(strategy)\n",
    "                \n",
    "        elif trade_direction == \"Buy\" and option_type == \"Put\":\n",
    "            # Underpriced put - bearish opportunity\n",
    "            strategy = {\n",
    "                'strategy': 'Long Put (ML)',\n",
    "                'score': 7,\n",
    "                'description': f'Buy underpriced put at strike ${strike:.2f} expiring in {maturity:.2f} years',\n",
    "                'outlook': 'bearish',\n",
    "                'rationale': 'ML detected underpriced put option',\n",
    "                'max_loss': 'limited to premium paid',\n",
    "                'max_gain': 'limited (stock to zero - premium)',\n",
    "                'break_even': 'strike price - premium paid',\n",
    "                'volatility_bias': 'low',\n",
    "                'complexity': 'low',\n",
    "                'anomaly_details': anomaly\n",
    "            }\n",
    "            ml_recommendations.append(strategy)\n",
    "            \n",
    "            # Add a put spread as alternative\n",
    "            if moneyness > 0.9:  # Not too far OTM\n",
    "                strategy = {\n",
    "                    'strategy': 'Bear Put Spread (ML)',\n",
    "                    'score': 6,\n",
    "                    'description': f'Buy underpriced put at ${strike:.2f} and sell put at lower strike',\n",
    "                    'outlook': 'moderately bearish',\n",
    "                    'rationale': 'ML detected underpriced put option',\n",
    "                    'max_loss': 'limited to net premium paid',\n",
    "                    'max_gain': 'limited to difference between strikes - net premium',\n",
    "                    'break_even': 'higher strike - net premium paid',\n",
    "                    'volatility_bias': 'neutral',\n",
    "                    'complexity': 'moderate',\n",
    "                    'anomaly_details': anomaly\n",
    "                }\n",
    "                ml_recommendations.append(strategy)\n",
    "                \n",
    "        elif trade_direction == \"Sell\" and option_type == \"Call\":\n",
    "            # Overpriced call - bearish/neutral opportunity\n",
    "            strategy = {\n",
    "                'strategy': 'Bear Call Spread (ML)',\n",
    "                'score': 7,\n",
    "                'description': f'Sell overpriced call at strike ${strike:.2f} expiring in {maturity:.2f} years and buy higher strike call',\n",
    "                'outlook': 'moderately bearish',\n",
    "                'rationale': 'ML detected overpriced call option',\n",
    "                'max_loss': 'limited to difference between strikes - net premium',\n",
    "                'max_gain': 'limited to net premium received',\n",
    "                'break_even': 'lower strike + net premium received',\n",
    "                'volatility_bias': 'high',\n",
    "                'complexity': 'moderate',\n",
    "                'anomaly_details': anomaly\n",
    "            }\n",
    "            ml_recommendations.append(strategy)\n",
    "            \n",
    "        elif trade_direction == \"Sell\" and option_type == \"Put\":\n",
    "            # Overpriced put - bullish/neutral opportunity\n",
    "            strategy = {\n",
    "                'strategy': 'Bull Put Spread (ML)',\n",
    "                'score': 7,\n",
    "                'description': f'Sell overpriced put at strike ${strike:.2f} expiring in {maturity:.2f} years and buy lower strike put',\n",
    "                'outlook': 'moderately bullish',\n",
    "                'rationale': 'ML detected overpriced put option',\n",
    "                'max_loss': 'limited to difference between strikes - net premium',\n",
    "                'max_gain': 'limited to net premium received',\n",
    "                'break_even': 'higher strike - net premium received',\n",
    "                'volatility_bias': 'high',\n",
    "                'complexity': 'moderate',\n",
    "                'anomaly_details': anomaly\n",
    "            }\n",
    "            ml_recommendations.append(strategy)\n",
    "    \n",
    "    # Check if the ML recommendations align with market outlook\n",
    "    market_outlook = base_recommendations['market_outlook']\n",
    "    \n",
    "    # Filter and prioritize ML recommendations that align with market outlook\n",
    "    aligned_recommendations = []\n",
    "    misaligned_recommendations = []\n",
    "    \n",
    "    for rec in ml_recommendations:\n",
    "        if (market_outlook == \"Bullish\" and rec['outlook'] in ['bullish', 'moderately bullish']) or \\\n",
    "           (market_outlook == \"Bearish\" and rec['outlook'] in ['bearish', 'moderately bearish']) or \\\n",
    "           (market_outlook == \"Neutral\" and 'neutral' in rec['outlook']):\n",
    "            # Boost score for aligned recommendations\n",
    "            rec['score'] += 1\n",
    "            aligned_recommendations.append(rec)\n",
    "        else:\n",
    "            misaligned_recommendations.append(rec)\n",
    "    \n",
    "    # Combine recommendations\n",
    "    # Priority: 1. Aligned ML recommendations, 2. Base recommendations, 3. Misaligned ML recommendations\n",
    "    final_recommendations = aligned_recommendations + base_recommendations['recommendations']\n",
    "    \n",
    "    # Sort by score\n",
    "    final_recommendations = sorted(final_recommendations, key=lambda x: x['score'], reverse=True)\n",
    "    \n",
    "    # Take top 3\n",
    "    top_recommendations = final_recommendations[:3]\n",
    "    \n",
    "    # Add market regime information from ML\n",
    "    result = {\n",
    "        'market_outlook': base_recommendations['market_outlook'],\n",
    "        'volatility_outlook': base_recommendations['volatility_outlook'],\n",
    "        'risk_tolerance': risk_tolerance,\n",
    "        'recommendations': top_recommendations,\n",
    "        'ml_enhanced': True,\n",
    "        'anomaly_detected': anomaly_results.get('is_anomaly', False)\n",
    "    }\n",
    "    \n",
    "    return result\n",
    "\n",
    "class IntegratedOptionsAnalyzer:\n",
    "    \"\"\"\n",
    "    Integrates all option analysis components including ML capabilities\n",
    "    into a single interface\n",
    "    \"\"\"\n",
    "    def __init__(self):\n",
    "        \"\"\"\n",
    "        Initialize the integrated analyzer with all components\n",
    "        \"\"\"\n",
    "        self.data_fetcher = OptionsDataFetcher()\n",
    "        self.vol_analyzer = VolatilitySurfaceAnalyzer()\n",
    "        self.calculator = OptionsCalculator()\n",
    "        self.strategy_analyzer = OptionsStrategyAnalyzer(self.calculator)\n",
    "        self.portfolio_optimizer = OptionsPortfolioOptimizer(self.calculator)\n",
    "    \n",
    "    def find_latest_option_files(self, ticker=None):\n",
    "        \"\"\"\n",
    "        Find the most recent option data CSV files\n",
    "        \n",
    "        Parameters:\n",
    "        -----------\n",
    "        ticker : str, optional\n",
    "            Ticker symbol to search for. If None, finds any ticker's most recent files.\n",
    "            \n",
    "        Returns:\n",
    "        --------\n",
    "        tuple: (calls_file, puts_file, meta_file, ticker) or (None, None, None, None) if no files found\n",
    "        \"\"\"\n",
    "        if ticker:\n",
    "            # Search for files for this specific ticker\n",
    "            pattern = f\"{ticker.upper()}_options_*_calls.csv\"\n",
    "        else:\n",
    "            # Search for any option files\n",
    "            pattern = \"*_options_*_calls.csv\"\n",
    "        \n",
    "        files = glob.glob(pattern)\n",
    "        \n",
    "        if not files:\n",
    "            return None, None, None, None\n",
    "        \n",
    "        # Sort by modification time (newest first)\n",
    "        files.sort(key=os.path.getmtime, reverse=True)\n",
    "        \n",
    "        # Get the most recent file\n",
    "        calls_file = files[0]\n",
    "        \n",
    "        # Extract ticker and date from filename\n",
    "        parts = os.path.basename(calls_file).split('_')\n",
    "        if len(parts) >= 3:\n",
    "            ticker = parts[0]\n",
    "            date_str = parts[2]\n",
    "            \n",
    "            # Construct paths to other files\n",
    "            puts_file = f\"{ticker}_options_{date_str}_puts.csv\"\n",
    "            meta_file = f\"{ticker}_options_{date_str}_meta.csv\"\n",
    "            \n",
    "            # Verify files exist\n",
    "            if os.path.exists(puts_file) and os.path.exists(meta_file):\n",
    "                return calls_file, puts_file, meta_file, ticker\n",
    "        \n",
    "        return None, None, None, None\n",
    "    \n",
    "    def fetch_and_analyze_data(self, ticker, save_data=True, fetch_new=True):\n",
    "        \"\"\"\n",
    "        Fetch and analyze option data for a specific ticker\n",
    "        \n",
    "        Parameters:\n",
    "        -----------\n",
    "        ticker : str\n",
    "            Ticker symbol\n",
    "        save_data : bool\n",
    "            Whether to save the data to CSV files\n",
    "        fetch_new : bool\n",
    "            Whether to fetch new data or try using existing files\n",
    "            \n",
    "        Returns:\n",
    "        --------\n",
    "        dict: Analysis results\n",
    "        \"\"\"\n",
    "        option_data = None\n",
    "        vol_surface = None\n",
    "        \n",
    "        # Check for existing files if not fetching new data\n",
    "        if not fetch_new:\n",
    "            calls_file, puts_file, meta_file, existing_ticker = self.find_latest_option_files(ticker)\n",
    "            \n",
    "            if calls_file and existing_ticker == ticker.upper():\n",
    "                print(f\"Using existing option data files for {ticker}\")\n",
    "                option_data = self.vol_analyzer.load_option_data_from_files(calls_file, puts_file, meta_file)\n",
    "        \n",
    "        # Fetch new data if needed\n",
    "        if option_data is None:\n",
    "            print(f\"Fetching new option data for {ticker}\")\n",
    "            option_data = self.data_fetcher.get_option_chain(ticker)\n",
    "            \n",
    "            if option_data is None:\n",
    "                return {\n",
    "                    'success': False,\n",
    "                    'message': f\"Failed to fetch option data for {ticker}\"\n",
    "                }\n",
    "            \n",
    "            # Save data to CSV if requested\n",
    "            if save_data:\n",
    "                self.data_fetcher.save_option_data_to_csv(option_data)\n",
    "        \n",
    "        # Analyze option chain\n",
    "        self.data_fetcher.analyze_option_data(option_data)\n",
    "        \n",
    "        # Enhance option data with Greeks calculation\n",
    "        enhanced_data = self.calculator.enhance_option_data(option_data)\n",
    "        \n",
    "        # Construct and analyze volatility surface\n",
    "        print(\"\\nAnalyzing volatility surface...\")\n",
    "        vol_surface_data, strikes, maturities, spot_price = self.vol_analyzer.construct_vol_surface(enhanced_data)\n",
    "        \n",
    "        if vol_surface_data is not None:\n",
    "            # Smooth the surface\n",
    "            smoothed_surface = self.vol_analyzer.filter_and_smooth_vol_surface(vol_surface_data, strikes, maturities)\n",
    "            vol_surface = (smoothed_surface, strikes, maturities, spot_price)\n",
    "        \n",
    "        # Analyze market conditions\n",
    "        print(\"\\nAnalyzing market conditions...\")\n",
    "        market_conditions = self.strategy_analyzer.analyze_market_conditions(enhanced_data, vol_surface)\n",
    "        \n",
    "        # Get strategy recommendations\n",
    "        print(\"\\nGenerating strategy recommendations...\")\n",
    "        strategy_recommendations = self.strategy_analyzer.recommend_strategies(market_conditions)\n",
    "        \n",
    "        # Create portfolio optimization\n",
    "        print(\"\\nOptimizing strategy position sizing...\")\n",
    "        optimized_strategies = []\n",
    "        \n",
    "        for strategy in strategy_recommendations['recommendations']:\n",
    "            try:\n",
    "                optimized = self.portfolio_optimizer.optimize_position_sizing(\n",
    "                    enhanced_data,\n",
    "                    {'strategy': strategy['strategy']}\n",
    "                )\n",
    "                optimized_strategies.append(optimized)\n",
    "            except Exception as e:\n",
    "                print(f\"Error optimizing {strategy['strategy']}: {e}\")\n",
    "        \n",
    "        # Compile results\n",
    "        results = {\n",
    "            'success': True,\n",
    "            'ticker': ticker,\n",
    "            'option_data': enhanced_data,\n",
    "            'vol_surface': vol_surface,\n",
    "            'market_conditions': market_conditions,\n",
    "            'strategy_recommendations': strategy_recommendations,\n",
    "            'optimized_strategies': optimized_strategies\n",
    "        }\n",
    "        \n",
    "        return results\n",
    "    \n",
    "    def create_visualizations(self, results):\n",
    "        \"\"\"\n",
    "        Create visualizations from analysis results with improved error handling\n",
    "        \n",
    "        Parameters:\n",
    "        -----------\n",
    "        results : dict\n",
    "            Analysis results\n",
    "            \n",
    "        Returns:\n",
    "        --------\n",
    "        dict: Visualization figures\n",
    "        \"\"\"\n",
    "        if not results.get('success', False):\n",
    "            print(\"Cannot create visualizations: Analysis was not successful\")\n",
    "            return None\n",
    "        \n",
    "        visualizations = {}\n",
    "        \n",
    "        # Extract data\n",
    "        ticker = results['ticker']\n",
    "        option_data = results['option_data']\n",
    "        vol_surface = results.get('vol_surface')\n",
    "        market_conditions = results.get('market_conditions', {})\n",
    "        \n",
    "        print(f\"\\nCreating visualizations for {ticker}...\")\n",
    "        \n",
    "        # Volatility surface 3D visualization (if available)\n",
    "        if vol_surface is not None:\n",
    "            try:\n",
    "                surface, strikes, maturities, spot_price = vol_surface\n",
    "                \n",
    "                # 3D surface\n",
    "                print(\"  Creating 3D volatility surface visualization...\")\n",
    "                vol_3d = self.vol_analyzer.visualize_vol_surface_3d(\n",
    "                    surface, strikes, maturities, spot_price,\n",
    "                    title=f\"{ticker} Implied Volatility Surface\",\n",
    "                    show_plot=False,\n",
    "                    save_path=f\"{ticker}_vol_surface_3d.html\"\n",
    "                )\n",
    "                \n",
    "                # Volatility skew\n",
    "                print(\"  Creating volatility skew visualization...\")\n",
    "                vol_skew = self.vol_analyzer.visualize_vol_skew(\n",
    "                    surface, strikes, maturities, spot_price,\n",
    "                    title=f\"{ticker} Volatility Skew\",\n",
    "                    show_plot=False,\n",
    "                    save_path=f\"{ticker}_vol_skew.png\"\n",
    "                )\n",
    "                \n",
    "                visualizations['vol_surface_3d'] = vol_3d\n",
    "                visualizations['vol_skew'] = vol_skew\n",
    "                \n",
    "                print(\"  Volatility visualizations created successfully\")\n",
    "            except Exception as e:\n",
    "                print(f\"  Error creating volatility visualizations: {str(e)}\")\n",
    "                import traceback\n",
    "                traceback.print_exc()\n",
    "        \n",
    "        # Strategy payoff diagrams\n",
    "        if 'strategy_recommendations' in results and 'recommendations' in results['strategy_recommendations']:\n",
    "            print(\"\\n  Creating strategy payoff diagrams...\")\n",
    "            \n",
    "            for i, strategy in enumerate(results['strategy_recommendations']['recommendations']):\n",
    "                try:\n",
    "                    strategy_type = strategy['strategy']\n",
    "                    print(f\"    Processing {strategy_type}...\")\n",
    "                    \n",
    "                    # Find parameters with better error handling\n",
    "                    params = None\n",
    "                    \n",
    "                    # First check if we have optimized strategies available\n",
    "                    if 'optimized_strategies' in results and results['optimized_strategies']:\n",
    "                        for opt_strategy in results['optimized_strategies']:\n",
    "                            if opt_strategy and isinstance(opt_strategy, dict) and \\\n",
    "                               opt_strategy.get('strategy') == strategy_type and \\\n",
    "                               'parameters' in opt_strategy:\n",
    "                                params = opt_strategy.get('parameters')\n",
    "                                print(f\"      Found parameters from optimized strategy\")\n",
    "                                break\n",
    "                    \n",
    "                    # If still no parameters, try to find them directly\n",
    "                    if params is None:\n",
    "                        try:\n",
    "                            print(f\"      Finding parameters directly...\")\n",
    "                            params = self.strategy_analyzer._find_strategy_parameters(strategy_type, option_data)\n",
    "                            if params:\n",
    "                                print(f\"      Successfully found parameters\")\n",
    "                            else:\n",
    "                                print(f\"      No suitable parameters found\")\n",
    "                        except Exception as param_error:\n",
    "                            print(f\"      Error finding parameters: {str(param_error)}\")\n",
    "                    \n",
    "                    # Create payoff diagram only if params are found\n",
    "                    if params:\n",
    "                        try:\n",
    "                            payoff = self.strategy_analyzer.visualize_strategy_payoff(\n",
    "                                strategy_type, option_data, params\n",
    "                            )\n",
    "                            \n",
    "                            visualizations[f'strategy_payoff_{i+1}'] = payoff\n",
    "                            \n",
    "                            # Save payoff diagram\n",
    "                            save_path = f\"{ticker}_{strategy_type.replace(' ', '_')}_payoff.html\"\n",
    "                            payoff.write_html(save_path)\n",
    "                            print(f\"      Saved payoff diagram to {save_path}\")\n",
    "                        except Exception as render_error:\n",
    "                            print(f\"      Error rendering payoff diagram: {str(render_error)}\")\n",
    "                            import traceback\n",
    "                            traceback.print_exc()\n",
    "                    else:\n",
    "                        print(f\"      No suitable parameters found for {strategy_type} payoff diagram\")\n",
    "                except Exception as strat_error:\n",
    "                    print(f\"    Error processing strategy {i+1}: {str(strat_error)}\")\n",
    "        \n",
    "        # Return created visualizations\n",
    "        if visualizations:\n",
    "            print(f\"\\nCreated {len(visualizations)} visualizations successfully\")\n",
    "        else:\n",
    "            print(\"\\nNo visualizations were created\")\n",
    "        \n",
    "        return visualizations\n",
    "    \n",
    "    def display_analysis_report(self, results):\n",
    "        \"\"\"\n",
    "        Display a comprehensive analysis report\n",
    "        \n",
    "        Parameters:\n",
    "        -----------\n",
    "        results : dict\n",
    "            Analysis results\n",
    "        \"\"\"\n",
    "        if not results.get('success', False):\n",
    "            print(f\"Analysis failed: {results.get('message', 'Unknown error')}\")\n",
    "            return\n",
    "        \n",
    "        # Extract data\n",
    "        ticker = results['ticker']\n",
    "        option_data = results['option_data']\n",
    "        market_conditions = results['market_conditions']\n",
    "        strategy_recommendations = results['strategy_recommendations']\n",
    "        optimized_strategies = results['optimized_strategies']\n",
    "        \n",
    "        # Print header\n",
    "        print(\"\\n\" + \"=\"*80)\n",
    "        print(f\"COMPREHENSIVE OPTIONS ANALYSIS REPORT FOR {ticker}\")\n",
    "        print(\"=\"*80)\n",
    "        \n",
    "        # Market conditions\n",
    "        print(\"\\nMARKET CONDITIONS:\")\n",
    "        print(f\"  Spot Price: ${option_data['spot_price']:.2f}\")\n",
    "        print(f\"  Put-Call Ratio: {market_conditions['put_call_ratio']:.2f}\")\n",
    "        \n",
    "        # Implied volatility\n",
    "        print(\"\\nIMPLIED VOLATILITY:\")\n",
    "        print(f\"  ATM IV: {market_conditions['average_iv']['atm']:.2%}\")\n",
    "        print(f\"  Call IV Range: {market_conditions['iv_range']['calls'][0]:.2%} to {market_conditions['iv_range']['calls'][1]:.2%}\")\n",
    "        print(f\"  Put IV Range: {market_conditions['iv_range']['puts'][0]:.2%} to {market_conditions['iv_range']['puts'][1]:.2%}\")\n",
    "        \n",
    "        if market_conditions['vol_skew'] is not None:\n",
    "            print(f\"  Volatility Skew: {market_conditions['vol_skew']:.2%}\")\n",
    "        \n",
    "        if market_conditions['vol_term_structure'] is not None:\n",
    "            print(f\"  Volatility Term Structure: {market_conditions['vol_term_structure']:.2%}\")\n",
    "        \n",
    "        # Market sentiment\n",
    "        print(\"\\nMARKET SENTIMENT:\")\n",
    "        for key, value in market_conditions['market_sentiment'].items():\n",
    "            print(f\"  {key.capitalize()}: {value}\")\n",
    "        \n",
    "        # Strategy recommendations\n",
    "        print(\"\\nSTRATEGY RECOMMENDATIONS:\")\n",
    "        print(f\"  Market Outlook: {strategy_recommendations['market_outlook']}\")\n",
    "        print(f\"  Volatility Outlook: {strategy_recommendations['volatility_outlook']}\")\n",
    "        print(f\"  Risk Tolerance: {strategy_recommendations['risk_tolerance']}\")\n",
    "        \n",
    "        print(\"\\nTOP RECOMMENDED STRATEGIES:\")\n",
    "        for i, strategy in enumerate(strategy_recommendations['recommendations']):\n",
    "            print(f\"\\n  {i+1}. {strategy['strategy']} (Score: {strategy['score']})\")\n",
    "            print(f\"     Description: {strategy['description']}\")\n",
    "            print(f\"     Market Outlook: {strategy['outlook']}\")\n",
    "            print(f\"     Max Loss: {strategy['max_loss']}\")\n",
    "            print(f\"     Max Gain: {strategy['max_gain']}\")\n",
    "            print(f\"     Break Even: {strategy['break_even']}\")\n",
    "            print(f\"     Volatility Bias: {strategy['volatility_bias']}\")\n",
    "            print(f\"     Complexity: {strategy['complexity']}\")\n",
    "            \n",
    "            # Find matching optimized strategy\n",
    "            for opt_strategy in optimized_strategies:\n",
    "                if opt_strategy.get('strategy') == strategy['strategy']:\n",
    "                    print(f\"\\n     POSITION SIZING:\")\n",
    "                    print(f\"       Max Contracts: {opt_strategy['max_contracts']}\")\n",
    "                    print(f\"       Max Loss Per Contract: ${opt_strategy['max_loss_per_contract']:.2f}\")\n",
    "                    print(f\"       Max Total Loss: ${opt_strategy['max_total_loss']:.2f}\")\n",
    "                    \n",
    "                    print(f\"\\n     EXPECTED PROFIT (1 SD MOVE):\")\n",
    "                    print(f\"       If Price Rises: ${opt_strategy['expected_profit']['up']:.2f}\")\n",
    "                    print(f\"       If Price Falls: ${opt_strategy['expected_profit']['down']:.2f}\")\n",
    "                    \n",
    "                    print(f\"\\n     RISK-REWARD RATIO:\")\n",
    "                    print(f\"       If Price Rises: {opt_strategy['risk_reward_ratio']['up']:.2f}\")\n",
    "                    print(f\"       If Price Falls: {opt_strategy['risk_reward_ratio']['down']:.2f}\")\n",
    "                    break\n",
    "        \n",
    "        # Put-call parity violations\n",
    "        if market_conditions['parity_violations']:\n",
    "            print(\"\\nPUT-CALL PARITY VIOLATIONS DETECTED:\")\n",
    "            for violation in market_conditions['parity_violations']:\n",
    "                print(f\"  Expiration: {violation['expiration']}, Strike: ${violation['strike']:.2f}\")\n",
    "                print(f\"  Discrepancy: {violation['discrepancy']:.2%}\")\n",
    "                print(f\"  Call Price: ${violation['call_price']:.2f}, Put Price: ${violation['put_price']:.2f}\")\n",
    "        \n",
    "        # American option premiums\n",
    "        print(\"\\nAMERICAN OPTION EARLY EXERCISE PREMIUM:\")\n",
    "        \n",
    "        # Get a sample of options with American premium calculated\n",
    "        calls = option_data['calls']\n",
    "        puts = option_data['puts']\n",
    "        \n",
    "        call_samples = calls[~pd.isna(calls['american_premium'])].nlargest(3, 'american_premium')\n",
    "        put_samples = puts[~pd.isna(puts['american_premium'])].nlargest(3, 'american_premium')\n",
    "        \n",
    "        if not call_samples.empty:\n",
    "            print(\"\\n  Call Options:\")\n",
    "            for _, row in call_samples.iterrows():\n",
    "                premium_pct = row['american_premium'] / row['usePrice'] * 100 if row['usePrice'] > 0 else 0\n",
    "                print(f\"    Strike: ${row['strike']:.2f}, Expiration: {row['expirationDate']}\")\n",
    "                print(f\"    Premium: ${row['american_premium']:.4f} ({premium_pct:.2f}% of option price)\")\n",
    "        \n",
    "        if not put_samples.empty:\n",
    "            print(\"\\n  Put Options:\")\n",
    "            for _, row in put_samples.iterrows():\n",
    "                premium_pct = row['american_premium'] / row['usePrice'] * 100 if row['usePrice'] > 0 else 0\n",
    "                print(f\"    Strike: ${row['strike']:.2f}, Expiration: {row['expirationDate']}\")\n",
    "                print(f\"    Premium: ${row['american_premium']:.4f} ({premium_pct:.2f}% of option price)\")\n",
    "        \n",
    "        # Generated visualizations\n",
    "        print(\"\\nGENERATED VISUALIZATIONS:\")\n",
    "        if results.get('vol_surface') is not None:\n",
    "            print(f\"  - {ticker}_vol_surface_3d.html (3D Volatility Surface)\")\n",
    "            print(f\"  - {ticker}_vol_skew.png (Volatility Skew)\")\n",
    "        \n",
    "        for strategy in strategy_recommendations['recommendations']:\n",
    "            strategy_file = f\"{ticker}_{strategy['strategy'].replace(' ', '_')}_payoff.html\"\n",
    "            print(f\"  - {strategy_file} (Payoff Diagram)\")\n",
    "        \n",
    "        print(\"\\nAnalysis Complete\")\n",
    "        print(\"=\"*80)\n",
    "    \n",
    "    def fetch_and_analyze_with_ml(self, ticker, save_data=True, fetch_new=True, max_retries=3, \n",
    "                                 anomaly_sensitivity='medium'):\n",
    "        \"\"\"\n",
    "        Fetch option data and perform comprehensive analysis including ML with improved \n",
    "        anomaly detection sensitivity\n",
    "        \n",
    "        Parameters:\n",
    "        -----------\n",
    "        ticker : str\n",
    "            Ticker symbol\n",
    "        save_data : bool\n",
    "            Whether to save the data to CSV files\n",
    "        fetch_new : bool\n",
    "            Whether to fetch new data or try using existing files\n",
    "        max_retries : int\n",
    "            Maximum number of retry attempts for network errors\n",
    "        anomaly_sensitivity : str\n",
    "            'low', 'medium', 'high' - sensitivity for anomaly detection\n",
    "                \n",
    "        Returns:\n",
    "        --------\n",
    "        dict: Complete analysis results with ML insights\n",
    "        \"\"\"\n",
    "        option_data = None\n",
    "        \n",
    "        # First, check if we have existing data files regardless of fetch_new setting\n",
    "        # This ensures we have fallback data even if fetching fails\n",
    "        calls_file, puts_file, meta_file, existing_ticker = self.find_latest_option_files(ticker)\n",
    "        \n",
    "        # Try to fetch new data if requested\n",
    "        if fetch_new:\n",
    "            retry_count = 0\n",
    "            while retry_count < max_retries:\n",
    "                try:\n",
    "                    print(f\"Fetching new option data for {ticker} (attempt {retry_count+1}/{max_retries})...\")\n",
    "                    option_data = self.data_fetcher.get_option_chain(ticker)\n",
    "                    if option_data:\n",
    "                        # Successfully fetched data\n",
    "                        if save_data:\n",
    "                            self.data_fetcher.save_option_data_to_csv(option_data)\n",
    "                        break\n",
    "                    else:\n",
    "                        print(f\"No data returned for {ticker}\")\n",
    "                except Exception as e:\n",
    "                    print(f\"Error fetching data (attempt {retry_count+1}): {e}\")\n",
    "                \n",
    "                # Increment retry counter\n",
    "                retry_count += 1\n",
    "                \n",
    "                if retry_count < max_retries:\n",
    "                    print(f\"Retrying in 3 seconds...\")\n",
    "                    time.sleep(3)  # Wait before retrying\n",
    "        \n",
    "        # If fetching failed but we have existing files, offer to use them\n",
    "        if option_data is None and calls_file and existing_ticker == ticker.upper():\n",
    "            if not fetch_new:  # User already chose to use existing files\n",
    "                print(f\"Using existing option data files for {ticker}\")\n",
    "                option_data = self.vol_analyzer.load_option_data_from_files(calls_file, puts_file, meta_file)\n",
    "            else:  # Fetching failed, ask user if they want to use existing files\n",
    "                use_existing = input(f\"\\nFailed to fetch new data. Use existing {ticker} data files? (y/n): \").lower().strip() == 'y'\n",
    "                if use_existing:\n",
    "                    print(f\"Using existing option data files for {ticker}\")\n",
    "                    option_data = self.vol_analyzer.load_option_data_from_files(calls_file, puts_file, meta_file)\n",
    "        \n",
    "        # If we still don't have data, look for ANY existing ticker data\n",
    "        if option_data is None:\n",
    "            any_calls_file, any_puts_file, any_meta_file, any_ticker = self.find_latest_option_files()\n",
    "            if any_calls_file:\n",
    "                use_any = input(f\"\\nNo data for {ticker}. Use existing {any_ticker} data instead? (y/n): \").lower().strip() == 'y'\n",
    "                if use_any:\n",
    "                    print(f\"Using existing {any_ticker} data files\")\n",
    "                    option_data = self.vol_analyzer.load_option_data_from_files(any_calls_file, any_puts_file, any_meta_file)\n",
    "                    ticker = any_ticker  # Update ticker to match the data\n",
    "        \n",
    "        # If all attempts failed, return error\n",
    "        if option_data is None:\n",
    "            return {\n",
    "                'success': False,\n",
    "                'message': f\"Failed to fetch or load option data for {ticker}\",\n",
    "                'suggestion': \"Try another ticker, check your internet connection, or use offline mode\"\n",
    "            }\n",
    "        \n",
    "        # Analyze option chain\n",
    "        self.data_fetcher.analyze_option_data(option_data)\n",
    "        \n",
    "        # Enhance option data with Greeks calculation\n",
    "        enhanced_data = self.calculator.enhance_option_data(option_data)\n",
    "        \n",
    "        # Construct and analyze volatility surface\n",
    "        print(\"\\nAnalyzing volatility surface...\")\n",
    "        vol_surface_data, strikes, maturities, spot_price = self.vol_analyzer.construct_vol_surface(enhanced_data)\n",
    "        \n",
    "        if vol_surface_data is None:\n",
    "            return {\n",
    "                'success': False,\n",
    "                'message': f\"Could not construct volatility surface for {ticker}\",\n",
    "                'option_data': enhanced_data  # Return the data we have anyway\n",
    "            }\n",
    "        \n",
    "        # Smooth the surface\n",
    "        smoothed_surface = self.vol_analyzer.filter_and_smooth_vol_surface(vol_surface_data, strikes, maturities)\n",
    "        vol_surface = (smoothed_surface, strikes, maturities, spot_price)\n",
    "        \n",
    "        # Analyze market conditions\n",
    "        print(\"\\nAnalyzing market conditions...\")\n",
    "        market_conditions = self.strategy_analyzer.analyze_market_conditions(enhanced_data, vol_surface)\n",
    "        \n",
    "        # Get standard strategy recommendations first\n",
    "        print(\"\\nGenerating strategy recommendations...\")\n",
    "        strategy_recommendations = self.strategy_analyzer.recommend_strategies(market_conditions)\n",
    "        \n",
    "        # Create portfolio optimization\n",
    "        print(\"\\nOptimizing strategy position sizing...\")\n",
    "        optimized_strategies = []\n",
    "        \n",
    "        for strategy in strategy_recommendations['recommendations']:\n",
    "            try:\n",
    "                optimized = self.portfolio_optimizer.optimize_position_sizing(\n",
    "                    enhanced_data,\n",
    "                    {'strategy': strategy['strategy']}\n",
    "                )\n",
    "                optimized_strategies.append(optimized)\n",
    "            except Exception as e:\n",
    "                print(f\"Error optimizing {strategy['strategy']}: {e}\")\n",
    "        \n",
    "        # Run ML analysis on the volatility surface with enhanced sensitivity\n",
    "        ml_results = None\n",
    "        try:\n",
    "            print(f\"\\nRunning machine learning analysis for trading opportunities (sensitivity: {anomaly_sensitivity})...\")\n",
    "            \n",
    "            # Initialize ML model\n",
    "            input_shape = (smoothed_surface.shape[0], smoothed_surface.shape[1], 1)\n",
    "            \n",
    "            try:\n",
    "                # Import here to avoid initial dependency errors\n",
    "                from tensorflow.keras.layers import BatchNormalization, Add, Resizing\n",
    "                from tensorflow.keras.callbacks import ReduceLROnPlateau, TensorBoard\n",
    "                import json\n",
    "                import pickle\n",
    "            except ImportError as e:\n",
    "                print(f\"Advanced ML dependencies not available: {e}\")\n",
    "                print(\"Using simplified ML analysis...\")\n",
    "                # Continue with simplified ML model\n",
    "            \n",
    "            # Try to use the advanced model, but fall back to a simpler one if needed\n",
    "            try:\n",
    "                ml_model = VolatilitySurfaceAutoencoder(input_shape=input_shape)\n",
    "                \n",
    "                # Train on current surface with fewer epochs for faster results\n",
    "                ml_model.train_on_single_surface(smoothed_surface)\n",
    "                \n",
    "                # Detect trading opportunities with enhanced sensitivity\n",
    "                anomaly_results = ml_model.detect_trading_opportunities(\n",
    "                    smoothed_surface, strikes, maturities, spot_price,\n",
    "                    market_conditions=market_conditions,  # Pass market conditions for adaptive sensitivity\n",
    "                    sensitivity_level=anomaly_sensitivity  # Pass sensitivity level\n",
    "                )\n",
    "                \n",
    "                # Get market regime info if available\n",
    "                if hasattr(ml_model, 'classify_market_regime'):\n",
    "                    regime_classification = ml_model.classify_market_regime(smoothed_surface)\n",
    "                else:\n",
    "                    # Simplified regime classification\n",
    "                    regime_classification = {\n",
    "                        'regime': 'normal' if np.mean(smoothed_surface) < 0.3 else 'high_volatility',\n",
    "                        'confidence': 0.7\n",
    "                    }\n",
    "                \n",
    "                # Get ML-enhanced strategy recommendations\n",
    "                if hasattr(self.strategy_analyzer, 'recommend_strategies_with_ml'):\n",
    "                    ml_enhanced_strategies = self.strategy_analyzer.recommend_strategies_with_ml(\n",
    "                        market_conditions, anomaly_results)\n",
    "                else:\n",
    "                    # Use standard recommendations if ML-enhanced not available\n",
    "                    ml_enhanced_strategies = strategy_recommendations\n",
    "                \n",
    "                # Store ML results\n",
    "                ml_results = {\n",
    "                    'anomaly_results': anomaly_results,\n",
    "                    'market_regime': regime_classification,\n",
    "                    'enhanced_strategies': ml_enhanced_strategies,\n",
    "                    'sensitivity_used': anomaly_sensitivity\n",
    "                }\n",
    "                \n",
    "                # Create ML-enhanced visualizations if method exists\n",
    "                if hasattr(self, '_create_ml_visualizations'):\n",
    "                    try:\n",
    "                        ml_visualizations = self._create_ml_visualizations(\n",
    "                            ticker, smoothed_surface, \n",
    "                            reconstructed_surface=anomaly_results.get('reconstructed_surface', smoothed_surface),\n",
    "                            strikes=strikes, maturities=maturities, spot_price=spot_price,\n",
    "                            anomalies=anomaly_results.get('top_anomalies', []),\n",
    "                            sensitivity=anomaly_sensitivity  # Pass sensitivity for visualization\n",
    "                        )\n",
    "                    except Exception as viz_err:\n",
    "                        print(f\"Error creating ML visualizations: {viz_err}\")\n",
    "                        ml_visualizations = {}\n",
    "                else:\n",
    "                    ml_visualizations = {}\n",
    "                        \n",
    "            except Exception as model_err:\n",
    "                print(f\"Error in advanced ML analysis: {model_err}\")\n",
    "                print(\"Falling back to basic analysis...\")\n",
    "                ml_results = None\n",
    "                ml_visualizations = {}\n",
    "                    \n",
    "        except Exception as e:\n",
    "            print(f\"Error during ML analysis: {e}\")\n",
    "            print(\"Continuing with standard analysis...\")\n",
    "        \n",
    "        # Create standard visualizations\n",
    "        visualizations = self.create_visualizations({\n",
    "            'success': True,\n",
    "            'ticker': ticker,\n",
    "            'option_data': enhanced_data,\n",
    "            'vol_surface': vol_surface,\n",
    "            'market_conditions': market_conditions,\n",
    "            'strategy_recommendations': strategy_recommendations\n",
    "        })\n",
    "        \n",
    "        # Compile complete results\n",
    "        results = {\n",
    "            'success': True,\n",
    "            'ticker': ticker,\n",
    "            'option_data': enhanced_data,\n",
    "            'vol_surface': vol_surface,\n",
    "            'market_conditions': market_conditions,\n",
    "            'strategy_recommendations': strategy_recommendations,\n",
    "            'optimized_strategies': optimized_strategies,\n",
    "            'visualizations': visualizations,\n",
    "            'anomaly_sensitivity': anomaly_sensitivity  # Include sensitivity setting in results\n",
    "        }\n",
    "        \n",
    "        # Add ML results if available\n",
    "        if ml_results:\n",
    "            results['ml_analysis'] = ml_results\n",
    "            results['ml_visualizations'] = ml_visualizations\n",
    "        \n",
    "        return results\n",
    "    \n",
    "    def _create_ml_visualizations(self, ticker, surface, reconstructed_surface, strikes, maturities, \n",
    "                               spot_price, anomalies=None):\n",
    "        \"\"\"\n",
    "        Create visualizations highlighting ML-detected anomalies\n",
    "        \n",
    "        Parameters:\n",
    "        -----------\n",
    "        ticker : str\n",
    "            Ticker symbol\n",
    "        surface : numpy.ndarray\n",
    "            Original volatility surface\n",
    "        reconstructed_surface : numpy.ndarray\n",
    "            Reconstructed surface from ML model\n",
    "        strikes : array\n",
    "            Strike prices\n",
    "        maturities : array\n",
    "            Time to maturities\n",
    "        spot_price : float\n",
    "            Current stock price\n",
    "        anomalies : list, optional\n",
    "            List of detected anomalies with trading signals\n",
    "            \n",
    "        Returns:\n",
    "        --------\n",
    "        dict: ML visualization figures\n",
    "        \"\"\"\n",
    "        visualizations = {}\n",
    "        \n",
    "        # Create 3D comparison with anomalies highlighted\n",
    "        fig = go.Figure()\n",
    "        \n",
    "        # Create meshgrid for visualization\n",
    "        moneyness = strikes / spot_price\n",
    "        strike_grid, maturity_grid = np.meshgrid(moneyness, maturities)\n",
    "        \n",
    "        # Add original surface\n",
    "        fig.add_trace(go.Surface(\n",
    "            z=surface,\n",
    "            x=strike_grid,\n",
    "            y=maturity_grid,\n",
    "            colorscale='Viridis',\n",
    "            opacity=0.8,\n",
    "            name='Market Surface',\n",
    "            showscale=True,\n",
    "            colorbar=dict(\n",
    "                title=\"Implied Volatility\",\n",
    "                titleside=\"right\",\n",
    "                titlefont=dict(size=14),\n",
    "                tickformat=\".0%\"\n",
    "            )\n",
    "        ))\n",
    "        \n",
    "        # Add reconstructed surface\n",
    "        fig.add_trace(go.Surface(\n",
    "            z=reconstructed_surface,\n",
    "            x=strike_grid,\n",
    "            y=maturity_grid,\n",
    "            colorscale='Plasma',\n",
    "            opacity=0.5,\n",
    "            name='ML Reconstruction',\n",
    "            showscale=False\n",
    "        ))\n",
    "        \n",
    "        # Highlight anomalies\n",
    "        if anomalies:\n",
    "            for i, anomaly in enumerate(anomalies):\n",
    "                mat_idx = anomaly['maturity_idx']\n",
    "                strike_idx = anomaly['strike_idx']\n",
    "                \n",
    "                # Skip if indices are out of bounds\n",
    "                if mat_idx >= len(maturities) or strike_idx >= len(strikes):\n",
    "                    continue\n",
    "                \n",
    "                # Get coordinates\n",
    "                x = moneyness[strike_idx]\n",
    "                y = maturities[mat_idx]\n",
    "                z = surface[mat_idx, strike_idx]\n",
    "                \n",
    "                # Add marker\n",
    "                fig.add_trace(go.Scatter3d(\n",
    "                    x=[x],\n",
    "                    y=[y],\n",
    "                    z=[z],\n",
    "                    mode='markers',\n",
    "                    marker=dict(\n",
    "                        size=8,\n",
    "                        color='red',\n",
    "                    ),\n",
    "                    name=f\"Trading Signal {i+1}: {anomaly['trade_direction']} {anomaly['option_type']}\"\n",
    "                ))\n",
    "                \n",
    "                # Add vertical line to point\n",
    "                fig.add_trace(go.Scatter3d(\n",
    "                    x=[x, x],\n",
    "                    y=[y, y],\n",
    "                    z=[0, z],\n",
    "                    mode='lines',\n",
    "                    line=dict(\n",
    "                        color='red',\n",
    "                        width=3,\n",
    "                        dash='dash'\n",
    "                    ),\n",
    "                    showlegend=False\n",
    "                ))\n",
    "        \n",
    "        # Update layout\n",
    "        fig.update_layout(\n",
    "            title=dict(\n",
    "                text=f\"{ticker} Volatility Surface with ML Trading Signals\",\n",
    "                font=dict(size=20)\n",
    "            ),\n",
    "            scene=dict(\n",
    "                xaxis_title=\"Moneyness (K/S)\",\n",
    "                yaxis_title=\"Maturity (Years)\",\n",
    "                zaxis_title=\"Implied Volatility\",\n",
    "                zaxis=dict(tickformat=\".0%\"),\n",
    "                aspectratio=dict(x=1.5, y=1.5, z=0.8),\n",
    "                camera=dict(\n",
    "                    eye=dict(x=1.5, y=-1.5, z=0.8)\n",
    "                )\n",
    "            ),\n",
    "            margin=dict(l=0, r=0, b=0, t=65),\n",
    "            legend=dict(\n",
    "                yanchor=\"top\",\n",
    "                y=0.99,\n",
    "                xanchor=\"left\",\n",
    "                x=0.01,\n",
    "                bgcolor=\"rgba(255, 255, 255, 0.1)\"\n",
    "            ),\n",
    "            template=\"plotly_dark\"\n",
    "        )\n",
    "        \n",
    "        # Save figure\n",
    "        save_path = f\"{ticker}_ml_trading_signals.html\"\n",
    "        fig.write_html(save_path)\n",
    "        visualizations['trading_signals_3d'] = fig\n",
    "        \n",
    "        # Create 2D heatmap of the anomalies\n",
    "        if anomalies:\n",
    "            fig2 = plt.figure(figsize=(12, 8))\n",
    "            plt.style.use('dark_background')\n",
    "            \n",
    "            # Create difference heatmap\n",
    "            diff = surface - reconstructed_surface\n",
    "            im = plt.imshow(diff, extent=[min(moneyness), max(moneyness), min(maturities), max(maturities)], \n",
    "                           aspect='auto', origin='lower', cmap='coolwarm')\n",
    "            \n",
    "            plt.axvline(x=1.0, color='white', linestyle='--', alpha=0.7, label='ATM')\n",
    "            \n",
    "            # Add colorbar\n",
    "            cbar = plt.colorbar(im)\n",
    "            cbar.set_label('Mispricing Magnitude (Market - ML)', fontsize=12)\n",
    "            \n",
    "            # Add anomaly points\n",
    "            for i, anomaly in enumerate(anomalies):\n",
    "                mat_idx = anomaly['maturity_idx']\n",
    "                strike_idx = anomaly['strike_idx']\n",
    "                \n",
    "                if mat_idx < len(maturities) and strike_idx < len(moneyness):\n",
    "                    x = moneyness[strike_idx]\n",
    "                    y = maturities[mat_idx]\n",
    "                    \n",
    "                    # Use different markers for buy/sell signals\n",
    "                    if anomaly['trade_direction'] == 'Buy':\n",
    "                        plt.plot(x, y, 'g^', markersize=15, \n",
    "                                label=f\"Buy {anomaly['option_type']}\" if i == 0 else \"\")\n",
    "                    else:\n",
    "                        plt.plot(x, y, 'rv', markersize=15, \n",
    "                                label=f\"Sell {anomaly['option_type']}\" if i == 0 else \"\")\n",
    "                    \n",
    "                    plt.annotate(f\"{i+1}\", xy=(x, y), xytext=(x+0.01, y+0.01),\n",
    "                               color='white', fontsize=12, fontweight='bold')\n",
    "            \n",
    "            plt.title(f\"{ticker} Volatility Surface Mispricing Map\", fontsize=16)\n",
    "            plt.xlabel(\"Moneyness (K/S)\", fontsize=14)\n",
    "            plt.ylabel(\"Time to Maturity (Years)\", fontsize=14)\n",
    "            plt.grid(True, alpha=0.3)\n",
    "            plt.legend()\n",
    "            \n",
    "            # Save the figure\n",
    "            plt.tight_layout()\n",
    "            save_path2 = f\"{ticker}_mispricing_map.png\"\n",
    "            plt.savefig(save_path2, dpi=300, bbox_inches='tight')\n",
    "            visualizations['mispricing_map'] = fig2\n",
    "        \n",
    "        return visualizations\n",
    "    \n",
    "    def display_ml_enhanced_report(self, results):\n",
    "        \"\"\"\n",
    "        Display machine learning enhanced analysis report\n",
    "        \n",
    "        Parameters:\n",
    "        -----------\n",
    "        results : dict\n",
    "            Analysis results with ML enhancements\n",
    "        \"\"\"\n",
    "        if not results.get('success', False) or 'ml_analysis' not in results:\n",
    "            print(\"No ML analysis results available.\")\n",
    "            return\n",
    "        \n",
    "        # Extract ML data\n",
    "        ticker = results['option_data']['ticker']\n",
    "        ml_analysis = results['ml_analysis']\n",
    "        anomaly_results = ml_analysis.get('anomaly_results', {})\n",
    "        market_regime = ml_analysis.get('market_regime', {})\n",
    "        enhanced_strategies = ml_analysis.get('enhanced_strategies', {})\n",
    "        \n",
    "        # Print header\n",
    "        print(\"\\n\" + \"=\"*80)\n",
    "        print(f\"ML-ENHANCED TRADING ANALYSIS FOR {ticker}\")\n",
    "        print(\"=\"*80)\n",
    "        \n",
    "        # Market regime analysis\n",
    "        print(\"\\nMARKET REGIME ANALYSIS:\")\n",
    "        regime = market_regime.get('regime', 'Unknown')\n",
    "        confidence = market_regime.get('confidence', 0)\n",
    "        print(f\"  Detected Regime: {regime.replace('_', ' ').title()}\")\n",
    "        print(f\"  Confidence: {confidence:.1%}\")\n",
    "        \n",
    "        # Additional regime insights\n",
    "        if regime == 'high_volatility':\n",
    "            print(\"  • High volatility environment suggests defensive positioning\")\n",
    "        elif regime == 'low_volatility':\n",
    "            print(\"  • Low volatility environment suggests potential volatility expansion trades\")\n",
    "        elif regime == 'skewed':\n",
    "            print(\"  • Market shows significant skew, indicating tail risk concerns\")\n",
    "        elif regime == 'volatile_term_structure':\n",
    "            print(\"  • Unusual term structure suggests uncertain medium-term outlook\")\n",
    "        \n",
    "        # Anomaly detection\n",
    "        print(\"\\nVOLATILITY SURFACE ANOMALIES:\")\n",
    "        if anomaly_results.get('is_anomaly', False):\n",
    "            print(f\"  Significant anomalies detected (Score: {anomaly_results.get('anomaly_score', 0):.4f})\")\n",
    "            \n",
    "            # Show top anomalies\n",
    "            anomalies = anomaly_results.get('top_anomalies', [])\n",
    "            if anomalies:\n",
    "                print(\"\\n  TOP TRADING OPPORTUNITIES:\")\n",
    "                for i, anomaly in enumerate(anomalies):\n",
    "                    print(f\"\\n    Signal {i+1}: {anomaly['trade_direction']} {anomaly['option_type']}\")\n",
    "                    print(f\"    Strike: ${anomaly['strike']:.2f} ({anomaly['moneyness']:.2f}x spot)\")\n",
    "                    print(f\"    Expiration: {anomaly['maturity']:.2f} years\")\n",
    "                    print(f\"    Mispricing Magnitude: {abs(anomaly['magnitude']):.2%}\")\n",
    "        else:\n",
    "            print(\"  No significant anomalies detected\")\n",
    "        \n",
    "        # ML-enhanced strategy recommendations\n",
    "        print(\"\\nML-ENHANCED STRATEGY RECOMMENDATIONS:\")\n",
    "        for i, strategy in enumerate(enhanced_strategies.get('recommendations', [])):\n",
    "            print(f\"\\n  {i+1}. {strategy['strategy']} (Score: {strategy['score']})\")\n",
    "            print(f\"     Description: {strategy['description']}\")\n",
    "            print(f\"     Outlook: {strategy['outlook']}\")\n",
    "            \n",
    "            # Show ML rationale if available\n",
    "            if 'rationale' in strategy:\n",
    "                print(f\"     ML Rationale: {strategy['rationale']}\")\n",
    "                \n",
    "            if 'anomaly_details' in strategy:\n",
    "                anomaly = strategy['anomaly_details']\n",
    "                print(f\"     Trading Signal: {anomaly['trade_direction']} {anomaly['option_type']} @ Strike ${anomaly['strike']:.2f}\")\n",
    "            \n",
    "            print(f\"     Max Loss: {strategy['max_loss']}\")\n",
    "            print(f\"     Max Gain: {strategy['max_gain']}\")\n",
    "            print(f\"     Risk-Reward Profile: {strategy.get('risk_reward_ratio', 'Unknown')}\")\n",
    "        \n",
    "        # Generated visualizations\n",
    "        print(\"\\nGENERATED ML VISUALIZATIONS:\")\n",
    "        print(f\"  - {ticker}_ml_trading_signals.html (Trading Opportunities)\")\n",
    "        print(f\"  - {ticker}_mispricing_map.png (Volatility Mispricing Map)\")\n",
    "        \n",
    "        print(\"\\nML-Enhanced Analysis Complete\")\n",
    "        print(\"=\"*80)\n",
    "\n",
    "class VolatilitySurfaceAutoencoder:\n",
    "    \"\"\"\n",
    "    Advanced machine learning component for volatility surface analysis and trading signal generation\n",
    "    with production-grade training and robust anomaly detection capabilities\n",
    "    \"\"\"\n",
    "    def __init__(self, input_shape=(6, 11, 1), encoding_dim=32, learning_rate=0.001):\n",
    "        \"\"\"\n",
    "        Initialize state-of-the-art autoencoder for volatility surface analysis\n",
    "        \n",
    "        Parameters:\n",
    "        -----------\n",
    "        input_shape : tuple\n",
    "            Shape of input volatility surface (maturities, strikes, channels)\n",
    "        encoding_dim : int\n",
    "            Size of the encoded representation\n",
    "        learning_rate : float\n",
    "            Learning rate for optimizer\n",
    "        \"\"\"\n",
    "        self.input_shape = input_shape\n",
    "        self.encoding_dim = encoding_dim\n",
    "        self.learning_rate = learning_rate\n",
    "        self.model = None\n",
    "        self.anomaly_threshold = None\n",
    "        self.is_trained = False\n",
    "        self.history = None\n",
    "        self.training_stats = {}\n",
    "        self.regime_classifier = None\n",
    "        \n",
    "        # Training hyperparameters\n",
    "        self.max_epochs = 200  # Higher epochs for better convergence\n",
    "        self.patience = 25     # Early stopping patience\n",
    "        self.min_delta = 0.0001  # Minimum improvement for early stopping\n",
    "        self.batch_size = 8    # Batch size for training\n",
    "        \n",
    "        # Anomaly detection parameters\n",
    "        self.anomaly_percentile = 90  # Percentile for anomaly threshold\n",
    "        self.sensitivity = 1.5       # Multiplier for anomaly threshold sensitivity\n",
    "        \n",
    "        # Create model architecture\n",
    "        self._build_model()\n",
    "\n",
    "    def tune_anomaly_sensitivity(self, vol_surface, market_conditions=None, sensitivity_level='medium'):\n",
    "        \"\"\"\n",
    "        Dynamically tunes anomaly detection sensitivity based on market conditions\n",
    "        and user preference.\n",
    "        \n",
    "        Parameters:\n",
    "        -----------\n",
    "        vol_surface : numpy.ndarray\n",
    "            Volatility surface to analyze\n",
    "        market_conditions : dict, optional\n",
    "            Market condition information to guide sensitivity tuning\n",
    "        sensitivity_level : str\n",
    "            'low', 'medium', 'high' - detection sensitivity level\n",
    "            \n",
    "        Returns:\n",
    "        --------\n",
    "        dict: Updated sensitivity parameters\n",
    "        \"\"\"\n",
    "        # Map sensitivity level to numerical parameters\n",
    "        sensitivity_map = {\n",
    "            'low': {'percentile': 95, 'threshold_multiplier': 2.0, 'std_deviations': 2.0},\n",
    "            'medium': {'percentile': 90, 'threshold_multiplier': 1.5, 'std_deviations': 1.5},\n",
    "            'high': {'percentile': 85, 'threshold_multiplier': 1.2, 'std_deviations': 1.0}\n",
    "        }\n",
    "        \n",
    "        # Get base settings from sensitivity level\n",
    "        settings = sensitivity_map.get(sensitivity_level, sensitivity_map['medium'])\n",
    "        \n",
    "        # Calculate volatility surface metrics\n",
    "        vol_mean = np.mean(vol_surface)\n",
    "        vol_std = np.std(vol_surface)\n",
    "        vol_skew = np.mean(((vol_surface - vol_mean) / vol_std) ** 3) if vol_std > 0 else 0\n",
    "        \n",
    "        # Adjust sensitivity based on surface characteristics\n",
    "        adaptive_multiplier = 1.0\n",
    "        \n",
    "        # Increase sensitivity for more volatile surfaces\n",
    "        if vol_std > 0.1:  \n",
    "            adaptive_multiplier *= 0.9  # More sensitive\n",
    "        \n",
    "        # Increase sensitivity for skewed surfaces\n",
    "        if abs(vol_skew) > 0.5:\n",
    "            adaptive_multiplier *= 0.85\n",
    "        \n",
    "        # Adjust based on market conditions if provided\n",
    "        if market_conditions is not None:\n",
    "            # Increase sensitivity during high volatility regimes\n",
    "            if market_conditions.get('iv_sentiment') in ['High Volatility', 'Above Average Volatility']:\n",
    "                adaptive_multiplier *= 0.8\n",
    "            # Increase sensitivity when skew is significant\n",
    "            if market_conditions.get('vol_skew', 0) > 0.05:\n",
    "                adaptive_multiplier *= 0.9\n",
    "        \n",
    "        # Update class parameters\n",
    "        self.anomaly_percentile = settings['percentile']\n",
    "        self.sensitivity = settings['threshold_multiplier'] * adaptive_multiplier\n",
    "        \n",
    "        # Calculate new anomaly threshold if we have training stats\n",
    "        if hasattr(self, 'training_stats') and self.training_stats and 'val_mse_mean' in self.training_stats:\n",
    "            val_mse_mean = self.training_stats['val_mse_mean']\n",
    "            val_mse_std = self.training_stats['val_mse_std']\n",
    "            # Set threshold based on mean + std approach as alternative method\n",
    "            std_threshold = val_mse_mean + (settings['std_deviations'] * adaptive_multiplier * val_mse_std)\n",
    "            # Use lower of percentile-based or std-based threshold for higher sensitivity\n",
    "            if self.anomaly_threshold:\n",
    "                self.anomaly_threshold = min(self.anomaly_threshold, std_threshold)\n",
    "            else:\n",
    "                self.anomaly_threshold = std_threshold\n",
    "        \n",
    "        return {\n",
    "            'anomaly_percentile': self.anomaly_percentile,\n",
    "            'sensitivity_multiplier': self.sensitivity,\n",
    "            'adaptive_multiplier': adaptive_multiplier,\n",
    "            'anomaly_threshold': self.anomaly_threshold\n",
    "        }\n",
    "    \n",
    "    def _build_model(self):\n",
    "        \"\"\"Build advanced autoencoder architecture optimized for volatility surfaces\"\"\"\n",
    "        # TensorFlow memory management\n",
    "        gpus = tf.config.experimental.list_physical_devices('GPU')\n",
    "        if gpus:\n",
    "            try:\n",
    "                for gpu in gpus:\n",
    "                    tf.config.experimental.set_memory_growth(gpu, True)\n",
    "            except RuntimeError as e:\n",
    "                print(f\"GPU memory management error: {e}\")\n",
    "        \n",
    "        # Input layer\n",
    "        input_layer = Input(shape=self.input_shape, name=\"vol_surface_input\")\n",
    "        \n",
    "        # Encoder path with residual connections\n",
    "        # First encoding block\n",
    "        x = Conv2D(32, (3, 3), activation='relu', padding='same', name=\"enc_conv1\")(input_layer)\n",
    "        x = BatchNormalization(name=\"enc_bn1\")(x)\n",
    "        enc1 = x  # Store for residual connection\n",
    "        \n",
    "        # Second encoding block with downsampling\n",
    "        x = Conv2D(64, (3, 3), activation='relu', padding='same', name=\"enc_conv2\")(x)\n",
    "        x = BatchNormalization(name=\"enc_bn2\")(x)\n",
    "        x = MaxPooling2D((2, 2), padding='same', name=\"enc_pool1\")(x)\n",
    "        \n",
    "        # Third encoding block\n",
    "        x = Conv2D(64, (3, 3), activation='relu', padding='same', name=\"enc_conv3\")(x)\n",
    "        x = BatchNormalization(name=\"enc_bn3\")(x)\n",
    "        enc2 = x  # Store for residual connection\n",
    "        \n",
    "        # Bottleneck\n",
    "        x = Conv2D(self.encoding_dim, (3, 3), activation='relu', padding='same', name=\"bottleneck\")(x)\n",
    "        encoded = BatchNormalization(name=\"bottleneck_bn\")(x)\n",
    "        \n",
    "        # Decoder path with residual connections\n",
    "        # First decoding block\n",
    "        x = Conv2D(64, (3, 3), activation='relu', padding='same', name=\"dec_conv1\")(encoded)\n",
    "        x = BatchNormalization(name=\"dec_bn1\")(x)\n",
    "        x = Add(name=\"residual1\")([x, enc2])  # Residual connection\n",
    "        \n",
    "        # Second decoding block with upsampling\n",
    "        x = Conv2D(64, (3, 3), activation='relu', padding='same', name=\"dec_conv2\")(x)\n",
    "        x = BatchNormalization(name=\"dec_bn2\")(x)\n",
    "        x = UpSampling2D((2, 2), name=\"dec_upsample1\")(x)\n",
    "        \n",
    "        # Third decoding block\n",
    "        x = Conv2D(32, (3, 3), activation='relu', padding='same', name=\"dec_conv3\")(x)\n",
    "        x = BatchNormalization(name=\"dec_bn3\")(x)\n",
    "        \n",
    "        # Ensure output dimensions match input (using Keras layers, not TF ops)\n",
    "        # This fixes the TensorFlow/Keras compatibility issue\n",
    "        if self.input_shape[0] % 2 != 0 or self.input_shape[1] % 2 != 0:\n",
    "            x = Resizing(self.input_shape[0], self.input_shape[1], interpolation='bilinear',\n",
    "                        name=\"resize_output\")(x)\n",
    "        \n",
    "        # Output layer with tanh to constrain values\n",
    "        decoded = Conv2D(1, (3, 3), activation='sigmoid', padding='same', name=\"output\")(x)\n",
    "        \n",
    "        # Create model\n",
    "        self.model = Model(input_layer, decoded, name=\"VolSurfaceAutoencoder\")\n",
    "        \n",
    "        # Compile model with Adam optimizer and custom learning rate\n",
    "        optimizer = Adam(learning_rate=self.learning_rate)\n",
    "        self.model.compile(optimizer=optimizer, loss='mse')\n",
    "        \n",
    "        print(\"\\nAdvanced volatility surface autoencoder architecture:\")\n",
    "        self.model.summary()\n",
    "    \n",
    "    def _create_augmented_dataset(self, vol_surface, augmentation_factor=30):\n",
    "        \"\"\"\n",
    "        Create market-relevant augmented dataset from a single volatility surface\n",
    "        with realistic volatility surface perturbations\n",
    "        \n",
    "        Parameters:\n",
    "        -----------\n",
    "        vol_surface : numpy.ndarray\n",
    "            Base volatility surface\n",
    "        augmentation_factor : int\n",
    "            Number of augmented samples to generate\n",
    "            \n",
    "        Returns:\n",
    "        --------\n",
    "        numpy.ndarray: Training dataset with augmentations\n",
    "        \"\"\"\n",
    "        print(f\"Creating augmented training dataset with {augmentation_factor} variations...\")\n",
    "        \n",
    "        # Ensure vol_surface is a numpy array\n",
    "        vol_surface = np.array(vol_surface)\n",
    "        \n",
    "        # Store original surface\n",
    "        training_surfaces = [vol_surface]\n",
    "        \n",
    "        # Market-relevant augmentation techniques\n",
    "        augmentation_methods = [\n",
    "            self._add_positional_noise,      # 30% of augmentations\n",
    "            self._add_skew_variations,        # 30% of augmentations\n",
    "            self._add_term_structure_shifts,  # 20% of augmentations\n",
    "            self._add_smile_variations,       # 20% of augmentations\n",
    "        ]\n",
    "        \n",
    "        # Weights for each augmentation method (must sum to 1.0)\n",
    "        method_weights = [0.3, 0.3, 0.2, 0.2]\n",
    "        \n",
    "        # Generate augmented surfaces\n",
    "        for i in range(augmentation_factor):\n",
    "            # Choose augmentation method based on weights\n",
    "            method_idx = np.random.choice(len(augmentation_methods), p=method_weights)\n",
    "            method = augmentation_methods[method_idx]\n",
    "            \n",
    "            # Apply augmentation with random parameters\n",
    "            augmented_surface = method(vol_surface)\n",
    "            \n",
    "            # Add to training set\n",
    "            training_surfaces.append(augmented_surface)\n",
    "        \n",
    "        # Convert to numpy array\n",
    "        training_array = np.array(training_surfaces)\n",
    "        \n",
    "        # Reshape for CNN if needed\n",
    "        if len(training_array.shape) == 3:\n",
    "            training_array = training_array.reshape(training_array.shape + (1,))\n",
    "        \n",
    "        print(f\"Created dataset with {len(training_surfaces)} surfaces\")\n",
    "        return training_array\n",
    "    \n",
    "    def _add_positional_noise(self, surface):\n",
    "        \"\"\"Add realistic position-dependent noise to volatility surface\"\"\"\n",
    "        surface_copy = surface.copy()\n",
    "        \n",
    "        # Noise level varies by region\n",
    "        base_noise = np.random.uniform(0.005, 0.02)\n",
    "        \n",
    "        # Add position-dependent noise (higher for wings, lower ATM)\n",
    "        for j in range(surface.shape[1]):\n",
    "            # Calculate moneyness-based noise factor (higher away from ATM)\n",
    "            center = surface.shape[1] // 2\n",
    "            distance = abs(j - center) / max(1, center)\n",
    "            noise_factor = base_noise * (1 + 2 * distance)\n",
    "            \n",
    "            # Add maturity-dependent noise factor (higher for longer maturities)\n",
    "            for i in range(surface.shape[0]):\n",
    "                maturity_factor = 1 + 0.5 * (i / max(1, surface.shape[0] - 1))\n",
    "                final_noise = noise_factor * maturity_factor\n",
    "                \n",
    "                # Apply noise with normal distribution\n",
    "                surface_copy[i, j] += np.random.normal(0, final_noise)\n",
    "        \n",
    "        # Ensure values remain reasonable (positive and not extreme)\n",
    "        return np.clip(surface_copy, 0.05, 1.0)\n",
    "    \n",
    "    def _add_skew_variations(self, surface):\n",
    "        \"\"\"Add realistic variations to volatility skew\"\"\"\n",
    "        surface_copy = surface.copy()\n",
    "        \n",
    "        # Skew adjustment factor (positive = steeper skew, negative = flatter skew)\n",
    "        skew_factor = np.random.uniform(-0.1, 0.1)\n",
    "        \n",
    "        # Apply skew adjustment across strike dimension\n",
    "        center = surface.shape[1] // 2\n",
    "        for j in range(surface.shape[1]):\n",
    "            # Calculate distance from center (ATM)\n",
    "            distance = (j - center) / max(1, center)\n",
    "            \n",
    "            # Apply skew adjustment - left side (OTM puts) usually has higher vol\n",
    "            adjustment = skew_factor * distance\n",
    "            \n",
    "            # Apply across all maturities with slight variation\n",
    "            for i in range(surface.shape[0]):\n",
    "                # Add some randomness to make it realistic\n",
    "                rand_factor = 1 + np.random.uniform(-0.2, 0.2)\n",
    "                surface_copy[i, j] += adjustment * rand_factor\n",
    "        \n",
    "        # Ensure values remain reasonable\n",
    "        return np.clip(surface_copy, 0.05, 1.0)\n",
    "    \n",
    "    def _add_term_structure_shifts(self, surface):\n",
    "        \"\"\"Add realistic variations to volatility term structure\"\"\"\n",
    "        surface_copy = surface.copy()\n",
    "        \n",
    "        # Term structure shift factor\n",
    "        term_factor = np.random.uniform(-0.08, 0.08)\n",
    "        \n",
    "        # Apply term structure shift across maturity dimension\n",
    "        for i in range(surface.shape[0]):\n",
    "            # Calculate maturity position factor (0 to 1)\n",
    "            maturity_pos = i / max(1, surface.shape[0] - 1)\n",
    "            \n",
    "            # Calculate adjustment (linear shift based on position)\n",
    "            adjustment = term_factor * maturity_pos\n",
    "            \n",
    "            # Apply across all strikes\n",
    "            surface_copy[i, :] += adjustment\n",
    "        \n",
    "        # Ensure values remain reasonable\n",
    "        return np.clip(surface_copy, 0.05, 1.0)\n",
    "    \n",
    "    def _add_smile_variations(self, surface):\n",
    "        \"\"\"Add realistic variations to volatility smile curvature\"\"\"\n",
    "        surface_copy = surface.copy()\n",
    "        \n",
    "        # Smile curvature factor (positive = more pronounced smile)\n",
    "        smile_factor = np.random.uniform(-0.05, 0.15)\n",
    "        \n",
    "        # Apply smile adjustment across strike dimension\n",
    "        center = surface.shape[1] // 2\n",
    "        for j in range(surface.shape[1]):\n",
    "            # Calculate squared distance from center (for quadratic effect)\n",
    "            distance = ((j - center) / max(1, center)) ** 2\n",
    "            \n",
    "            # Apply smile adjustment - quadratic shape\n",
    "            adjustment = smile_factor * distance\n",
    "            \n",
    "            # Apply across all maturities with variation by term\n",
    "            for i in range(surface.shape[0]):\n",
    "                # Shorter terms have more pronounced smiles\n",
    "                term_factor = 1 - 0.5 * (i / max(1, surface.shape[0] - 1))\n",
    "                surface_copy[i, j] += adjustment * term_factor\n",
    "        \n",
    "        # Ensure values remain reasonable\n",
    "        return np.clip(surface_copy, 0.05, 1.0)\n",
    "    \n",
    "    def train_on_single_surface(self, vol_surface, verbose=1):\n",
    "        \"\"\"\n",
    "        Train the autoencoder on a single volatility surface with extensive augmentation\n",
    "        and robust early stopping\n",
    "        \n",
    "        Parameters:\n",
    "        -----------\n",
    "        vol_surface : numpy.ndarray\n",
    "            Single volatility surface to train on\n",
    "        verbose : int\n",
    "            Verbosity level (0=silent, 1=progress bar, 2=one line per epoch)\n",
    "            \n",
    "        Returns:\n",
    "        --------\n",
    "        history : dict\n",
    "            Training history and performance metrics\n",
    "        \"\"\"\n",
    "        print(\"\\n=== TRAINING VOLATILITY SURFACE AUTOENCODER ===\")\n",
    "        print(\"Creating market-relevant training dataset...\")\n",
    "        \n",
    "        # Create augmented dataset with volatility-specific augmentations\n",
    "        training_surfaces = self._create_augmented_dataset(vol_surface, augmentation_factor=50)\n",
    "        \n",
    "        # Normalize to [0, 1] range\n",
    "        max_val = np.max(training_surfaces)\n",
    "        training_surfaces_norm = training_surfaces / max_val if max_val > 0 else training_surfaces\n",
    "        \n",
    "        # Split into training and validation sets\n",
    "        val_size = max(1, int(0.2 * len(training_surfaces_norm)))\n",
    "        indices = np.random.permutation(len(training_surfaces_norm))\n",
    "        val_indices = indices[:val_size]\n",
    "        train_indices = indices[val_size:]\n",
    "        \n",
    "        X_train = training_surfaces_norm[train_indices]\n",
    "        X_val = training_surfaces_norm[val_indices]\n",
    "        \n",
    "        print(f\"Training set: {len(X_train)} samples\")\n",
    "        print(f\"Validation set: {len(X_val)} samples\")\n",
    "        \n",
    "        # Set up callbacks for training\n",
    "        callbacks = [\n",
    "            # Early stopping to prevent overfitting\n",
    "            EarlyStopping(\n",
    "                monitor='val_loss',\n",
    "                patience=self.patience,\n",
    "                min_delta=self.min_delta,\n",
    "                restore_best_weights=True,\n",
    "                verbose=1\n",
    "            ),\n",
    "            # Reduce learning rate when plateauing\n",
    "            ReduceLROnPlateau(\n",
    "                monitor='val_loss',\n",
    "                factor=0.5,\n",
    "                patience=10,\n",
    "                min_lr=1e-6,\n",
    "                verbose=1\n",
    "            ),\n",
    "            # TensorBoard logging if needed\n",
    "            TensorBoard(log_dir=f'./logs/vol_surface_{datetime.datetime.now().strftime(\"%Y%m%d-%H%M%S\")}')\n",
    "        ]\n",
    "        \n",
    "        # Train the model with robust early stopping\n",
    "        print(\"\\nTraining autoencoder with early stopping and learning rate scheduling...\")\n",
    "        train_start = time.time()\n",
    "        \n",
    "        history = self.model.fit(\n",
    "            X_train, X_train,  # Autoencoder reconstructs input\n",
    "            epochs=self.max_epochs,\n",
    "            batch_size=self.batch_size,\n",
    "            validation_data=(X_val, X_val),\n",
    "            callbacks=callbacks,\n",
    "            verbose=verbose\n",
    "        )\n",
    "        \n",
    "        train_time = time.time() - train_start\n",
    "        \n",
    "        # Store training history\n",
    "        self.history = history.history\n",
    "        \n",
    "        # Calculate reconstruction errors on training and validation data\n",
    "        train_reconstructions = self.model.predict(X_train, verbose=0)\n",
    "        val_reconstructions = self.model.predict(X_val, verbose=0)\n",
    "        \n",
    "        train_mse = np.mean(np.square(X_train - train_reconstructions), axis=(1, 2, 3))\n",
    "        val_mse = np.mean(np.square(X_val - val_reconstructions), axis=(1, 2, 3))\n",
    "        \n",
    "        # Set anomaly threshold based on validation errors\n",
    "        # More conservative with higher percentile\n",
    "        self.anomaly_threshold = np.percentile(val_mse, self.anomaly_percentile) * self.sensitivity\n",
    "        \n",
    "        # Store training stats\n",
    "        self.training_stats = {\n",
    "            'train_loss': self.history['loss'][-1],\n",
    "            'val_loss': self.history['val_loss'][-1],\n",
    "            'train_time': train_time,\n",
    "            'epochs': len(self.history['loss']),\n",
    "            'max_epochs': self.max_epochs,\n",
    "            'early_stopping': len(self.history['loss']) < self.max_epochs,\n",
    "            'anomaly_threshold': self.anomaly_threshold,\n",
    "            'train_mse_mean': np.mean(train_mse),\n",
    "            'train_mse_std': np.std(train_mse),\n",
    "            'val_mse_mean': np.mean(val_mse),\n",
    "            'val_mse_std': np.std(val_mse)\n",
    "        }\n",
    "        \n",
    "        print(f\"\\nTraining completed in {train_time:.1f} seconds ({len(self.history['loss'])} epochs)\")\n",
    "        print(f\"Final training loss: {self.training_stats['train_loss']:.6f}\")\n",
    "        print(f\"Final validation loss: {self.training_stats['val_loss']:.6f}\")\n",
    "        print(f\"Anomaly detection threshold: {self.anomaly_threshold:.6f}\")\n",
    "        \n",
    "        self.is_trained = True\n",
    "        \n",
    "        # Try to learn market regimes from the encoding\n",
    "        self._build_regime_classifier(X_train)\n",
    "        \n",
    "        return self.history\n",
    "    \n",
    "    def _build_regime_classifier(self, training_data, n_clusters=4):\n",
    "        \"\"\"\n",
    "        Build a market regime classifier based on the encoded representations\n",
    "        \n",
    "        Parameters:\n",
    "        -----------\n",
    "        training_data : numpy.ndarray\n",
    "            Training data (augmented surfaces)\n",
    "        n_clusters : int\n",
    "            Number of market regimes to identify\n",
    "        \"\"\"\n",
    "        try:\n",
    "            # Get the encoder part up to the bottleneck\n",
    "            encoder_layers = []\n",
    "            for layer in self.model.layers:\n",
    "                encoder_layers.append(layer)\n",
    "                if layer.name == \"bottleneck\":\n",
    "                    break\n",
    "            \n",
    "            # Create encoder model\n",
    "            encoder_input = self.model.input\n",
    "            encoder_output = encoder_layers[-1].output\n",
    "            encoder = Model(encoder_input, encoder_output)\n",
    "            \n",
    "            # Get encoded representations\n",
    "            encoded_data = encoder.predict(training_data)\n",
    "            \n",
    "            # Flatten the encoded data for clustering\n",
    "            encoded_flat = encoded_data.reshape(encoded_data.shape[0], -1)\n",
    "            \n",
    "            # Train a KMeans clustering model\n",
    "            from sklearn.cluster import KMeans\n",
    "            kmeans = KMeans(n_clusters=n_clusters, random_state=42)\n",
    "            kmeans.fit(encoded_flat)\n",
    "            \n",
    "            # Save the regime classifier\n",
    "            self.regime_classifier = {\n",
    "                'encoder': encoder,\n",
    "                'kmeans': kmeans,\n",
    "                'n_clusters': n_clusters\n",
    "            }\n",
    "            \n",
    "            print(f\"Market regime classifier built with {n_clusters} regimes\")\n",
    "        except Exception as e:\n",
    "            print(f\"Could not build regime classifier: {e}\")\n",
    "            self.regime_classifier = None\n",
    "    \n",
    "    def classify_market_regime(self, vol_surface):\n",
    "        \"\"\"\n",
    "        Classify the current market regime based on volatility patterns\n",
    "        \n",
    "        Parameters:\n",
    "        -----------\n",
    "        vol_surface : numpy.ndarray\n",
    "            Current volatility surface\n",
    "            \n",
    "        Returns:\n",
    "        --------\n",
    "        dict: Market regime classification\n",
    "        \"\"\"\n",
    "        if self.regime_classifier is None:\n",
    "            return {'regime': 'unknown', 'confidence': 0.0}\n",
    "        \n",
    "        try:\n",
    "            # Prepare input\n",
    "            input_surface = vol_surface.copy()\n",
    "            if len(input_surface.shape) == 2:\n",
    "                input_surface = input_surface.reshape(1, input_surface.shape[0], input_surface.shape[1], 1)\n",
    "            \n",
    "            # Normalize\n",
    "            max_val = np.max(input_surface)\n",
    "            input_surface_norm = input_surface / max_val if max_val > 0 else input_surface\n",
    "            \n",
    "            # Get encoded representation\n",
    "            encoded = self.regime_classifier['encoder'].predict(input_surface_norm, verbose=0)\n",
    "            encoded_flat = encoded.reshape(1, -1)\n",
    "            \n",
    "            # Get cluster assignment and distance to cluster center\n",
    "            cluster = self.regime_classifier['kmeans'].predict(encoded_flat)[0]\n",
    "            distances = self.regime_classifier['kmeans'].transform(encoded_flat)[0]\n",
    "            \n",
    "            # Calculate confidence as inverse of normalized distance\n",
    "            min_dist = distances[cluster]\n",
    "            total_dist = np.sum(1.0 / (distances + 1e-10))\n",
    "            confidence = (1.0 / (min_dist + 1e-10)) / total_dist\n",
    "            \n",
    "            # Map cluster to regime name\n",
    "            regime_names = [\n",
    "                'low_volatility', \n",
    "                'high_volatility', \n",
    "                'normal', \n",
    "                'skewed'\n",
    "            ]\n",
    "            \n",
    "            regime = regime_names[cluster % len(regime_names)]\n",
    "            \n",
    "            return {\n",
    "                'regime': regime,\n",
    "                'confidence': float(confidence),\n",
    "                'cluster': int(cluster),\n",
    "                'all_distances': distances.tolist()\n",
    "            }\n",
    "        except Exception as e:\n",
    "            print(f\"Error in regime classification: {e}\")\n",
    "            return {'regime': 'unknown', 'confidence': 0.0}\n",
    "    \n",
    "    def detect_trading_opportunities(self, vol_surface, strikes, maturities, spot_price, \n",
    "                                    market_conditions=None, sensitivity_level='medium'):\n",
    "        \"\"\"\n",
    "        Detect anomalies that represent potential trading opportunities\n",
    "        with adaptive sensitivity tuning and confidence scoring\n",
    "        \n",
    "        Parameters:\n",
    "        -----------\n",
    "        vol_surface : numpy.ndarray\n",
    "            Volatility surface data\n",
    "        strikes : array\n",
    "            Strike prices\n",
    "        maturities : array\n",
    "            Time to maturities\n",
    "        spot_price : float\n",
    "            Current stock price\n",
    "        market_conditions : dict, optional\n",
    "            Market conditions to adapt sensitivity\n",
    "        sensitivity_level : str\n",
    "            'low', 'medium', 'high' - detection sensitivity\n",
    "                \n",
    "        Returns:\n",
    "        --------\n",
    "        dict: Comprehensive anomaly detection results with trading signals\n",
    "        \"\"\"\n",
    "        if not self.is_trained:\n",
    "            print(\"Training opportunity detection model on current market data...\")\n",
    "            self.train_on_single_surface(vol_surface)\n",
    "        \n",
    "        # Tune anomaly detection sensitivity\n",
    "        sensitivity_params = self.tune_anomaly_sensitivity(\n",
    "            vol_surface, market_conditions, sensitivity_level)\n",
    "        print(f\"\\nAnomaly detection sensitivity: {sensitivity_level}\")\n",
    "        print(f\"Threshold multiplier: {sensitivity_params['sensitivity_multiplier']:.2f}\")\n",
    "        print(f\"Anomaly threshold: {sensitivity_params['anomaly_threshold']:.6f}\")\n",
    "        \n",
    "        # Convert everything to numpy arrays to avoid TensorFlow/Keras conflicts\n",
    "        input_surface = np.array(vol_surface.copy())\n",
    "        if len(input_surface.shape) == 2:\n",
    "            input_surface = input_surface.reshape(1, input_surface.shape[0], input_surface.shape[1], 1)\n",
    "        \n",
    "        # Normalize\n",
    "        max_val = np.max(input_surface)\n",
    "        input_surface_norm = input_surface / max_val if max_val > 0 else input_surface\n",
    "        \n",
    "        # Get reconstruction using our trained model\n",
    "        reconstruction_norm = self.model.predict(input_surface_norm, verbose=0)\n",
    "        reconstruction = reconstruction_norm * max_val\n",
    "        \n",
    "        # Calculate pointwise difference for trading signal generation\n",
    "        diff = input_surface[0, :, :, 0] - reconstruction[0, :, :, 0]\n",
    "        \n",
    "        # Overall anomaly score\n",
    "        mse = np.mean(np.square(diff))\n",
    "        is_anomaly = mse > self.anomaly_threshold if self.anomaly_threshold is not None else False\n",
    "        \n",
    "        # Calculate statistics for contextual anomaly detection\n",
    "        diff_mean = np.mean(diff)\n",
    "        diff_std = np.std(diff)\n",
    "        \n",
    "        # Set dynamic thresholds for anomaly detection - now more sensitive\n",
    "        # Use the sensitivity multiplier to adjust thresholds\n",
    "        pos_threshold_factor = max(0.02, 1.5 / self.sensitivity)\n",
    "        neg_threshold_factor = min(-0.02, -1.5 / self.sensitivity)\n",
    "        \n",
    "        positive_threshold = diff_mean + (pos_threshold_factor * diff_std)\n",
    "        negative_threshold = diff_mean + (neg_threshold_factor * diff_std)\n",
    "        \n",
    "        # Find regions of significant mispricing (both over and under priced)\n",
    "        anomalies = []\n",
    "        \n",
    "        # Identify significant anomalies (both positive and negative)\n",
    "        for i in range(vol_surface.shape[0]):  # Iterate through maturities\n",
    "            for j in range(vol_surface.shape[1]):  # Iterate through strikes\n",
    "                value = diff[i, j]\n",
    "                \n",
    "                # Enhanced sensitivity: Check for anomalies with adaptive thresholds\n",
    "                if value < negative_threshold or value > positive_threshold:\n",
    "                    # Skip edges (less reliable) with adjustable boundary\n",
    "                    edge_buffer = 0 if sensitivity_level == 'high' else 1\n",
    "                    if edge_buffer > 0 and (i <= edge_buffer or i >= vol_surface.shape[0]-1-edge_buffer or \n",
    "                        j <= edge_buffer or j >= vol_surface.shape[1]-1-edge_buffer):\n",
    "                        continue\n",
    "                        \n",
    "                    # Calculate enhanced confidence score\n",
    "                    local_diff_std = np.std(diff[max(0, i-1):min(diff.shape[0], i+2), \n",
    "                                              max(0, j-1):min(diff.shape[1], j+2)])\n",
    "                    if local_diff_std == 0:\n",
    "                        local_diff_std = diff_std\n",
    "                    \n",
    "                    # Normalized deviation using local standard deviation\n",
    "                    local_z_score = abs(value - diff_mean) / local_diff_std\n",
    "                    std_deviations = abs(value - diff_mean) / (diff_std + 1e-10)\n",
    "                    \n",
    "                    # Higher base confidence for high sensitivity\n",
    "                    base_confidence = 0.5\n",
    "                    if sensitivity_level == 'high':\n",
    "                        base_confidence = 0.6\n",
    "                    elif sensitivity_level == 'low':\n",
    "                        base_confidence = 0.4\n",
    "                    \n",
    "                    # Enhanced confidence calculation with higher floor\n",
    "                    confidence = min(0.98, base_confidence + (local_z_score / 10) + (std_deviations / 20))\n",
    "    \n",
    "                    # Ensure indices are valid\n",
    "                    if i < len(maturities) and j < len(strikes):\n",
    "                        maturity = float(maturities[i])\n",
    "                        strike = float(strikes[j])\n",
    "                        moneyness = strike / spot_price\n",
    "                        \n",
    "                        # Generate trading signal details\n",
    "                        if value > 0:  # Overpriced\n",
    "                            signal_type = \"Overpriced\"\n",
    "                            trade_direction = \"Sell\"\n",
    "                            \n",
    "                            # Determine option type based on moneyness\n",
    "                            if moneyness < 0.98:  # OTM Put\n",
    "                                option_type = \"Put\"\n",
    "                                strategy = \"Bear Put Spread\" if confidence > 0.7 else \"Put Credit Spread\"\n",
    "                            else:  # ATM or OTM Call\n",
    "                                option_type = \"Call\"\n",
    "                                strategy = \"Bear Call Spread\"\n",
    "                        else:  # Underpriced\n",
    "                            signal_type = \"Underpriced\"\n",
    "                            trade_direction = \"Buy\"\n",
    "                            \n",
    "                            # Determine option type based on moneyness\n",
    "                            if moneyness < 0.98:  # OTM Put\n",
    "                                option_type = \"Put\"\n",
    "                                strategy = \"Long Put\" if confidence > 0.7 else \"Bull Put Spread\"\n",
    "                            else:  # ATM or OTM Call\n",
    "                                option_type = \"Call\"\n",
    "                                strategy = \"Long Call\" if moneyness > 1.02 else \"Bull Call Spread\"\n",
    "                        \n",
    "                        # Enhanced anomaly data with more details\n",
    "                        anomaly = {\n",
    "                            'maturity': maturity,\n",
    "                            'strike': strike,\n",
    "                            'moneyness': moneyness,\n",
    "                            'magnitude': float(value),\n",
    "                            'z_score': float(std_deviations),\n",
    "                            'local_z_score': float(local_z_score),\n",
    "                            'confidence': float(confidence),\n",
    "                            'maturity_idx': int(i),\n",
    "                            'strike_idx': int(j),\n",
    "                            'signal_type': signal_type,\n",
    "                            'trade_direction': trade_direction,\n",
    "                            'option_type': option_type,\n",
    "                            'strategy': strategy,\n",
    "                            'original_iv': float(vol_surface[i, j]),\n",
    "                            'model_iv': float(reconstruction[0, i, j, 0]),\n",
    "                            'percent_diff': float(100 * abs(value) / vol_surface[i, j]) if vol_surface[i, j] > 0 else 0,\n",
    "                            'threshold_used': float(positive_threshold if value > 0 else negative_threshold)\n",
    "                        }\n",
    "                        \n",
    "                        anomalies.append(anomaly)\n",
    "        \n",
    "        # Sort anomalies by confidence and magnitude\n",
    "        if anomalies:\n",
    "            # Enhanced scoring formula with confidence bias\n",
    "            for anomaly in anomalies:\n",
    "                anomaly['score'] = anomaly['confidence'] ** 1.5 * abs(anomaly['magnitude']) * (1 + anomaly['percent_diff']/200)\n",
    "            \n",
    "            # Sort by score in descending order\n",
    "            anomalies.sort(key=lambda x: x['score'], reverse=True)\n",
    "            \n",
    "            # Keep more anomalies for higher sensitivity\n",
    "            max_anomalies = 5\n",
    "            if sensitivity_level == 'high':\n",
    "                max_anomalies = 8\n",
    "            elif sensitivity_level == 'low':\n",
    "                max_anomalies = 3\n",
    "                \n",
    "            # Keep top anomalies\n",
    "            anomalies = anomalies[:max_anomalies]\n",
    "        \n",
    "        # If no specific anomalies found but surface is anomalous, provide a generic signal\n",
    "        # For high sensitivity, even suggest strategies with lower confidence\n",
    "        if (is_anomaly or sensitivity_level == 'high') and not anomalies:\n",
    "            # Get overall surface character\n",
    "            regime = self.classify_market_regime(vol_surface)\n",
    "            \n",
    "            # Find ATM strike index\n",
    "            atm_idx = np.argmin(np.abs(np.array(strikes) / spot_price - 1.0)) if len(strikes) > 0 else 0\n",
    "            \n",
    "            # Create generic trading signal based on regime\n",
    "            if regime['regime'] == 'high_volatility':\n",
    "                anomalies.append({\n",
    "                    'maturity': float(maturities[0]) if len(maturities) > 0 else 0.1,\n",
    "                    'strike': float(strikes[atm_idx]) if atm_idx < len(strikes) else spot_price,\n",
    "                    'moneyness': 1.0,\n",
    "                    'magnitude': float(diff_mean),\n",
    "                    'confidence': 0.6,\n",
    "                    'trade_direction': \"Sell\" if diff_mean > 0 else \"Buy\",\n",
    "                    'option_type': \"Call\",\n",
    "                    'strategy': \"Iron Condor\",\n",
    "                    'signal_type': \"High Volatility Regime\"\n",
    "                })\n",
    "            elif regime['regime'] == 'low_volatility':\n",
    "                anomalies.append({\n",
    "                    'maturity': float(maturities[-1]) if len(maturities) > 0 else 0.5,\n",
    "                    'strike': float(strikes[atm_idx]) if atm_idx < len(strikes) else spot_price,\n",
    "                    'moneyness': 1.0,\n",
    "                    'magnitude': float(diff_mean),\n",
    "                    'confidence': 0.6,\n",
    "                    'trade_direction': \"Buy\",\n",
    "                    'option_type': \"Call\" if diff_mean < 0 else \"Put\",\n",
    "                    'strategy': \"Calendar Spread\",\n",
    "                    'signal_type': \"Low Volatility Regime\"\n",
    "                })\n",
    "            # Add skewed regime signal for high sensitivity\n",
    "            elif regime['regime'] == 'skewed' and sensitivity_level == 'high':\n",
    "                skew_direction = \"Negative\" if np.mean(vol_surface[:, :len(vol_surface[0])//2]) > np.mean(vol_surface[:, len(vol_surface[0])//2:]) else \"Positive\"\n",
    "                skew_strategy = \"Put Ratio Spread\" if skew_direction == \"Negative\" else \"Call Ratio Spread\"\n",
    "                anomalies.append({\n",
    "                    'maturity': float(maturities[len(maturities)//2]) if len(maturities) > 0 else 0.3,\n",
    "                    'strike': float(strikes[atm_idx]) if atm_idx < len(strikes) else spot_price,\n",
    "                    'moneyness': 1.0,\n",
    "                    'magnitude': float(diff_mean),\n",
    "                    'confidence': 0.55,\n",
    "                    'trade_direction': \"Mixed\",\n",
    "                    'option_type': \"Put\" if skew_direction == \"Negative\" else \"Call\",\n",
    "                    'strategy': skew_strategy,\n",
    "                    'signal_type': f\"{skew_direction} Skew Regime\"\n",
    "                })\n",
    "        \n",
    "        # Get volatility regime information\n",
    "        regime_info = self.classify_market_regime(vol_surface)\n",
    "        \n",
    "        # Calculate overall volatility characteristics\n",
    "        vol_stats = {\n",
    "            'mean_vol': float(np.mean(vol_surface)),\n",
    "            'median_vol': float(np.median(vol_surface)),\n",
    "            'min_vol': float(np.min(vol_surface)),\n",
    "            'max_vol': float(np.max(vol_surface)),\n",
    "            'vol_std': float(np.std(vol_surface)),\n",
    "            'reconstruction_error': float(mse),\n",
    "            'normalized_error': float(mse / (np.mean(vol_surface) ** 2)) if np.mean(vol_surface) > 0 else 0\n",
    "        }\n",
    "        \n",
    "        # Increase anomaly flag probability for high sensitivity even if below threshold\n",
    "        if sensitivity_level == 'high' and not is_anomaly:\n",
    "            threshold_ratio = mse / self.anomaly_threshold if self.anomaly_threshold else 0\n",
    "            if threshold_ratio > 0.8 or anomalies:  # Close to threshold or has anomalies\n",
    "                is_anomaly = True\n",
    "        \n",
    "        # Return comprehensive analysis with sensitivity information\n",
    "        return {\n",
    "            'is_anomaly': bool(is_anomaly),\n",
    "            'anomaly_score': float(mse),\n",
    "            'threshold': float(self.anomaly_threshold) if self.anomaly_threshold is not None else None,\n",
    "            'top_anomalies': anomalies,\n",
    "            'reconstructed_surface': reconstruction[0, :, :, 0],\n",
    "            'vol_statistics': vol_stats,\n",
    "            'market_regime': regime_info,\n",
    "            'sensitivity_settings': sensitivity_params,\n",
    "            'training_stats': {k: float(v) if isinstance(v, (int, float, np.number)) else v \n",
    "                              for k, v in self.training_stats.items()} if self.training_stats else {}\n",
    "        }\n",
    "    \n",
    "    def save_model(self, path='volatility_autoencoder.keras'):\n",
    "        \"\"\"\n",
    "        Save the trained model and associated metadata\n",
    "        \n",
    "        Parameters:\n",
    "        -----------\n",
    "        path : str\n",
    "            Path to save the model\n",
    "        \"\"\"\n",
    "        if not self.is_trained:\n",
    "            print(\"Model not trained yet. Nothing to save.\")\n",
    "            return\n",
    "        \n",
    "        try:\n",
    "            # Save the model\n",
    "            self.model.save(path)\n",
    "            \n",
    "            # Save metadata\n",
    "            metadata = {\n",
    "                'input_shape': self.input_shape,\n",
    "                'encoding_dim': self.encoding_dim,\n",
    "                'anomaly_threshold': self.anomaly_threshold,\n",
    "                'training_stats': self.training_stats,\n",
    "                'creation_date': datetime.datetime.now().isoformat()\n",
    "            }\n",
    "            \n",
    "            metadata_path = path.replace('.keras', '_metadata.json')\n",
    "            with open(metadata_path, 'w') as f:\n",
    "                json.dump(metadata, f, indent=2)\n",
    "            \n",
    "            # Save regime classifier if it exists\n",
    "            if self.regime_classifier is not None:\n",
    "                kmeans_path = path.replace('.keras', '_kmeans.pkl')\n",
    "                with open(kmeans_path, 'wb') as f:\n",
    "                    pickle.dump(self.regime_classifier['kmeans'], f)\n",
    "            \n",
    "            print(f\"Model saved to {path}\")\n",
    "            print(f\"Metadata saved to {metadata_path}\")\n",
    "        except Exception as e:\n",
    "            print(f\"Error saving model: {e}\")\n",
    "    \n",
    "    def load_model(self, path='volatility_autoencoder.keras'):\n",
    "        \"\"\"\n",
    "        Load a trained model and associated metadata\n",
    "        \n",
    "        Parameters:\n",
    "        -----------\n",
    "        path : str\n",
    "            Path to the saved model\n",
    "        \"\"\"\n",
    "        try:\n",
    "            # Load model\n",
    "            self.model = load_model(path)\n",
    "            \n",
    "            # Load metadata\n",
    "            metadata_path = path.replace('.keras', '_metadata.json')\n",
    "            if os.path.exists(metadata_path):\n",
    "                with open(metadata_path, 'r') as f:\n",
    "                    metadata = json.load(f)\n",
    "                \n",
    "                self.input_shape = tuple(metadata.get('input_shape', self.input_shape))\n",
    "                self.encoding_dim = metadata.get('encoding_dim', self.encoding_dim)\n",
    "                self.anomaly_threshold = metadata.get('anomaly_threshold', self.anomaly_threshold)\n",
    "                self.training_stats = metadata.get('training_stats', {})\n",
    "            \n",
    "            # Load regime classifier if it exists\n",
    "            kmeans_path = path.replace('.keras', '_kmeans.pkl')\n",
    "            if os.path.exists(kmeans_path):\n",
    "                with open(kmeans_path, 'rb') as f:\n",
    "                    kmeans = pickle.load(f)\n",
    "                \n",
    "                # Get encoder layers\n",
    "                encoder_layers = []\n",
    "                for layer in self.model.layers:\n",
    "                    encoder_layers.append(layer)\n",
    "                    if layer.name == \"bottleneck\":\n",
    "                        break\n",
    "                \n",
    "                if encoder_layers:\n",
    "                    encoder_input = self.model.input\n",
    "                    encoder_output = encoder_layers[-1].output\n",
    "                    encoder = Model(encoder_input, encoder_output)\n",
    "                    \n",
    "                    self.regime_classifier = {\n",
    "                        'encoder': encoder,\n",
    "                        'kmeans': kmeans,\n",
    "                        'n_clusters': kmeans.n_clusters\n",
    "                    }\n",
    "            \n",
    "            self.is_trained = True\n",
    "            \n",
    "            print(f\"Model loaded from {path}\")\n",
    "            if self.anomaly_threshold is not None:\n",
    "                print(f\"Anomaly detection threshold: {self.anomaly_threshold:.6f}\")\n",
    "            if self.regime_classifier is not None:\n",
    "                print(f\"Market regime classifier loaded with {self.regime_classifier['n_clusters']} regimes\")\n",
    "        except Exception as e:\n",
    "            print(f\"Error loading model: {e}\")\n",
    "\n",
    "def main():\n",
    "    \"\"\"\n",
    "    Main function to run the options analysis toolkit with ML capabilities\n",
    "    with enhanced anomaly detection sensitivity\n",
    "    \"\"\"\n",
    "    print(\"=\" * 80)\n",
    "    print(\"COMPREHENSIVE OPTIONS ANALYSIS TOOLKIT WITH ML\")\n",
    "    print(\"=\" * 80)\n",
    "    \n",
    "    # Check if user wants to work in offline mode\n",
    "    offline_mode = input(\"Do you want to work in offline mode (use only existing data)? (y/n): \").lower().strip() == 'y'\n",
    "    \n",
    "    # Initialize the integrated analyzer\n",
    "    analyzer = IntegratedOptionsAnalyzer()\n",
    "    \n",
    "    # If offline mode, show available tickers first\n",
    "    available_tickers = []\n",
    "    if offline_mode:\n",
    "        all_files = glob.glob(\"*_options_*_calls.csv\")\n",
    "        for file in all_files:\n",
    "            ticker = file.split('_')[0]\n",
    "            if ticker not in available_tickers:\n",
    "                available_tickers.append(ticker)\n",
    "        \n",
    "        if available_tickers:\n",
    "            print(\"\\nAvailable cached tickers:\", \", \".join(available_tickers))\n",
    "        else:\n",
    "            print(\"\\nNo cached data found. You'll need to switch to online mode to fetch data.\")\n",
    "            retry_mode = input(\"Switch to online mode? (y/n): \").lower().strip() == 'y'\n",
    "            if retry_mode:\n",
    "                offline_mode = False\n",
    "            else:\n",
    "                print(\"Exiting as no data is available in offline mode.\")\n",
    "                return\n",
    "    \n",
    "    # Ask user which ticker to analyze\n",
    "    ticker = input(\"Enter the ticker symbol to analyze (e.g., SPY, AAPL, MSFT, TSLA, F, AMD): \").strip().upper()\n",
    "    \n",
    "    # Default to SPY if no input\n",
    "    if not ticker:\n",
    "        if available_tickers:\n",
    "            ticker = available_tickers[0]  # Use first available ticker in offline mode\n",
    "        else:\n",
    "            ticker = \"SPY\"\n",
    "        print(f\"No ticker provided, using default: {ticker}\")\n",
    "    \n",
    "    # Verify ticker exists in offline mode\n",
    "    if offline_mode and ticker not in available_tickers and available_tickers:\n",
    "        print(f\"Warning: {ticker} not found in cached data.\")\n",
    "        use_available = input(f\"Would you like to use {available_tickers[0]} instead? (y/n): \").lower().strip() == 'y'\n",
    "        if use_available:\n",
    "            ticker = available_tickers[0]\n",
    "            print(f\"Using {ticker} instead.\")\n",
    "        else:\n",
    "            alternative = input(\"Enter an alternative ticker from the available list: \").strip().upper()\n",
    "            if alternative in available_tickers:\n",
    "                ticker = alternative\n",
    "            else:\n",
    "                print(f\"Using {available_tickers[0]} as fallback.\")\n",
    "                ticker = available_tickers[0]\n",
    "    \n",
    "    # Check for existing files\n",
    "    calls_file, puts_file, meta_file, existing_ticker = analyzer.find_latest_option_files(ticker)\n",
    "    \n",
    "    use_existing = offline_mode  # In offline mode, always use existing\n",
    "    if not offline_mode and calls_file and existing_ticker == ticker:\n",
    "        use_existing = input(f\"Found existing option data for {ticker}. Use it? (y/n): \").lower().strip() == 'y'\n",
    "    \n",
    "    # Ask if user wants to use ML-enhanced analysis\n",
    "    use_ml = input(\"Would you like to use machine learning for enhanced analysis? (y/n): \").lower().strip() == 'y'\n",
    "    \n",
    "    # Ask for anomaly detection sensitivity if ML is used\n",
    "    anomaly_sensitivity = 'medium'  # Default\n",
    "    if use_ml:\n",
    "        sensitivity_options = {\n",
    "            '1': ('low', 'Conservative detection with fewer signals'),\n",
    "            '2': ('medium', 'Balanced detection sensitivity (default)'),\n",
    "            '3': ('high', 'Aggressive detection to find more potential opportunities')\n",
    "        }\n",
    "        \n",
    "        print(\"\\nAnomaly Detection Sensitivity:\")\n",
    "        for key, (level, desc) in sensitivity_options.items():\n",
    "            print(f\"{key}. {level.title()}: {desc}\")\n",
    "        \n",
    "        sensitivity_choice = input(\"Select sensitivity level [2]: \").strip()\n",
    "        if sensitivity_choice in sensitivity_options:\n",
    "            anomaly_sensitivity = sensitivity_options[sensitivity_choice][0]\n",
    "        else:\n",
    "            print(\"Using default medium sensitivity.\")\n",
    "    \n",
    "    # Set analysis mode\n",
    "    fetch_new = not offline_mode and not use_existing\n",
    "    \n",
    "    # Run appropriate analysis\n",
    "    try:\n",
    "        if use_ml:\n",
    "            print(f\"\\nRunning ML-enhanced analysis with {anomaly_sensitivity} sensitivity...\")\n",
    "            results = analyzer.fetch_and_analyze_with_ml(\n",
    "                ticker, \n",
    "                save_data=True, \n",
    "                fetch_new=fetch_new,\n",
    "                anomaly_sensitivity=anomaly_sensitivity\n",
    "            )\n",
    "        else:\n",
    "            print(\"\\nRunning standard analysis...\")\n",
    "            results = analyzer.fetch_and_analyze_data(ticker, save_data=True, fetch_new=fetch_new)\n",
    "    except Exception as e:\n",
    "        print(f\"Error during analysis: {e}\")\n",
    "        print(\"\\nTry running in offline mode or with a different ticker.\")\n",
    "        return\n",
    "    \n",
    "    # Check if analysis was successful\n",
    "    if not results.get('success', False):\n",
    "        print(f\"Analysis failed: {results.get('message', 'Unknown error')}\")\n",
    "        if 'suggestion' in results:\n",
    "            print(results['suggestion'])\n",
    "        return\n",
    "    \n",
    "    # Display appropriate analysis reports\n",
    "    analyzer.display_analysis_report(results)\n",
    "    \n",
    "    # Display ML-enhanced report if available\n",
    "    if use_ml and 'ml_analysis' in results and hasattr(analyzer, 'display_ml_enhanced_report'):\n",
    "        try:\n",
    "            analyzer.display_ml_enhanced_report(results)\n",
    "        except Exception as e:\n",
    "            print(f\"Error displaying ML report: {e}\")\n",
    "    \n",
    "    # Visualization options\n",
    "    display_options = []\n",
    "    \n",
    "    if 'visualizations' in results and results['visualizations']:\n",
    "        display_options.append(('standard', \"Display standard visualizations\"))\n",
    "    \n",
    "    if use_ml and 'ml_visualizations' in results and results['ml_visualizations']:\n",
    "        display_options.append(('ml', f\"Display ML trading signal visualizations ({anomaly_sensitivity} sensitivity)\"))\n",
    "    \n",
    "    # Show visualization menu if options exist\n",
    "    if display_options:\n",
    "        print(\"\\nVisualization Options:\")\n",
    "        for i, (key, desc) in enumerate(display_options, 1):\n",
    "            print(f\"{i}. {desc}\")\n",
    "        print(f\"{len(display_options) + 1}. Skip visualizations\")\n",
    "        \n",
    "        try:\n",
    "            choice = int(input(\"\\nEnter your choice (number): \"))\n",
    "            if 1 <= choice <= len(display_options):\n",
    "                selected = display_options[choice-1][0]\n",
    "                \n",
    "                if selected == 'standard' and 'visualizations' in results:\n",
    "                    for name, fig in results['visualizations'].items():\n",
    "                        if hasattr(fig, 'show'):\n",
    "                            try:\n",
    "                                print(f\"Displaying {name}...\")\n",
    "                                fig.show()\n",
    "                            except Exception as e:\n",
    "                                print(f\"Error displaying {name}: {e}\")\n",
    "                \n",
    "                elif selected == 'ml' and 'ml_visualizations' in results:\n",
    "                    for name, fig in results['ml_visualizations'].items():\n",
    "                        if hasattr(fig, 'show'):\n",
    "                            try:\n",
    "                                print(f\"Displaying {name}...\")\n",
    "                                fig.show()\n",
    "                            except Exception as e:\n",
    "                                print(f\"Error displaying {name}: {e}\")\n",
    "        except (ValueError, IndexError):\n",
    "            print(\"Invalid choice. Skipping visualizations.\")\n",
    "    \n",
    "    # Ask if user wants to save results to a report file\n",
    "    save_report = input(\"\\nDo you want to save the analysis to a report file? (y/n): \").lower().strip() == 'y'\n",
    "    \n",
    "    if save_report:\n",
    "        report_file = f\"{ticker}_analysis_report.txt\"\n",
    "        try:\n",
    "            with open(report_file, 'w') as f:\n",
    "                # Basic info\n",
    "                f.write(f\"ANALYSIS REPORT FOR {ticker}\\n\")\n",
    "                f.write(\"=\" * 80 + \"\\n\\n\")\n",
    "                \n",
    "                # Date and time\n",
    "                f.write(f\"Generated: {datetime.datetime.now().strftime('%Y-%m-%d %H:%M:%S')}\\n\\n\")\n",
    "                \n",
    "                # Include sensitivity level if ML was used\n",
    "                if use_ml:\n",
    "                    f.write(f\"Analysis Type: ML-Enhanced with {anomaly_sensitivity.title()} sensitivity\\n\\n\")\n",
    "                \n",
    "                # Market conditions\n",
    "                f.write(\"MARKET CONDITIONS:\\n\")\n",
    "                f.write(f\"  Spot Price: ${results['option_data']['spot_price']:.2f}\\n\")\n",
    "                f.write(f\"  Put-Call Ratio: {results['market_conditions']['put_call_ratio']:.2f}\\n\\n\")\n",
    "                \n",
    "                # Volatility information\n",
    "                f.write(\"IMPLIED VOLATILITY:\\n\")\n",
    "                f.write(f\"  ATM IV: {results['market_conditions']['average_iv']['atm']:.2%}\\n\")\n",
    "                if 'vol_skew' in results['market_conditions'] and results['market_conditions']['vol_skew'] is not None:\n",
    "                    f.write(f\"  Volatility Skew: {results['market_conditions']['vol_skew']:.2%}\\n\")\n",
    "                f.write(\"\\n\")\n",
    "                \n",
    "                # Market sentiment\n",
    "                f.write(\"MARKET SENTIMENT:\\n\")\n",
    "                f.write(f\"  Overall: {results['market_conditions']['market_sentiment']['overall']}\\n\\n\")\n",
    "                \n",
    "                # Strategy recommendations\n",
    "                f.write(\"TOP RECOMMENDED STRATEGIES:\\n\")\n",
    "                if 'ml_analysis' in results and 'enhanced_strategies' in results['ml_analysis']:\n",
    "                    strategies = results['ml_analysis']['enhanced_strategies']['recommendations']\n",
    "                    f.write(\"(ML-Enhanced Recommendations)\\n\")\n",
    "                else:\n",
    "                    strategies = results['strategy_recommendations']['recommendations']\n",
    "                \n",
    "                for i, strategy in enumerate(strategies):\n",
    "                    f.write(f\"\\n  {i+1}. {strategy['strategy']} (Score: {strategy['score']})\\n\")\n",
    "                    f.write(f\"     Description: {strategy['description']}\\n\")\n",
    "                    f.write(f\"     Outlook: {strategy['outlook']}\\n\")\n",
    "                    if 'rationale' in strategy:\n",
    "                        f.write(f\"     ML Rationale: {strategy['rationale']}\\n\")\n",
    "                \n",
    "                # ML analysis if available\n",
    "                if 'ml_analysis' in results:\n",
    "                    f.write(\"\\nML ANALYSIS RESULTS:\\n\")\n",
    "                    f.write(f\"  Sensitivity Level: {anomaly_sensitivity.title()}\\n\")\n",
    "                    if 'market_regime' in results['ml_analysis']:\n",
    "                        regime = results['ml_analysis']['market_regime'].get('regime', 'Unknown')\n",
    "                        f.write(f\"  Market Regime: {regime.replace('_', ' ').title()}\\n\")\n",
    "                    \n",
    "                    # Add anomaly detection details\n",
    "                    if 'anomaly_results' in results['ml_analysis']:\n",
    "                        anomaly_results = results['ml_analysis']['anomaly_results']\n",
    "                        is_anomaly = anomaly_results.get('is_anomaly', False)\n",
    "                        if is_anomaly:\n",
    "                            f.write(\"  Trading Opportunities Detected\\n\")\n",
    "                            # Add top anomalies if they exist\n",
    "                            anomalies = anomaly_results.get('top_anomalies', [])\n",
    "                            if anomalies:\n",
    "                                f.write(f\"  Found {len(anomalies)} potential trading signals:\\n\")\n",
    "                                for i, anomaly in enumerate(anomalies[:3]):  # Show top 3\n",
    "                                    f.write(f\"    - {anomaly['trade_direction']} {anomaly['option_type']} \")\n",
    "                                    f.write(f\"at ${anomaly['strike']:.2f} \")\n",
    "                                    f.write(f\"(Conf: {anomaly.get('confidence', 0):.0%})\\n\")\n",
    "                        else:\n",
    "                            f.write(\"  No significant trading opportunities detected\\n\")\n",
    "                \n",
    "                # Files generated\n",
    "                f.write(\"\\nFILES GENERATED:\\n\")\n",
    "                for key in results.get('visualizations', {}):\n",
    "                    f.write(f\"  - {ticker}_{key}.html\\n\")\n",
    "                \n",
    "                for i, rec in enumerate(strategies[:3]):\n",
    "                    strategy_name = rec['strategy'].replace(' ', '_')\n",
    "                    f.write(f\"  - {ticker}_{strategy_name}_payoff.html\\n\")\n",
    "                \n",
    "                if 'ml_visualizations' in results:\n",
    "                    f.write(f\"  - {ticker}_ml_trading_signals.html\\n\")\n",
    "                    f.write(f\"  - {ticker}_mispricing_map.png\\n\")\n",
    "            \n",
    "            print(f\"\\nReport saved to {report_file}\")\n",
    "        except Exception as e:\n",
    "            print(f\"Error saving report: {e}\")\n",
    "    \n",
    "    print(\"\\nAnalysis complete. Thank you for using the Options Analysis Toolkit.\")\n",
    "\n",
    "if __name__ == \"__main__\":\n",
    "    main()\n"
   ]
  },
  {
   "cell_type": "code",
   "execution_count": null,
   "id": "40dd3494-4478-4a3e-bae1-91617a9302fd",
   "metadata": {},
   "outputs": [],
   "source": []
  }
 ],
 "metadata": {
  "kernelspec": {
   "display_name": "Python 3 (ipykernel)",
   "language": "python",
   "name": "python3"
  },
  "language_info": {
   "codemirror_mode": {
    "name": "ipython",
    "version": 3
   },
   "file_extension": ".py",
   "mimetype": "text/x-python",
   "name": "python",
   "nbconvert_exporter": "python",
   "pygments_lexer": "ipython3",
   "version": "3.11.8"
  }
 },
 "nbformat": 4,
 "nbformat_minor": 5
}
